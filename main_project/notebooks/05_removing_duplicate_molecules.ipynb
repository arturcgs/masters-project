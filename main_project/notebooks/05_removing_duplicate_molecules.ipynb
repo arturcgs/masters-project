{
 "cells": [
  {
   "cell_type": "code",
   "execution_count": 22,
   "metadata": {},
   "outputs": [],
   "source": [
    "import pandas as pd\n",
    "\n",
    "from IPython.display import HTML\n",
    "\n",
    "from rdkit import Chem\n",
    "from rdkit.Chem import PandasTools, Descriptors, rdmolops\n",
    "from rdkit.Chem.MolStandardize.rdMolStandardize import StandardizeSmiles"
   ]
  },
  {
   "cell_type": "code",
   "execution_count": 23,
   "metadata": {},
   "outputs": [],
   "source": [
    "# Defining a function to print all structures in mol correctly\n",
    "def show_df(df):\n",
    "    return HTML(df.to_html(notebook=True))"
   ]
  },
  {
   "attachments": {},
   "cell_type": "markdown",
   "metadata": {},
   "source": [
    "# Read CSV"
   ]
  },
  {
   "cell_type": "code",
   "execution_count": 24,
   "metadata": {},
   "outputs": [
    {
     "data": {
      "text/html": [
       "<div>\n",
       "<style scoped>\n",
       "    .dataframe tbody tr th:only-of-type {\n",
       "        vertical-align: middle;\n",
       "    }\n",
       "\n",
       "    .dataframe tbody tr th {\n",
       "        vertical-align: top;\n",
       "    }\n",
       "\n",
       "    .dataframe thead th {\n",
       "        text-align: right;\n",
       "    }\n",
       "</style>\n",
       "<table border=\"1\" class=\"dataframe\">\n",
       "  <thead>\n",
       "    <tr style=\"text-align: right;\">\n",
       "      <th></th>\n",
       "      <th>pref_name</th>\n",
       "      <th>SMILES</th>\n",
       "      <th>molecule_chembl_id</th>\n",
       "      <th>first_approval</th>\n",
       "      <th>molecule_type</th>\n",
       "      <th>indication_class</th>\n",
       "      <th>polymer_flag</th>\n",
       "      <th>withdrawn_flag</th>\n",
       "      <th>inorganic_flag</th>\n",
       "      <th>therapeutic_flag</th>\n",
       "      <th>natural_product</th>\n",
       "      <th>oral</th>\n",
       "      <th>parenteral</th>\n",
       "      <th>topical</th>\n",
       "      <th>mw</th>\n",
       "    </tr>\n",
       "  </thead>\n",
       "  <tbody>\n",
       "    <tr>\n",
       "      <th>0</th>\n",
       "      <td>ACETOHYDROXAMIC ACID</td>\n",
       "      <td>CC(=O)NO</td>\n",
       "      <td>CHEMBL734</td>\n",
       "      <td>1983</td>\n",
       "      <td>Small molecule</td>\n",
       "      <td>Enzyme Inhibitor (urease)</td>\n",
       "      <td>0</td>\n",
       "      <td>False</td>\n",
       "      <td>0</td>\n",
       "      <td>True</td>\n",
       "      <td>0</td>\n",
       "      <td>True</td>\n",
       "      <td>False</td>\n",
       "      <td>False</td>\n",
       "      <td>75.0320284</td>\n",
       "    </tr>\n",
       "    <tr>\n",
       "      <th>1</th>\n",
       "      <td>HYDROXYUREA</td>\n",
       "      <td>NC(=O)NO</td>\n",
       "      <td>CHEMBL467</td>\n",
       "      <td>1967</td>\n",
       "      <td>Small molecule</td>\n",
       "      <td>Antineoplastic</td>\n",
       "      <td>0</td>\n",
       "      <td>False</td>\n",
       "      <td>0</td>\n",
       "      <td>True</td>\n",
       "      <td>0</td>\n",
       "      <td>True</td>\n",
       "      <td>False</td>\n",
       "      <td>False</td>\n",
       "      <td>76.027277368</td>\n",
       "    </tr>\n",
       "    <tr>\n",
       "      <th>2</th>\n",
       "      <td>CYSTEAMINE</td>\n",
       "      <td>NCCS</td>\n",
       "      <td>CHEMBL602</td>\n",
       "      <td>1994</td>\n",
       "      <td>Small molecule</td>\n",
       "      <td>Anti-Urolithic (cystine calculi)</td>\n",
       "      <td>0</td>\n",
       "      <td>False</td>\n",
       "      <td>0</td>\n",
       "      <td>True</td>\n",
       "      <td>0</td>\n",
       "      <td>True</td>\n",
       "      <td>False</td>\n",
       "      <td>True</td>\n",
       "      <td>77.029920224</td>\n",
       "    </tr>\n",
       "    <tr>\n",
       "      <th>3</th>\n",
       "      <td>DIMETHYL SULFOXIDE</td>\n",
       "      <td>C[S+](C)[O-]</td>\n",
       "      <td>CHEMBL504</td>\n",
       "      <td>1978</td>\n",
       "      <td>Small molecule</td>\n",
       "      <td>Anti-Inflammatory (topical)</td>\n",
       "      <td>0</td>\n",
       "      <td>False</td>\n",
       "      <td>0</td>\n",
       "      <td>True</td>\n",
       "      <td>0</td>\n",
       "      <td>False</td>\n",
       "      <td>True</td>\n",
       "      <td>False</td>\n",
       "      <td>78.013935812</td>\n",
       "    </tr>\n",
       "    <tr>\n",
       "      <th>4</th>\n",
       "      <td>FOMEPIZOLE</td>\n",
       "      <td>Cc1cn[nH]c1</td>\n",
       "      <td>CHEMBL1308</td>\n",
       "      <td>1997</td>\n",
       "      <td>Small molecule</td>\n",
       "      <td>Antidote (alcohol dehydrogenase inhibitor)</td>\n",
       "      <td>0</td>\n",
       "      <td>False</td>\n",
       "      <td>0</td>\n",
       "      <td>True</td>\n",
       "      <td>0</td>\n",
       "      <td>False</td>\n",
       "      <td>True</td>\n",
       "      <td>False</td>\n",
       "      <td>82.053098192</td>\n",
       "    </tr>\n",
       "  </tbody>\n",
       "</table>\n",
       "</div>"
      ],
      "text/plain": [
       "              pref_name        SMILES molecule_chembl_id first_approval  \\\n",
       "0  ACETOHYDROXAMIC ACID      CC(=O)NO          CHEMBL734           1983   \n",
       "1           HYDROXYUREA      NC(=O)NO          CHEMBL467           1967   \n",
       "2            CYSTEAMINE          NCCS          CHEMBL602           1994   \n",
       "3    DIMETHYL SULFOXIDE  C[S+](C)[O-]          CHEMBL504           1978   \n",
       "4            FOMEPIZOLE   Cc1cn[nH]c1         CHEMBL1308           1997   \n",
       "\n",
       "    molecule_type                            indication_class  polymer_flag  \\\n",
       "0  Small molecule                   Enzyme Inhibitor (urease)             0   \n",
       "1  Small molecule                              Antineoplastic             0   \n",
       "2  Small molecule            Anti-Urolithic (cystine calculi)             0   \n",
       "3  Small molecule                 Anti-Inflammatory (topical)             0   \n",
       "4  Small molecule  Antidote (alcohol dehydrogenase inhibitor)             0   \n",
       "\n",
       "   withdrawn_flag  inorganic_flag  therapeutic_flag  natural_product   oral  \\\n",
       "0           False               0              True                0   True   \n",
       "1           False               0              True                0   True   \n",
       "2           False               0              True                0   True   \n",
       "3           False               0              True                0  False   \n",
       "4           False               0              True                0  False   \n",
       "\n",
       "   parenteral  topical            mw  \n",
       "0       False    False    75.0320284  \n",
       "1       False    False  76.027277368  \n",
       "2       False     True  77.029920224  \n",
       "3        True    False  78.013935812  \n",
       "4        True    False  82.053098192  "
      ]
     },
     "execution_count": 24,
     "metadata": {},
     "output_type": "execute_result"
    }
   ],
   "source": [
    "approved_drugs = pd.read_csv(\"../data/manual_curated_datasets/concatenated_dataset.csv\")\n",
    "approved_drugs.head(5)"
   ]
  },
  {
   "attachments": {},
   "cell_type": "markdown",
   "metadata": {},
   "source": [
    "# REMOVE UNWANTED MOLECULES\n",
    "\n",
    "some molecules that were removed from the manually curated fragments dataset, are still present in the main dataset. We are going to remove them here"
   ]
  },
  {
   "cell_type": "code",
   "execution_count": 25,
   "metadata": {},
   "outputs": [],
   "source": [
    "# list of pref_names to be removed\n",
    "remove_structures = [\n",
    "\"AMMONIUM LACTATE\",\n",
    "\"SEVELAMER\",\n",
    "\"MESNA\",\n",
    "\"ALUMINUM ACETATE\",\n",
    "\"AMIFAMPRIDINE PHOSPHATE\",\n",
    "\"LITHIUM CITRATE\",\n",
    "\"SEVELAMER CARBONATE\",\n",
    "\"CYSTEAMINE BITARTRATE\",\n",
    "\"PINACIDIL\",\n",
    "\"LITHIUM CITRATE\",\n",
    "\"SULFADIAZINE, SILVER\",\n",
    "\"METHYLENE BLUE\",\n",
    "\"ACRISORCIN\",\n",
    "\"DIMENHYDRINATE\",\n",
    "\"BUTORPHANOL TARTRATE\",\n",
    "\"OMEGA-3-CARBOXYLIC ACIDS\",\n",
    "\"CEFIDEROCOL SULFATE TOSYLATE\",\n",
    "\"GENTAMICIN SULFATE\"\n",
    "]"
   ]
  },
  {
   "cell_type": "code",
   "execution_count": 26,
   "metadata": {},
   "outputs": [
    {
     "data": {
      "text/html": [
       "<div>\n",
       "<style scoped>\n",
       "    .dataframe tbody tr th:only-of-type {\n",
       "        vertical-align: middle;\n",
       "    }\n",
       "\n",
       "    .dataframe tbody tr th {\n",
       "        vertical-align: top;\n",
       "    }\n",
       "\n",
       "    .dataframe thead th {\n",
       "        text-align: right;\n",
       "    }\n",
       "</style>\n",
       "<table border=\"1\" class=\"dataframe\">\n",
       "  <thead>\n",
       "    <tr style=\"text-align: right;\">\n",
       "      <th></th>\n",
       "      <th>pref_name</th>\n",
       "      <th>SMILES</th>\n",
       "      <th>molecule_chembl_id</th>\n",
       "      <th>first_approval</th>\n",
       "      <th>molecule_type</th>\n",
       "      <th>indication_class</th>\n",
       "      <th>polymer_flag</th>\n",
       "      <th>withdrawn_flag</th>\n",
       "      <th>inorganic_flag</th>\n",
       "      <th>therapeutic_flag</th>\n",
       "      <th>natural_product</th>\n",
       "      <th>oral</th>\n",
       "      <th>parenteral</th>\n",
       "      <th>topical</th>\n",
       "      <th>mw</th>\n",
       "    </tr>\n",
       "  </thead>\n",
       "  <tbody>\n",
       "    <tr>\n",
       "      <th>39</th>\n",
       "      <td>MESNA</td>\n",
       "      <td>O=S(=O)(O)CCS</td>\n",
       "      <td>CHEMBL1098319</td>\n",
       "      <td>1988</td>\n",
       "      <td>Small molecule</td>\n",
       "      <td>Detoxifying Agent</td>\n",
       "      <td>0</td>\n",
       "      <td>False</td>\n",
       "      <td>0</td>\n",
       "      <td>True</td>\n",
       "      <td>0</td>\n",
       "      <td>True</td>\n",
       "      <td>True</td>\n",
       "      <td>False</td>\n",
       "      <td>141.975836052</td>\n",
       "    </tr>\n",
       "    <tr>\n",
       "      <th>324</th>\n",
       "      <td>PINACIDIL</td>\n",
       "      <td>CC(N/C(=N\\C#N)Nc1ccncc1)C(C)(C)C</td>\n",
       "      <td>CHEMBL1159</td>\n",
       "      <td>1989</td>\n",
       "      <td>Small molecule</td>\n",
       "      <td>Antihypertensive</td>\n",
       "      <td>0</td>\n",
       "      <td>False</td>\n",
       "      <td>0</td>\n",
       "      <td>True</td>\n",
       "      <td>0</td>\n",
       "      <td>True</td>\n",
       "      <td>False</td>\n",
       "      <td>False</td>\n",
       "      <td>245.164045608</td>\n",
       "    </tr>\n",
       "    <tr>\n",
       "      <th>530</th>\n",
       "      <td>METHYLENE BLUE</td>\n",
       "      <td>CN(C)c1ccc2nc3ccc(=[N+](C)C)cc-3sc2c1</td>\n",
       "      <td>CHEMBL191083</td>\n",
       "      <td>2016</td>\n",
       "      <td>Small molecule</td>\n",
       "      <td>Antidote (to cyanide poisoning); Antimethemogl...</td>\n",
       "      <td>0</td>\n",
       "      <td>False</td>\n",
       "      <td>0</td>\n",
       "      <td>True</td>\n",
       "      <td>0</td>\n",
       "      <td>False</td>\n",
       "      <td>True</td>\n",
       "      <td>False</td>\n",
       "      <td>284.12159499609</td>\n",
       "    </tr>\n",
       "  </tbody>\n",
       "</table>\n",
       "</div>"
      ],
      "text/plain": [
       "          pref_name                                 SMILES molecule_chembl_id  \\\n",
       "39            MESNA                          O=S(=O)(O)CCS      CHEMBL1098319   \n",
       "324       PINACIDIL       CC(N/C(=N\\C#N)Nc1ccncc1)C(C)(C)C         CHEMBL1159   \n",
       "530  METHYLENE BLUE  CN(C)c1ccc2nc3ccc(=[N+](C)C)cc-3sc2c1       CHEMBL191083   \n",
       "\n",
       "    first_approval   molecule_type  \\\n",
       "39            1988  Small molecule   \n",
       "324           1989  Small molecule   \n",
       "530           2016  Small molecule   \n",
       "\n",
       "                                      indication_class  polymer_flag  \\\n",
       "39                                   Detoxifying Agent             0   \n",
       "324                                   Antihypertensive             0   \n",
       "530  Antidote (to cyanide poisoning); Antimethemogl...             0   \n",
       "\n",
       "     withdrawn_flag  inorganic_flag  therapeutic_flag  natural_product   oral  \\\n",
       "39            False               0              True                0   True   \n",
       "324           False               0              True                0   True   \n",
       "530           False               0              True                0  False   \n",
       "\n",
       "     parenteral  topical               mw  \n",
       "39         True    False    141.975836052  \n",
       "324       False    False    245.164045608  \n",
       "530        True    False  284.12159499609  "
      ]
     },
     "execution_count": 26,
     "metadata": {},
     "output_type": "execute_result"
    }
   ],
   "source": [
    "approved_drugs[approved_drugs[\"pref_name\"].isin(remove_structures)]"
   ]
  },
  {
   "cell_type": "code",
   "execution_count": 27,
   "metadata": {},
   "outputs": [],
   "source": [
    "approved_drugs = approved_drugs.drop([39, 324, 530])"
   ]
  },
  {
   "cell_type": "code",
   "execution_count": 28,
   "metadata": {},
   "outputs": [
    {
     "data": {
      "text/plain": [
       "(2821, 15)"
      ]
     },
     "execution_count": 28,
     "metadata": {},
     "output_type": "execute_result"
    }
   ],
   "source": [
    "approved_drugs.shape"
   ]
  },
  {
   "attachments": {},
   "cell_type": "markdown",
   "metadata": {},
   "source": [
    "# KEEP RIGHT FRAGMENTS"
   ]
  },
  {
   "attachments": {},
   "cell_type": "markdown",
   "metadata": {},
   "source": [
    "This concatenated dataset contains the three datasets joined in the formed jupyter notebook:\n",
    "\n",
    "- Main Dataset\n",
    "- Curated fragments Dataset\n",
    "- Curated SMILES and Years Dataset\n",
    "\n",
    "In the curated fragments dataset, we removed some molecules that are irrelevant for the research in question. We also selected a few molecules that are smaller than their fragments, so we will keep the smallest fragment for them. \n",
    "\n",
    "On the mains dataset, several molecules still contain their fragments. We will remove the fragments for all these molecules, keeping the largest fragment (the drug)."
   ]
  },
  {
   "cell_type": "code",
   "execution_count": 29,
   "metadata": {},
   "outputs": [
    {
     "name": "stderr",
     "output_type": "stream",
     "text": [
      "RDKit WARNING: [18:27:13] WARNING: not removing hydrogen atom without neighbors\n",
      "[18:27:13] WARNING: not removing hydrogen atom without neighbors\n",
      "RDKit WARNING: [18:27:13] WARNING: not removing hydrogen atom without neighbors\n",
      "RDKit WARNING: [18:27:13] WARNING: not removing hydrogen atom without neighbors\n",
      "RDKit WARNING: [18:27:13] WARNING: not removing hydrogen atom without neighbors\n",
      "[18:27:13] WARNING: not removing hydrogen atom without neighbors\n",
      "RDKit ERROR: [18:27:13] Explicit valence for atom # 0 N, 4, is greater than permitted\n",
      "RDKit ERROR: [18:27:13] Explicit valence for atom # 0 N, 4, is greater than permitted\n",
      "[18:27:13] WARNING: not removing hydrogen atom without neighbors\n",
      "[18:27:13] WARNING: not removing hydrogen atom without neighbors\n",
      "[18:27:13] Explicit valence for atom # 0 N, 4, is greater than permitted\n",
      "[18:27:13] Explicit valence for atom # 0 N, 4, is greater than permitted\n"
     ]
    }
   ],
   "source": [
    "# Creating MOL column\n",
    "PandasTools.AddMoleculeColumnToFrame(approved_drugs, smilesCol=\"SMILES\")"
   ]
  },
  {
   "cell_type": "code",
   "execution_count": 30,
   "metadata": {},
   "outputs": [
    {
     "data": {
      "text/plain": [
       "(2819, 16)"
      ]
     },
     "execution_count": 30,
     "metadata": {},
     "output_type": "execute_result"
    }
   ],
   "source": [
    "# Two molecules contain Pt, and can't be turned into mol correctly, we will remove them\n",
    "\n",
    "approved_drugs = approved_drugs[~approved_drugs[\"ROMol\"].isnull()].reset_index(drop=True)\n",
    "approved_drugs.shape"
   ]
  },
  {
   "cell_type": "code",
   "execution_count": 31,
   "metadata": {},
   "outputs": [],
   "source": [
    "# These are the drugs (pref_name) that are smaller than their fragments. \n",
    "# The special function keep_smallest_fragment, will be applied for them.\n",
    "\n",
    "keep_smallest = [\n",
    "    \"METHENAMINE HIPPURATE\",\n",
    "    \"DEXTROAMPHETAMINE SACCHARATE\",\n",
    "    \"IMIPRAMINE PAMOATE\",\n",
    "    \"HYDROXYZINE PAMOATE\",\n",
    "    \"OLANZAPINE PAMOATE\",\n",
    "    \"PIPERAZINE CITRATE\",\n",
    "]"
   ]
  },
  {
   "cell_type": "code",
   "execution_count": 32,
   "metadata": {},
   "outputs": [],
   "source": [
    "# Keep fragments functions\n",
    "\n",
    "def keep_largest_fragment(mol):\n",
    "    '''\n",
    "    This function reads a mol object and returns the largest fragment, as mol\n",
    "    '''\n",
    "    frags = rdmolops.GetMolFrags(mol, asMols=True)\n",
    "    largest_mol = max(frags, key=lambda x: x.GetNumAtoms())\n",
    "    return largest_mol\n",
    "\n",
    "def keep_smallest_fragment(mol):\n",
    "    '''\n",
    "    This function reads a mol object and returns the smallest fragment, as mol\n",
    "    '''\n",
    "    frags = rdmolops.GetMolFrags(mol, asMols=True)\n",
    "    smallest_mol = min(frags, key=lambda x: x.GetNumAtoms())\n",
    "    return smallest_mol\n",
    "\n",
    "def keep_correct_fragment(row):\n",
    "    '''\n",
    "    This function recieves a DataFrame row, analyzes if it need the keep_largest_fragment or keep_smallest_fragment\n",
    "    function applied to it, and returns the correct fragment, as SMILES\n",
    "    '''\n",
    "    if row[\"pref_name\"] in keep_smallest:\n",
    "        frag = keep_smallest_fragment(row[\"ROMol\"])\n",
    "    else:\n",
    "        frag = keep_largest_fragment(row[\"ROMol\"])\n",
    "    return Chem.MolToSmiles(frag)\n",
    "    "
   ]
  },
  {
   "cell_type": "code",
   "execution_count": 33,
   "metadata": {},
   "outputs": [],
   "source": [
    "approved_drugs[\"correct_fragment\"] = approved_drugs.apply(keep_correct_fragment, axis=1)"
   ]
  },
  {
   "cell_type": "code",
   "execution_count": 34,
   "metadata": {},
   "outputs": [
    {
     "name": "stdout",
     "output_type": "stream",
     "text": [
      "(2819, 17)\n"
     ]
    },
    {
     "data": {
      "text/html": [
       "<div>\n",
       "<style scoped>\n",
       "    .dataframe tbody tr th:only-of-type {\n",
       "        vertical-align: middle;\n",
       "    }\n",
       "\n",
       "    .dataframe tbody tr th {\n",
       "        vertical-align: top;\n",
       "    }\n",
       "\n",
       "    .dataframe thead th {\n",
       "        text-align: right;\n",
       "    }\n",
       "</style>\n",
       "<table border=\"1\" class=\"dataframe\">\n",
       "  <thead>\n",
       "    <tr style=\"text-align: right;\">\n",
       "      <th></th>\n",
       "      <th>pref_name</th>\n",
       "      <th>SMILES</th>\n",
       "      <th>molecule_chembl_id</th>\n",
       "      <th>first_approval</th>\n",
       "      <th>molecule_type</th>\n",
       "      <th>indication_class</th>\n",
       "      <th>polymer_flag</th>\n",
       "      <th>withdrawn_flag</th>\n",
       "      <th>inorganic_flag</th>\n",
       "      <th>therapeutic_flag</th>\n",
       "      <th>natural_product</th>\n",
       "      <th>oral</th>\n",
       "      <th>parenteral</th>\n",
       "      <th>topical</th>\n",
       "      <th>mw</th>\n",
       "      <th>ROMol</th>\n",
       "      <th>correct_fragment</th>\n",
       "    </tr>\n",
       "  </thead>\n",
       "  <tbody>\n",
       "    <tr>\n",
       "      <th>0</th>\n",
       "      <td>ACETOHYDROXAMIC ACID</td>\n",
       "      <td>CC(=O)NO</td>\n",
       "      <td>CHEMBL734</td>\n",
       "      <td>1983</td>\n",
       "      <td>Small molecule</td>\n",
       "      <td>Enzyme Inhibitor (urease)</td>\n",
       "      <td>0</td>\n",
       "      <td>False</td>\n",
       "      <td>0</td>\n",
       "      <td>True</td>\n",
       "      <td>0</td>\n",
       "      <td>True</td>\n",
       "      <td>False</td>\n",
       "      <td>False</td>\n",
       "      <td>75.0320284</td>\n",
       "      <td><img data-content=\"rdkit/molecule\" src=\"data:image/png;base64,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\" alt=\"Mol\"/></td>\n",
       "      <td>CC(=O)NO</td>\n",
       "    </tr>\n",
       "    <tr>\n",
       "      <th>1</th>\n",
       "      <td>HYDROXYUREA</td>\n",
       "      <td>NC(=O)NO</td>\n",
       "      <td>CHEMBL467</td>\n",
       "      <td>1967</td>\n",
       "      <td>Small molecule</td>\n",
       "      <td>Antineoplastic</td>\n",
       "      <td>0</td>\n",
       "      <td>False</td>\n",
       "      <td>0</td>\n",
       "      <td>True</td>\n",
       "      <td>0</td>\n",
       "      <td>True</td>\n",
       "      <td>False</td>\n",
       "      <td>False</td>\n",
       "      <td>76.027277368</td>\n",
       "      <td><img data-content=\"rdkit/molecule\" src=\"data:image/png;base64,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\" alt=\"Mol\"/></td>\n",
       "      <td>NC(=O)NO</td>\n",
       "    </tr>\n",
       "    <tr>\n",
       "      <th>2</th>\n",
       "      <td>CYSTEAMINE</td>\n",
       "      <td>NCCS</td>\n",
       "      <td>CHEMBL602</td>\n",
       "      <td>1994</td>\n",
       "      <td>Small molecule</td>\n",
       "      <td>Anti-Urolithic (cystine calculi)</td>\n",
       "      <td>0</td>\n",
       "      <td>False</td>\n",
       "      <td>0</td>\n",
       "      <td>True</td>\n",
       "      <td>0</td>\n",
       "      <td>True</td>\n",
       "      <td>False</td>\n",
       "      <td>True</td>\n",
       "      <td>77.029920224</td>\n",
       "      <td><img data-content=\"rdkit/molecule\" src=\"data:image/png;base64,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\" alt=\"Mol\"/></td>\n",
       "      <td>NCCS</td>\n",
       "    </tr>\n",
       "    <tr>\n",
       "      <th>3</th>\n",
       "      <td>DIMETHYL SULFOXIDE</td>\n",
       "      <td>C[S+](C)[O-]</td>\n",
       "      <td>CHEMBL504</td>\n",
       "      <td>1978</td>\n",
       "      <td>Small molecule</td>\n",
       "      <td>Anti-Inflammatory (topical)</td>\n",
       "      <td>0</td>\n",
       "      <td>False</td>\n",
       "      <td>0</td>\n",
       "      <td>True</td>\n",
       "      <td>0</td>\n",
       "      <td>False</td>\n",
       "      <td>True</td>\n",
       "      <td>False</td>\n",
       "      <td>78.013935812</td>\n",
       "      <td><img data-content=\"rdkit/molecule\" src=\"data:image/png;base64,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\" alt=\"Mol\"/></td>\n",
       "      <td>C[S+](C)[O-]</td>\n",
       "    </tr>\n",
       "    <tr>\n",
       "      <th>4</th>\n",
       "      <td>FOMEPIZOLE</td>\n",
       "      <td>Cc1cn[nH]c1</td>\n",
       "      <td>CHEMBL1308</td>\n",
       "      <td>1997</td>\n",
       "      <td>Small molecule</td>\n",
       "      <td>Antidote (alcohol dehydrogenase inhibitor)</td>\n",
       "      <td>0</td>\n",
       "      <td>False</td>\n",
       "      <td>0</td>\n",
       "      <td>True</td>\n",
       "      <td>0</td>\n",
       "      <td>False</td>\n",
       "      <td>True</td>\n",
       "      <td>False</td>\n",
       "      <td>82.053098192</td>\n",
       "      <td><img data-content=\"rdkit/molecule\" src=\"data:image/png;base64,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\" alt=\"Mol\"/></td>\n",
       "      <td>Cc1cn[nH]c1</td>\n",
       "    </tr>\n",
       "  </tbody>\n",
       "</table>\n",
       "</div>"
      ],
      "text/plain": [
       "<IPython.core.display.HTML object>"
      ]
     },
     "execution_count": 34,
     "metadata": {},
     "output_type": "execute_result"
    }
   ],
   "source": [
    "print(approved_drugs.shape)\n",
    "show_df(approved_drugs.head())"
   ]
  },
  {
   "attachments": {},
   "cell_type": "markdown",
   "metadata": {},
   "source": [
    "# Neutralizing and Standardizing molecules"
   ]
  },
  {
   "attachments": {},
   "cell_type": "markdown",
   "metadata": {},
   "source": [
    "We need to neutralize the molecules before looking for duplicates.\n",
    "\n",
    "We also need to standardizer the SMILES, to be sure same molecules have the same SMILES string (we do this by transforming the SMILES into mol, then into SMILES again)."
   ]
  },
  {
   "cell_type": "code",
   "execution_count": 35,
   "metadata": {},
   "outputs": [],
   "source": [
    "def neutralize_standardize_atoms(mol):\n",
    "    pattern = Chem.MolFromSmarts(\"[+1!h0!$([*]~[-1,-2,-3,-4]),-1!$([*]~[+1,+2,+3,+4])]\")\n",
    "    at_matches = mol.GetSubstructMatches(pattern)\n",
    "    at_matches_list = [y[0] for y in at_matches]\n",
    "    if len(at_matches_list) > 0:\n",
    "        for at_idx in at_matches_list:\n",
    "            atom = mol.GetAtomWithIdx(at_idx)\n",
    "            chg = atom.GetFormalCharge()\n",
    "            hcount = atom.GetTotalNumHs()\n",
    "            atom.SetFormalCharge(0)\n",
    "            atom.SetNumExplicitHs(hcount - chg)\n",
    "            atom.UpdatePropertyCache()\n",
    "    return Chem.MolToSmiles(mol)"
   ]
  },
  {
   "cell_type": "code",
   "execution_count": 36,
   "metadata": {},
   "outputs": [],
   "source": [
    "# calculate ROMol from the correct smiles\n",
    "approved_drugs = approved_drugs.drop(\"ROMol\", axis=1)\n",
    "PandasTools.AddMoleculeColumnToFrame(approved_drugs, smilesCol=\"correct_fragment\")"
   ]
  },
  {
   "cell_type": "code",
   "execution_count": 37,
   "metadata": {},
   "outputs": [],
   "source": [
    "approved_drugs[\"correct_fragment\"] = approved_drugs[\"ROMol\"].apply(neutralize_standardize_atoms)"
   ]
  },
  {
   "cell_type": "code",
   "execution_count": 38,
   "metadata": {},
   "outputs": [
    {
     "data": {
      "text/html": [
       "<div>\n",
       "<style scoped>\n",
       "    .dataframe tbody tr th:only-of-type {\n",
       "        vertical-align: middle;\n",
       "    }\n",
       "\n",
       "    .dataframe tbody tr th {\n",
       "        vertical-align: top;\n",
       "    }\n",
       "\n",
       "    .dataframe thead th {\n",
       "        text-align: right;\n",
       "    }\n",
       "</style>\n",
       "<table border=\"1\" class=\"dataframe\">\n",
       "  <thead>\n",
       "    <tr style=\"text-align: right;\">\n",
       "      <th></th>\n",
       "      <th>pref_name</th>\n",
       "      <th>SMILES</th>\n",
       "      <th>molecule_chembl_id</th>\n",
       "      <th>first_approval</th>\n",
       "      <th>molecule_type</th>\n",
       "      <th>indication_class</th>\n",
       "      <th>polymer_flag</th>\n",
       "      <th>withdrawn_flag</th>\n",
       "      <th>inorganic_flag</th>\n",
       "      <th>therapeutic_flag</th>\n",
       "      <th>natural_product</th>\n",
       "      <th>oral</th>\n",
       "      <th>parenteral</th>\n",
       "      <th>topical</th>\n",
       "      <th>mw</th>\n",
       "      <th>correct_fragment</th>\n",
       "      <th>ROMol</th>\n",
       "    </tr>\n",
       "  </thead>\n",
       "  <tbody>\n",
       "    <tr>\n",
       "      <th>0</th>\n",
       "      <td>ACETOHYDROXAMIC ACID</td>\n",
       "      <td>CC(=O)NO</td>\n",
       "      <td>CHEMBL734</td>\n",
       "      <td>1983</td>\n",
       "      <td>Small molecule</td>\n",
       "      <td>Enzyme Inhibitor (urease)</td>\n",
       "      <td>0</td>\n",
       "      <td>False</td>\n",
       "      <td>0</td>\n",
       "      <td>True</td>\n",
       "      <td>0</td>\n",
       "      <td>True</td>\n",
       "      <td>False</td>\n",
       "      <td>False</td>\n",
       "      <td>75.0320284</td>\n",
       "      <td>CC(=O)NO</td>\n",
       "      <td><img data-content=\"rdkit/molecule\" src=\"data:image/png;base64,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\" alt=\"Mol\"/></td>\n",
       "    </tr>\n",
       "    <tr>\n",
       "      <th>1</th>\n",
       "      <td>HYDROXYUREA</td>\n",
       "      <td>NC(=O)NO</td>\n",
       "      <td>CHEMBL467</td>\n",
       "      <td>1967</td>\n",
       "      <td>Small molecule</td>\n",
       "      <td>Antineoplastic</td>\n",
       "      <td>0</td>\n",
       "      <td>False</td>\n",
       "      <td>0</td>\n",
       "      <td>True</td>\n",
       "      <td>0</td>\n",
       "      <td>True</td>\n",
       "      <td>False</td>\n",
       "      <td>False</td>\n",
       "      <td>76.027277368</td>\n",
       "      <td>NC(=O)NO</td>\n",
       "      <td><img data-content=\"rdkit/molecule\" src=\"data:image/png;base64,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\" alt=\"Mol\"/></td>\n",
       "    </tr>\n",
       "    <tr>\n",
       "      <th>2</th>\n",
       "      <td>CYSTEAMINE</td>\n",
       "      <td>NCCS</td>\n",
       "      <td>CHEMBL602</td>\n",
       "      <td>1994</td>\n",
       "      <td>Small molecule</td>\n",
       "      <td>Anti-Urolithic (cystine calculi)</td>\n",
       "      <td>0</td>\n",
       "      <td>False</td>\n",
       "      <td>0</td>\n",
       "      <td>True</td>\n",
       "      <td>0</td>\n",
       "      <td>True</td>\n",
       "      <td>False</td>\n",
       "      <td>True</td>\n",
       "      <td>77.029920224</td>\n",
       "      <td>NCCS</td>\n",
       "      <td><img data-content=\"rdkit/molecule\" src=\"data:image/png;base64,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\" alt=\"Mol\"/></td>\n",
       "    </tr>\n",
       "    <tr>\n",
       "      <th>3</th>\n",
       "      <td>DIMETHYL SULFOXIDE</td>\n",
       "      <td>C[S+](C)[O-]</td>\n",
       "      <td>CHEMBL504</td>\n",
       "      <td>1978</td>\n",
       "      <td>Small molecule</td>\n",
       "      <td>Anti-Inflammatory (topical)</td>\n",
       "      <td>0</td>\n",
       "      <td>False</td>\n",
       "      <td>0</td>\n",
       "      <td>True</td>\n",
       "      <td>0</td>\n",
       "      <td>False</td>\n",
       "      <td>True</td>\n",
       "      <td>False</td>\n",
       "      <td>78.013935812</td>\n",
       "      <td>C[S+](C)[O-]</td>\n",
       "      <td><img data-content=\"rdkit/molecule\" src=\"data:image/png;base64,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\" alt=\"Mol\"/></td>\n",
       "    </tr>\n",
       "    <tr>\n",
       "      <th>4</th>\n",
       "      <td>FOMEPIZOLE</td>\n",
       "      <td>Cc1cn[nH]c1</td>\n",
       "      <td>CHEMBL1308</td>\n",
       "      <td>1997</td>\n",
       "      <td>Small molecule</td>\n",
       "      <td>Antidote (alcohol dehydrogenase inhibitor)</td>\n",
       "      <td>0</td>\n",
       "      <td>False</td>\n",
       "      <td>0</td>\n",
       "      <td>True</td>\n",
       "      <td>0</td>\n",
       "      <td>False</td>\n",
       "      <td>True</td>\n",
       "      <td>False</td>\n",
       "      <td>82.053098192</td>\n",
       "      <td>Cc1cn[nH]c1</td>\n",
       "      <td><img data-content=\"rdkit/molecule\" src=\"data:image/png;base64,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\" alt=\"Mol\"/></td>\n",
       "    </tr>\n",
       "  </tbody>\n",
       "</table>\n",
       "</div>"
      ],
      "text/plain": [
       "<IPython.core.display.HTML object>"
      ]
     },
     "execution_count": 38,
     "metadata": {},
     "output_type": "execute_result"
    }
   ],
   "source": [
    "approved_drugs.shape\n",
    "show_df(approved_drugs.head())"
   ]
  },
  {
   "attachments": {},
   "cell_type": "markdown",
   "metadata": {},
   "source": [
    "# Checking for Repeated Molecules"
   ]
  },
  {
   "attachments": {},
   "cell_type": "markdown",
   "metadata": {},
   "source": [
    "The original dataset has repeated molecules. It also had molecules in salt form and neutral form. We performed nautralization in the molecules, therefore, these molecules are now the same. We need to remove all of these repeated molecules, but withou losing information about their parameters."
   ]
  },
  {
   "attachments": {},
   "cell_type": "markdown",
   "metadata": {},
   "source": [
    "### Analyzing number of unique molecules in the dataset  "
   ]
  },
  {
   "cell_type": "code",
   "execution_count": 39,
   "metadata": {},
   "outputs": [
    {
     "name": "stdout",
     "output_type": "stream",
     "text": [
      "Whole dataset: 2819\n",
      "Unique molecules: 1909\n",
      "Molecules with duplicates: 910\n"
     ]
    }
   ],
   "source": [
    "whole_dataset_size = len(approved_drugs)\n",
    "number_unique_molecules = len(approved_drugs[\"correct_fragment\"].unique())\n",
    "\n",
    "print(f\"Whole dataset: {whole_dataset_size}\\n\\\n",
    "Unique molecules: {number_unique_molecules}\\n\\\n",
    "      \")\n"
   ]
  },
  {
   "attachments": {},
   "cell_type": "markdown",
   "metadata": {},
   "source": [
    "### Separating Datasets with only unique molecules, and only repeated ones"
   ]
  },
  {
   "cell_type": "code",
   "execution_count": 40,
   "metadata": {},
   "outputs": [
    {
     "data": {
      "text/plain": [
       "(1731, 17)"
      ]
     },
     "execution_count": 40,
     "metadata": {},
     "output_type": "execute_result"
    }
   ],
   "source": [
    "# separating dataset with only repeated molecules\n",
    "duplicated = approved_drugs[approved_drugs[\"correct_fragment\"].duplicated(keep=False)]\n",
    "duplicated.shape"
   ]
  },
  {
   "cell_type": "code",
   "execution_count": 41,
   "metadata": {},
   "outputs": [
    {
     "data": {
      "text/plain": [
       "(1088, 17)"
      ]
     },
     "execution_count": 41,
     "metadata": {},
     "output_type": "execute_result"
    }
   ],
   "source": [
    "# separating dataset with only unique molecules\n",
    "approved_drugs = approved_drugs[~approved_drugs[\"correct_fragment\"].duplicated(keep=False)]\n",
    "approved_drugs.shape"
   ]
  },
  {
   "cell_type": "code",
   "execution_count": 51,
   "metadata": {},
   "outputs": [
    {
     "name": "stdout",
     "output_type": "stream",
     "text": [
      "\n",
      "    Number of molecules in the dataset with only unique molecules: 1088\n",
      "                                                                        +\n",
      "    Number of unique molecules in the dataset with only repeated :  821\n",
      "                                                                  -------\n",
      "    Number of molecules in the finished dataset (unique molecules): 1909\n",
      "    \n"
     ]
    },
    {
     "data": {
      "text/plain": [
       "821"
      ]
     },
     "execution_count": 51,
     "metadata": {},
     "output_type": "execute_result"
    }
   ],
   "source": [
    "print(\n",
    "    f\"\"\"\n",
    "    Number of molecules in the dataset with only unique molecules: {len(approved_drugs)}\n",
    "                                                                        +\n",
    "    Number of unique molecules in the dataset with only repeated :  {len(duplicated[\"correct_fragment\"].unique())}\n",
    "                                                                  -------\n",
    "    Number of molecules in the finished dataset (unique molecules): {len(approved_drugs) + len(duplicated[\"correct_fragment\"].unique())}\n",
    "    \"\"\"\n",
    ")"
   ]
  },
  {
   "attachments": {},
   "cell_type": "markdown",
   "metadata": {},
   "source": [
    "### Selecting parameters for repeated molecules\n",
    "\n",
    "Repeated molecules occupy different rows in the original dataset. That happens because different forms can be approved over the years, with differente approval years, form of admnistrations, and other parameters. Here, we will join repeated molecules into one row, mixing their parameters in the following way:"
   ]
  },
  {
   "attachments": {},
   "cell_type": "markdown",
   "metadata": {},
   "source": [
    "- pref_name - pegar menor\n",
    "- first_approvel - pegar menor\n",
    "- indication_class - pegar maior (transformar em str)\n",
    "- withdrawn - manter true\n",
    "- natural product - manter 1\n",
    "- oral - manter true\n",
    "- parenteral - manter true\n",
    "- topico - manter true\n"
   ]
  },
  {
   "attachments": {},
   "cell_type": "markdown",
   "metadata": {},
   "source": [
    "1. separar n-plicatas do dataset original (deletar do original)\n",
    "2. fazer as operações necessárias nesse dataset de n-plicatas\n",
    "3. salvar as coisas importantes em um terceiro dataset\n",
    "4. concatenar esse terceiro dataset no dataset original\n",
    "5. profit"
   ]
  },
  {
   "attachments": {},
   "cell_type": "markdown",
   "metadata": {},
   "source": [
    "1. pegar as duplas de moléculas\n",
    "2. pegar os parâmetros certos de cada um (list, ou dicionário)\n",
    "3. apendar esses parâmetros em um outro dicionário\n",
    "4. deletar essas moléculas do dataframe original\n",
    "5. profit"
   ]
  },
  {
   "cell_type": "code",
   "execution_count": null,
   "metadata": {},
   "outputs": [],
   "source": [
    "approved_drugs[approved_drugs[\"correct_fragment\"].duplicated(keep=False)].sort_values(by=\"correct_fragment\")"
   ]
  },
  {
   "cell_type": "code",
   "execution_count": null,
   "metadata": {},
   "outputs": [],
   "source": []
  },
  {
   "cell_type": "code",
   "execution_count": null,
   "metadata": {},
   "outputs": [],
   "source": []
  },
  {
   "cell_type": "code",
   "execution_count": null,
   "metadata": {},
   "outputs": [],
   "source": []
  },
  {
   "cell_type": "code",
   "execution_count": null,
   "metadata": {},
   "outputs": [],
   "source": []
  },
  {
   "cell_type": "code",
   "execution_count": null,
   "metadata": {},
   "outputs": [],
   "source": []
  },
  {
   "attachments": {},
   "cell_type": "markdown",
   "metadata": {},
   "source": [
    "### ORDER BY MW"
   ]
  },
  {
   "attachments": {},
   "cell_type": "markdown",
   "metadata": {},
   "source": [
    "I will drop the MW collumn, and reclaculate it, because we standardized the SMILES. It shouldn't matter, but better safe than sorry."
   ]
  },
  {
   "cell_type": "code",
   "execution_count": null,
   "metadata": {},
   "outputs": [],
   "source": [
    "# removing MW collumn\n",
    "approved_drugs = approved_drugs.drop(\"mw\", axis=1)"
   ]
  },
  {
   "cell_type": "code",
   "execution_count": null,
   "metadata": {},
   "outputs": [],
   "source": [
    "# recalculating MW\n",
    "PandasTools.AddMoleculeColumnToFrame(approved_drugs, smilesCol=\"standardized_SMILES\")"
   ]
  },
  {
   "cell_type": "code",
   "execution_count": null,
   "metadata": {},
   "outputs": [],
   "source": [
    "# Searching for molecules that can't be transformed to mol by rdkit\n",
    "approved_drugs[approved_drugs[\"ROMol\"].isnull()]"
   ]
  },
  {
   "attachments": {},
   "cell_type": "markdown",
   "metadata": {},
   "source": [
    "We can't calculate mol from tehse two molecules, because they have PT (FAZ O L AGORA VAI VIADO)\n",
    "\n",
    "We'll drop them"
   ]
  },
  {
   "cell_type": "code",
   "execution_count": null,
   "metadata": {},
   "outputs": [],
   "source": [
    "approved_drugs = approved_drugs.drop([2389, 2392]).reset_index(drop=True)"
   ]
  },
  {
   "cell_type": "code",
   "execution_count": null,
   "metadata": {},
   "outputs": [],
   "source": [
    "# calculating and ordering by MW\n",
    "approved_drugs['mw'] = approved_drugs['ROMol'].apply(Descriptors.ExactMolWt)\n",
    "\n",
    "approved_drugs = approved_drugs.sort_values(by=\"mw\", ascending=True)\n",
    "\n",
    "approved_drugs.head()"
   ]
  },
  {
   "cell_type": "code",
   "execution_count": null,
   "metadata": {},
   "outputs": [],
   "source": [
    "# we don't need ROMol anymore\n",
    "approved_drugs = approved_drugs.drop(\"ROMol\", axis=1)"
   ]
  },
  {
   "cell_type": "code",
   "execution_count": null,
   "metadata": {},
   "outputs": [],
   "source": [
    "approved_drugs[\"roll_diff\"] = approved_drugs[\"mw\"].diff(periods=1)\n",
    "\n",
    "approved_drugs.query(\"roll_diff <= 0.005\")"
   ]
  },
  {
   "cell_type": "code",
   "execution_count": null,
   "metadata": {},
   "outputs": [],
   "source": [
    "print(approved_drugs.iloc[2015, 2])\n",
    "print(approved_drugs.iloc[2375, 2])"
   ]
  },
  {
   "cell_type": "code",
   "execution_count": null,
   "metadata": {},
   "outputs": [],
   "source": [
    "approved_drugs.query(\"pref_name == 'MESNA'\")"
   ]
  },
  {
   "cell_type": "code",
   "execution_count": null,
   "metadata": {},
   "outputs": [],
   "source": []
  }
 ],
 "metadata": {
  "kernelspec": {
   "display_name": "teachopencadd",
   "language": "python",
   "name": "python3"
  },
  "language_info": {
   "codemirror_mode": {
    "name": "ipython",
    "version": 3
   },
   "file_extension": ".py",
   "mimetype": "text/x-python",
   "name": "python",
   "nbconvert_exporter": "python",
   "pygments_lexer": "ipython3",
   "version": "3.8.16"
  },
  "orig_nbformat": 4
 },
 "nbformat": 4,
 "nbformat_minor": 2
}
