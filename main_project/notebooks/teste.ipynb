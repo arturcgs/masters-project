{
 "cells": [
  {
   "cell_type": "code",
   "execution_count": 1,
   "metadata": {},
   "outputs": [],
   "source": [
    "import pandas as pd\n",
    "from IPython.display import HTML\n",
    "from rdkit import Chem\n",
    "from rdkit.Chem import PandasTools, Descriptors, rdmolops\n",
    "from rdkit.Chem.MolStandardize.rdMolStandardize import StandardizeSmiles\n",
    "import session_info\n",
    "import requests"
   ]
  },
  {
   "cell_type": "code",
   "execution_count": 2,
   "metadata": {},
   "outputs": [
    {
     "data": {
      "text/html": [
       "<div>\n",
       "<style scoped>\n",
       "    .dataframe tbody tr th:only-of-type {\n",
       "        vertical-align: middle;\n",
       "    }\n",
       "\n",
       "    .dataframe tbody tr th {\n",
       "        vertical-align: top;\n",
       "    }\n",
       "\n",
       "    .dataframe thead th {\n",
       "        text-align: right;\n",
       "    }\n",
       "</style>\n",
       "<table border=\"1\" class=\"dataframe\">\n",
       "  <thead>\n",
       "    <tr style=\"text-align: right;\">\n",
       "      <th></th>\n",
       "      <th>SMILES</th>\n",
       "      <th>NAME</th>\n",
       "    </tr>\n",
       "  </thead>\n",
       "  <tbody>\n",
       "    <tr>\n",
       "      <th>0</th>\n",
       "      <td>CNC(=O)c1nnc(NC(=O)C2CC2)cc1Nc1cccc(-c2ncn(C)n...</td>\n",
       "      <td>DEUCRAVACITINIB</td>\n",
       "    </tr>\n",
       "    <tr>\n",
       "      <th>1</th>\n",
       "      <td>[2H]C([2H])([2H])NC(=O)c1nnc(NC(=O)C2CC2)cc1Nc...</td>\n",
       "      <td>DEUCRAVACITINIB</td>\n",
       "    </tr>\n",
       "    <tr>\n",
       "      <th>2</th>\n",
       "      <td>Sc1ncnc2nc[nH]c12</td>\n",
       "      <td>MERCAPTOPURINE</td>\n",
       "    </tr>\n",
       "    <tr>\n",
       "      <th>3</th>\n",
       "      <td>S=c1[nH]cnc2nc[nH]c12</td>\n",
       "      <td>MERCAPTOPURINE</td>\n",
       "    </tr>\n",
       "  </tbody>\n",
       "</table>\n",
       "</div>"
      ],
      "text/plain": [
       "                                              SMILES             NAME\n",
       "0  CNC(=O)c1nnc(NC(=O)C2CC2)cc1Nc1cccc(-c2ncn(C)n...  DEUCRAVACITINIB\n",
       "1  [2H]C([2H])([2H])NC(=O)c1nnc(NC(=O)C2CC2)cc1Nc...  DEUCRAVACITINIB\n",
       "2                                  Sc1ncnc2nc[nH]c12   MERCAPTOPURINE\n",
       "3                              S=c1[nH]cnc2nc[nH]c12   MERCAPTOPURINE"
      ]
     },
     "execution_count": 2,
     "metadata": {},
     "output_type": "execute_result"
    }
   ],
   "source": [
    "test_case_tautomers = pd.DataFrame({'SMILES': ['CNC(=O)c1nnc(NC(=O)C2CC2)cc1Nc1cccc(-c2ncn(C)n2)c1OC', '[2H]C([2H])([2H])NC(=O)c1nnc(NC(=O)C2CC2)cc1Nc1cccc(-c2ncn(C)n2)c1OC','Sc1ncnc2nc[nH]c12','S=c1[nH]cnc2nc[nH]c12'],\n",
    "                                    'NAME': ['DEUCRAVACITINIB', 'DEUCRAVACITINIB','MERCAPTOPURINE', 'MERCAPTOPURINE'],})\n",
    "test_case_tautomers"
   ]
  },
  {
   "cell_type": "code",
   "execution_count": 3,
   "metadata": {},
   "outputs": [],
   "source": [
    "def get_stdinchi(smiles):\n",
    "    if \"#\" in smiles:\n",
    "        smiles = smiles.replace(\"#\", \"%23\")\n",
    "    endpoint = f\"https://cactus.nci.nih.gov/chemical/structure/{smiles}/stdinchi\"\n",
    "    response = requests.get(endpoint)\n",
    "    return response.text"
   ]
  },
  {
   "cell_type": "code",
   "execution_count": 4,
   "metadata": {},
   "outputs": [
    {
     "name": "stdout",
     "output_type": "stream",
     "text": [
      "InChI=1S/C5H4N4S/c10-5-3-4(7-1-6-3)8-2-9-5/h1-2H,(H2,6,7,8,9,10)\n",
      "InChI=1S/C5H4N4S/c10-5-3-4(7-1-6-3)8-2-9-5/h1-2H,(H2,6,7,8,9,10)\n"
     ]
    }
   ],
   "source": [
    "mercaptopurine1 = 'Sc1ncnc2nc[nH]c12'\n",
    "inchi_mercaptopurine1 = get_stdinchi(mercaptopurine1)\n",
    "print(inchi_mercaptopurine1)\n",
    "\n",
    "mercaptopurine2 = 'S=c1[nH]cnc2nc[nH]c12'\n",
    "inchi_mercaptopurine2 = get_stdinchi(mercaptopurine2)\n",
    "print(inchi_mercaptopurine2)"
   ]
  },
  {
   "cell_type": "code",
   "execution_count": 5,
   "metadata": {},
   "outputs": [
    {
     "name": "stdout",
     "output_type": "stream",
     "text": [
      "InChI=1S/C20H22N8O3/c1-21-20(30)16-14(9-15(25-26-16)24-19(29)11-7-8-11)23-13-6-4-5-12(17(13)31-3)18-22-10-28(2)27-18/h4-6,9-11H,7-8H2,1-3H3,(H,21,30)(H2,23,24,25,29)\n",
      "InChI=1S/C20H22N8O3/c1-21-20(30)16-14(9-15(25-26-16)24-19(29)11-7-8-11)23-13-6-4-5-12(17(13)31-3)18-22-10-28(2)27-18/h4-6,9-11H,7-8H2,1-3H3,(H,21,30)(H2,23,24,25,29)/i1D3\n"
     ]
    }
   ],
   "source": [
    "deucravacitinib1 = 'CNC(=O)c1nnc(NC(=O)C2CC2)cc1Nc1cccc(-c2ncn(C)n2)c1OC'\n",
    "inchi_deucravacitinib1 = get_stdinchi(deucravacitinib1)\n",
    "print(inchi_deucravacitinib1)\n",
    "\n",
    "deucravacitinib2 = '[2H]C([2H])([2H])NC(=O)c1nnc(NC(=O)C2CC2)cc1Nc1cccc(-c2ncn(C)n2)c1OC'\n",
    "inchi_deucravacitinib2 = get_stdinchi(deucravacitinib2)\n",
    "print(inchi_deucravacitinib2)"
   ]
  },
  {
   "cell_type": "code",
   "execution_count": 6,
   "metadata": {},
   "outputs": [
    {
     "data": {
      "text/html": [
       "<div>\n",
       "<style scoped>\n",
       "    .dataframe tbody tr th:only-of-type {\n",
       "        vertical-align: middle;\n",
       "    }\n",
       "\n",
       "    .dataframe tbody tr th {\n",
       "        vertical-align: top;\n",
       "    }\n",
       "\n",
       "    .dataframe thead th {\n",
       "        text-align: right;\n",
       "    }\n",
       "</style>\n",
       "<table border=\"1\" class=\"dataframe\">\n",
       "  <thead>\n",
       "    <tr style=\"text-align: right;\">\n",
       "      <th></th>\n",
       "      <th>SMILES</th>\n",
       "      <th>NAME</th>\n",
       "      <th>STD_INCHI</th>\n",
       "    </tr>\n",
       "  </thead>\n",
       "  <tbody>\n",
       "    <tr>\n",
       "      <th>0</th>\n",
       "      <td>CNC(=O)c1nnc(NC(=O)C2CC2)cc1Nc1cccc(-c2ncn(C)n...</td>\n",
       "      <td>DEUCRAVACITINIB</td>\n",
       "      <td>InChI=1S/C20H22N8O3/c1-21-20(30)16-14(9-15(25-...</td>\n",
       "    </tr>\n",
       "    <tr>\n",
       "      <th>1</th>\n",
       "      <td>[2H]C([2H])([2H])NC(=O)c1nnc(NC(=O)C2CC2)cc1Nc...</td>\n",
       "      <td>DEUCRAVACITINIB</td>\n",
       "      <td>InChI=1S/C20H22N8O3/c1-21-20(30)16-14(9-15(25-...</td>\n",
       "    </tr>\n",
       "    <tr>\n",
       "      <th>2</th>\n",
       "      <td>Sc1ncnc2nc[nH]c12</td>\n",
       "      <td>MERCAPTOPURINE</td>\n",
       "      <td>InChI=1S/C5H4N4S/c10-5-3-4(7-1-6-3)8-2-9-5/h1-...</td>\n",
       "    </tr>\n",
       "    <tr>\n",
       "      <th>3</th>\n",
       "      <td>S=c1[nH]cnc2nc[nH]c12</td>\n",
       "      <td>MERCAPTOPURINE</td>\n",
       "      <td>InChI=1S/C5H4N4S/c10-5-3-4(7-1-6-3)8-2-9-5/h1-...</td>\n",
       "    </tr>\n",
       "  </tbody>\n",
       "</table>\n",
       "</div>"
      ],
      "text/plain": [
       "                                              SMILES             NAME  \\\n",
       "0  CNC(=O)c1nnc(NC(=O)C2CC2)cc1Nc1cccc(-c2ncn(C)n...  DEUCRAVACITINIB   \n",
       "1  [2H]C([2H])([2H])NC(=O)c1nnc(NC(=O)C2CC2)cc1Nc...  DEUCRAVACITINIB   \n",
       "2                                  Sc1ncnc2nc[nH]c12   MERCAPTOPURINE   \n",
       "3                              S=c1[nH]cnc2nc[nH]c12   MERCAPTOPURINE   \n",
       "\n",
       "                                           STD_INCHI  \n",
       "0  InChI=1S/C20H22N8O3/c1-21-20(30)16-14(9-15(25-...  \n",
       "1  InChI=1S/C20H22N8O3/c1-21-20(30)16-14(9-15(25-...  \n",
       "2  InChI=1S/C5H4N4S/c10-5-3-4(7-1-6-3)8-2-9-5/h1-...  \n",
       "3  InChI=1S/C5H4N4S/c10-5-3-4(7-1-6-3)8-2-9-5/h1-...  "
      ]
     },
     "execution_count": 6,
     "metadata": {},
     "output_type": "execute_result"
    }
   ],
   "source": [
    "test_case_tautomers['STD_INCHI'] = test_case_tautomers.SMILES.apply(get_stdinchi)\n",
    "test_case_tautomers"
   ]
  },
  {
   "cell_type": "code",
   "execution_count": 7,
   "metadata": {},
   "outputs": [],
   "source": [
    "from utils.smiles_cleaner import SmilesCleaner\n",
    "\n",
    "teste = SmilesCleaner(test_case_tautomers)"
   ]
  }
 ],
 "metadata": {
  "kernelspec": {
   "display_name": "teachopencadd",
   "language": "python",
   "name": "python3"
  },
  "language_info": {
   "codemirror_mode": {
    "name": "ipython",
    "version": 3
   },
   "file_extension": ".py",
   "mimetype": "text/x-python",
   "name": "python",
   "nbconvert_exporter": "python",
   "pygments_lexer": "ipython3",
   "version": "3.8.16"
  },
  "orig_nbformat": 4
 },
 "nbformat": 4,
 "nbformat_minor": 2
}
