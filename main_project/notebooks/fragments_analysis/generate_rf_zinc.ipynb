{
 "cells": [
  {
   "cell_type": "markdown",
   "metadata": {},
   "source": [
    "## Importing and Reading Data"
   ]
  },
  {
   "cell_type": "code",
   "execution_count": 3,
   "metadata": {},
   "outputs": [],
   "source": [
    "import sys\n",
    "sys.path.append('../utils/')\n",
    "import pandas as pd\n",
    "from rdkit.Chem.PandasTools import AddMoleculeColumnToFrame\n",
    "from rdkit.Chem.Draw import IPythonConsole\n",
    "from IPython.display import HTML\n",
    "from ring_fragmenter import get_ring_fragments\n",
    "\n",
    "IPythonConsole.molSize = (600,300)\n",
    "\n",
    "def show_df(df):\n",
    "    return HTML(df.to_html(notebook=True))"
   ]
  },
  {
   "cell_type": "code",
   "execution_count": 4,
   "metadata": {},
   "outputs": [
    {
     "name": "stdout",
     "output_type": "stream",
     "text": [
      "(9971, 1)\n"
     ]
    },
    {
     "data": {
      "text/plain": [
       "Index(['clean_smiles'], dtype='object')"
      ]
     },
     "execution_count": 4,
     "metadata": {},
     "output_type": "execute_result"
    }
   ],
   "source": [
    "zinc_non_drugs_df = pd.read_csv('../../data/negative_datasets/cleaned_datasets/zinc15_cleaned.csv')\n",
    "print(zinc_non_drugs_df.shape)\n",
    "zinc_non_drugs_df.columns"
   ]
  },
  {
   "cell_type": "code",
   "execution_count": 5,
   "metadata": {},
   "outputs": [],
   "source": [
    "list_of_smiles = zinc_non_drugs_df['clean_smiles'].to_list()"
   ]
  },
  {
   "cell_type": "markdown",
   "metadata": {},
   "source": [
    "## Fragmenting ZINC non-drugs"
   ]
  },
  {
   "cell_type": "code",
   "execution_count": 6,
   "metadata": {},
   "outputs": [
    {
     "data": {
      "text/html": [
       "<div>\n",
       "<style scoped>\n",
       "    .dataframe tbody tr th:only-of-type {\n",
       "        vertical-align: middle;\n",
       "    }\n",
       "\n",
       "    .dataframe tbody tr th {\n",
       "        vertical-align: top;\n",
       "    }\n",
       "\n",
       "    .dataframe thead th {\n",
       "        text-align: right;\n",
       "    }\n",
       "</style>\n",
       "<table border=\"1\" class=\"dataframe\">\n",
       "  <thead>\n",
       "    <tr style=\"text-align: right;\">\n",
       "      <th></th>\n",
       "      <th>parent_smiles</th>\n",
       "      <th>ring_fragment</th>\n",
       "    </tr>\n",
       "  </thead>\n",
       "  <tbody>\n",
       "    <tr>\n",
       "      <th>0</th>\n",
       "      <td>Cc1c(C(=O)Nc2ccccc2C(N)=O)nnn1-c1ccc2ncccc2c1</td>\n",
       "      <td>Cc1nnn(C)c1C</td>\n",
       "    </tr>\n",
       "    <tr>\n",
       "      <th>1</th>\n",
       "      <td>Cc1c(C(=O)Nc2ccccc2C(N)=O)nnn1-c1ccc2ncccc2c1</td>\n",
       "      <td>Cc1ccccc1N</td>\n",
       "    </tr>\n",
       "    <tr>\n",
       "      <th>2</th>\n",
       "      <td>Cc1c(C(=O)Nc2ccccc2C(N)=O)nnn1-c1ccc2ncccc2c1</td>\n",
       "      <td>Nc1ccc2ncccc2c1</td>\n",
       "    </tr>\n",
       "    <tr>\n",
       "      <th>3</th>\n",
       "      <td>C[C@H]1CCCC[C@H]1NC(=O)NC(=O)CN1CCc2ccc([N+](=...</td>\n",
       "      <td>C[C@H]1CCCC[C@H]1N</td>\n",
       "    </tr>\n",
       "    <tr>\n",
       "      <th>4</th>\n",
       "      <td>C[C@H]1CCCC[C@H]1NC(=O)NC(=O)CN1CCc2ccc([N+](=...</td>\n",
       "      <td>CN1CCc2ccc([N+])cc2C1</td>\n",
       "    </tr>\n",
       "    <tr>\n",
       "      <th>...</th>\n",
       "      <td>...</td>\n",
       "      <td>...</td>\n",
       "    </tr>\n",
       "    <tr>\n",
       "      <th>25493</th>\n",
       "      <td>Cc1ccc(C[N@]2CC[C@H]3O[C@H](C(=O)NCc4nccn4C)C[...</td>\n",
       "      <td>Cc1ccc(C)o1</td>\n",
       "    </tr>\n",
       "    <tr>\n",
       "      <th>25494</th>\n",
       "      <td>Cc1ccc(C[N@]2CC[C@H]3O[C@H](C(=O)NCc4nccn4C)C[...</td>\n",
       "      <td>C[C@@H]1C[C@@H]2[C@@H](CCN2C)O1</td>\n",
       "    </tr>\n",
       "    <tr>\n",
       "      <th>25495</th>\n",
       "      <td>Cc1ccc(C[N@]2CC[C@H]3O[C@H](C(=O)NCc4nccn4C)C[...</td>\n",
       "      <td>Cc1nccn1C</td>\n",
       "    </tr>\n",
       "    <tr>\n",
       "      <th>25496</th>\n",
       "      <td>CCc1c(C)nc(C)nc1N1CCN(CC(=O)O)CC1</td>\n",
       "      <td>Cc1nc(C)c(C)c(N)n1</td>\n",
       "    </tr>\n",
       "    <tr>\n",
       "      <th>25497</th>\n",
       "      <td>CCc1c(C)nc(C)nc1N1CCN(CC(=O)O)CC1</td>\n",
       "      <td>CN1CCN(C)CC1</td>\n",
       "    </tr>\n",
       "  </tbody>\n",
       "</table>\n",
       "<p>25498 rows × 2 columns</p>\n",
       "</div>"
      ],
      "text/plain": [
       "                                           parent_smiles                    ring_fragment\n",
       "0          Cc1c(C(=O)Nc2ccccc2C(N)=O)nnn1-c1ccc2ncccc2c1                     Cc1nnn(C)c1C\n",
       "1          Cc1c(C(=O)Nc2ccccc2C(N)=O)nnn1-c1ccc2ncccc2c1                       Cc1ccccc1N\n",
       "2          Cc1c(C(=O)Nc2ccccc2C(N)=O)nnn1-c1ccc2ncccc2c1                  Nc1ccc2ncccc2c1\n",
       "3      C[C@H]1CCCC[C@H]1NC(=O)NC(=O)CN1CCc2ccc([N+](=...               C[C@H]1CCCC[C@H]1N\n",
       "4      C[C@H]1CCCC[C@H]1NC(=O)NC(=O)CN1CCc2ccc([N+](=...            CN1CCc2ccc([N+])cc2C1\n",
       "...                                                  ...                              ...\n",
       "25493  Cc1ccc(C[N@]2CC[C@H]3O[C@H](C(=O)NCc4nccn4C)C[...                      Cc1ccc(C)o1\n",
       "25494  Cc1ccc(C[N@]2CC[C@H]3O[C@H](C(=O)NCc4nccn4C)C[...  C[C@@H]1C[C@@H]2[C@@H](CCN2C)O1\n",
       "25495  Cc1ccc(C[N@]2CC[C@H]3O[C@H](C(=O)NCc4nccn4C)C[...                        Cc1nccn1C\n",
       "25496                  CCc1c(C)nc(C)nc1N1CCN(CC(=O)O)CC1               Cc1nc(C)c(C)c(N)n1\n",
       "25497                  CCc1c(C)nc(C)nc1N1CCN(CC(=O)O)CC1                     CN1CCN(C)CC1\n",
       "\n",
       "[25498 rows x 2 columns]"
      ]
     },
     "execution_count": 6,
     "metadata": {},
     "output_type": "execute_result"
    }
   ],
   "source": [
    "ring_fragments_zinc = get_ring_fragments(list_of_smiles=list_of_smiles, no_rings_list=False)\n",
    "ring_fragments_zinc"
   ]
  },
  {
   "cell_type": "markdown",
   "metadata": {},
   "source": [
    "Keep in mind that if a molecule has two of the same ring there would be two ring fragments from the same parent structure."
   ]
  },
  {
   "cell_type": "markdown",
   "metadata": {},
   "source": [
    "## Saving"
   ]
  },
  {
   "cell_type": "markdown",
   "metadata": {},
   "source": [
    "Saving the non-unique relation (parent x ring fragment)"
   ]
  },
  {
   "cell_type": "code",
   "execution_count": 7,
   "metadata": {},
   "outputs": [],
   "source": [
    "ring_fragments_zinc.to_csv('../../data/fragments/non_unique/zinc_fragments_non_unique.csv', index=False)"
   ]
  },
  {
   "cell_type": "markdown",
   "metadata": {},
   "source": [
    "Saving with the relation (one parent and unique ring fragments)"
   ]
  },
  {
   "cell_type": "code",
   "execution_count": 8,
   "metadata": {},
   "outputs": [
    {
     "data": {
      "text/html": [
       "<div>\n",
       "<style scoped>\n",
       "    .dataframe tbody tr th:only-of-type {\n",
       "        vertical-align: middle;\n",
       "    }\n",
       "\n",
       "    .dataframe tbody tr th {\n",
       "        vertical-align: top;\n",
       "    }\n",
       "\n",
       "    .dataframe thead th {\n",
       "        text-align: right;\n",
       "    }\n",
       "</style>\n",
       "<table border=\"1\" class=\"dataframe\">\n",
       "  <thead>\n",
       "    <tr style=\"text-align: right;\">\n",
       "      <th></th>\n",
       "      <th>parent_smiles</th>\n",
       "      <th>ring_fragment</th>\n",
       "    </tr>\n",
       "  </thead>\n",
       "  <tbody>\n",
       "    <tr>\n",
       "      <th>0</th>\n",
       "      <td>Cc1c(C(=O)Nc2ccccc2C(N)=O)nnn1-c1ccc2ncccc2c1</td>\n",
       "      <td>Cc1nnn(C)c1C</td>\n",
       "    </tr>\n",
       "    <tr>\n",
       "      <th>1</th>\n",
       "      <td>Cc1c(C(=O)Nc2ccccc2C(N)=O)nnn1-c1ccc2ncccc2c1</td>\n",
       "      <td>Cc1ccccc1N</td>\n",
       "    </tr>\n",
       "    <tr>\n",
       "      <th>2</th>\n",
       "      <td>Cc1c(C(=O)Nc2ccccc2C(N)=O)nnn1-c1ccc2ncccc2c1</td>\n",
       "      <td>Nc1ccc2ncccc2c1</td>\n",
       "    </tr>\n",
       "    <tr>\n",
       "      <th>3</th>\n",
       "      <td>C[C@H]1CCCC[C@H]1NC(=O)NC(=O)CN1CCc2ccc([N+](=...</td>\n",
       "      <td>C[C@H]1CCCC[C@H]1N</td>\n",
       "    </tr>\n",
       "    <tr>\n",
       "      <th>4</th>\n",
       "      <td>C[C@H]1CCCC[C@H]1NC(=O)NC(=O)CN1CCc2ccc([N+](=...</td>\n",
       "      <td>CN1CCc2ccc([N+])cc2C1</td>\n",
       "    </tr>\n",
       "    <tr>\n",
       "      <th>...</th>\n",
       "      <td>...</td>\n",
       "      <td>...</td>\n",
       "    </tr>\n",
       "    <tr>\n",
       "      <th>25209</th>\n",
       "      <td>Cc1ccc(C[N@]2CC[C@H]3O[C@H](C(=O)NCc4nccn4C)C[...</td>\n",
       "      <td>Cc1ccc(C)o1</td>\n",
       "    </tr>\n",
       "    <tr>\n",
       "      <th>25210</th>\n",
       "      <td>Cc1ccc(C[N@]2CC[C@H]3O[C@H](C(=O)NCc4nccn4C)C[...</td>\n",
       "      <td>C[C@@H]1C[C@@H]2[C@@H](CCN2C)O1</td>\n",
       "    </tr>\n",
       "    <tr>\n",
       "      <th>25211</th>\n",
       "      <td>Cc1ccc(C[N@]2CC[C@H]3O[C@H](C(=O)NCc4nccn4C)C[...</td>\n",
       "      <td>Cc1nccn1C</td>\n",
       "    </tr>\n",
       "    <tr>\n",
       "      <th>25212</th>\n",
       "      <td>CCc1c(C)nc(C)nc1N1CCN(CC(=O)O)CC1</td>\n",
       "      <td>Cc1nc(C)c(C)c(N)n1</td>\n",
       "    </tr>\n",
       "    <tr>\n",
       "      <th>25213</th>\n",
       "      <td>CCc1c(C)nc(C)nc1N1CCN(CC(=O)O)CC1</td>\n",
       "      <td>CN1CCN(C)CC1</td>\n",
       "    </tr>\n",
       "  </tbody>\n",
       "</table>\n",
       "<p>25214 rows × 2 columns</p>\n",
       "</div>"
      ],
      "text/plain": [
       "                                           parent_smiles                    ring_fragment\n",
       "0          Cc1c(C(=O)Nc2ccccc2C(N)=O)nnn1-c1ccc2ncccc2c1                     Cc1nnn(C)c1C\n",
       "1          Cc1c(C(=O)Nc2ccccc2C(N)=O)nnn1-c1ccc2ncccc2c1                       Cc1ccccc1N\n",
       "2          Cc1c(C(=O)Nc2ccccc2C(N)=O)nnn1-c1ccc2ncccc2c1                  Nc1ccc2ncccc2c1\n",
       "3      C[C@H]1CCCC[C@H]1NC(=O)NC(=O)CN1CCc2ccc([N+](=...               C[C@H]1CCCC[C@H]1N\n",
       "4      C[C@H]1CCCC[C@H]1NC(=O)NC(=O)CN1CCc2ccc([N+](=...            CN1CCc2ccc([N+])cc2C1\n",
       "...                                                  ...                              ...\n",
       "25209  Cc1ccc(C[N@]2CC[C@H]3O[C@H](C(=O)NCc4nccn4C)C[...                      Cc1ccc(C)o1\n",
       "25210  Cc1ccc(C[N@]2CC[C@H]3O[C@H](C(=O)NCc4nccn4C)C[...  C[C@@H]1C[C@@H]2[C@@H](CCN2C)O1\n",
       "25211  Cc1ccc(C[N@]2CC[C@H]3O[C@H](C(=O)NCc4nccn4C)C[...                        Cc1nccn1C\n",
       "25212                  CCc1c(C)nc(C)nc1N1CCN(CC(=O)O)CC1               Cc1nc(C)c(C)c(N)n1\n",
       "25213                  CCc1c(C)nc(C)nc1N1CCN(CC(=O)O)CC1                     CN1CCN(C)CC1\n",
       "\n",
       "[25214 rows x 2 columns]"
      ]
     },
     "execution_count": 8,
     "metadata": {},
     "output_type": "execute_result"
    }
   ],
   "source": [
    "ring_fragments_zinc_unique = ring_fragments_zinc[~ring_fragments_zinc.duplicated()].reset_index(drop=True)\n",
    "ring_fragments_zinc_unique"
   ]
  },
  {
   "cell_type": "code",
   "execution_count": 9,
   "metadata": {},
   "outputs": [],
   "source": [
    "ring_fragments_zinc_unique.to_csv('../../data/fragments/unique/zinc_fragments_no_duplicated.csv', index=False)"
   ]
  }
 ],
 "metadata": {
  "kernelspec": {
   "display_name": "teachopencadd",
   "language": "python",
   "name": "python3"
  },
  "language_info": {
   "codemirror_mode": {
    "name": "ipython",
    "version": 3
   },
   "file_extension": ".py",
   "mimetype": "text/x-python",
   "name": "python",
   "nbconvert_exporter": "python",
   "pygments_lexer": "ipython3",
   "version": "3.8.17"
  },
  "orig_nbformat": 4
 },
 "nbformat": 4,
 "nbformat_minor": 2
}
