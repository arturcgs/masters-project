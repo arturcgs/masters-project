{
 "cells": [
  {
   "cell_type": "markdown",
   "metadata": {},
   "source": [
    "**Table of contents**<a id='toc0_'></a>    \n",
    "- [Importing and Reading Data](#toc1_1_)    \n",
    "  - [Fragmenting PDB below Tanimoto 0.85](#toc1_2_)    \n",
    "  - [Saving](#toc1_3_)    \n",
    "\n",
    "<!-- vscode-jupyter-toc-config\n",
    "\tnumbering=false\n",
    "\tanchor=true\n",
    "\tflat=false\n",
    "\tminLevel=1\n",
    "\tmaxLevel=6\n",
    "\t/vscode-jupyter-toc-config -->\n",
    "<!-- THIS CELL WILL BE REPLACED ON TOC UPDATE. DO NOT WRITE YOUR TEXT IN THIS CELL -->"
   ]
  },
  {
   "cell_type": "markdown",
   "metadata": {},
   "source": [
    "## <a id='toc1_1_'></a>[Importing and Reading Data](#toc0_)"
   ]
  },
  {
   "cell_type": "code",
   "execution_count": 9,
   "metadata": {},
   "outputs": [],
   "source": [
    "import sys\n",
    "sys.path.append('../utils/')\n",
    "import pandas as pd\n",
    "from rdkit.Chem.PandasTools import AddMoleculeColumnToFrame\n",
    "from rdkit.Chem.Draw import IPythonConsole\n",
    "from IPython.display import HTML\n",
    "from ring_fragmenter import get_ring_systems, get_ring_adjacent, get_ring_fragments\n",
    "\n",
    "IPythonConsole.molSize = (600,300)\n",
    "\n",
    "# to show rdkit.Chem.Mol objects\n",
    "def show_df(df):\n",
    "    return HTML(df.to_html(notebook=True))"
   ]
  },
  {
   "cell_type": "code",
   "execution_count": 10,
   "metadata": {},
   "outputs": [
    {
     "name": "stdout",
     "output_type": "stream",
     "text": [
      "(12246, 1)\n"
     ]
    },
    {
     "data": {
      "text/plain": [
       "Index(['clean_smiles'], dtype='object')"
      ]
     },
     "execution_count": 10,
     "metadata": {},
     "output_type": "execute_result"
    }
   ],
   "source": [
    "pdb_below_0_85_df = pd.read_csv('../../data/negative_datasets/cleaned_datasets/pdb_cleaned.csv')\n",
    "\n",
    "print(pdb_below_0_85_df.shape)\n",
    "pdb_below_0_85_df.columns"
   ]
  },
  {
   "cell_type": "code",
   "execution_count": 11,
   "metadata": {},
   "outputs": [],
   "source": [
    "list_of_smiles = pdb_below_0_85_df['clean_smiles'].to_list()"
   ]
  },
  {
   "cell_type": "markdown",
   "metadata": {},
   "source": [
    "## <a id='toc1_2_'></a>[Fragmenting PDB below Tanimoto 0.85](#toc0_)"
   ]
  },
  {
   "cell_type": "code",
   "execution_count": 12,
   "metadata": {},
   "outputs": [
    {
     "data": {
      "text/html": [
       "<div>\n",
       "<style scoped>\n",
       "    .dataframe tbody tr th:only-of-type {\n",
       "        vertical-align: middle;\n",
       "    }\n",
       "\n",
       "    .dataframe tbody tr th {\n",
       "        vertical-align: top;\n",
       "    }\n",
       "\n",
       "    .dataframe thead th {\n",
       "        text-align: right;\n",
       "    }\n",
       "</style>\n",
       "<table border=\"1\" class=\"dataframe\">\n",
       "  <thead>\n",
       "    <tr style=\"text-align: right;\">\n",
       "      <th></th>\n",
       "      <th>parent_smiles</th>\n",
       "      <th>ring_fragment</th>\n",
       "    </tr>\n",
       "  </thead>\n",
       "  <tbody>\n",
       "    <tr>\n",
       "      <th>0</th>\n",
       "      <td>CC1(C)O[C@H]2[C@@H]3OS(=O)(=O)O[C@@H]3CO[C@@]2...</td>\n",
       "      <td>CC1(C)O[C@H]2[C@@H]3OS(=O)(=O)O[C@@H]3CO[C@@]2...</td>\n",
       "    </tr>\n",
       "    <tr>\n",
       "      <th>1</th>\n",
       "      <td>CNC(=O)c1cccc(C)c1Nc1nc(N2CCN(c3ccccc3Cl)CC2)n...</td>\n",
       "      <td>Cc1cccc(C)c1N</td>\n",
       "    </tr>\n",
       "    <tr>\n",
       "      <th>2</th>\n",
       "      <td>CNC(=O)c1cccc(C)c1Nc1nc(N2CCN(c3ccccc3Cl)CC2)n...</td>\n",
       "      <td>Nc1nc(N)nc(N)n1</td>\n",
       "    </tr>\n",
       "    <tr>\n",
       "      <th>3</th>\n",
       "      <td>CNC(=O)c1cccc(C)c1Nc1nc(N2CCN(c3ccccc3Cl)CC2)n...</td>\n",
       "      <td>CN1CCN(C)CC1</td>\n",
       "    </tr>\n",
       "    <tr>\n",
       "      <th>4</th>\n",
       "      <td>CNC(=O)c1cccc(C)c1Nc1nc(N2CCN(c3ccccc3Cl)CC2)n...</td>\n",
       "      <td>Nc1ccccc1Cl</td>\n",
       "    </tr>\n",
       "    <tr>\n",
       "      <th>...</th>\n",
       "      <td>...</td>\n",
       "      <td>...</td>\n",
       "    </tr>\n",
       "    <tr>\n",
       "      <th>29222</th>\n",
       "      <td>NC(=O)[C@H](CCC(=O)O)NC(=O)[C@H](CCC(=O)O)NC(=...</td>\n",
       "      <td>Cc1ccccc1</td>\n",
       "    </tr>\n",
       "    <tr>\n",
       "      <th>29223</th>\n",
       "      <td>COCCOc1cnc2ccc([C@H](C)c3nnc4c(F)cc(-c5cc(C)no...</td>\n",
       "      <td>Cc1ccc2ncc(O)cc2c1</td>\n",
       "    </tr>\n",
       "    <tr>\n",
       "      <th>29224</th>\n",
       "      <td>COCCOc1cnc2ccc([C@H](C)c3nnc4c(F)cc(-c5cc(C)no...</td>\n",
       "      <td>Cc1cc(F)c2nnc(C)n2c1</td>\n",
       "    </tr>\n",
       "    <tr>\n",
       "      <th>29225</th>\n",
       "      <td>COCCOc1cnc2ccc([C@H](C)c3nnc4c(F)cc(-c5cc(C)no...</td>\n",
       "      <td>Cc1cc(C)on1</td>\n",
       "    </tr>\n",
       "    <tr>\n",
       "      <th>29226</th>\n",
       "      <td>N=C(N)NC(=N)Nc1cc(C(F)(F)F)ccc1Cl</td>\n",
       "      <td>Cc1ccc(Cl)c(N)c1</td>\n",
       "    </tr>\n",
       "  </tbody>\n",
       "</table>\n",
       "<p>29227 rows × 2 columns</p>\n",
       "</div>"
      ],
      "text/plain": [
       "                                           parent_smiles  \\\n",
       "0      CC1(C)O[C@H]2[C@@H]3OS(=O)(=O)O[C@@H]3CO[C@@]2...   \n",
       "1      CNC(=O)c1cccc(C)c1Nc1nc(N2CCN(c3ccccc3Cl)CC2)n...   \n",
       "2      CNC(=O)c1cccc(C)c1Nc1nc(N2CCN(c3ccccc3Cl)CC2)n...   \n",
       "3      CNC(=O)c1cccc(C)c1Nc1nc(N2CCN(c3ccccc3Cl)CC2)n...   \n",
       "4      CNC(=O)c1cccc(C)c1Nc1nc(N2CCN(c3ccccc3Cl)CC2)n...   \n",
       "...                                                  ...   \n",
       "29222  NC(=O)[C@H](CCC(=O)O)NC(=O)[C@H](CCC(=O)O)NC(=...   \n",
       "29223  COCCOc1cnc2ccc([C@H](C)c3nnc4c(F)cc(-c5cc(C)no...   \n",
       "29224  COCCOc1cnc2ccc([C@H](C)c3nnc4c(F)cc(-c5cc(C)no...   \n",
       "29225  COCCOc1cnc2ccc([C@H](C)c3nnc4c(F)cc(-c5cc(C)no...   \n",
       "29226                  N=C(N)NC(=N)Nc1cc(C(F)(F)F)ccc1Cl   \n",
       "\n",
       "                                           ring_fragment  \n",
       "0      CC1(C)O[C@H]2[C@@H]3OS(=O)(=O)O[C@@H]3CO[C@@]2...  \n",
       "1                                          Cc1cccc(C)c1N  \n",
       "2                                        Nc1nc(N)nc(N)n1  \n",
       "3                                           CN1CCN(C)CC1  \n",
       "4                                            Nc1ccccc1Cl  \n",
       "...                                                  ...  \n",
       "29222                                          Cc1ccccc1  \n",
       "29223                                 Cc1ccc2ncc(O)cc2c1  \n",
       "29224                               Cc1cc(F)c2nnc(C)n2c1  \n",
       "29225                                        Cc1cc(C)on1  \n",
       "29226                                   Cc1ccc(Cl)c(N)c1  \n",
       "\n",
       "[29227 rows x 2 columns]"
      ]
     },
     "execution_count": 12,
     "metadata": {},
     "output_type": "execute_result"
    }
   ],
   "source": [
    "ring_fragments_pdb = get_ring_fragments(list_of_smiles=list_of_smiles, no_rings_list=False)\n",
    "ring_fragments_pdb"
   ]
  },
  {
   "cell_type": "code",
   "execution_count": 13,
   "metadata": {},
   "outputs": [],
   "source": [
    "# amostra_ring_fragments = ring_fragments_pdb[0:1000]\n",
    "# AddMoleculeColumnToFrame(smilesCol='parent_smiles', molCol='parent_mol', frame=amostra_ring_fragments)\n",
    "# AddMoleculeColumnToFrame(smilesCol='ring_fragment', molCol='fragment_mol', frame=amostra_ring_fragments)\n",
    "\n",
    "# show_df(amostra_ring_fragments)"
   ]
  },
  {
   "cell_type": "markdown",
   "metadata": {},
   "source": [
    "Keep in mind that if a molecule has two of the same ring there would be two ring fragments from the same parent structure."
   ]
  },
  {
   "cell_type": "markdown",
   "metadata": {},
   "source": [
    "## <a id='toc1_3_'></a>[Saving](#toc0_)"
   ]
  },
  {
   "cell_type": "markdown",
   "metadata": {},
   "source": [
    "Saving the non-unique relation (parent x ring fragment):"
   ]
  },
  {
   "cell_type": "code",
   "execution_count": 14,
   "metadata": {},
   "outputs": [],
   "source": [
    "ring_fragments_pdb.to_csv('../../data/fragments/non_unique/pdb_below_0_85_fragments_non_unique.csv', index=False)"
   ]
  },
  {
   "cell_type": "markdown",
   "metadata": {},
   "source": [
    "Saving with the realtion (one parent and unique ring fragments)"
   ]
  },
  {
   "cell_type": "code",
   "execution_count": 15,
   "metadata": {},
   "outputs": [
    {
     "data": {
      "text/html": [
       "<div>\n",
       "<style scoped>\n",
       "    .dataframe tbody tr th:only-of-type {\n",
       "        vertical-align: middle;\n",
       "    }\n",
       "\n",
       "    .dataframe tbody tr th {\n",
       "        vertical-align: top;\n",
       "    }\n",
       "\n",
       "    .dataframe thead th {\n",
       "        text-align: right;\n",
       "    }\n",
       "</style>\n",
       "<table border=\"1\" class=\"dataframe\">\n",
       "  <thead>\n",
       "    <tr style=\"text-align: right;\">\n",
       "      <th></th>\n",
       "      <th>parent_smiles</th>\n",
       "      <th>ring_fragment</th>\n",
       "    </tr>\n",
       "  </thead>\n",
       "  <tbody>\n",
       "    <tr>\n",
       "      <th>0</th>\n",
       "      <td>CC1(C)O[C@H]2[C@@H]3OS(=O)(=O)O[C@@H]3CO[C@@]2...</td>\n",
       "      <td>CC1(C)O[C@H]2[C@@H]3OS(=O)(=O)O[C@@H]3CO[C@@]2...</td>\n",
       "    </tr>\n",
       "    <tr>\n",
       "      <th>1</th>\n",
       "      <td>CNC(=O)c1cccc(C)c1Nc1nc(N2CCN(c3ccccc3Cl)CC2)n...</td>\n",
       "      <td>Cc1cccc(C)c1N</td>\n",
       "    </tr>\n",
       "    <tr>\n",
       "      <th>2</th>\n",
       "      <td>CNC(=O)c1cccc(C)c1Nc1nc(N2CCN(c3ccccc3Cl)CC2)n...</td>\n",
       "      <td>Nc1nc(N)nc(N)n1</td>\n",
       "    </tr>\n",
       "    <tr>\n",
       "      <th>3</th>\n",
       "      <td>CNC(=O)c1cccc(C)c1Nc1nc(N2CCN(c3ccccc3Cl)CC2)n...</td>\n",
       "      <td>CN1CCN(C)CC1</td>\n",
       "    </tr>\n",
       "    <tr>\n",
       "      <th>4</th>\n",
       "      <td>CNC(=O)c1cccc(C)c1Nc1nc(N2CCN(c3ccccc3Cl)CC2)n...</td>\n",
       "      <td>Nc1ccccc1Cl</td>\n",
       "    </tr>\n",
       "    <tr>\n",
       "      <th>...</th>\n",
       "      <td>...</td>\n",
       "      <td>...</td>\n",
       "    </tr>\n",
       "    <tr>\n",
       "      <th>27410</th>\n",
       "      <td>NC(=O)[C@H](CCC(=O)O)NC(=O)[C@H](CCC(=O)O)NC(=...</td>\n",
       "      <td>Cc1ccccc1</td>\n",
       "    </tr>\n",
       "    <tr>\n",
       "      <th>27411</th>\n",
       "      <td>COCCOc1cnc2ccc([C@H](C)c3nnc4c(F)cc(-c5cc(C)no...</td>\n",
       "      <td>Cc1ccc2ncc(O)cc2c1</td>\n",
       "    </tr>\n",
       "    <tr>\n",
       "      <th>27412</th>\n",
       "      <td>COCCOc1cnc2ccc([C@H](C)c3nnc4c(F)cc(-c5cc(C)no...</td>\n",
       "      <td>Cc1cc(F)c2nnc(C)n2c1</td>\n",
       "    </tr>\n",
       "    <tr>\n",
       "      <th>27413</th>\n",
       "      <td>COCCOc1cnc2ccc([C@H](C)c3nnc4c(F)cc(-c5cc(C)no...</td>\n",
       "      <td>Cc1cc(C)on1</td>\n",
       "    </tr>\n",
       "    <tr>\n",
       "      <th>27414</th>\n",
       "      <td>N=C(N)NC(=N)Nc1cc(C(F)(F)F)ccc1Cl</td>\n",
       "      <td>Cc1ccc(Cl)c(N)c1</td>\n",
       "    </tr>\n",
       "  </tbody>\n",
       "</table>\n",
       "<p>27415 rows × 2 columns</p>\n",
       "</div>"
      ],
      "text/plain": [
       "                                           parent_smiles  \\\n",
       "0      CC1(C)O[C@H]2[C@@H]3OS(=O)(=O)O[C@@H]3CO[C@@]2...   \n",
       "1      CNC(=O)c1cccc(C)c1Nc1nc(N2CCN(c3ccccc3Cl)CC2)n...   \n",
       "2      CNC(=O)c1cccc(C)c1Nc1nc(N2CCN(c3ccccc3Cl)CC2)n...   \n",
       "3      CNC(=O)c1cccc(C)c1Nc1nc(N2CCN(c3ccccc3Cl)CC2)n...   \n",
       "4      CNC(=O)c1cccc(C)c1Nc1nc(N2CCN(c3ccccc3Cl)CC2)n...   \n",
       "...                                                  ...   \n",
       "27410  NC(=O)[C@H](CCC(=O)O)NC(=O)[C@H](CCC(=O)O)NC(=...   \n",
       "27411  COCCOc1cnc2ccc([C@H](C)c3nnc4c(F)cc(-c5cc(C)no...   \n",
       "27412  COCCOc1cnc2ccc([C@H](C)c3nnc4c(F)cc(-c5cc(C)no...   \n",
       "27413  COCCOc1cnc2ccc([C@H](C)c3nnc4c(F)cc(-c5cc(C)no...   \n",
       "27414                  N=C(N)NC(=N)Nc1cc(C(F)(F)F)ccc1Cl   \n",
       "\n",
       "                                           ring_fragment  \n",
       "0      CC1(C)O[C@H]2[C@@H]3OS(=O)(=O)O[C@@H]3CO[C@@]2...  \n",
       "1                                          Cc1cccc(C)c1N  \n",
       "2                                        Nc1nc(N)nc(N)n1  \n",
       "3                                           CN1CCN(C)CC1  \n",
       "4                                            Nc1ccccc1Cl  \n",
       "...                                                  ...  \n",
       "27410                                          Cc1ccccc1  \n",
       "27411                                 Cc1ccc2ncc(O)cc2c1  \n",
       "27412                               Cc1cc(F)c2nnc(C)n2c1  \n",
       "27413                                        Cc1cc(C)on1  \n",
       "27414                                   Cc1ccc(Cl)c(N)c1  \n",
       "\n",
       "[27415 rows x 2 columns]"
      ]
     },
     "execution_count": 15,
     "metadata": {},
     "output_type": "execute_result"
    }
   ],
   "source": [
    "ring_fragments_pdb_unique = ring_fragments_pdb[~ring_fragments_pdb.duplicated()].reset_index(drop=True)\n",
    "ring_fragments_pdb_unique"
   ]
  },
  {
   "cell_type": "code",
   "execution_count": 16,
   "metadata": {},
   "outputs": [],
   "source": [
    "ring_fragments_pdb_unique.to_csv('../../data/fragments/unique/pdb_below_0_85_fragments_no_duplicated.csv', index=False)"
   ]
  }
 ],
 "metadata": {
  "kernelspec": {
   "display_name": "teachopencadd",
   "language": "python",
   "name": "python3"
  },
  "language_info": {
   "codemirror_mode": {
    "name": "ipython",
    "version": 3
   },
   "file_extension": ".py",
   "mimetype": "text/x-python",
   "name": "python",
   "nbconvert_exporter": "python",
   "pygments_lexer": "ipython3",
   "version": "3.8.17"
  },
  "orig_nbformat": 4
 },
 "nbformat": 4,
 "nbformat_minor": 2
}
