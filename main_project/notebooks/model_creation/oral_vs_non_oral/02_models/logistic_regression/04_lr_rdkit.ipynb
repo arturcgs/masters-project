{
  "cells": [
    {
      "cell_type": "markdown",
      "metadata": {
        "id": "LRvwU-Mw8SPl"
      },
      "source": [
        "# Logistic Regression"
      ]
    },
    {
      "cell_type": "markdown",
      "metadata": {
        "id": "CwMZ-FaJ8JhZ"
      },
      "source": [
        "Here, I will run the logistics regression. The dataset has already been cleaned and separated into training and test datasets"
      ]
    },
    {
      "cell_type": "markdown",
      "metadata": {
        "id": "q-XmgbpD8Nu-"
      },
      "source": [
        "## Reading CSVs"
      ]
    },
    {
      "cell_type": "code",
      "execution_count": 1,
      "metadata": {
        "id": "IaY4kb1YTsJf"
      },
      "outputs": [],
      "source": [
        "DESCRIPTOR_TYPE <- \"rdkit\""
      ]
    },
    {
      "cell_type": "code",
      "execution_count": 2,
      "metadata": {
        "id": "GzyWX6tDqxJA"
      },
      "outputs": [],
      "source": [
        "train <- read.csv(paste0(\"/content/train_\", DESCRIPTOR_TYPE, \".csv\"))"
      ]
    },
    {
      "cell_type": "code",
      "execution_count": 3,
      "metadata": {
        "id": "1zaACa_BADnz"
      },
      "outputs": [],
      "source": [
        "test <- read.csv(paste0(\"/content/test_\", DESCRIPTOR_TYPE, \".csv\"))"
      ]
    },
    {
      "cell_type": "code",
      "execution_count": 4,
      "metadata": {
        "colab": {
          "base_uri": "https://localhost:8080/",
          "height": 34
        },
        "id": "ScyHHnjtP4Uf",
        "outputId": "34a132b7-1053-4928-9638-a6911fd996cd"
      },
      "outputs": [
        {
          "output_type": "display_data",
          "data": {
            "text/html": [
              "<style>\n",
              ".list-inline {list-style: none; margin:0; padding: 0}\n",
              ".list-inline>li {display: inline-block}\n",
              ".list-inline>li:not(:last-child)::after {content: \"\\00b7\"; padding: 0 .5ex}\n",
              "</style>\n",
              "<ol class=list-inline><li>1421</li><li>162</li></ol>\n"
            ],
            "text/markdown": "1. 1421\n2. 162\n\n\n",
            "text/latex": "\\begin{enumerate*}\n\\item 1421\n\\item 162\n\\end{enumerate*}\n",
            "text/plain": [
              "[1] 1421  162"
            ]
          },
          "metadata": {}
        }
      ],
      "source": [
        "dim(train)"
      ]
    },
    {
      "cell_type": "code",
      "execution_count": 5,
      "metadata": {
        "colab": {
          "base_uri": "https://localhost:8080/",
          "height": 34
        },
        "id": "R5XlQhgzP4XG",
        "outputId": "e5b4267d-830a-4fa6-d659-7028d1303bd3"
      },
      "outputs": [
        {
          "output_type": "display_data",
          "data": {
            "text/html": [
              "<style>\n",
              ".list-inline {list-style: none; margin:0; padding: 0}\n",
              ".list-inline>li {display: inline-block}\n",
              ".list-inline>li:not(:last-child)::after {content: \"\\00b7\"; padding: 0 .5ex}\n",
              "</style>\n",
              "<ol class=list-inline><li>474</li><li>162</li></ol>\n"
            ],
            "text/markdown": "1. 474\n2. 162\n\n\n",
            "text/latex": "\\begin{enumerate*}\n\\item 474\n\\item 162\n\\end{enumerate*}\n",
            "text/plain": [
              "[1] 474 162"
            ]
          },
          "metadata": {}
        }
      ],
      "source": [
        "dim(test)"
      ]
    },
    {
      "cell_type": "markdown",
      "metadata": {
        "id": "PLmfvZjtABN5"
      },
      "source": [
        "### Calculating model"
      ]
    },
    {
      "cell_type": "code",
      "execution_count": 6,
      "metadata": {
        "id": "qRjZZOIwt_k5"
      },
      "outputs": [],
      "source": [
        "model <- glm(oral ~.,family=binomial(link='logit'),data=train)"
      ]
    },
    {
      "cell_type": "code",
      "execution_count": 7,
      "metadata": {
        "id": "eGhTh6ukuEf9",
        "colab": {
          "base_uri": "https://localhost:8080/",
          "height": 1000
        },
        "outputId": "ba08ee1a-d3ff-4402-9d7f-8e64ebec2e1f"
      },
      "outputs": [
        {
          "output_type": "display_data",
          "data": {
            "text/plain": [
              "\n",
              "Call:\n",
              "glm(formula = oral ~ ., family = binomial(link = \"logit\"), data = train)\n",
              "\n",
              "Coefficients: (7 not defined because of singularities)\n",
              "                           Estimate Std. Error z value Pr(>|z|)    \n",
              "(Intercept)               0.7000471  7.6348127   0.092 0.926943    \n",
              "X                         0.0001719  0.0001634   1.052 0.292803    \n",
              "const                            NA         NA      NA       NA    \n",
              "MaxEStateIndex            0.0988767  0.1627971   0.607 0.543611    \n",
              "MinEStateIndex           -0.0031125  0.2312186  -0.013 0.989260    \n",
              "MinAbsEStateIndex        -0.0347826  0.1014039  -0.343 0.731591    \n",
              "qed                       0.2313346  0.1352530   1.710 0.087195 .  \n",
              "MolWt                     4.4433807  2.8561788   1.556 0.119777    \n",
              "NumRadicalElectrons              NA         NA      NA       NA    \n",
              "MaxPartialCharge          0.0156294  0.1566946   0.100 0.920547    \n",
              "MinPartialCharge          0.1433292  0.1184008   1.211 0.226071    \n",
              "FpDensityMorgan1         -0.1075659  0.1222527  -0.880 0.378933    \n",
              "BCUT2D_MWHI              -0.4548794  0.2183388  -2.083 0.037218 *  \n",
              "BCUT2D_MWLOW              0.0768096  0.1532612   0.501 0.616253    \n",
              "BCUT2D_CHGHI              0.4472321  0.3208228   1.394 0.163313    \n",
              "BCUT2D_CHGLO              0.2780965  0.3106673   0.895 0.370702    \n",
              "BCUT2D_LOGPHI            -0.0864363  0.2469962  -0.350 0.726376    \n",
              "BCUT2D_LOGPLOW           -0.6653424  0.2603565  -2.556 0.010603 *  \n",
              "BCUT2D_MRHI               0.3228444  0.2417179   1.336 0.181672    \n",
              "BCUT2D_MRLOW             -0.2334459  0.1487012  -1.570 0.116438    \n",
              "BalabanJ                 -0.0919741  0.1696726  -0.542 0.587772    \n",
              "HallKierAlpha            -2.7355452  1.2539224  -2.182 0.029140 *  \n",
              "Ipc                      -0.3279089 63.6350741  -0.005 0.995889    \n",
              "Kappa3                    0.1891753  0.2580738   0.733 0.463541    \n",
              "PEOE_VSA1                -2.6537180  1.5896078  -1.669 0.095035 .  \n",
              "PEOE_VSA10               -1.8176837  1.0866060  -1.673 0.094365 .  \n",
              "PEOE_VSA11               -1.3441351  0.7299179  -1.841 0.065550 .  \n",
              "PEOE_VSA12               -1.2771222  0.6128630  -2.084 0.037173 *  \n",
              "PEOE_VSA13               -0.8377623  0.4231462  -1.980 0.047721 *  \n",
              "PEOE_VSA14               -2.4741151  1.2420470  -1.992 0.046375 *  \n",
              "PEOE_VSA2                -1.2189431  0.8068982  -1.511 0.130877    \n",
              "PEOE_VSA3                -1.3764234  0.6984140  -1.971 0.048749 *  \n",
              "PEOE_VSA4                -0.9376224  0.5064295  -1.851 0.064107 .  \n",
              "PEOE_VSA5                -0.9736747  0.5798979  -1.679 0.093143 .  \n",
              "PEOE_VSA6                -3.9469208  2.1284947  -1.854 0.063693 .  \n",
              "PEOE_VSA7                -4.6874919  2.4946676  -1.879 0.060244 .  \n",
              "PEOE_VSA8                -2.8665703  1.5541562  -1.844 0.065117 .  \n",
              "PEOE_VSA9                -2.6940244  1.4475376  -1.861 0.062729 .  \n",
              "SMR_VSA1                 -1.4023286  1.3050869  -1.075 0.282594    \n",
              "SMR_VSA10                 0.0320473  0.4469728   0.072 0.942842    \n",
              "SMR_VSA2                  0.1124147  0.2752081   0.408 0.682927    \n",
              "SMR_VSA3                  1.4407617  0.8813830   1.635 0.102120    \n",
              "SMR_VSA4                  1.0833737  0.6027408   1.797 0.072270 .  \n",
              "SMR_VSA5                  1.5166764  2.0639797   0.735 0.462442    \n",
              "SMR_VSA6                  1.5998861  1.1004264   1.454 0.145980    \n",
              "SMR_VSA7                  0.4582480  1.4906934   0.307 0.758534    \n",
              "SMR_VSA9                         NA         NA      NA       NA    \n",
              "SlogP_VSA1               -0.8315864  0.8015768  -1.037 0.299532    \n",
              "SlogP_VSA10               0.0916115  0.6629045   0.138 0.890085    \n",
              "SlogP_VSA11               0.7930599  0.5935965   1.336 0.181541    \n",
              "SlogP_VSA12               1.1365691  0.8175256   1.390 0.164451    \n",
              "SlogP_VSA2                0.0589987  1.6531137   0.036 0.971530    \n",
              "SlogP_VSA3                0.6940983  0.4095178   1.695 0.090091 .  \n",
              "SlogP_VSA4               -0.0262302  0.3470470  -0.076 0.939752    \n",
              "SlogP_VSA5                1.3722812  0.6389820   2.148 0.031745 *  \n",
              "SlogP_VSA7                0.3221931  0.2267008   1.421 0.155251    \n",
              "SlogP_VSA8                0.6636650  0.4502434   1.474 0.140478    \n",
              "TPSA                      0.4168620  1.6632157   0.251 0.802095    \n",
              "EState_VSA1               2.0712711  1.4441486   1.434 0.151501    \n",
              "EState_VSA10             -0.3801067  0.3913602  -0.971 0.331426    \n",
              "EState_VSA11             -0.2819569  0.1660901  -1.698 0.089581 .  \n",
              "EState_VSA2               0.6452289  0.7196107   0.897 0.369913    \n",
              "EState_VSA3               0.7550033  0.7530095   1.003 0.316031    \n",
              "EState_VSA4               0.6786513  0.9420036   0.720 0.471258    \n",
              "EState_VSA5               0.4541660  0.7410071   0.613 0.539940    \n",
              "EState_VSA6               0.2796057  0.6807822   0.411 0.681283    \n",
              "EState_VSA7               0.2992490  0.8274642   0.362 0.717617    \n",
              "EState_VSA8               0.2496390  0.8704094   0.287 0.774261    \n",
              "EState_VSA9                      NA         NA      NA       NA    \n",
              "VSA_EState1               1.2347576  1.9263275   0.641 0.521529    \n",
              "VSA_EState10              0.1217469  0.7872291   0.155 0.877095    \n",
              "VSA_EState2               0.2241041  2.0807930   0.108 0.914233    \n",
              "VSA_EState3              -0.3229828  1.9052957  -0.170 0.865389    \n",
              "VSA_EState4               0.1333302  0.5499077   0.242 0.808424    \n",
              "VSA_EState5               0.1329214  0.3304224   0.402 0.687480    \n",
              "VSA_EState6               0.3932635  1.1208119   0.351 0.725683    \n",
              "VSA_EState7              -0.1083793  0.7447118  -0.146 0.884291    \n",
              "VSA_EState8              -0.1187601  0.5648865  -0.210 0.833483    \n",
              "VSA_EState9               0.2119712  0.4511955   0.470 0.638499    \n",
              "FractionCSP3             -0.4518278  0.2092657  -2.159 0.030842 *  \n",
              "NHOHCount                 0.6996515  1.0460486   0.669 0.503590    \n",
              "NumAliphaticCarbocycles  -0.3925914  0.3780441  -1.038 0.299046    \n",
              "NumAliphaticHeterocycles -0.6388653  0.3516035  -1.817 0.069216 .  \n",
              "NumAliphaticRings                NA         NA      NA       NA    \n",
              "NumAromaticCarbocycles   -0.3092066  0.5163850  -0.599 0.549312    \n",
              "NumAromaticHeterocycles  -0.3778696  0.4529822  -0.834 0.404178    \n",
              "NumAromaticRings                 NA         NA      NA       NA    \n",
              "NumRotatableBonds        -0.1194940  0.2529635  -0.472 0.636658    \n",
              "NumSaturatedHeterocycles  0.2687412  0.2820345   0.953 0.340658    \n",
              "NumSaturatedRings        -0.1509211  0.3438162  -0.439 0.660692    \n",
              "RingCount                        NA         NA      NA       NA    \n",
              "MolLogP                   0.7219398  1.3984816   0.516 0.605693    \n",
              "fr_Al_COO                -0.1493866  0.3152402  -0.474 0.635584    \n",
              "fr_Al_OH                  0.5614002  0.6624549   0.847 0.396742    \n",
              "fr_ArN                   -0.5720020  0.1680638  -3.403 0.000665 ***\n",
              "fr_Ar_COO                 0.0049910  0.1544882   0.032 0.974228    \n",
              "fr_Ar_N                   0.1024179  0.5771538   0.177 0.859152    \n",
              "fr_Ar_NH                 -0.1784800  0.1478831  -1.207 0.227471    \n",
              "fr_Ar_OH                 -0.3928668  0.3153697  -1.246 0.212862    \n",
              "fr_C_S                   -0.3178457  0.1099018  -2.892 0.003827 ** \n",
              "fr_HOCCN                  0.0541020  0.0703152   0.769 0.441643    \n",
              "fr_Imine                  0.1030168  0.1854164   0.556 0.578486    \n",
              "fr_NH0                   -1.0472820  0.8212987  -1.275 0.202255    \n",
              "fr_NH1                   -0.2727910  0.7652294  -0.356 0.721479    \n",
              "fr_NH2                   -0.0097453  0.5730171  -0.017 0.986431    \n",
              "fr_N_O                   -0.0809583  0.1120040  -0.723 0.469793    \n",
              "fr_Ndealkylation1        -0.0511882  0.0965854  -0.530 0.596127    \n",
              "fr_Ndealkylation2        -0.0017866  0.0951019  -0.019 0.985011    \n",
              "fr_SH                     0.1180009  0.0882509   1.337 0.181187    \n",
              "fr_aldehyde              -0.6650142 62.6882236  -0.011 0.991536    \n",
              "fr_alkyl_carbamate        0.3603874  0.1970928   1.829 0.067472 .  \n",
              "fr_alkyl_halide          -0.1103215  0.3191430  -0.346 0.729583    \n",
              "fr_allylic_oxid           0.2627295  0.1581777   1.661 0.096718 .  \n",
              "fr_amide                 -0.3180274  0.5408614  -0.588 0.556531    \n",
              "fr_amidine               -0.1355511  0.1322855  -1.025 0.305511    \n",
              "fr_aniline                0.7817916  0.4615157   1.694 0.090272 .  \n",
              "fr_aryl_methyl           -0.0388447  0.0958720  -0.405 0.685351    \n",
              "fr_azide                  0.4095887 63.6325117   0.006 0.994864    \n",
              "fr_azo                    0.9087443 63.0737032   0.014 0.988505    \n",
              "fr_barbitur              -0.2134404  0.0932464  -2.289 0.022080 *  \n",
              "fr_benzodiazepine         1.3993573 58.2259320   0.024 0.980826    \n",
              "fr_bicyclic              -0.1674012  0.1527099  -1.096 0.272989    \n",
              "fr_dihydropyridine       -0.0138390  0.0732073  -0.189 0.850063    \n",
              "fr_epoxide                0.1193855  0.0712960   1.675 0.094031 .  \n",
              "fr_ester                 -0.6000819  0.3049166  -1.968 0.049066 *  \n",
              "fr_ether                  0.4974893  0.5210629   0.955 0.339700    \n",
              "fr_furan                  0.0330976  0.0929166   0.356 0.721685    \n",
              "fr_guanido               -0.1653690  0.1465653  -1.128 0.259195    \n",
              "fr_halogen               -0.4478110  0.8280357  -0.541 0.588638    \n",
              "fr_hdrzine               -0.0074768  0.0783025  -0.095 0.923929    \n",
              "fr_hdrzone                0.1507965  0.1205663   1.251 0.211031    \n",
              "fr_imidazole             -0.2721290  0.1132326  -2.403 0.016249 *  \n",
              "fr_imide                  0.0305921  0.1270035   0.241 0.809651    \n",
              "fr_ketone                -0.7175476  0.3270364  -2.194 0.028229 *  \n",
              "fr_ketone_Topliss         0.1565848  0.1647076   0.951 0.341765    \n",
              "fr_lactam                 0.0231870  0.1395655   0.166 0.868049    \n",
              "fr_lactone                0.2804908  0.1108164   2.531 0.011370 *  \n",
              "fr_methoxy               -0.3973234  0.1589207  -2.500 0.012415 *  \n",
              "fr_morpholine            -0.1110515  0.0793496  -1.400 0.161657    \n",
              "fr_nitrile                0.1662350  0.2192243   0.758 0.448279    \n",
              "fr_nitro                  0.1961135  0.1568666   1.250 0.211229    \n",
              "fr_nitro_arom             1.4699117 92.3458977   0.016 0.987300    \n",
              "fr_nitro_arom_nonortho   -1.2024487 78.1573832  -0.015 0.987725    \n",
              "fr_nitroso               -0.0001172  0.0650078  -0.002 0.998561    \n",
              "fr_oxazole                0.0424616  0.0805370   0.527 0.598033    \n",
              "fr_oxime                  0.0650630  0.1152439   0.565 0.572368    \n",
              "fr_para_hydroxylation    -0.0292315  0.0886019  -0.330 0.741461    \n",
              "fr_phos_acid              0.0195438  0.0958447   0.204 0.838423    \n",
              "fr_piperdine             -0.0133299  0.1052597  -0.127 0.899227    \n",
              "fr_piperzine              0.1160680  0.1078027   1.077 0.281627    \n",
              "fr_priamide               0.0634973  0.1109592   0.572 0.567147    \n",
              "fr_pyridine              -0.0464651  0.1396553  -0.333 0.739351    \n",
              "fr_quatN                 -0.1013743  0.1605675  -0.631 0.527812    \n",
              "fr_sulfide               -0.1220311  0.1964550  -0.621 0.534491    \n",
              "fr_sulfonamd             -0.2295111  0.2014006  -1.140 0.254463    \n",
              "fr_sulfone               -0.1985837  0.0990367  -2.005 0.044947 *  \n",
              "fr_term_acetylene         0.0661976  0.1058869   0.625 0.531858    \n",
              "fr_tetrazole             -0.1890268  0.1248441  -1.514 0.130000    \n",
              "fr_thiazole              -0.0887399  0.1452126  -0.611 0.541131    \n",
              "fr_thiophene             -0.1282661  0.1319038  -0.972 0.330841    \n",
              "fr_unbrch_alkane         -0.3216093  0.1565476  -2.054 0.039938 *  \n",
              "fr_urea                   0.0662916  0.1599702   0.414 0.678582    \n",
              "---\n",
              "Signif. codes:  0 ‘***’ 0.001 ‘**’ 0.01 ‘*’ 0.05 ‘.’ 0.1 ‘ ’ 1\n",
              "\n",
              "(Dispersion parameter for binomial family taken to be 1)\n",
              "\n",
              "    Null deviance: 1885.3  on 1420  degrees of freedom\n",
              "Residual deviance: 1480.8  on 1266  degrees of freedom\n",
              "AIC: 1790.8\n",
              "\n",
              "Number of Fisher Scoring iterations: 15\n"
            ]
          },
          "metadata": {}
        }
      ],
      "source": [
        "summary(model)"
      ]
    },
    {
      "cell_type": "code",
      "execution_count": 8,
      "metadata": {
        "id": "dFh3n9TZuNRI"
      },
      "outputs": [],
      "source": [
        "# saving results into a dataframe\n",
        "results_df <- summary.glm(model)$coefficients\n",
        "write.csv(results_df, paste0(\"/content/lr_coefficients_\", DESCRIPTOR_TYPE, \".csv\"))"
      ]
    },
    {
      "cell_type": "markdown",
      "metadata": {
        "id": "KiKx50v5CBrJ"
      },
      "source": [
        "### Calculating Predictions Probabilities"
      ]
    },
    {
      "cell_type": "code",
      "execution_count": 9,
      "metadata": {
        "id": "tNU2Ngu_BYbh",
        "colab": {
          "base_uri": "https://localhost:8080/"
        },
        "outputId": "e1f8b81c-0eea-4059-f66e-7e1d1100510c"
      },
      "outputs": [
        {
          "output_type": "stream",
          "name": "stderr",
          "text": [
            "Warning message in predict.lm(object, newdata, se.fit, scale = 1, type = if (type == :\n",
            "“prediction from rank-deficient fit; attr(*, \"non-estim\") has doubtful cases”\n"
          ]
        }
      ],
      "source": [
        "y_predict_proba_train <- predict(model, newdata=train, type=\"response\")\n",
        "y_predict_proba_test <- predict(model, newdata=test, type=\"response\")"
      ]
    },
    {
      "cell_type": "code",
      "execution_count": 10,
      "metadata": {
        "id": "td7HZgXaCH3Z"
      },
      "outputs": [],
      "source": [
        "write.csv(y_predict_proba_train, paste0(\"/content/y_predict_proba_train_\", DESCRIPTOR_TYPE, \".csv\"))\n",
        "write.csv(y_predict_proba_test, paste0(\"/content/y_predict_proba_test_\", DESCRIPTOR_TYPE, \".csv\"))"
      ]
    },
    {
      "cell_type": "code",
      "execution_count": null,
      "metadata": {
        "id": "Jp-1AHbwOO6b"
      },
      "outputs": [],
      "source": []
    }
  ],
  "metadata": {
    "colab": {
      "provenance": []
    },
    "kernelspec": {
      "display_name": "R",
      "name": "ir"
    },
    "language_info": {
      "name": "R"
    }
  },
  "nbformat": 4,
  "nbformat_minor": 0
}