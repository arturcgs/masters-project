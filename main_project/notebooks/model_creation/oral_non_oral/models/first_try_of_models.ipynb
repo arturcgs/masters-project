{
 "cells": [
  {
   "cell_type": "code",
   "execution_count": 178,
   "metadata": {},
   "outputs": [],
   "source": [
    "# Now using cross validation\n",
    "import numpy as np\n",
    "import seaborn as sns\n",
    "from sklearn.datasets import make_classification\n",
    "from sklearn.model_selection import KFold, ShuffleSplit, StratifiedKFold\n",
    "from sklearn.model_selection import cross_val_score\n",
    "\n",
    "# Pre-proccess\n",
    "from sklearn.preprocessing import StandardScaler\n",
    "\n",
    "# Models\n",
    "from sklearn.linear_model import LogisticRegression\n",
    "from sklearn.svm import SVC\n",
    "from sklearn.neighbors import KNeighborsClassifier\n",
    "from sklearn.ensemble import RandomForestClassifier, GradientBoostingClassifier\n",
    "from sklearn.linear_model import SGDClassifier\n",
    "from pathlib import Path"
   ]
  },
  {
   "cell_type": "code",
   "execution_count": 97,
   "metadata": {},
   "outputs": [
    {
     "name": "stdout",
     "output_type": "stream",
     "text": [
      "Index(['name', 'chembl_id', 'clean_smiles', 'first_approval_year',\n",
      "       'indication_class', 'molecule_type', 'withdrawn_flag',\n",
      "       'therapeutic_flag', 'polymer_flag', 'inorganic_flag',\n",
      "       ...\n",
      "       'fr_quatN', 'fr_sulfide', 'fr_sulfonamd', 'fr_sulfone',\n",
      "       'fr_term_acetylene', 'fr_tetrazole', 'fr_thiazole', 'fr_thiophene',\n",
      "       'fr_unbrch_alkane', 'fr_urea'],\n",
      "      dtype='object', length=215)\n"
     ]
    }
   ],
   "source": [
    "# Importing dataset\n",
    "HERE = Path(_dh[-1])\n",
    "DATA = HERE.parent/'data'/'fda_approved'/'fda_rdkit_pre_processed_descriptors.csv'\n",
    "\n",
    "drugs_and_descriptors = pd.read_csv(DATA)\n",
    "print(drugs_and_descriptors.columns)"
   ]
  },
  {
   "cell_type": "code",
   "execution_count": 118,
   "metadata": {},
   "outputs": [],
   "source": [
    "not_descriptors = [\n",
    "    'name',\n",
    "    'chembl_id',\n",
    "    'clean_smiles',\n",
    "    'first_approval_year',\n",
    "    'indication_class',\n",
    "    'molecule_type',\n",
    "    'withdrawn_flag',\n",
    "    'therapeutic_flag',\n",
    "    'polymer_flag',\n",
    "    'inorganic_flag',\n",
    "    'natural_product_flag',\n",
    "    'parenteral',\n",
    "    'topical',\n",
    "    'oral'\n",
    "]\n",
    "X = drugs_and_descriptors.drop(columns=not_descriptors)\n",
    "y = drugs_and_descriptors['oral']"
   ]
  },
  {
   "cell_type": "markdown",
   "metadata": {},
   "source": [
    "### Cross-validation"
   ]
  },
  {
   "cell_type": "markdown",
   "metadata": {},
   "source": [
    "Comparing the models using Logistic Regression, KNN, SVM and Random Forest:"
   ]
  },
  {
   "cell_type": "code",
   "execution_count": 189,
   "metadata": {},
   "outputs": [],
   "source": [
    "def compare_models(models, X, y):\n",
    "    scores = {}\n",
    "    for model in models:\n",
    "        roc_auc = cross_val_score(model, X, y, cv=10, scoring='roc_auc' )\n",
    "        acc = cross_val_score(model, X, y, cv=10, scoring='accuracy')\n",
    "        balanced_acc = cross_val_score(model, X, y, cv=10, scoring='balanced_accuracy')\n",
    "\n",
    "        scores[f\"{str(model)}_roc\"] = (roc_auc)\n",
    "        scores[f\"{str(model)}_acc\"] = (acc)\n",
    "        scores[f\"{str(model)}_bal_acc\"] = (balanced_acc)\n",
    "\n",
    "    return scores"
   ]
  },
  {
   "cell_type": "code",
   "execution_count": 190,
   "metadata": {},
   "outputs": [],
   "source": [
    "models = [\n",
    "    LogisticRegression(max_iter=500), \n",
    "    SVC(kernel='poly'),\n",
    "    SVC(kernel='rbf'),\n",
    "    SVC(kernel='linear'),\n",
    "    KNeighborsClassifier(n_neighbors=5), \n",
    "    RandomForestClassifier(n_estimators=100), \n",
    "    SGDClassifier(loss=\"hinge\", penalty=\"l2\", max_iter=500), \n",
    "    GradientBoostingClassifier()]"
   ]
  },
  {
   "cell_type": "code",
   "execution_count": 191,
   "metadata": {},
   "outputs": [
    {
     "name": "stdout",
     "output_type": "stream",
     "text": [
      "{'LogisticRegression(max_iter=500)_roc': array([0.55008239, 0.61940913, 0.66996234, 0.63265066, 0.63053202,\n",
      "       0.56743853, 0.6440678 , 0.76923077, 0.75997151, 0.77801519]), 'LogisticRegression(max_iter=500)_acc': array([0.50526316, 0.62105263, 0.65263158, 0.65263158, 0.61578947,\n",
      "       0.58730159, 0.67195767, 0.74603175, 0.71428571, 0.67724868]), 'LogisticRegression(max_iter=500)_bal_acc': array([0.52860169, 0.5622646 , 0.57144539, 0.5768597 , 0.55261299,\n",
      "       0.54326808, 0.64472428, 0.71741453, 0.70512821, 0.71794872]), \"SVC(kernel='poly')_roc\": array([0.66448917, 0.61164077, 0.68502825, 0.66784369, 0.63735876,\n",
      "       0.63248985, 0.71556457, 0.76863723, 0.81635802, 0.6938509 ]), \"SVC(kernel='poly')_acc\": array([0.65263158, 0.61578947, 0.63157895, 0.63684211, 0.63684211,\n",
      "       0.64021164, 0.67195767, 0.73544974, 0.77248677, 0.64021164]), \"SVC(kernel='poly')_bal_acc\": array([0.54166667, 0.51471281, 0.51659605, 0.5289548 , 0.52624765,\n",
      "       0.53795655, 0.59142994, 0.68482906, 0.71741453, 0.63461538]), 'SVC()_roc': array([0.70674435, 0.63553437, 0.6875    , 0.68396893, 0.62923729,\n",
      "       0.60360468, 0.72738124, 0.82098765, 0.83915005, 0.71569326]), 'SVC()_acc': array([0.68947368, 0.66842105, 0.65789474, 0.65789474, 0.63157895,\n",
      "       0.65079365, 0.68253968, 0.76190476, 0.80952381, 0.62433862]), 'SVC()_bal_acc': array([0.64171375, 0.59227872, 0.55673258, 0.55943974, 0.53554614,\n",
      "       0.57728575, 0.63636906, 0.73023504, 0.7900641 , 0.62713675]), \"SVC(kernel='linear')_roc\": array([0.57762476, 0.61116996, 0.65795669, 0.64795198, 0.61770245,\n",
      "       0.55502507, 0.63499642, 0.76709402, 0.75296771, 0.787868  ]), \"SVC(kernel='linear')_acc\": array([0.50526316, 0.64736842, 0.64210526, 0.64736842, 0.61052632,\n",
      "       0.57671958, 0.64550265, 0.76190476, 0.71957672, 0.65079365]), \"SVC(kernel='linear')_bal_acc\": array([0.50694444, 0.58074388, 0.56026365, 0.56991525, 0.54025424,\n",
      "       0.53479351, 0.61512294, 0.73557692, 0.70405983, 0.69391026]), 'KNeighborsClassifier()_roc': array([0.60916902, 0.64247881, 0.65913371, 0.65960452, 0.63782957,\n",
      "       0.57454046, 0.66256863, 0.73118471, 0.75255223, 0.70589981]), 'KNeighborsClassifier()_acc': array([0.58421053, 0.63684211, 0.63157895, 0.64210526, 0.63157895,\n",
      "       0.61904762, 0.63492063, 0.7037037 , 0.6984127 , 0.68783069]), 'KNeighborsClassifier()_bal_acc': array([0.56508945, 0.60746234, 0.57615348, 0.57921375, 0.57344633,\n",
      "       0.56308188, 0.59262354, 0.67521368, 0.67361111, 0.71581197]), 'RandomForestClassifier()_roc': array([0.57179849, 0.65036488, 0.77913136, 0.6779661 , 0.62988465,\n",
      "       0.49886608, 0.60282884, 0.73700142, 0.83072175, 0.72815764]), 'RandomForestClassifier()_acc': array([0.38947368, 0.66315789, 0.65263158, 0.66315789, 0.66315789,\n",
      "       0.57142857, 0.61375661, 0.74074074, 0.74074074, 0.53968254]), 'RandomForestClassifier()_bal_acc': array([0.50847458, 0.58768832, 0.57909605, 0.55096516, 0.57297552,\n",
      "       0.54619241, 0.59399618, 0.71367521, 0.74626068, 0.62179487]), 'SGDClassifier(max_iter=500)_roc': array([0.44709275, 0.59539783, 0.66607815, 0.54460923, 0.61099341,\n",
      "       0.54595369, 0.6155407 , 0.56707028, 0.70904558, 0.59959639]), 'SGDClassifier(max_iter=500)_acc': array([0.61578947, 0.58947368, 0.62631579, 0.58947368, 0.61578947,\n",
      "       0.54497354, 0.55555556, 0.64550265, 0.6984127 , 0.64021164]), 'SGDClassifier(max_iter=500)_bal_acc': array([0.61935028, 0.54578625, 0.51177024, 0.56038136, 0.63017891,\n",
      "       0.57835999, 0.64162091, 0.65331197, 0.63888889, 0.59775641]), 'GradientBoostingClassifier()_roc': array([0.60928672, 0.61493644, 0.67643597, 0.66960923, 0.46798493,\n",
      "       0.46156601, 0.42432561, 0.59615385, 0.73504274, 0.7605057 ]), 'GradientBoostingClassifier()_acc': array([0.38421053, 0.65789474, 0.63684211, 0.65263158, 0.6       ,\n",
      "       0.55026455, 0.51851852, 0.62962963, 0.65079365, 0.52910053]), 'GradientBoostingClassifier()_bal_acc': array([0.50423729, 0.56450094, 0.53166196, 0.54284369, 0.51282957,\n",
      "       0.48418477, 0.48681069, 0.59935897, 0.65277778, 0.62019231])}\n"
     ]
    }
   ],
   "source": [
    "# Pre processing:\n",
    "scaler = StandardScaler()\n",
    "X_scaled = scaler.fit_transform(X)\n",
    "compared_scores = compare_models(models=models, X=X_scaled, y=y)\n",
    "\n",
    "print(compared_scores)"
   ]
  },
  {
   "cell_type": "code",
   "execution_count": null,
   "metadata": {},
   "outputs": [],
   "source": []
  }
 ],
 "metadata": {
  "kernelspec": {
   "display_name": "teachopencadd",
   "language": "python",
   "name": "python3"
  },
  "language_info": {
   "codemirror_mode": {
    "name": "ipython",
    "version": 3
   },
   "file_extension": ".py",
   "mimetype": "text/x-python",
   "name": "python",
   "nbconvert_exporter": "python",
   "pygments_lexer": "ipython3",
   "version": "3.8.17"
  },
  "orig_nbformat": 4
 },
 "nbformat": 4,
 "nbformat_minor": 2
}
