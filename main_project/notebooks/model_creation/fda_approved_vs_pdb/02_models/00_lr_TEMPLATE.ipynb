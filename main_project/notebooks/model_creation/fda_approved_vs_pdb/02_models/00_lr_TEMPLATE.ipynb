{
 "cells": [
  {
   "cell_type": "markdown",
   "metadata": {},
   "source": [
    "# Import and Cleaning"
   ]
  },
  {
   "cell_type": "code",
   "execution_count": 1,
   "metadata": {
    "metadata": {}
   },
   "outputs": [],
   "source": [
    "# adding path to import custom functions\n",
    "import sys\n",
    "sys.path.append(\"/home/artur/code/masters-project/main_project/notebooks/model_creation\")"
   ]
  },
  {
   "cell_type": "code",
   "execution_count": 2,
   "metadata": {
    "metadata": {}
   },
   "outputs": [],
   "source": [
    "import pandas as pd\n",
    "import statsmodels.api as sm\n",
    "import numpy as np\n",
    "import matplotlib.pyplot as plt\n",
    "import seaborn as sns\n",
    "\n",
    "from time import perf_counter, gmtime, strftime\n",
    "\n",
    "from functions import remove_high_corr, scale_variables, best_params_grid, calculate_confusion_matrix, plot_roc_auc_curve, bart_auc_scorer, make_label, get_error_and_auc\n",
    "\n",
    "from sklearn.linear_model import LogisticRegression\n",
    "from sklearn import tree\n",
    "from sklearn.tree import DecisionTreeClassifier\n",
    "from sklearn.ensemble import RandomForestClassifier, GradientBoostingClassifier\n",
    "from sklearn.svm import SVC\n",
    "\n",
    "from sklearn.model_selection import RepeatedKFold, train_test_split, cross_val_score, GridSearchCV, RepeatedStratifiedKFold\n",
    "\n",
    "from sklearn.preprocessing import StandardScaler\n",
    "\n",
    "from sklearn.metrics import roc_curve, roc_auc_score, confusion_matrix, ConfusionMatrixDisplay, make_scorer\n",
    "\n",
    "from ISLP.bart import BART\n",
    "\n",
    "import session_info "
   ]
  },
  {
   "cell_type": "code",
   "execution_count": 3,
   "metadata": {
    "metadata": {}
   },
   "outputs": [
    {
     "name": "stderr",
     "output_type": "stream",
     "text": [
      "/tmp/ipykernel_41500/1940003184.py:1: DtypeWarning: Columns (0,1,3,4,5,6,7,8,9,10,11,12,13) have mixed types. Specify dtype option on import or set low_memory=False.\n",
      "  data = pd.read_csv(\"../data/pre_processed_pdb_mordred_2d.csv\")\n"
     ]
    },
    {
     "data": {
      "text/html": [
       "<div>\n",
       "<style scoped>\n",
       "    .dataframe tbody tr th:only-of-type {\n",
       "        vertical-align: middle;\n",
       "    }\n",
       "\n",
       "    .dataframe tbody tr th {\n",
       "        vertical-align: top;\n",
       "    }\n",
       "\n",
       "    .dataframe thead th {\n",
       "        text-align: right;\n",
       "    }\n",
       "</style>\n",
       "<table border=\"1\" class=\"dataframe\">\n",
       "  <thead>\n",
       "    <tr style=\"text-align: right;\">\n",
       "      <th></th>\n",
       "      <th>name</th>\n",
       "      <th>chembl_id</th>\n",
       "      <th>clean_smiles</th>\n",
       "      <th>first_approval_year</th>\n",
       "      <th>indication_class</th>\n",
       "      <th>molecule_type</th>\n",
       "      <th>withdrawn_flag</th>\n",
       "      <th>therapeutic_flag</th>\n",
       "      <th>polymer_flag</th>\n",
       "      <th>inorganic_flag</th>\n",
       "      <th>...</th>\n",
       "      <th>JGI4</th>\n",
       "      <th>JGI5</th>\n",
       "      <th>JGI6</th>\n",
       "      <th>JGI7</th>\n",
       "      <th>JGI8</th>\n",
       "      <th>JGI9</th>\n",
       "      <th>JGI10</th>\n",
       "      <th>TopoShapeIndex</th>\n",
       "      <th>SRW05</th>\n",
       "      <th>fda_approved</th>\n",
       "    </tr>\n",
       "  </thead>\n",
       "  <tbody>\n",
       "    <tr>\n",
       "      <th>0</th>\n",
       "      <td>GUANIDINE HYDROCHLORIDE</td>\n",
       "      <td>CHEMBL1200728</td>\n",
       "      <td>N=C(N)N</td>\n",
       "      <td>1939</td>\n",
       "      <td>NaN</td>\n",
       "      <td>Small molecule</td>\n",
       "      <td>False</td>\n",
       "      <td>True</td>\n",
       "      <td>False</td>\n",
       "      <td>False</td>\n",
       "      <td>...</td>\n",
       "      <td>0.0</td>\n",
       "      <td>0.0</td>\n",
       "      <td>0.0</td>\n",
       "      <td>1.734723e-18</td>\n",
       "      <td>0.0</td>\n",
       "      <td>0.0</td>\n",
       "      <td>0.0</td>\n",
       "      <td>1.0</td>\n",
       "      <td>0.0</td>\n",
       "      <td>1.0</td>\n",
       "    </tr>\n",
       "    <tr>\n",
       "      <th>1</th>\n",
       "      <td>ACETOHYDROXAMIC ACID</td>\n",
       "      <td>CHEMBL734</td>\n",
       "      <td>CC(=O)NO</td>\n",
       "      <td>1983</td>\n",
       "      <td>Enzyme Inhibitor (urease)</td>\n",
       "      <td>Small molecule</td>\n",
       "      <td>False</td>\n",
       "      <td>True</td>\n",
       "      <td>False</td>\n",
       "      <td>False</td>\n",
       "      <td>...</td>\n",
       "      <td>0.0</td>\n",
       "      <td>0.0</td>\n",
       "      <td>0.0</td>\n",
       "      <td>1.734723e-18</td>\n",
       "      <td>0.0</td>\n",
       "      <td>0.0</td>\n",
       "      <td>0.0</td>\n",
       "      <td>0.5</td>\n",
       "      <td>0.0</td>\n",
       "      <td>1.0</td>\n",
       "    </tr>\n",
       "    <tr>\n",
       "      <th>2</th>\n",
       "      <td>HYDROXYUREA</td>\n",
       "      <td>CHEMBL467</td>\n",
       "      <td>NC(=O)NO</td>\n",
       "      <td>1967</td>\n",
       "      <td>Antineoplastic</td>\n",
       "      <td>Small molecule</td>\n",
       "      <td>False</td>\n",
       "      <td>True</td>\n",
       "      <td>False</td>\n",
       "      <td>False</td>\n",
       "      <td>...</td>\n",
       "      <td>0.0</td>\n",
       "      <td>0.0</td>\n",
       "      <td>0.0</td>\n",
       "      <td>1.734723e-18</td>\n",
       "      <td>0.0</td>\n",
       "      <td>0.0</td>\n",
       "      <td>0.0</td>\n",
       "      <td>0.5</td>\n",
       "      <td>0.0</td>\n",
       "      <td>1.0</td>\n",
       "    </tr>\n",
       "    <tr>\n",
       "      <th>3</th>\n",
       "      <td>CYSTEAMINE</td>\n",
       "      <td>CHEMBL602</td>\n",
       "      <td>NCCS</td>\n",
       "      <td>1994</td>\n",
       "      <td>CYSTEAMINE HYDROCHLORIDE</td>\n",
       "      <td>Small molecule</td>\n",
       "      <td>False</td>\n",
       "      <td>True</td>\n",
       "      <td>False</td>\n",
       "      <td>False</td>\n",
       "      <td>...</td>\n",
       "      <td>0.0</td>\n",
       "      <td>0.0</td>\n",
       "      <td>0.0</td>\n",
       "      <td>1.734723e-18</td>\n",
       "      <td>0.0</td>\n",
       "      <td>0.0</td>\n",
       "      <td>0.0</td>\n",
       "      <td>0.5</td>\n",
       "      <td>0.0</td>\n",
       "      <td>1.0</td>\n",
       "    </tr>\n",
       "    <tr>\n",
       "      <th>4</th>\n",
       "      <td>DIMETHYL SULFOXIDE</td>\n",
       "      <td>CHEMBL504</td>\n",
       "      <td>C[S+](C)[O-]</td>\n",
       "      <td>1978</td>\n",
       "      <td>Anti-Inflammatory (topical)</td>\n",
       "      <td>Small molecule</td>\n",
       "      <td>False</td>\n",
       "      <td>True</td>\n",
       "      <td>False</td>\n",
       "      <td>False</td>\n",
       "      <td>...</td>\n",
       "      <td>0.0</td>\n",
       "      <td>0.0</td>\n",
       "      <td>0.0</td>\n",
       "      <td>1.734723e-18</td>\n",
       "      <td>0.0</td>\n",
       "      <td>0.0</td>\n",
       "      <td>0.0</td>\n",
       "      <td>1.0</td>\n",
       "      <td>0.0</td>\n",
       "      <td>1.0</td>\n",
       "    </tr>\n",
       "  </tbody>\n",
       "</table>\n",
       "<p>5 rows × 559 columns</p>\n",
       "</div>"
      ],
      "text/plain": [
       "                      name      chembl_id  clean_smiles first_approval_year  \\\n",
       "0  GUANIDINE HYDROCHLORIDE  CHEMBL1200728       N=C(N)N                1939   \n",
       "1     ACETOHYDROXAMIC ACID      CHEMBL734      CC(=O)NO                1983   \n",
       "2              HYDROXYUREA      CHEMBL467      NC(=O)NO                1967   \n",
       "3               CYSTEAMINE      CHEMBL602          NCCS                1994   \n",
       "4       DIMETHYL SULFOXIDE      CHEMBL504  C[S+](C)[O-]                1978   \n",
       "\n",
       "              indication_class   molecule_type withdrawn_flag  \\\n",
       "0                          NaN  Small molecule          False   \n",
       "1    Enzyme Inhibitor (urease)  Small molecule          False   \n",
       "2               Antineoplastic  Small molecule          False   \n",
       "3     CYSTEAMINE HYDROCHLORIDE  Small molecule          False   \n",
       "4  Anti-Inflammatory (topical)  Small molecule          False   \n",
       "\n",
       "  therapeutic_flag polymer_flag inorganic_flag  ... JGI4 JGI5 JGI6  \\\n",
       "0             True        False          False  ...  0.0  0.0  0.0   \n",
       "1             True        False          False  ...  0.0  0.0  0.0   \n",
       "2             True        False          False  ...  0.0  0.0  0.0   \n",
       "3             True        False          False  ...  0.0  0.0  0.0   \n",
       "4             True        False          False  ...  0.0  0.0  0.0   \n",
       "\n",
       "           JGI7  JGI8  JGI9  JGI10  TopoShapeIndex  SRW05  fda_approved  \n",
       "0  1.734723e-18   0.0   0.0    0.0             1.0    0.0           1.0  \n",
       "1  1.734723e-18   0.0   0.0    0.0             0.5    0.0           1.0  \n",
       "2  1.734723e-18   0.0   0.0    0.0             0.5    0.0           1.0  \n",
       "3  1.734723e-18   0.0   0.0    0.0             0.5    0.0           1.0  \n",
       "4  1.734723e-18   0.0   0.0    0.0             1.0    0.0           1.0  \n",
       "\n",
       "[5 rows x 559 columns]"
      ]
     },
     "execution_count": 3,
     "metadata": {},
     "output_type": "execute_result"
    }
   ],
   "source": [
    "data = pd.read_csv(\"../data/pre_processed_pdb_mordred_2d.csv\")\n",
    "data.head()"
   ]
  },
  {
   "cell_type": "code",
   "execution_count": 4,
   "metadata": {
    "metadata": {}
   },
   "outputs": [
    {
     "data": {
      "text/plain": [
       "0    1.0\n",
       "1    1.0\n",
       "2    1.0\n",
       "3    1.0\n",
       "4    1.0\n",
       "Name: fda_approved, dtype: float64"
      ]
     },
     "execution_count": 4,
     "metadata": {},
     "output_type": "execute_result"
    }
   ],
   "source": [
    "Y = data[\"fda_approved\"]\n",
    "Y = Y.astype(float)\n",
    "Y.head()"
   ]
  },
  {
   "cell_type": "code",
   "execution_count": 5,
   "metadata": {
    "metadata": {}
   },
   "outputs": [
    {
     "data": {
      "text/html": [
       "<div>\n",
       "<style scoped>\n",
       "    .dataframe tbody tr th:only-of-type {\n",
       "        vertical-align: middle;\n",
       "    }\n",
       "\n",
       "    .dataframe tbody tr th {\n",
       "        vertical-align: top;\n",
       "    }\n",
       "\n",
       "    .dataframe thead th {\n",
       "        text-align: right;\n",
       "    }\n",
       "</style>\n",
       "<table border=\"1\" class=\"dataframe\">\n",
       "  <thead>\n",
       "    <tr style=\"text-align: right;\">\n",
       "      <th></th>\n",
       "      <th>ABC</th>\n",
       "      <th>nAcid</th>\n",
       "      <th>nBase</th>\n",
       "      <th>SpMax_A</th>\n",
       "      <th>SpMAD_A</th>\n",
       "      <th>VE1_A</th>\n",
       "      <th>VR1_A</th>\n",
       "      <th>VR3_A</th>\n",
       "      <th>nAromAtom</th>\n",
       "      <th>nSpiro</th>\n",
       "      <th>...</th>\n",
       "      <th>JGI3</th>\n",
       "      <th>JGI4</th>\n",
       "      <th>JGI5</th>\n",
       "      <th>JGI6</th>\n",
       "      <th>JGI7</th>\n",
       "      <th>JGI8</th>\n",
       "      <th>JGI9</th>\n",
       "      <th>JGI10</th>\n",
       "      <th>TopoShapeIndex</th>\n",
       "      <th>SRW05</th>\n",
       "    </tr>\n",
       "  </thead>\n",
       "  <tbody>\n",
       "    <tr>\n",
       "      <th>0</th>\n",
       "      <td>2.449490</td>\n",
       "      <td>0.0</td>\n",
       "      <td>3.000000e+00</td>\n",
       "      <td>1.732051</td>\n",
       "      <td>0.866025</td>\n",
       "      <td>1.931852</td>\n",
       "      <td>5.583629</td>\n",
       "      <td>0.803548</td>\n",
       "      <td>0.0</td>\n",
       "      <td>-3.469447e-18</td>\n",
       "      <td>...</td>\n",
       "      <td>0.0</td>\n",
       "      <td>0.0</td>\n",
       "      <td>0.0</td>\n",
       "      <td>0.0</td>\n",
       "      <td>1.734723e-18</td>\n",
       "      <td>0.0</td>\n",
       "      <td>0.0</td>\n",
       "      <td>0.0</td>\n",
       "      <td>1.0</td>\n",
       "      <td>0.0</td>\n",
       "    </tr>\n",
       "    <tr>\n",
       "      <th>1</th>\n",
       "      <td>3.047207</td>\n",
       "      <td>0.0</td>\n",
       "      <td>1.110223e-16</td>\n",
       "      <td>1.847759</td>\n",
       "      <td>1.045250</td>\n",
       "      <td>2.130986</td>\n",
       "      <td>8.629874</td>\n",
       "      <td>1.462083</td>\n",
       "      <td>0.0</td>\n",
       "      <td>-3.469447e-18</td>\n",
       "      <td>...</td>\n",
       "      <td>0.0</td>\n",
       "      <td>0.0</td>\n",
       "      <td>0.0</td>\n",
       "      <td>0.0</td>\n",
       "      <td>1.734723e-18</td>\n",
       "      <td>0.0</td>\n",
       "      <td>0.0</td>\n",
       "      <td>0.0</td>\n",
       "      <td>0.5</td>\n",
       "      <td>0.0</td>\n",
       "    </tr>\n",
       "    <tr>\n",
       "      <th>2</th>\n",
       "      <td>3.047207</td>\n",
       "      <td>0.0</td>\n",
       "      <td>1.110223e-16</td>\n",
       "      <td>1.847759</td>\n",
       "      <td>1.045250</td>\n",
       "      <td>2.130986</td>\n",
       "      <td>8.629874</td>\n",
       "      <td>1.462083</td>\n",
       "      <td>0.0</td>\n",
       "      <td>-3.469447e-18</td>\n",
       "      <td>...</td>\n",
       "      <td>0.0</td>\n",
       "      <td>0.0</td>\n",
       "      <td>0.0</td>\n",
       "      <td>0.0</td>\n",
       "      <td>1.734723e-18</td>\n",
       "      <td>0.0</td>\n",
       "      <td>0.0</td>\n",
       "      <td>0.0</td>\n",
       "      <td>0.5</td>\n",
       "      <td>0.0</td>\n",
       "    </tr>\n",
       "    <tr>\n",
       "      <th>3</th>\n",
       "      <td>2.121320</td>\n",
       "      <td>0.0</td>\n",
       "      <td>1.000000e+00</td>\n",
       "      <td>1.618034</td>\n",
       "      <td>1.118034</td>\n",
       "      <td>1.946498</td>\n",
       "      <td>5.891993</td>\n",
       "      <td>0.857304</td>\n",
       "      <td>0.0</td>\n",
       "      <td>-3.469447e-18</td>\n",
       "      <td>...</td>\n",
       "      <td>0.0</td>\n",
       "      <td>0.0</td>\n",
       "      <td>0.0</td>\n",
       "      <td>0.0</td>\n",
       "      <td>1.734723e-18</td>\n",
       "      <td>0.0</td>\n",
       "      <td>0.0</td>\n",
       "      <td>0.0</td>\n",
       "      <td>0.5</td>\n",
       "      <td>0.0</td>\n",
       "    </tr>\n",
       "    <tr>\n",
       "      <th>4</th>\n",
       "      <td>2.449490</td>\n",
       "      <td>0.0</td>\n",
       "      <td>1.110223e-16</td>\n",
       "      <td>1.732051</td>\n",
       "      <td>0.866025</td>\n",
       "      <td>1.931852</td>\n",
       "      <td>5.583629</td>\n",
       "      <td>0.803548</td>\n",
       "      <td>0.0</td>\n",
       "      <td>-3.469447e-18</td>\n",
       "      <td>...</td>\n",
       "      <td>0.0</td>\n",
       "      <td>0.0</td>\n",
       "      <td>0.0</td>\n",
       "      <td>0.0</td>\n",
       "      <td>1.734723e-18</td>\n",
       "      <td>0.0</td>\n",
       "      <td>0.0</td>\n",
       "      <td>0.0</td>\n",
       "      <td>1.0</td>\n",
       "      <td>0.0</td>\n",
       "    </tr>\n",
       "  </tbody>\n",
       "</table>\n",
       "<p>5 rows × 544 columns</p>\n",
       "</div>"
      ],
      "text/plain": [
       "        ABC  nAcid         nBase   SpMax_A   SpMAD_A     VE1_A     VR1_A  \\\n",
       "0  2.449490    0.0  3.000000e+00  1.732051  0.866025  1.931852  5.583629   \n",
       "1  3.047207    0.0  1.110223e-16  1.847759  1.045250  2.130986  8.629874   \n",
       "2  3.047207    0.0  1.110223e-16  1.847759  1.045250  2.130986  8.629874   \n",
       "3  2.121320    0.0  1.000000e+00  1.618034  1.118034  1.946498  5.891993   \n",
       "4  2.449490    0.0  1.110223e-16  1.732051  0.866025  1.931852  5.583629   \n",
       "\n",
       "      VR3_A  nAromAtom        nSpiro  ...  JGI3  JGI4  JGI5  JGI6  \\\n",
       "0  0.803548        0.0 -3.469447e-18  ...   0.0   0.0   0.0   0.0   \n",
       "1  1.462083        0.0 -3.469447e-18  ...   0.0   0.0   0.0   0.0   \n",
       "2  1.462083        0.0 -3.469447e-18  ...   0.0   0.0   0.0   0.0   \n",
       "3  0.857304        0.0 -3.469447e-18  ...   0.0   0.0   0.0   0.0   \n",
       "4  0.803548        0.0 -3.469447e-18  ...   0.0   0.0   0.0   0.0   \n",
       "\n",
       "           JGI7  JGI8  JGI9  JGI10  TopoShapeIndex  SRW05  \n",
       "0  1.734723e-18   0.0   0.0    0.0             1.0    0.0  \n",
       "1  1.734723e-18   0.0   0.0    0.0             0.5    0.0  \n",
       "2  1.734723e-18   0.0   0.0    0.0             0.5    0.0  \n",
       "3  1.734723e-18   0.0   0.0    0.0             0.5    0.0  \n",
       "4  1.734723e-18   0.0   0.0    0.0             1.0    0.0  \n",
       "\n",
       "[5 rows x 544 columns]"
      ]
     },
     "execution_count": 5,
     "metadata": {},
     "output_type": "execute_result"
    }
   ],
   "source": [
    "X = data.iloc[:, 14:-1]\n",
    "X.head()"
   ]
  },
  {
   "cell_type": "code",
   "execution_count": 6,
   "metadata": {
    "metadata": {}
   },
   "outputs": [],
   "source": [
    "# separate train an test datasets\n",
    "\n",
    "np.random.seed(750059)\n",
    "x_train, x_test, y_train, y_test = train_test_split(X, Y, stratify=Y, test_size=0.25)"
   ]
  },
  {
   "cell_type": "markdown",
   "metadata": {},
   "source": [
    "# Constant Variables"
   ]
  },
  {
   "cell_type": "code",
   "execution_count": 7,
   "metadata": {
    "metadata": {}
   },
   "outputs": [],
   "source": [
    "DESCRIPTOR_TYPE = \"mordred\""
   ]
  },
  {
   "cell_type": "markdown",
   "metadata": {},
   "source": [
    "# Scaling datsets"
   ]
  },
  {
   "cell_type": "markdown",
   "metadata": {},
   "source": [
    "The datasets are being scaled to be used, when necessary, scaled"
   ]
  },
  {
   "cell_type": "code",
   "execution_count": 8,
   "metadata": {
    "metadata": {}
   },
   "outputs": [
    {
     "data": {
      "text/html": [
       "<div>\n",
       "<style scoped>\n",
       "    .dataframe tbody tr th:only-of-type {\n",
       "        vertical-align: middle;\n",
       "    }\n",
       "\n",
       "    .dataframe tbody tr th {\n",
       "        vertical-align: top;\n",
       "    }\n",
       "\n",
       "    .dataframe thead th {\n",
       "        text-align: right;\n",
       "    }\n",
       "</style>\n",
       "<table border=\"1\" class=\"dataframe\">\n",
       "  <thead>\n",
       "    <tr style=\"text-align: right;\">\n",
       "      <th></th>\n",
       "      <th>const</th>\n",
       "      <th>ABC</th>\n",
       "      <th>nAcid</th>\n",
       "      <th>nBase</th>\n",
       "      <th>SpMax_A</th>\n",
       "      <th>SpMAD_A</th>\n",
       "      <th>VE1_A</th>\n",
       "      <th>VR1_A</th>\n",
       "      <th>VR3_A</th>\n",
       "      <th>nAromAtom</th>\n",
       "      <th>...</th>\n",
       "      <th>JGI3</th>\n",
       "      <th>JGI4</th>\n",
       "      <th>JGI5</th>\n",
       "      <th>JGI6</th>\n",
       "      <th>JGI7</th>\n",
       "      <th>JGI8</th>\n",
       "      <th>JGI9</th>\n",
       "      <th>JGI10</th>\n",
       "      <th>TopoShapeIndex</th>\n",
       "      <th>SRW05</th>\n",
       "    </tr>\n",
       "  </thead>\n",
       "  <tbody>\n",
       "    <tr>\n",
       "      <th>0</th>\n",
       "      <td>1.0</td>\n",
       "      <td>-0.747161</td>\n",
       "      <td>-0.479647</td>\n",
       "      <td>-0.518778</td>\n",
       "      <td>-0.122937</td>\n",
       "      <td>-0.170939</td>\n",
       "      <td>-0.591246</td>\n",
       "      <td>-0.019183</td>\n",
       "      <td>-0.918446</td>\n",
       "      <td>-0.603209</td>\n",
       "      <td>...</td>\n",
       "      <td>0.729432</td>\n",
       "      <td>1.248557</td>\n",
       "      <td>1.196812</td>\n",
       "      <td>0.640386</td>\n",
       "      <td>1.499423</td>\n",
       "      <td>0.180397</td>\n",
       "      <td>-1.703257</td>\n",
       "      <td>-1.406161</td>\n",
       "      <td>-0.959561</td>\n",
       "      <td>0.644125</td>\n",
       "    </tr>\n",
       "    <tr>\n",
       "      <th>1</th>\n",
       "      <td>1.0</td>\n",
       "      <td>-0.892816</td>\n",
       "      <td>0.572983</td>\n",
       "      <td>-0.518778</td>\n",
       "      <td>-1.325669</td>\n",
       "      <td>-1.206940</td>\n",
       "      <td>-1.338620</td>\n",
       "      <td>-0.019183</td>\n",
       "      <td>-0.727966</td>\n",
       "      <td>-1.455680</td>\n",
       "      <td>...</td>\n",
       "      <td>0.653917</td>\n",
       "      <td>-0.835196</td>\n",
       "      <td>0.254794</td>\n",
       "      <td>-1.335757</td>\n",
       "      <td>0.094096</td>\n",
       "      <td>1.257407</td>\n",
       "      <td>0.081764</td>\n",
       "      <td>-1.406161</td>\n",
       "      <td>-0.959561</td>\n",
       "      <td>0.644125</td>\n",
       "    </tr>\n",
       "    <tr>\n",
       "      <th>2</th>\n",
       "      <td>1.0</td>\n",
       "      <td>-0.892907</td>\n",
       "      <td>-0.479647</td>\n",
       "      <td>-0.518778</td>\n",
       "      <td>-0.249045</td>\n",
       "      <td>-0.436497</td>\n",
       "      <td>-1.050824</td>\n",
       "      <td>-0.019183</td>\n",
       "      <td>-1.118767</td>\n",
       "      <td>-0.176973</td>\n",
       "      <td>...</td>\n",
       "      <td>1.029268</td>\n",
       "      <td>-0.438332</td>\n",
       "      <td>2.118940</td>\n",
       "      <td>0.249781</td>\n",
       "      <td>2.352375</td>\n",
       "      <td>-2.058032</td>\n",
       "      <td>-1.703257</td>\n",
       "      <td>-1.406161</td>\n",
       "      <td>-1.393315</td>\n",
       "      <td>0.644125</td>\n",
       "    </tr>\n",
       "    <tr>\n",
       "      <th>3</th>\n",
       "      <td>1.0</td>\n",
       "      <td>-0.486730</td>\n",
       "      <td>-0.479647</td>\n",
       "      <td>-0.518778</td>\n",
       "      <td>0.031003</td>\n",
       "      <td>-0.293828</td>\n",
       "      <td>-0.442330</td>\n",
       "      <td>-0.019183</td>\n",
       "      <td>-0.445189</td>\n",
       "      <td>-0.603209</td>\n",
       "      <td>...</td>\n",
       "      <td>1.250737</td>\n",
       "      <td>-0.080792</td>\n",
       "      <td>0.961981</td>\n",
       "      <td>-0.367263</td>\n",
       "      <td>0.598547</td>\n",
       "      <td>0.127250</td>\n",
       "      <td>0.872193</td>\n",
       "      <td>0.071842</td>\n",
       "      <td>0.775454</td>\n",
       "      <td>-1.055445</td>\n",
       "    </tr>\n",
       "    <tr>\n",
       "      <th>4</th>\n",
       "      <td>1.0</td>\n",
       "      <td>-0.506477</td>\n",
       "      <td>-0.479647</td>\n",
       "      <td>-0.518778</td>\n",
       "      <td>0.624042</td>\n",
       "      <td>0.512896</td>\n",
       "      <td>-0.182120</td>\n",
       "      <td>-0.019183</td>\n",
       "      <td>-0.618327</td>\n",
       "      <td>-0.176973</td>\n",
       "      <td>...</td>\n",
       "      <td>0.827757</td>\n",
       "      <td>0.397068</td>\n",
       "      <td>0.297369</td>\n",
       "      <td>0.358597</td>\n",
       "      <td>1.248796</td>\n",
       "      <td>0.802388</td>\n",
       "      <td>-0.157987</td>\n",
       "      <td>-1.406161</td>\n",
       "      <td>0.775454</td>\n",
       "      <td>1.102438</td>\n",
       "    </tr>\n",
       "  </tbody>\n",
       "</table>\n",
       "<p>5 rows × 545 columns</p>\n",
       "</div>"
      ],
      "text/plain": [
       "   const       ABC     nAcid     nBase   SpMax_A   SpMAD_A     VE1_A  \\\n",
       "0    1.0 -0.747161 -0.479647 -0.518778 -0.122937 -0.170939 -0.591246   \n",
       "1    1.0 -0.892816  0.572983 -0.518778 -1.325669 -1.206940 -1.338620   \n",
       "2    1.0 -0.892907 -0.479647 -0.518778 -0.249045 -0.436497 -1.050824   \n",
       "3    1.0 -0.486730 -0.479647 -0.518778  0.031003 -0.293828 -0.442330   \n",
       "4    1.0 -0.506477 -0.479647 -0.518778  0.624042  0.512896 -0.182120   \n",
       "\n",
       "      VR1_A     VR3_A  nAromAtom  ...      JGI3      JGI4      JGI5      JGI6  \\\n",
       "0 -0.019183 -0.918446  -0.603209  ...  0.729432  1.248557  1.196812  0.640386   \n",
       "1 -0.019183 -0.727966  -1.455680  ...  0.653917 -0.835196  0.254794 -1.335757   \n",
       "2 -0.019183 -1.118767  -0.176973  ...  1.029268 -0.438332  2.118940  0.249781   \n",
       "3 -0.019183 -0.445189  -0.603209  ...  1.250737 -0.080792  0.961981 -0.367263   \n",
       "4 -0.019183 -0.618327  -0.176973  ...  0.827757  0.397068  0.297369  0.358597   \n",
       "\n",
       "       JGI7      JGI8      JGI9     JGI10  TopoShapeIndex     SRW05  \n",
       "0  1.499423  0.180397 -1.703257 -1.406161       -0.959561  0.644125  \n",
       "1  0.094096  1.257407  0.081764 -1.406161       -0.959561  0.644125  \n",
       "2  2.352375 -2.058032 -1.703257 -1.406161       -1.393315  0.644125  \n",
       "3  0.598547  0.127250  0.872193  0.071842        0.775454 -1.055445  \n",
       "4  1.248796  0.802388 -0.157987 -1.406161        0.775454  1.102438  \n",
       "\n",
       "[5 rows x 545 columns]"
      ]
     },
     "execution_count": 8,
     "metadata": {},
     "output_type": "execute_result"
    }
   ],
   "source": [
    "# TRAIN\n",
    "x_train_scaled = scale_variables(x_train)\n",
    "\n",
    "# adding constant\n",
    "x_train_scaled = sm.add_constant(x_train_scaled)\n",
    "\n",
    "x_train_scaled.head()"
   ]
  },
  {
   "cell_type": "code",
   "execution_count": 9,
   "metadata": {
    "metadata": {}
   },
   "outputs": [
    {
     "data": {
      "text/html": [
       "<div>\n",
       "<style scoped>\n",
       "    .dataframe tbody tr th:only-of-type {\n",
       "        vertical-align: middle;\n",
       "    }\n",
       "\n",
       "    .dataframe tbody tr th {\n",
       "        vertical-align: top;\n",
       "    }\n",
       "\n",
       "    .dataframe thead th {\n",
       "        text-align: right;\n",
       "    }\n",
       "</style>\n",
       "<table border=\"1\" class=\"dataframe\">\n",
       "  <thead>\n",
       "    <tr style=\"text-align: right;\">\n",
       "      <th></th>\n",
       "      <th>const</th>\n",
       "      <th>ABC</th>\n",
       "      <th>nAcid</th>\n",
       "      <th>nBase</th>\n",
       "      <th>SpMax_A</th>\n",
       "      <th>SpMAD_A</th>\n",
       "      <th>VE1_A</th>\n",
       "      <th>VR1_A</th>\n",
       "      <th>VR3_A</th>\n",
       "      <th>nAromAtom</th>\n",
       "      <th>...</th>\n",
       "      <th>JGI3</th>\n",
       "      <th>JGI4</th>\n",
       "      <th>JGI5</th>\n",
       "      <th>JGI6</th>\n",
       "      <th>JGI7</th>\n",
       "      <th>JGI8</th>\n",
       "      <th>JGI9</th>\n",
       "      <th>JGI10</th>\n",
       "      <th>TopoShapeIndex</th>\n",
       "      <th>SRW05</th>\n",
       "    </tr>\n",
       "  </thead>\n",
       "  <tbody>\n",
       "    <tr>\n",
       "      <th>0</th>\n",
       "      <td>1.0</td>\n",
       "      <td>-0.949818</td>\n",
       "      <td>-0.499348</td>\n",
       "      <td>0.047152</td>\n",
       "      <td>-1.125587</td>\n",
       "      <td>-0.622870</td>\n",
       "      <td>-1.188369</td>\n",
       "      <td>-0.032601</td>\n",
       "      <td>-1.110593</td>\n",
       "      <td>-0.570480</td>\n",
       "      <td>...</td>\n",
       "      <td>-0.371717</td>\n",
       "      <td>0.996703</td>\n",
       "      <td>0.957105</td>\n",
       "      <td>0.720049</td>\n",
       "      <td>0.996364</td>\n",
       "      <td>-1.919591</td>\n",
       "      <td>-1.614426</td>\n",
       "      <td>-1.420145</td>\n",
       "      <td>0.781951</td>\n",
       "      <td>-1.099043</td>\n",
       "    </tr>\n",
       "    <tr>\n",
       "      <th>1</th>\n",
       "      <td>1.0</td>\n",
       "      <td>-0.170490</td>\n",
       "      <td>-0.499348</td>\n",
       "      <td>-0.591418</td>\n",
       "      <td>1.064460</td>\n",
       "      <td>-0.617222</td>\n",
       "      <td>-0.141302</td>\n",
       "      <td>-0.032601</td>\n",
       "      <td>-0.011500</td>\n",
       "      <td>0.253305</td>\n",
       "      <td>...</td>\n",
       "      <td>1.201378</td>\n",
       "      <td>0.878208</td>\n",
       "      <td>1.145377</td>\n",
       "      <td>1.114929</td>\n",
       "      <td>0.025990</td>\n",
       "      <td>1.751536</td>\n",
       "      <td>1.353676</td>\n",
       "      <td>0.912194</td>\n",
       "      <td>0.781951</td>\n",
       "      <td>0.589079</td>\n",
       "    </tr>\n",
       "    <tr>\n",
       "      <th>2</th>\n",
       "      <td>1.0</td>\n",
       "      <td>0.155114</td>\n",
       "      <td>1.545500</td>\n",
       "      <td>-0.591418</td>\n",
       "      <td>0.330421</td>\n",
       "      <td>0.547297</td>\n",
       "      <td>0.542395</td>\n",
       "      <td>-0.032601</td>\n",
       "      <td>0.073690</td>\n",
       "      <td>0.939792</td>\n",
       "      <td>...</td>\n",
       "      <td>0.295183</td>\n",
       "      <td>-0.396453</td>\n",
       "      <td>-0.834452</td>\n",
       "      <td>-0.673114</td>\n",
       "      <td>-0.422390</td>\n",
       "      <td>0.066103</td>\n",
       "      <td>0.491843</td>\n",
       "      <td>0.325428</td>\n",
       "      <td>-0.282388</td>\n",
       "      <td>0.589079</td>\n",
       "    </tr>\n",
       "    <tr>\n",
       "      <th>3</th>\n",
       "      <td>1.0</td>\n",
       "      <td>-0.785319</td>\n",
       "      <td>-0.499348</td>\n",
       "      <td>0.047152</td>\n",
       "      <td>-1.069821</td>\n",
       "      <td>-1.960134</td>\n",
       "      <td>-0.820885</td>\n",
       "      <td>-0.032601</td>\n",
       "      <td>-0.927184</td>\n",
       "      <td>-0.570480</td>\n",
       "      <td>...</td>\n",
       "      <td>0.664224</td>\n",
       "      <td>1.681691</td>\n",
       "      <td>0.366668</td>\n",
       "      <td>0.235019</td>\n",
       "      <td>3.355795</td>\n",
       "      <td>-0.649452</td>\n",
       "      <td>-1.614426</td>\n",
       "      <td>-1.420145</td>\n",
       "      <td>0.781951</td>\n",
       "      <td>-1.099043</td>\n",
       "    </tr>\n",
       "    <tr>\n",
       "      <th>4</th>\n",
       "      <td>1.0</td>\n",
       "      <td>-0.394264</td>\n",
       "      <td>0.523076</td>\n",
       "      <td>0.047152</td>\n",
       "      <td>-0.371701</td>\n",
       "      <td>-0.839898</td>\n",
       "      <td>0.065391</td>\n",
       "      <td>-0.032601</td>\n",
       "      <td>-0.466857</td>\n",
       "      <td>0.253305</td>\n",
       "      <td>...</td>\n",
       "      <td>0.432500</td>\n",
       "      <td>1.186564</td>\n",
       "      <td>-0.404320</td>\n",
       "      <td>1.958826</td>\n",
       "      <td>0.220964</td>\n",
       "      <td>0.432518</td>\n",
       "      <td>0.942693</td>\n",
       "      <td>0.867020</td>\n",
       "      <td>-0.434437</td>\n",
       "      <td>-1.099043</td>\n",
       "    </tr>\n",
       "  </tbody>\n",
       "</table>\n",
       "<p>5 rows × 545 columns</p>\n",
       "</div>"
      ],
      "text/plain": [
       "   const       ABC     nAcid     nBase   SpMax_A   SpMAD_A     VE1_A  \\\n",
       "0    1.0 -0.949818 -0.499348  0.047152 -1.125587 -0.622870 -1.188369   \n",
       "1    1.0 -0.170490 -0.499348 -0.591418  1.064460 -0.617222 -0.141302   \n",
       "2    1.0  0.155114  1.545500 -0.591418  0.330421  0.547297  0.542395   \n",
       "3    1.0 -0.785319 -0.499348  0.047152 -1.069821 -1.960134 -0.820885   \n",
       "4    1.0 -0.394264  0.523076  0.047152 -0.371701 -0.839898  0.065391   \n",
       "\n",
       "      VR1_A     VR3_A  nAromAtom  ...      JGI3      JGI4      JGI5      JGI6  \\\n",
       "0 -0.032601 -1.110593  -0.570480  ... -0.371717  0.996703  0.957105  0.720049   \n",
       "1 -0.032601 -0.011500   0.253305  ...  1.201378  0.878208  1.145377  1.114929   \n",
       "2 -0.032601  0.073690   0.939792  ...  0.295183 -0.396453 -0.834452 -0.673114   \n",
       "3 -0.032601 -0.927184  -0.570480  ...  0.664224  1.681691  0.366668  0.235019   \n",
       "4 -0.032601 -0.466857   0.253305  ...  0.432500  1.186564 -0.404320  1.958826   \n",
       "\n",
       "       JGI7      JGI8      JGI9     JGI10  TopoShapeIndex     SRW05  \n",
       "0  0.996364 -1.919591 -1.614426 -1.420145        0.781951 -1.099043  \n",
       "1  0.025990  1.751536  1.353676  0.912194        0.781951  0.589079  \n",
       "2 -0.422390  0.066103  0.491843  0.325428       -0.282388  0.589079  \n",
       "3  3.355795 -0.649452 -1.614426 -1.420145        0.781951 -1.099043  \n",
       "4  0.220964  0.432518  0.942693  0.867020       -0.434437 -1.099043  \n",
       "\n",
       "[5 rows x 545 columns]"
      ]
     },
     "execution_count": 9,
     "metadata": {},
     "output_type": "execute_result"
    }
   ],
   "source": [
    "# TEST\n",
    "x_test_scaled = scale_variables(x_test)\n",
    "\n",
    "# adding constant\n",
    "x_test_scaled = sm.add_constant(x_test_scaled)\n",
    "\n",
    "x_test_scaled.head()"
   ]
  },
  {
   "cell_type": "markdown",
   "metadata": {},
   "source": [
    "# Logistic Regression"
   ]
  },
  {
   "cell_type": "markdown",
   "metadata": {},
   "source": [
    "## Model Constant Variables"
   ]
  },
  {
   "cell_type": "code",
   "execution_count": 10,
   "metadata": {
    "metadata": {}
   },
   "outputs": [],
   "source": [
    "model_name_title = \"Logistic Regression\"\n",
    "model_name_path = \"logistic_regression\""
   ]
  },
  {
   "cell_type": "markdown",
   "metadata": {},
   "source": [
    "## Cross Validation"
   ]
  },
  {
   "cell_type": "markdown",
   "metadata": {},
   "source": [
    "Here, I will use the best_params_grid function, which looks for the best hyperparameters, using CV. There are no hyperparameters in Logistic Regression, so this function will only perform CV."
   ]
  },
  {
   "cell_type": "code",
   "execution_count": 11,
   "metadata": {
    "metadata": {}
   },
   "outputs": [],
   "source": [
    "model_params_lr = {\n",
    "    'Logistic Regression': {\n",
    "        'model': LogisticRegression(),\n",
    "        'params': {}\n",
    "    }\n",
    "}"
   ]
  },
  {
   "cell_type": "code",
   "execution_count": 12,
   "metadata": {
    "metadata": {}
   },
   "outputs": [
    {
     "name": "stdout",
     "output_type": "stream",
     "text": [
      "Starting Grid Search for Logistic Regression: 19:10\n"
     ]
    },
    {
     "name": "stderr",
     "output_type": "stream",
     "text": [
      "/home/artur/Programs/mambaforge/envs/islp/lib/python3.12/site-packages/sklearn/linear_model/_logistic.py:469: ConvergenceWarning: lbfgs failed to converge (status=1):\n",
      "STOP: TOTAL NO. of ITERATIONS REACHED LIMIT.\n",
      "\n",
      "Increase the number of iterations (max_iter) or scale the data as shown in:\n",
      "    https://scikit-learn.org/stable/modules/preprocessing.html\n",
      "Please also refer to the documentation for alternative solver options:\n",
      "    https://scikit-learn.org/stable/modules/linear_model.html#logistic-regression\n",
      "  n_iter_i = _check_optimize_result(\n",
      "/home/artur/Programs/mambaforge/envs/islp/lib/python3.12/site-packages/sklearn/linear_model/_logistic.py:469: ConvergenceWarning: lbfgs failed to converge (status=1):\n",
      "STOP: TOTAL NO. of ITERATIONS REACHED LIMIT.\n",
      "\n",
      "Increase the number of iterations (max_iter) or scale the data as shown in:\n",
      "    https://scikit-learn.org/stable/modules/preprocessing.html\n",
      "Please also refer to the documentation for alternative solver options:\n",
      "    https://scikit-learn.org/stable/modules/linear_model.html#logistic-regression\n",
      "  n_iter_i = _check_optimize_result(\n",
      "/home/artur/Programs/mambaforge/envs/islp/lib/python3.12/site-packages/sklearn/linear_model/_logistic.py:469: ConvergenceWarning: lbfgs failed to converge (status=1):\n",
      "STOP: TOTAL NO. of ITERATIONS REACHED LIMIT.\n",
      "\n",
      "Increase the number of iterations (max_iter) or scale the data as shown in:\n",
      "    https://scikit-learn.org/stable/modules/preprocessing.html\n",
      "Please also refer to the documentation for alternative solver options:\n",
      "    https://scikit-learn.org/stable/modules/linear_model.html#logistic-regression\n",
      "  n_iter_i = _check_optimize_result(\n",
      "/home/artur/Programs/mambaforge/envs/islp/lib/python3.12/site-packages/sklearn/linear_model/_logistic.py:469: ConvergenceWarning: lbfgs failed to converge (status=1):\n",
      "STOP: TOTAL NO. of ITERATIONS REACHED LIMIT.\n",
      "\n",
      "Increase the number of iterations (max_iter) or scale the data as shown in:\n",
      "    https://scikit-learn.org/stable/modules/preprocessing.html\n",
      "Please also refer to the documentation for alternative solver options:\n",
      "    https://scikit-learn.org/stable/modules/linear_model.html#logistic-regression\n",
      "  n_iter_i = _check_optimize_result(\n",
      "/home/artur/Programs/mambaforge/envs/islp/lib/python3.12/site-packages/sklearn/linear_model/_logistic.py:469: ConvergenceWarning: lbfgs failed to converge (status=1):\n",
      "STOP: TOTAL NO. of ITERATIONS REACHED LIMIT.\n",
      "\n",
      "Increase the number of iterations (max_iter) or scale the data as shown in:\n",
      "    https://scikit-learn.org/stable/modules/preprocessing.html\n",
      "Please also refer to the documentation for alternative solver options:\n",
      "    https://scikit-learn.org/stable/modules/linear_model.html#logistic-regression\n",
      "  n_iter_i = _check_optimize_result(\n",
      "/home/artur/Programs/mambaforge/envs/islp/lib/python3.12/site-packages/sklearn/linear_model/_logistic.py:469: ConvergenceWarning: lbfgs failed to converge (status=1):\n",
      "STOP: TOTAL NO. of ITERATIONS REACHED LIMIT.\n",
      "\n",
      "Increase the number of iterations (max_iter) or scale the data as shown in:\n",
      "    https://scikit-learn.org/stable/modules/preprocessing.html\n",
      "Please also refer to the documentation for alternative solver options:\n",
      "    https://scikit-learn.org/stable/modules/linear_model.html#logistic-regression\n",
      "  n_iter_i = _check_optimize_result(\n",
      "/home/artur/Programs/mambaforge/envs/islp/lib/python3.12/site-packages/sklearn/linear_model/_logistic.py:469: ConvergenceWarning: lbfgs failed to converge (status=1):\n",
      "STOP: TOTAL NO. of ITERATIONS REACHED LIMIT.\n",
      "\n",
      "Increase the number of iterations (max_iter) or scale the data as shown in:\n",
      "    https://scikit-learn.org/stable/modules/preprocessing.html\n",
      "Please also refer to the documentation for alternative solver options:\n",
      "    https://scikit-learn.org/stable/modules/linear_model.html#logistic-regression\n",
      "  n_iter_i = _check_optimize_result(\n",
      "/home/artur/Programs/mambaforge/envs/islp/lib/python3.12/site-packages/sklearn/linear_model/_logistic.py:469: ConvergenceWarning: lbfgs failed to converge (status=1):\n",
      "STOP: TOTAL NO. of ITERATIONS REACHED LIMIT.\n",
      "\n",
      "Increase the number of iterations (max_iter) or scale the data as shown in:\n",
      "    https://scikit-learn.org/stable/modules/preprocessing.html\n",
      "Please also refer to the documentation for alternative solver options:\n",
      "    https://scikit-learn.org/stable/modules/linear_model.html#logistic-regression\n",
      "  n_iter_i = _check_optimize_result(\n",
      "/home/artur/Programs/mambaforge/envs/islp/lib/python3.12/site-packages/sklearn/linear_model/_logistic.py:469: ConvergenceWarning: lbfgs failed to converge (status=1):\n",
      "STOP: TOTAL NO. of ITERATIONS REACHED LIMIT.\n",
      "\n",
      "Increase the number of iterations (max_iter) or scale the data as shown in:\n",
      "    https://scikit-learn.org/stable/modules/preprocessing.html\n",
      "Please also refer to the documentation for alternative solver options:\n",
      "    https://scikit-learn.org/stable/modules/linear_model.html#logistic-regression\n",
      "  n_iter_i = _check_optimize_result(\n",
      "/home/artur/Programs/mambaforge/envs/islp/lib/python3.12/site-packages/sklearn/linear_model/_logistic.py:469: ConvergenceWarning: lbfgs failed to converge (status=1):\n",
      "STOP: TOTAL NO. of ITERATIONS REACHED LIMIT.\n",
      "\n",
      "Increase the number of iterations (max_iter) or scale the data as shown in:\n",
      "    https://scikit-learn.org/stable/modules/preprocessing.html\n",
      "Please also refer to the documentation for alternative solver options:\n",
      "    https://scikit-learn.org/stable/modules/linear_model.html#logistic-regression\n",
      "  n_iter_i = _check_optimize_result(\n",
      "/home/artur/Programs/mambaforge/envs/islp/lib/python3.12/site-packages/sklearn/linear_model/_logistic.py:469: ConvergenceWarning: lbfgs failed to converge (status=1):\n",
      "STOP: TOTAL NO. of ITERATIONS REACHED LIMIT.\n",
      "\n",
      "Increase the number of iterations (max_iter) or scale the data as shown in:\n",
      "    https://scikit-learn.org/stable/modules/preprocessing.html\n",
      "Please also refer to the documentation for alternative solver options:\n",
      "    https://scikit-learn.org/stable/modules/linear_model.html#logistic-regression\n",
      "  n_iter_i = _check_optimize_result(\n",
      "/home/artur/Programs/mambaforge/envs/islp/lib/python3.12/site-packages/sklearn/linear_model/_logistic.py:469: ConvergenceWarning: lbfgs failed to converge (status=1):\n",
      "STOP: TOTAL NO. of ITERATIONS REACHED LIMIT.\n",
      "\n",
      "Increase the number of iterations (max_iter) or scale the data as shown in:\n",
      "    https://scikit-learn.org/stable/modules/preprocessing.html\n",
      "Please also refer to the documentation for alternative solver options:\n",
      "    https://scikit-learn.org/stable/modules/linear_model.html#logistic-regression\n",
      "  n_iter_i = _check_optimize_result(\n",
      "/home/artur/Programs/mambaforge/envs/islp/lib/python3.12/site-packages/sklearn/linear_model/_logistic.py:469: ConvergenceWarning: lbfgs failed to converge (status=1):\n",
      "STOP: TOTAL NO. of ITERATIONS REACHED LIMIT.\n",
      "\n",
      "Increase the number of iterations (max_iter) or scale the data as shown in:\n",
      "    https://scikit-learn.org/stable/modules/preprocessing.html\n",
      "Please also refer to the documentation for alternative solver options:\n",
      "    https://scikit-learn.org/stable/modules/linear_model.html#logistic-regression\n",
      "  n_iter_i = _check_optimize_result(\n",
      "/home/artur/Programs/mambaforge/envs/islp/lib/python3.12/site-packages/sklearn/linear_model/_logistic.py:469: ConvergenceWarning: lbfgs failed to converge (status=1):\n",
      "STOP: TOTAL NO. of ITERATIONS REACHED LIMIT.\n",
      "\n",
      "Increase the number of iterations (max_iter) or scale the data as shown in:\n",
      "    https://scikit-learn.org/stable/modules/preprocessing.html\n",
      "Please also refer to the documentation for alternative solver options:\n",
      "    https://scikit-learn.org/stable/modules/linear_model.html#logistic-regression\n",
      "  n_iter_i = _check_optimize_result(\n",
      "/home/artur/Programs/mambaforge/envs/islp/lib/python3.12/site-packages/sklearn/linear_model/_logistic.py:469: ConvergenceWarning: lbfgs failed to converge (status=1):\n",
      "STOP: TOTAL NO. of ITERATIONS REACHED LIMIT.\n",
      "\n",
      "Increase the number of iterations (max_iter) or scale the data as shown in:\n",
      "    https://scikit-learn.org/stable/modules/preprocessing.html\n",
      "Please also refer to the documentation for alternative solver options:\n",
      "    https://scikit-learn.org/stable/modules/linear_model.html#logistic-regression\n",
      "  n_iter_i = _check_optimize_result(\n",
      "/home/artur/Programs/mambaforge/envs/islp/lib/python3.12/site-packages/sklearn/linear_model/_logistic.py:469: ConvergenceWarning: lbfgs failed to converge (status=1):\n",
      "STOP: TOTAL NO. of ITERATIONS REACHED LIMIT.\n",
      "\n",
      "Increase the number of iterations (max_iter) or scale the data as shown in:\n",
      "    https://scikit-learn.org/stable/modules/preprocessing.html\n",
      "Please also refer to the documentation for alternative solver options:\n",
      "    https://scikit-learn.org/stable/modules/linear_model.html#logistic-regression\n",
      "  n_iter_i = _check_optimize_result(\n",
      "/home/artur/Programs/mambaforge/envs/islp/lib/python3.12/site-packages/sklearn/linear_model/_logistic.py:469: ConvergenceWarning: lbfgs failed to converge (status=1):\n",
      "STOP: TOTAL NO. of ITERATIONS REACHED LIMIT.\n",
      "\n",
      "Increase the number of iterations (max_iter) or scale the data as shown in:\n",
      "    https://scikit-learn.org/stable/modules/preprocessing.html\n",
      "Please also refer to the documentation for alternative solver options:\n",
      "    https://scikit-learn.org/stable/modules/linear_model.html#logistic-regression\n",
      "  n_iter_i = _check_optimize_result(\n",
      "/home/artur/Programs/mambaforge/envs/islp/lib/python3.12/site-packages/sklearn/linear_model/_logistic.py:469: ConvergenceWarning: lbfgs failed to converge (status=1):\n",
      "STOP: TOTAL NO. of ITERATIONS REACHED LIMIT.\n",
      "\n",
      "Increase the number of iterations (max_iter) or scale the data as shown in:\n",
      "    https://scikit-learn.org/stable/modules/preprocessing.html\n",
      "Please also refer to the documentation for alternative solver options:\n",
      "    https://scikit-learn.org/stable/modules/linear_model.html#logistic-regression\n",
      "  n_iter_i = _check_optimize_result(\n",
      "/home/artur/Programs/mambaforge/envs/islp/lib/python3.12/site-packages/sklearn/linear_model/_logistic.py:469: ConvergenceWarning: lbfgs failed to converge (status=1):\n",
      "STOP: TOTAL NO. of ITERATIONS REACHED LIMIT.\n",
      "\n",
      "Increase the number of iterations (max_iter) or scale the data as shown in:\n",
      "    https://scikit-learn.org/stable/modules/preprocessing.html\n",
      "Please also refer to the documentation for alternative solver options:\n",
      "    https://scikit-learn.org/stable/modules/linear_model.html#logistic-regression\n",
      "  n_iter_i = _check_optimize_result(\n",
      "/home/artur/Programs/mambaforge/envs/islp/lib/python3.12/site-packages/sklearn/linear_model/_logistic.py:469: ConvergenceWarning: lbfgs failed to converge (status=1):\n",
      "STOP: TOTAL NO. of ITERATIONS REACHED LIMIT.\n",
      "\n",
      "Increase the number of iterations (max_iter) or scale the data as shown in:\n",
      "    https://scikit-learn.org/stable/modules/preprocessing.html\n",
      "Please also refer to the documentation for alternative solver options:\n",
      "    https://scikit-learn.org/stable/modules/linear_model.html#logistic-regression\n",
      "  n_iter_i = _check_optimize_result(\n",
      "/home/artur/Programs/mambaforge/envs/islp/lib/python3.12/site-packages/sklearn/linear_model/_logistic.py:469: ConvergenceWarning: lbfgs failed to converge (status=1):\n",
      "STOP: TOTAL NO. of ITERATIONS REACHED LIMIT.\n",
      "\n",
      "Increase the number of iterations (max_iter) or scale the data as shown in:\n",
      "    https://scikit-learn.org/stable/modules/preprocessing.html\n",
      "Please also refer to the documentation for alternative solver options:\n",
      "    https://scikit-learn.org/stable/modules/linear_model.html#logistic-regression\n",
      "  n_iter_i = _check_optimize_result(\n",
      "/home/artur/Programs/mambaforge/envs/islp/lib/python3.12/site-packages/sklearn/linear_model/_logistic.py:469: ConvergenceWarning: lbfgs failed to converge (status=1):\n",
      "STOP: TOTAL NO. of ITERATIONS REACHED LIMIT.\n",
      "\n",
      "Increase the number of iterations (max_iter) or scale the data as shown in:\n",
      "    https://scikit-learn.org/stable/modules/preprocessing.html\n",
      "Please also refer to the documentation for alternative solver options:\n",
      "    https://scikit-learn.org/stable/modules/linear_model.html#logistic-regression\n",
      "  n_iter_i = _check_optimize_result(\n",
      "/home/artur/Programs/mambaforge/envs/islp/lib/python3.12/site-packages/sklearn/linear_model/_logistic.py:469: ConvergenceWarning: lbfgs failed to converge (status=1):\n",
      "STOP: TOTAL NO. of ITERATIONS REACHED LIMIT.\n",
      "\n",
      "Increase the number of iterations (max_iter) or scale the data as shown in:\n",
      "    https://scikit-learn.org/stable/modules/preprocessing.html\n",
      "Please also refer to the documentation for alternative solver options:\n",
      "    https://scikit-learn.org/stable/modules/linear_model.html#logistic-regression\n",
      "  n_iter_i = _check_optimize_result(\n",
      "/home/artur/Programs/mambaforge/envs/islp/lib/python3.12/site-packages/sklearn/linear_model/_logistic.py:469: ConvergenceWarning: lbfgs failed to converge (status=1):\n",
      "STOP: TOTAL NO. of ITERATIONS REACHED LIMIT.\n",
      "\n",
      "Increase the number of iterations (max_iter) or scale the data as shown in:\n",
      "    https://scikit-learn.org/stable/modules/preprocessing.html\n",
      "Please also refer to the documentation for alternative solver options:\n",
      "    https://scikit-learn.org/stable/modules/linear_model.html#logistic-regression\n",
      "  n_iter_i = _check_optimize_result(\n",
      "/home/artur/Programs/mambaforge/envs/islp/lib/python3.12/site-packages/sklearn/linear_model/_logistic.py:469: ConvergenceWarning: lbfgs failed to converge (status=1):\n",
      "STOP: TOTAL NO. of ITERATIONS REACHED LIMIT.\n",
      "\n",
      "Increase the number of iterations (max_iter) or scale the data as shown in:\n",
      "    https://scikit-learn.org/stable/modules/preprocessing.html\n",
      "Please also refer to the documentation for alternative solver options:\n",
      "    https://scikit-learn.org/stable/modules/linear_model.html#logistic-regression\n",
      "  n_iter_i = _check_optimize_result(\n"
     ]
    },
    {
     "name": "stdout",
     "output_type": "stream",
     "text": [
      "Finished Grid Search for Logistic Regression: 19:10\n",
      "Tempo de execução:  0.1 minutos\n"
     ]
    },
    {
     "name": "stderr",
     "output_type": "stream",
     "text": [
      "/home/artur/Programs/mambaforge/envs/islp/lib/python3.12/site-packages/sklearn/linear_model/_logistic.py:469: ConvergenceWarning: lbfgs failed to converge (status=1):\n",
      "STOP: TOTAL NO. of ITERATIONS REACHED LIMIT.\n",
      "\n",
      "Increase the number of iterations (max_iter) or scale the data as shown in:\n",
      "    https://scikit-learn.org/stable/modules/preprocessing.html\n",
      "Please also refer to the documentation for alternative solver options:\n",
      "    https://scikit-learn.org/stable/modules/linear_model.html#logistic-regression\n",
      "  n_iter_i = _check_optimize_result(\n"
     ]
    }
   ],
   "source": [
    "gs_result_lr, gs_result_lr_full = best_params_grid(x_train, y_train, model_params_lr)"
   ]
  },
  {
   "cell_type": "code",
   "execution_count": 13,
   "metadata": {
    "metadata": {}
   },
   "outputs": [
    {
     "data": {
      "text/html": [
       "<div>\n",
       "<style scoped>\n",
       "    .dataframe tbody tr th:only-of-type {\n",
       "        vertical-align: middle;\n",
       "    }\n",
       "\n",
       "    .dataframe tbody tr th {\n",
       "        vertical-align: top;\n",
       "    }\n",
       "\n",
       "    .dataframe thead th {\n",
       "        text-align: right;\n",
       "    }\n",
       "</style>\n",
       "<table border=\"1\" class=\"dataframe\">\n",
       "  <thead>\n",
       "    <tr style=\"text-align: right;\">\n",
       "      <th></th>\n",
       "      <th>model</th>\n",
       "      <th>best_score</th>\n",
       "      <th>best_params</th>\n",
       "    </tr>\n",
       "  </thead>\n",
       "  <tbody>\n",
       "    <tr>\n",
       "      <th>0</th>\n",
       "      <td>Logistic Regression</td>\n",
       "      <td>0.677544</td>\n",
       "      <td>{}</td>\n",
       "    </tr>\n",
       "  </tbody>\n",
       "</table>\n",
       "</div>"
      ],
      "text/plain": [
       "                 model  best_score best_params\n",
       "0  Logistic Regression    0.677544          {}"
      ]
     },
     "execution_count": 13,
     "metadata": {},
     "output_type": "execute_result"
    }
   ],
   "source": [
    "gs_result_lr"
   ]
  },
  {
   "cell_type": "markdown",
   "metadata": {},
   "source": [
    "## Calculating Logistic Regression in R"
   ]
  },
  {
   "cell_type": "markdown",
   "metadata": {},
   "source": [
    "## Saving Datasets to use in R"
   ]
  },
  {
   "cell_type": "markdown",
   "metadata": {},
   "source": [
    "The logistic regression calculation was presenting problems in Python, so it will be performed in R, in a separate notebook, saved in the folder `logistic_regression`. Here, I will save the training and test datasets, to use them in R."
   ]
  },
  {
   "cell_type": "code",
   "execution_count": 14,
   "metadata": {
    "metadata": {}
   },
   "outputs": [],
   "source": [
    "# reseting indices\n",
    "x_train_scaled = x_train_scaled.reset_index()\n",
    "x_test_scaled = x_test_scaled.reset_index()\n",
    "\n",
    "y_train = y_train.reset_index()\n",
    "y_test = y_test.reset_index()"
   ]
  },
  {
   "cell_type": "code",
   "execution_count": 15,
   "metadata": {
    "metadata": {}
   },
   "outputs": [],
   "source": [
    "# joining x and y training and test datasets\n",
    "train = pd.concat([x_train_scaled, y_train], axis=1).drop([\"index\"], axis=1)\n",
    "test = pd.concat([x_test_scaled, y_test], axis=1).drop([\"index\"], axis=1)"
   ]
  },
  {
   "cell_type": "code",
   "execution_count": 16,
   "metadata": {
    "metadata": {}
   },
   "outputs": [],
   "source": [
    "# saving datasets\n",
    "train.to_csv(f\"logistic_regression/data/train_{DESCRIPTOR_TYPE}.csv\")\n",
    "test.to_csv(f\"logistic_regression/data/test_{DESCRIPTOR_TYPE}.csv\")"
   ]
  },
  {
   "cell_type": "markdown",
   "metadata": {},
   "source": [
    "## Importing results from R"
   ]
  },
  {
   "cell_type": "code",
   "execution_count": 17,
   "metadata": {
    "metadata": {}
   },
   "outputs": [
    {
     "data": {
      "text/html": [
       "<div>\n",
       "<style scoped>\n",
       "    .dataframe tbody tr th:only-of-type {\n",
       "        vertical-align: middle;\n",
       "    }\n",
       "\n",
       "    .dataframe tbody tr th {\n",
       "        vertical-align: top;\n",
       "    }\n",
       "\n",
       "    .dataframe thead th {\n",
       "        text-align: right;\n",
       "    }\n",
       "</style>\n",
       "<table border=\"1\" class=\"dataframe\">\n",
       "  <thead>\n",
       "    <tr style=\"text-align: right;\">\n",
       "      <th></th>\n",
       "      <th>Unnamed: 0</th>\n",
       "      <th>Estimate</th>\n",
       "      <th>Std. Error</th>\n",
       "      <th>z value</th>\n",
       "      <th>Pr(&gt;|z|)</th>\n",
       "    </tr>\n",
       "  </thead>\n",
       "  <tbody>\n",
       "    <tr>\n",
       "      <th>0</th>\n",
       "      <td>(Intercept)</td>\n",
       "      <td>0.444055</td>\n",
       "      <td>3.326285</td>\n",
       "      <td>0.133499</td>\n",
       "      <td>8.937990e-01</td>\n",
       "    </tr>\n",
       "    <tr>\n",
       "      <th>1</th>\n",
       "      <td>X</td>\n",
       "      <td>-0.000102</td>\n",
       "      <td>0.000086</td>\n",
       "      <td>-1.183141</td>\n",
       "      <td>2.367532e-01</td>\n",
       "    </tr>\n",
       "    <tr>\n",
       "      <th>2</th>\n",
       "      <td>ABC</td>\n",
       "      <td>-52.421085</td>\n",
       "      <td>17.327306</td>\n",
       "      <td>-3.025345</td>\n",
       "      <td>2.483494e-03</td>\n",
       "    </tr>\n",
       "    <tr>\n",
       "      <th>3</th>\n",
       "      <td>nAcid</td>\n",
       "      <td>-0.165200</td>\n",
       "      <td>0.307872</td>\n",
       "      <td>-0.536587</td>\n",
       "      <td>5.915530e-01</td>\n",
       "    </tr>\n",
       "    <tr>\n",
       "      <th>4</th>\n",
       "      <td>nBase</td>\n",
       "      <td>1.422537</td>\n",
       "      <td>0.286479</td>\n",
       "      <td>4.965595</td>\n",
       "      <td>6.849066e-07</td>\n",
       "    </tr>\n",
       "  </tbody>\n",
       "</table>\n",
       "</div>"
      ],
      "text/plain": [
       "    Unnamed: 0   Estimate  Std. Error   z value      Pr(>|z|)\n",
       "0  (Intercept)   0.444055    3.326285  0.133499  8.937990e-01\n",
       "1            X  -0.000102    0.000086 -1.183141  2.367532e-01\n",
       "2          ABC -52.421085   17.327306 -3.025345  2.483494e-03\n",
       "3        nAcid  -0.165200    0.307872 -0.536587  5.915530e-01\n",
       "4        nBase   1.422537    0.286479  4.965595  6.849066e-07"
      ]
     },
     "execution_count": 17,
     "metadata": {},
     "output_type": "execute_result"
    }
   ],
   "source": [
    "results_log_reg_df = pd.read_csv(f\"logistic_regression/data/lr_coefficients_{DESCRIPTOR_TYPE}.csv\")\n",
    "results_log_reg_df.head()"
   ]
  },
  {
   "cell_type": "code",
   "execution_count": 18,
   "metadata": {
    "metadata": {}
   },
   "outputs": [
    {
     "data": {
      "text/plain": [
       "0    0.505084\n",
       "1    0.998696\n",
       "2    0.082050\n",
       "3    0.000878\n",
       "4    1.000000\n",
       "Name: x, dtype: float64"
      ]
     },
     "execution_count": 18,
     "metadata": {},
     "output_type": "execute_result"
    }
   ],
   "source": [
    "# y predict in test set\n",
    "y_predict_lr_prob = pd.read_csv(f\"logistic_regression/data/y_predict_proba_test_{DESCRIPTOR_TYPE}.csv\")\n",
    "y_predict_lr_prob = y_predict_lr_prob[\"x\"]\n",
    "y_predict_lr_prob.head()"
   ]
  },
  {
   "cell_type": "code",
   "execution_count": 19,
   "metadata": {
    "metadata": {}
   },
   "outputs": [],
   "source": [
    "# here I use the make_label function to transform the probabilities into labels, using 0.5 as a cutoff\n",
    "\n",
    "make_label_v = np.vectorize(make_label)\n",
    "y_predict_labels_lr = make_label_v(y_predict_lr_prob)"
   ]
  },
  {
   "cell_type": "code",
   "execution_count": 20,
   "metadata": {
    "metadata": {}
   },
   "outputs": [
    {
     "data": {
      "text/plain": [
       "0    0.205927\n",
       "1    0.997735\n",
       "2    0.153622\n",
       "3    0.591923\n",
       "4    0.440130\n",
       "Name: x, dtype: float64"
      ]
     },
     "execution_count": 20,
     "metadata": {},
     "output_type": "execute_result"
    }
   ],
   "source": [
    "# y predict in training set\n",
    "y_predict_lr_prob_train = pd.read_csv(f\"logistic_regression/data/y_predict_proba_train_{DESCRIPTOR_TYPE}.csv\")\n",
    "y_predict_lr_prob_train = y_predict_lr_prob_train[\"x\"]\n",
    "y_predict_lr_prob_train.head()"
   ]
  },
  {
   "cell_type": "markdown",
   "metadata": {},
   "source": [
    "## Get Training Error and AUC"
   ]
  },
  {
   "cell_type": "code",
   "execution_count": 21,
   "metadata": {
    "metadata": {}
   },
   "outputs": [
    {
     "name": "stdout",
     "output_type": "stream",
     "text": [
      "Training Misclassification Rate: 0.1358\n",
      "Training AUC: 0.8642\n"
     ]
    }
   ],
   "source": [
    "mis_rate_lr_train, auc_lr_train = get_error_and_auc(\n",
    "    model=y_predict_lr_prob_train, \n",
    "    x=x_train_scaled,\n",
    "    y_true=y_train[\"fda_approved\"],\n",
    "    transform_prob_into_label=True,\n",
    "    log_reg=True\n",
    ")"
   ]
  },
  {
   "cell_type": "markdown",
   "metadata": {},
   "source": [
    "## Test Error"
   ]
  },
  {
   "cell_type": "code",
   "execution_count": 22,
   "metadata": {
    "metadata": {}
   },
   "outputs": [
    {
     "name": "stdout",
     "output_type": "stream",
     "text": [
      "Misclassification rate: 0.4473\n"
     ]
    }
   ],
   "source": [
    "mis_rate_lr, disp = calculate_confusion_matrix(\n",
    "    y_test=y_test[\"fda_approved\"], \n",
    "    y_pred=y_predict_labels_lr,\n",
    ")"
   ]
  },
  {
   "cell_type": "code",
   "execution_count": 23,
   "metadata": {
    "metadata": {}
   },
   "outputs": [
    {
     "data": {
      "image/png": "[encoded data removed]",
      "text/plain": [
       "<Figure size 640x480 with 2 Axes>"
      ]
     },
     "metadata": {},
     "output_type": "display_data"
    }
   ],
   "source": [
    "disp.plot()\n",
    "plt.title(f\"Confusion Matrix: {model_name_title}\\nOral vc Non Oral, {DESCRIPTOR_TYPE}\")\n",
    "disp.figure_.savefig(f\"imgs/cm_{DESCRIPTOR_TYPE}_{model_name_path}\", dpi=300)\n",
    "plt.show()"
   ]
  },
  {
   "cell_type": "markdown",
   "metadata": {},
   "source": [
    "## ROC/AUC"
   ]
  },
  {
   "cell_type": "code",
   "execution_count": 24,
   "metadata": {
    "metadata": {}
   },
   "outputs": [
    {
     "data": {
      "image/png": "[encoded data removed]",
      "text/plain": [
       "<Figure size 1000x800 with 1 Axes>"
      ]
     },
     "metadata": {},
     "output_type": "display_data"
    }
   ],
   "source": [
    "auc_lr = plot_roc_auc_curve(\n",
    "    y_test=y_test[\"fda_approved\"],\n",
    "    y_pred=y_predict_lr_prob,\n",
    "    model_name=model_name_title,\n",
    "    title=f\"AUC - ROC: {model_name_title}\\nOral vc Non Oral, {DESCRIPTOR_TYPE}\",\n",
    "    save_path=f\"imgs/roc_auc_{DESCRIPTOR_TYPE}_{model_name_path}\"\n",
    ")"
   ]
  },
  {
   "cell_type": "markdown",
   "metadata": {},
   "source": [
    "## Feature Importance"
   ]
  },
  {
   "cell_type": "code",
   "execution_count": 25,
   "metadata": {
    "metadata": {}
   },
   "outputs": [
    {
     "data": {
      "text/html": [
       "<div>\n",
       "<style scoped>\n",
       "    .dataframe tbody tr th:only-of-type {\n",
       "        vertical-align: middle;\n",
       "    }\n",
       "\n",
       "    .dataframe tbody tr th {\n",
       "        vertical-align: top;\n",
       "    }\n",
       "\n",
       "    .dataframe thead th {\n",
       "        text-align: right;\n",
       "    }\n",
       "</style>\n",
       "<table border=\"1\" class=\"dataframe\">\n",
       "  <thead>\n",
       "    <tr style=\"text-align: right;\">\n",
       "      <th></th>\n",
       "      <th>Estimate</th>\n",
       "      <th>Std. Error</th>\n",
       "      <th>z value</th>\n",
       "      <th>Pr(&gt;|z|)</th>\n",
       "    </tr>\n",
       "    <tr>\n",
       "      <th>descriptor_name</th>\n",
       "      <th></th>\n",
       "      <th></th>\n",
       "      <th></th>\n",
       "      <th></th>\n",
       "    </tr>\n",
       "  </thead>\n",
       "  <tbody>\n",
       "    <tr>\n",
       "      <th>(Intercept)</th>\n",
       "      <td>0.444055</td>\n",
       "      <td>3.326285</td>\n",
       "      <td>0.133499</td>\n",
       "      <td>8.937990e-01</td>\n",
       "    </tr>\n",
       "    <tr>\n",
       "      <th>X</th>\n",
       "      <td>-0.000102</td>\n",
       "      <td>0.000086</td>\n",
       "      <td>-1.183141</td>\n",
       "      <td>2.367532e-01</td>\n",
       "    </tr>\n",
       "    <tr>\n",
       "      <th>ABC</th>\n",
       "      <td>-52.421085</td>\n",
       "      <td>17.327306</td>\n",
       "      <td>-3.025345</td>\n",
       "      <td>2.483494e-03</td>\n",
       "    </tr>\n",
       "    <tr>\n",
       "      <th>nAcid</th>\n",
       "      <td>-0.165200</td>\n",
       "      <td>0.307872</td>\n",
       "      <td>-0.536587</td>\n",
       "      <td>5.915530e-01</td>\n",
       "    </tr>\n",
       "    <tr>\n",
       "      <th>nBase</th>\n",
       "      <td>1.422537</td>\n",
       "      <td>0.286479</td>\n",
       "      <td>4.965595</td>\n",
       "      <td>6.849066e-07</td>\n",
       "    </tr>\n",
       "  </tbody>\n",
       "</table>\n",
       "</div>"
      ],
      "text/plain": [
       "                  Estimate  Std. Error   z value      Pr(>|z|)\n",
       "descriptor_name                                               \n",
       "(Intercept)       0.444055    3.326285  0.133499  8.937990e-01\n",
       "X                -0.000102    0.000086 -1.183141  2.367532e-01\n",
       "ABC             -52.421085   17.327306 -3.025345  2.483494e-03\n",
       "nAcid            -0.165200    0.307872 -0.536587  5.915530e-01\n",
       "nBase             1.422537    0.286479  4.965595  6.849066e-07"
      ]
     },
     "execution_count": 25,
     "metadata": {},
     "output_type": "execute_result"
    }
   ],
   "source": [
    "# converting results summary to pandas dataframe\n",
    "results_log_reg_df = results_log_reg_df.rename(columns={\"Unnamed: 0\": \"descriptor_name\"})\n",
    "results_log_reg_df = results_log_reg_df.set_index(results_log_reg_df[\"descriptor_name\"]).drop(\"descriptor_name\", axis=1)\n",
    "results_log_reg_df.shape\n",
    "results_log_reg_df.head()"
   ]
  },
  {
   "cell_type": "code",
   "execution_count": 26,
   "metadata": {
    "metadata": {}
   },
   "outputs": [
    {
     "name": "stdout",
     "output_type": "stream",
     "text": [
      "(105, 4)\n"
     ]
    },
    {
     "data": {
      "text/html": [
       "<div>\n",
       "<style scoped>\n",
       "    .dataframe tbody tr th:only-of-type {\n",
       "        vertical-align: middle;\n",
       "    }\n",
       "\n",
       "    .dataframe tbody tr th {\n",
       "        vertical-align: top;\n",
       "    }\n",
       "\n",
       "    .dataframe thead th {\n",
       "        text-align: right;\n",
       "    }\n",
       "</style>\n",
       "<table border=\"1\" class=\"dataframe\">\n",
       "  <thead>\n",
       "    <tr style=\"text-align: right;\">\n",
       "      <th></th>\n",
       "      <th>Estimate</th>\n",
       "      <th>Std. Error</th>\n",
       "      <th>z value</th>\n",
       "      <th>Pr(&gt;|z|)</th>\n",
       "    </tr>\n",
       "    <tr>\n",
       "      <th>descriptor_name</th>\n",
       "      <th></th>\n",
       "      <th></th>\n",
       "      <th></th>\n",
       "      <th></th>\n",
       "    </tr>\n",
       "  </thead>\n",
       "  <tbody>\n",
       "    <tr>\n",
       "      <th>ABC</th>\n",
       "      <td>-52.421085</td>\n",
       "      <td>17.327306</td>\n",
       "      <td>-3.025345</td>\n",
       "      <td>2.483494e-03</td>\n",
       "    </tr>\n",
       "    <tr>\n",
       "      <th>ATS0Z</th>\n",
       "      <td>34.675822</td>\n",
       "      <td>12.092006</td>\n",
       "      <td>2.867665</td>\n",
       "      <td>4.135131e-03</td>\n",
       "    </tr>\n",
       "    <tr>\n",
       "      <th>AATS1p</th>\n",
       "      <td>23.377359</td>\n",
       "      <td>5.103505</td>\n",
       "      <td>4.580648</td>\n",
       "      <td>4.635372e-06</td>\n",
       "    </tr>\n",
       "    <tr>\n",
       "      <th>nAromAtom</th>\n",
       "      <td>-19.637526</td>\n",
       "      <td>9.542159</td>\n",
       "      <td>-2.057975</td>\n",
       "      <td>3.959253e-02</td>\n",
       "    </tr>\n",
       "    <tr>\n",
       "      <th>AATS1i</th>\n",
       "      <td>19.469069</td>\n",
       "      <td>3.912497</td>\n",
       "      <td>4.976123</td>\n",
       "      <td>6.487039e-07</td>\n",
       "    </tr>\n",
       "    <tr>\n",
       "      <th>...</th>\n",
       "      <td>...</td>\n",
       "      <td>...</td>\n",
       "      <td>...</td>\n",
       "      <td>...</td>\n",
       "    </tr>\n",
       "    <tr>\n",
       "      <th>AATSC7i</th>\n",
       "      <td>-0.713611</td>\n",
       "      <td>0.347392</td>\n",
       "      <td>-2.054194</td>\n",
       "      <td>3.995690e-02</td>\n",
       "    </tr>\n",
       "    <tr>\n",
       "      <th>NdS</th>\n",
       "      <td>-0.633895</td>\n",
       "      <td>0.318736</td>\n",
       "      <td>-1.988778</td>\n",
       "      <td>4.672573e-02</td>\n",
       "    </tr>\n",
       "    <tr>\n",
       "      <th>MDEC.13</th>\n",
       "      <td>-0.602620</td>\n",
       "      <td>0.297800</td>\n",
       "      <td>-2.023570</td>\n",
       "      <td>4.301439e-02</td>\n",
       "    </tr>\n",
       "    <tr>\n",
       "      <th>MAXssCH2</th>\n",
       "      <td>0.464441</td>\n",
       "      <td>0.215443</td>\n",
       "      <td>2.155746</td>\n",
       "      <td>3.110352e-02</td>\n",
       "    </tr>\n",
       "    <tr>\n",
       "      <th>MINdssC</th>\n",
       "      <td>0.412992</td>\n",
       "      <td>0.205762</td>\n",
       "      <td>2.007137</td>\n",
       "      <td>4.473512e-02</td>\n",
       "    </tr>\n",
       "  </tbody>\n",
       "</table>\n",
       "<p>105 rows × 4 columns</p>\n",
       "</div>"
      ],
      "text/plain": [
       "                  Estimate  Std. Error   z value      Pr(>|z|)\n",
       "descriptor_name                                               \n",
       "ABC             -52.421085   17.327306 -3.025345  2.483494e-03\n",
       "ATS0Z            34.675822   12.092006  2.867665  4.135131e-03\n",
       "AATS1p           23.377359    5.103505  4.580648  4.635372e-06\n",
       "nAromAtom       -19.637526    9.542159 -2.057975  3.959253e-02\n",
       "AATS1i           19.469069    3.912497  4.976123  6.487039e-07\n",
       "...                    ...         ...       ...           ...\n",
       "AATSC7i          -0.713611    0.347392 -2.054194  3.995690e-02\n",
       "NdS              -0.633895    0.318736 -1.988778  4.672573e-02\n",
       "MDEC.13          -0.602620    0.297800 -2.023570  4.301439e-02\n",
       "MAXssCH2          0.464441    0.215443  2.155746  3.110352e-02\n",
       "MINdssC           0.412992    0.205762  2.007137  4.473512e-02\n",
       "\n",
       "[105 rows x 4 columns]"
      ]
     },
     "execution_count": 26,
     "metadata": {},
     "output_type": "execute_result"
    }
   ],
   "source": [
    "important_features_lr = results_log_reg_df[results_log_reg_df[\"Pr(>|z|)\"] < 0.05]\n",
    "important_features_lr = important_features_lr.reindex(important_features_lr['Estimate'].abs().sort_values(ascending=False).index)\n",
    "print(important_features_lr.shape)\n",
    "important_features_lr"
   ]
  },
  {
   "cell_type": "code",
   "execution_count": 27,
   "metadata": {
    "metadata": {}
   },
   "outputs": [
    {
     "data": {
      "image/png": "[encoded data removed]",
      "text/plain": [
       "<Figure size 800x600 with 1 Axes>"
      ]
     },
     "metadata": {},
     "output_type": "display_data"
    }
   ],
   "source": [
    "# Print the feature importances\n",
    "\n",
    "fig, ax = plt.subplots(1, 1)\n",
    "\n",
    "important_features_lr.iloc[:30,0].plot(kind='bar', figsize=(8,6), ax=ax)\n",
    "ax.set_title(f\"Feature Importance: {model_name_title}\\nOral vc None Oral, {DESCRIPTOR_TYPE}\")\n",
    "\n",
    "fig.savefig(f\"imgs/feature_importance_{DESCRIPTOR_TYPE}_{model_name_path}\", dpi=300)"
   ]
  },
  {
   "cell_type": "markdown",
   "metadata": {},
   "source": [
    "## Saving Results"
   ]
  },
  {
   "cell_type": "code",
   "execution_count": 28,
   "metadata": {
    "metadata": {}
   },
   "outputs": [],
   "source": [
    "# creating dataset to store final results from each model\n",
    "final_results = pd.DataFrame(\n",
    "    columns=[\n",
    "        \"model_name\", \n",
    "        \"cv_test_auc\", \n",
    "        \"training_mis_rate\", \n",
    "        \"test_mis_rate\", \n",
    "        \"training_auc\",\n",
    "        \"test_auc\"\n",
    "    ]\n",
    ")"
   ]
  },
  {
   "cell_type": "code",
   "execution_count": 29,
   "metadata": {
    "metadata": {}
   },
   "outputs": [
    {
     "data": {
      "text/html": [
       "<div>\n",
       "<style scoped>\n",
       "    .dataframe tbody tr th:only-of-type {\n",
       "        vertical-align: middle;\n",
       "    }\n",
       "\n",
       "    .dataframe tbody tr th {\n",
       "        vertical-align: top;\n",
       "    }\n",
       "\n",
       "    .dataframe thead th {\n",
       "        text-align: right;\n",
       "    }\n",
       "</style>\n",
       "<table border=\"1\" class=\"dataframe\">\n",
       "  <thead>\n",
       "    <tr style=\"text-align: right;\">\n",
       "      <th></th>\n",
       "      <th>model_name</th>\n",
       "      <th>cv_test_auc</th>\n",
       "      <th>training_mis_rate</th>\n",
       "      <th>test_mis_rate</th>\n",
       "      <th>training_auc</th>\n",
       "      <th>test_auc</th>\n",
       "    </tr>\n",
       "  </thead>\n",
       "  <tbody>\n",
       "    <tr>\n",
       "      <th>0</th>\n",
       "      <td>Logistic Regression</td>\n",
       "      <td>0.677544</td>\n",
       "      <td>0.13582</td>\n",
       "      <td>0.447257</td>\n",
       "      <td>0.86418</td>\n",
       "      <td>0.568525</td>\n",
       "    </tr>\n",
       "  </tbody>\n",
       "</table>\n",
       "</div>"
      ],
      "text/plain": [
       "            model_name  cv_test_auc  training_mis_rate  test_mis_rate  \\\n",
       "0  Logistic Regression     0.677544            0.13582       0.447257   \n",
       "\n",
       "   training_auc  test_auc  \n",
       "0       0.86418  0.568525  "
      ]
     },
     "execution_count": 29,
     "metadata": {},
     "output_type": "execute_result"
    }
   ],
   "source": [
    "final_results.loc[len(final_results.index)] = [\n",
    "    model_name_title,\n",
    "    gs_result_lr[\"best_score\"][0],\n",
    "    mis_rate_lr_train,\n",
    "    mis_rate_lr,\n",
    "    auc_lr_train,\n",
    "    auc_lr\n",
    "]\n",
    "final_results"
   ]
  },
  {
   "cell_type": "code",
   "execution_count": 30,
   "metadata": {
    "metadata": {}
   },
   "outputs": [],
   "source": [
    "important_features_lr.to_csv(f\"final_results/important_features_{model_name_path}_{DESCRIPTOR_TYPE}.csv\", index=False)"
   ]
  },
  {
   "cell_type": "code",
   "execution_count": null,
   "metadata": {},
   "outputs": [],
   "source": [
    "results_original = pd.read_csv(f\"final_results/models_results_{DESCRIPTOR_TYPE}.csv\")\n",
    "results_original"
   ]
  },
  {
   "cell_type": "code",
   "execution_count": 31,
   "metadata": {
    "metadata": {}
   },
   "outputs": [],
   "source": [
    "for i in range(1, 6):\n",
    "    results_original.iloc[0,i] = final_results.iloc[0,i]\n",
    "results_original.to_csv(f\"final_results/models_results_{DESCRIPTOR_TYPE}.csv\")"
   ]
  },
  {
   "cell_type": "code",
   "execution_count": null,
   "metadata": {},
   "outputs": [],
   "source": [
    "results_original = pd.read_csv(f\"final_results/models_results_{DESCRIPTOR_TYPE}.csv\", index_col=0)\n",
    "for i in range(1, 6):\n",
    "    results_original.iloc[0,i] = final_results.iloc[0,i]\n",
    "results_original.to_csv(f\"final_results/models_results_{DESCRIPTOR_TYPE}.csv\")"
   ]
  },
  {
   "cell_type": "markdown",
   "metadata": {},
   "source": [
    "# TREES"
   ]
  },
  {
   "cell_type": "markdown",
   "metadata": {},
   "source": [
    "# Decision Tree"
   ]
  },
  {
   "cell_type": "markdown",
   "metadata": {},
   "source": [
    "## Model Constant Variables"
   ]
  },
  {
   "cell_type": "code",
   "execution_count": null,
   "metadata": {},
   "outputs": [],
   "source": [
    "model_name_title = \"Decision Tree\"\n",
    "model_name_path = \"decision_tree\""
   ]
  },
  {
   "cell_type": "markdown",
   "metadata": {},
   "source": [
    "## Hyperparameter Fine Tuning"
   ]
  },
  {
   "cell_type": "code",
   "execution_count": null,
   "metadata": {},
   "outputs": [],
   "source": [
    "model_params = {\n",
    "    'Decision Tree': {\n",
    "        'model': DecisionTreeClassifier(),\n",
    "        'params': {\n",
    "            'criterion': ['gini', 'entropy', 'log_loss'],\n",
    "            'max_depth': [1, 5, 10, 20, 50, 100, 150],\n",
    "            'ccp_alpha': [0, 0.0001, 0.001, 0.1, 0.5, 1]\n",
    "        }\n",
    "    }\n",
    "}"
   ]
  },
  {
   "cell_type": "code",
   "execution_count": null,
   "metadata": {},
   "outputs": [],
   "source": [
    "gs_result_dt, gs_result_dt_full = best_params_grid(x_train, y_train, model_params)"
   ]
  },
  {
   "cell_type": "code",
   "execution_count": null,
   "metadata": {},
   "outputs": [],
   "source": [
    "gs_result_dt"
   ]
  },
  {
   "cell_type": "markdown",
   "metadata": {},
   "source": [
    "## Fitting Tree"
   ]
  },
  {
   "cell_type": "code",
   "execution_count": null,
   "metadata": {},
   "outputs": [],
   "source": [
    "decision_tree_params = gs_result_dt.iloc[0,2]\n",
    "decision_tree_params"
   ]
  },
  {
   "cell_type": "code",
   "execution_count": null,
   "metadata": {},
   "outputs": [],
   "source": [
    "decision_tree = DecisionTreeClassifier(**decision_tree_params).fit(x_train, y_train)"
   ]
  },
  {
   "cell_type": "markdown",
   "metadata": {},
   "source": [
    "## Get Training Error and AUC"
   ]
  },
  {
   "cell_type": "code",
   "execution_count": null,
   "metadata": {},
   "outputs": [],
   "source": [
    "mis_rate_dt_train, auc_dt_train = get_error_and_auc(\n",
    "    model=decision_tree, \n",
    "    x=x_train,\n",
    "    y_true=y_train,\n",
    ")"
   ]
  },
  {
   "cell_type": "markdown",
   "metadata": {},
   "source": [
    "## Make Predictions"
   ]
  },
  {
   "cell_type": "code",
   "execution_count": null,
   "metadata": {},
   "outputs": [],
   "source": [
    "y_predict_dt_label = decision_tree.predict(x_test)\n",
    "y_predict_dt_prob = decision_tree.predict_proba(x_test)[:, 1]"
   ]
  },
  {
   "cell_type": "markdown",
   "metadata": {},
   "source": [
    "## Test Error"
   ]
  },
  {
   "cell_type": "code",
   "execution_count": null,
   "metadata": {},
   "outputs": [],
   "source": [
    "mis_rate_dt, disp = calculate_confusion_matrix(\n",
    "    y_test=y_test, \n",
    "    y_pred=y_predict_dt_label,\n",
    ")"
   ]
  },
  {
   "cell_type": "code",
   "execution_count": null,
   "metadata": {},
   "outputs": [],
   "source": [
    "disp.plot()\n",
    "plt.title(f\"Confusion Matrix: {model_name_title}\\nOral vc Non Oral, {DESCRIPTOR_TYPE}\")\n",
    "disp.figure_.savefig(f\"imgs/cm_{DESCRIPTOR_TYPE}_{model_name_path}\", dpi=300)\n",
    "plt.show()"
   ]
  },
  {
   "cell_type": "markdown",
   "metadata": {},
   "source": [
    "## ROC/AUC"
   ]
  },
  {
   "cell_type": "code",
   "execution_count": null,
   "metadata": {},
   "outputs": [],
   "source": [
    "auc_dt = plot_roc_auc_curve(\n",
    "    y_test=y_test,\n",
    "    y_pred=y_predict_dt_prob,\n",
    "    model_name=model_name_title,\n",
    "    title=f\"AUC - ROC: {model_name_title}\\nOral vc Non Oral, {DESCRIPTOR_TYPE}\",\n",
    "    save_path=f\"imgs/roc_auc_{DESCRIPTOR_TYPE}_{model_name_path}\"\n",
    ")"
   ]
  },
  {
   "cell_type": "markdown",
   "metadata": {},
   "source": [
    "## Visualizing the Tree"
   ]
  },
  {
   "cell_type": "code",
   "execution_count": null,
   "metadata": {},
   "outputs": [],
   "source": [
    "fig, ax = plt.subplots()\n",
    "fig.dpi = 1000\n",
    "\n",
    "tree.plot_tree(decision_tree, ax=ax, feature_names=list(x_train.columns))\n",
    "plt.show()\n",
    "\n",
    "fig.savefig(f\"imgs/decision_tree_{DESCRIPTOR_TYPE}\", dpi=1000)"
   ]
  },
  {
   "cell_type": "markdown",
   "metadata": {},
   "source": [
    "## Feature Importance"
   ]
  },
  {
   "cell_type": "code",
   "execution_count": null,
   "metadata": {},
   "outputs": [],
   "source": [
    "# Print the feature importances\n",
    "\n",
    "fig, ax = plt.subplots(1, 1)\n",
    "\n",
    "feat_importances = pd.DataFrame(decision_tree.feature_importances_, index=x_train.columns, columns=[\"Importance\"])\n",
    "feat_importances.sort_values(by='Importance', ascending=False, inplace=True)\n",
    "\n",
    "feat_importances.iloc[:30,:].plot(kind='bar', figsize=(8,6), ax=ax)\n",
    "ax.set_title(f\"Feature Importance: {model_name_title}\\nOral vc None Oral, {DESCRIPTOR_TYPE}\")\n",
    "\n",
    "fig.savefig(f\"imgs/feature_importance_{DESCRIPTOR_TYPE}_{model_name_path}\", dpi=300)"
   ]
  },
  {
   "cell_type": "code",
   "execution_count": null,
   "metadata": {},
   "outputs": [],
   "source": [
    "important_features_dt = feat_importances[feat_importances.Importance > 0].sort_values(by=\"Importance\")\n",
    "important_features_dt"
   ]
  },
  {
   "cell_type": "markdown",
   "metadata": {},
   "source": [
    "## Saving Results"
   ]
  },
  {
   "cell_type": "code",
   "execution_count": null,
   "metadata": {},
   "outputs": [],
   "source": [
    "final_results.loc[len(final_results.index)] = [\n",
    "    model_name_title,\n",
    "    gs_result_dt[\"best_score\"][0],\n",
    "    mis_rate_dt_train,\n",
    "    mis_rate_dt,\n",
    "    auc_dt_train,\n",
    "    auc_dt\n",
    "]\n",
    "final_results"
   ]
  },
  {
   "cell_type": "code",
   "execution_count": null,
   "metadata": {},
   "outputs": [],
   "source": [
    "important_features_dt.to_csv(f\"final_results/important_features_{model_name_path}_{DESCRIPTOR_TYPE}.csv\", index=False)"
   ]
  },
  {
   "cell_type": "markdown",
   "metadata": {},
   "source": [
    "# Random Forest and Bagging"
   ]
  },
  {
   "cell_type": "markdown",
   "metadata": {},
   "source": [
    "Bagging is just Random Forest, in which max_features is equal to the total number of features. Therefore, bagging will be done in the RF algorithm, and compared to RF."
   ]
  },
  {
   "cell_type": "markdown",
   "metadata": {},
   "source": [
    "## Model Constant Variables"
   ]
  },
  {
   "cell_type": "code",
   "execution_count": null,
   "metadata": {},
   "outputs": [],
   "source": [
    "model_name_title = \"Random Forest\"\n",
    "model_name_path = \"random_forest\""
   ]
  },
  {
   "cell_type": "markdown",
   "metadata": {},
   "source": [
    "## Hyperparameter Fine Tuning"
   ]
  },
  {
   "cell_type": "code",
   "execution_count": null,
   "metadata": {},
   "outputs": [],
   "source": [
    "model_params = {\n",
    "    'Random Forest': {\n",
    "        'model': RandomForestClassifier(),\n",
    "        'params': {\n",
    "            'n_estimators': [100, 500, 1000], # number of trees\n",
    "            'max_depth': [10, 50, 100],\n",
    "            'max_features': [\"sqrt\", \"log2\"], # m, number of features considered in split. When it is equal to all predictor of dataset, it is bagging\n",
    "            'ccp_alpha': [0.1, 0.5]\n",
    "        }\n",
    "    }\n",
    "}"
   ]
  },
  {
   "cell_type": "code",
   "execution_count": null,
   "metadata": {},
   "outputs": [],
   "source": [
    "gs_result_rf, gs_result_rf_full = best_params_grid(x_train, y_train, model_params)"
   ]
  },
  {
   "cell_type": "code",
   "execution_count": null,
   "metadata": {},
   "outputs": [],
   "source": [
    "gs_result_rf"
   ]
  },
  {
   "cell_type": "markdown",
   "metadata": {},
   "source": [
    "## Fitting Model"
   ]
  },
  {
   "cell_type": "code",
   "execution_count": null,
   "metadata": {},
   "outputs": [],
   "source": [
    "random_forest_params = gs_result_rf.iloc[0,2]\n",
    "random_forest_params"
   ]
  },
  {
   "cell_type": "code",
   "execution_count": null,
   "metadata": {},
   "outputs": [],
   "source": [
    "random_forest = RandomForestClassifier(**random_forest_params).fit(x_train, y_train)"
   ]
  },
  {
   "cell_type": "markdown",
   "metadata": {},
   "source": [
    "## Get Training Error and AUC"
   ]
  },
  {
   "cell_type": "code",
   "execution_count": null,
   "metadata": {},
   "outputs": [],
   "source": [
    "mis_rate_rf_train, auc_rf_train = get_error_and_auc(\n",
    "    model=random_forest, \n",
    "    x=x_train,\n",
    "    y_true=y_train,\n",
    ")"
   ]
  },
  {
   "cell_type": "markdown",
   "metadata": {},
   "source": [
    "## Make Predictions"
   ]
  },
  {
   "cell_type": "code",
   "execution_count": null,
   "metadata": {},
   "outputs": [],
   "source": [
    "y_predict_rf_label = random_forest.predict(x_test)\n",
    "y_predict_rf_prob = random_forest.predict_proba(x_test)[:, 1]"
   ]
  },
  {
   "cell_type": "markdown",
   "metadata": {},
   "source": [
    "## Test Error"
   ]
  },
  {
   "cell_type": "code",
   "execution_count": null,
   "metadata": {},
   "outputs": [],
   "source": [
    "mis_rate_rf, disp = calculate_confusion_matrix(\n",
    "    y_test=y_test, \n",
    "    y_pred=y_predict_rf_label,\n",
    ")"
   ]
  },
  {
   "cell_type": "code",
   "execution_count": null,
   "metadata": {},
   "outputs": [],
   "source": [
    "disp.plot()\n",
    "plt.title(f\"Confusion Matrix: {model_name_title}\\nOral vc Non Oral, {DESCRIPTOR_TYPE}\")\n",
    "disp.figure_.savefig(f\"imgs/cm_{DESCRIPTOR_TYPE}_{model_name_path}\", dpi=300)\n",
    "plt.show()"
   ]
  },
  {
   "cell_type": "markdown",
   "metadata": {},
   "source": [
    "## ROC/AUC"
   ]
  },
  {
   "cell_type": "code",
   "execution_count": null,
   "metadata": {},
   "outputs": [],
   "source": [
    "auc_rf = plot_roc_auc_curve(\n",
    "    y_test=y_test,\n",
    "    y_pred=y_predict_rf_prob,\n",
    "    model_name=model_name_title,\n",
    "    title=f\"AUC - ROC: {model_name_title}\\nOral vc Non Oral, {DESCRIPTOR_TYPE}\",\n",
    "    save_path=f\"imgs/roc_auc_{DESCRIPTOR_TYPE}_{model_name_path}\"\n",
    ")"
   ]
  },
  {
   "cell_type": "markdown",
   "metadata": {},
   "source": [
    "## Feature Importance"
   ]
  },
  {
   "cell_type": "code",
   "execution_count": null,
   "metadata": {},
   "outputs": [],
   "source": [
    "# Print the feature importances\n",
    "\n",
    "fig, ax = plt.subplots(1, 1)\n",
    "\n",
    "feat_importances = pd.DataFrame(random_forest.feature_importances_, index=x_train.columns, columns=[\"Importance\"])\n",
    "feat_importances.sort_values(by='Importance', ascending=False, inplace=True)\n",
    "\n",
    "feat_importances.iloc[:30,:].plot(kind='bar', figsize=(8,6), ax=ax)\n",
    "ax.set_title(f\"Feature Importance: {model_name_title}\\nOral vc None Oral, {DESCRIPTOR_TYPE}\")\n",
    "\n",
    "fig.savefig(f\"imgs/feature_importance_{DESCRIPTOR_TYPE}_{model_name_path}\", dpi=300)"
   ]
  },
  {
   "cell_type": "code",
   "execution_count": null,
   "metadata": {},
   "outputs": [],
   "source": [
    "important_features_rf = feat_importances[feat_importances.Importance > 0].sort_values(by=\"Importance\")\n",
    "important_features_rf"
   ]
  },
  {
   "cell_type": "markdown",
   "metadata": {},
   "source": [
    "## Saving Results"
   ]
  },
  {
   "cell_type": "code",
   "execution_count": null,
   "metadata": {},
   "outputs": [],
   "source": [
    "final_results.loc[len(final_results.index)] = [\n",
    "    model_name_title,\n",
    "    gs_result_rf[\"best_score\"][0],\n",
    "    mis_rate_rf_train,\n",
    "    mis_rate_rf,\n",
    "    auc_rf_train,\n",
    "    auc_rf\n",
    "]\n",
    "final_results"
   ]
  },
  {
   "cell_type": "code",
   "execution_count": null,
   "metadata": {},
   "outputs": [],
   "source": [
    "important_features_rf.to_csv(f\"final_results/important_features_{model_name_path}_{DESCRIPTOR_TYPE}.csv\", index=False)"
   ]
  },
  {
   "cell_type": "markdown",
   "metadata": {},
   "source": [
    "# Boosting"
   ]
  },
  {
   "cell_type": "markdown",
   "metadata": {},
   "source": [
    "## Model Constant Variables"
   ]
  },
  {
   "cell_type": "code",
   "execution_count": null,
   "metadata": {},
   "outputs": [],
   "source": [
    "model_name_title = \"Gradiant Boosting\"\n",
    "model_name_path = \"boosting\""
   ]
  },
  {
   "cell_type": "markdown",
   "metadata": {},
   "source": [
    "## Hyperparameter Fine Tuning"
   ]
  },
  {
   "cell_type": "code",
   "execution_count": null,
   "metadata": {},
   "outputs": [],
   "source": [
    "model_params = {\n",
    "    'Boosting': {\n",
    "            'model': GradientBoostingClassifier(),\n",
    "            'params': {\n",
    "                'n_estimators' : [100, 500], # number of trees\n",
    "                'learning_rate': [0.01, 0.1], # alfa\n",
    "                'max_depth': [20],\n",
    "        }\n",
    "    }\n",
    "}"
   ]
  },
  {
   "cell_type": "code",
   "execution_count": null,
   "metadata": {},
   "outputs": [],
   "source": [
    "gs_result_boo, gs_result_boo_full = best_params_grid(x_train_scaled, y_train, model_params)"
   ]
  },
  {
   "cell_type": "code",
   "execution_count": null,
   "metadata": {},
   "outputs": [],
   "source": [
    "gs_result_boo"
   ]
  },
  {
   "cell_type": "markdown",
   "metadata": {},
   "source": [
    "## Fitting Model"
   ]
  },
  {
   "cell_type": "code",
   "execution_count": null,
   "metadata": {},
   "outputs": [],
   "source": [
    "boosting_params = gs_result_boo.iloc[0,2]\n",
    "boosting_params"
   ]
  },
  {
   "cell_type": "code",
   "execution_count": null,
   "metadata": {},
   "outputs": [],
   "source": [
    "boosting = GradientBoostingClassifier(**boosting_params).fit(x_train, y_train)"
   ]
  },
  {
   "cell_type": "markdown",
   "metadata": {},
   "source": [
    "## Get Training Error and AUC"
   ]
  },
  {
   "cell_type": "code",
   "execution_count": null,
   "metadata": {},
   "outputs": [],
   "source": [
    "mis_rate_boo_train, auc_boo_train = get_error_and_auc(\n",
    "    model=boosting, \n",
    "    x=x_train,\n",
    "    y_true=y_train,\n",
    ")"
   ]
  },
  {
   "cell_type": "markdown",
   "metadata": {},
   "source": [
    "## Make Prediction"
   ]
  },
  {
   "cell_type": "code",
   "execution_count": null,
   "metadata": {},
   "outputs": [],
   "source": [
    "y_predict_boo_label = boosting.predict(x_test)\n",
    "y_predict_boo_prob = boosting.predict_proba(x_test)[:, 1]"
   ]
  },
  {
   "cell_type": "markdown",
   "metadata": {},
   "source": [
    "## Test Error"
   ]
  },
  {
   "cell_type": "code",
   "execution_count": null,
   "metadata": {},
   "outputs": [],
   "source": [
    "mis_rate_boo, disp = calculate_confusion_matrix(\n",
    "    y_test=y_test, \n",
    "    y_pred=y_predict_boo_label,\n",
    ")"
   ]
  },
  {
   "cell_type": "code",
   "execution_count": null,
   "metadata": {},
   "outputs": [],
   "source": [
    "disp.plot()\n",
    "plt.title(f\"Confusion Matrix: {model_name_title}\\nOral vc Non Oral, {DESCRIPTOR_TYPE}\")\n",
    "disp.figure_.savefig(f\"imgs/cm_{DESCRIPTOR_TYPE}_{model_name_path}\", dpi=300)\n",
    "plt.show()"
   ]
  },
  {
   "cell_type": "markdown",
   "metadata": {},
   "source": [
    "## ROC/AUC"
   ]
  },
  {
   "cell_type": "code",
   "execution_count": null,
   "metadata": {},
   "outputs": [],
   "source": [
    "auc_boo = plot_roc_auc_curve(\n",
    "    y_test=y_test,\n",
    "    y_pred=y_predict_boo_prob,\n",
    "    model_name=model_name_title,\n",
    "    title=f\"AUC - ROC: {model_name_title}\\nOral vc Non Oral, {DESCRIPTOR_TYPE}\",\n",
    "    save_path=f\"imgs/roc_auc_{DESCRIPTOR_TYPE}_{model_name_path}\"\n",
    ")"
   ]
  },
  {
   "cell_type": "markdown",
   "metadata": {},
   "source": [
    "## Feature Importance"
   ]
  },
  {
   "cell_type": "code",
   "execution_count": null,
   "metadata": {},
   "outputs": [],
   "source": [
    "# Print the feature importances\n",
    "\n",
    "fig, ax = plt.subplots(1, 1)\n",
    "\n",
    "feat_importances = pd.DataFrame(boosting.feature_importances_, index=x_train.columns, columns=[\"Importance\"])\n",
    "feat_importances.sort_values(by='Importance', ascending=False, inplace=True)\n",
    "\n",
    "feat_importances.iloc[:30,:].plot(kind='bar', figsize=(8,6), ax=ax)\n",
    "ax.set_title(f\"Feature Importance: {model_name_title}\\nOral vc None Oral, {DESCRIPTOR_TYPE}\")\n",
    "\n",
    "fig.savefig(f\"imgs/feature_importance_{DESCRIPTOR_TYPE}_{model_name_path}\", dpi=300)"
   ]
  },
  {
   "cell_type": "code",
   "execution_count": null,
   "metadata": {},
   "outputs": [],
   "source": [
    "important_features_boo = feat_importances[feat_importances.Importance > 0].sort_values(by=\"Importance\")\n",
    "important_features_boo"
   ]
  },
  {
   "cell_type": "markdown",
   "metadata": {},
   "source": [
    "## Saving Results"
   ]
  },
  {
   "cell_type": "code",
   "execution_count": null,
   "metadata": {},
   "outputs": [],
   "source": [
    "final_results.loc[len(final_results.index)] = [\n",
    "    model_name_title,\n",
    "    gs_result_boo[\"best_score\"][0],\n",
    "    mis_rate_boo_train,\n",
    "    mis_rate_boo,\n",
    "    auc_boo_train,\n",
    "    auc_boo\n",
    "]\n",
    "final_results"
   ]
  },
  {
   "cell_type": "code",
   "execution_count": null,
   "metadata": {},
   "outputs": [],
   "source": [
    "important_features_boo.to_csv(f\"final_results/important_features_{model_name_path}_{DESCRIPTOR_TYPE}.csv\", index=False)"
   ]
  },
  {
   "cell_type": "markdown",
   "metadata": {},
   "source": [
    "# BART"
   ]
  },
  {
   "cell_type": "markdown",
   "metadata": {},
   "source": [
    "## Model Constant Variables"
   ]
  },
  {
   "cell_type": "code",
   "execution_count": null,
   "metadata": {},
   "outputs": [],
   "source": [
    "model_name_title = \"BART\"\n",
    "model_name_path = \"bart\""
   ]
  },
  {
   "cell_type": "markdown",
   "metadata": {},
   "source": [
    "## Hyperparameter Fine Tuning"
   ]
  },
  {
   "cell_type": "code",
   "execution_count": null,
   "metadata": {},
   "outputs": [],
   "source": [
    "# transforming x train and test as arrays for BART procedure\n",
    "\n",
    "x_train_bart = np.asarray(x_train)\n",
    "x_test_bart = np.asarray(x_test)"
   ]
  },
  {
   "cell_type": "code",
   "execution_count": null,
   "metadata": {},
   "outputs": [],
   "source": [
    "model_params = {\n",
    "    'BART': {\n",
    "        'model': BART(),\n",
    "        'params': {\n",
    "            'num_trees': [100, 500, 1000],\n",
    "            'max_stages': [100, 500, 800, 1000], # B, number of iterations\n",
    "            'burnin': [5, 10, 20] #L\n",
    "        }\n",
    "    }\n",
    "}"
   ]
  },
  {
   "cell_type": "markdown",
   "metadata": {},
   "source": [
    "For BART, the auc present in the best_params_grid need to recieve the y_predicted in labels, but this BART algorithm does it in probabilities. Because of this, I need to use a custom scorer, that first transforms the prediction to labels."
   ]
  },
  {
   "cell_type": "code",
   "execution_count": null,
   "metadata": {},
   "outputs": [],
   "source": [
    "score = make_scorer(bart_auc_scorer, greater_is_better=True)\n",
    "\n",
    "gs_result_bart, gs_result_bart_full = best_params_grid(x_train_bart, y_train, model_params, scoring=score)"
   ]
  },
  {
   "cell_type": "code",
   "execution_count": null,
   "metadata": {},
   "outputs": [],
   "source": [
    "gs_result_bart"
   ]
  },
  {
   "cell_type": "markdown",
   "metadata": {},
   "source": [
    "# Fitting Model"
   ]
  },
  {
   "cell_type": "code",
   "execution_count": null,
   "metadata": {},
   "outputs": [],
   "source": [
    "bart_params = gs_result_bart.iloc[0,2]\n",
    "bart_params"
   ]
  },
  {
   "cell_type": "code",
   "execution_count": null,
   "metadata": {},
   "outputs": [],
   "source": [
    "bart = BART(**bart_params)\n",
    "bart.fit(x_train_bart, y_train)"
   ]
  },
  {
   "cell_type": "markdown",
   "metadata": {},
   "source": [
    "## Get Training Error and AUC"
   ]
  },
  {
   "cell_type": "code",
   "execution_count": null,
   "metadata": {},
   "outputs": [],
   "source": [
    "mis_rate_bart_train, auc_bart_train = get_error_and_auc(\n",
    "    model=bart, \n",
    "    x=x_train_bart,\n",
    "    y_true=y_train,\n",
    "    transform_prob_into_label=True\n",
    ")"
   ]
  },
  {
   "cell_type": "markdown",
   "metadata": {},
   "source": [
    "## Make Prediction"
   ]
  },
  {
   "cell_type": "code",
   "execution_count": null,
   "metadata": {},
   "outputs": [],
   "source": [
    "# the bart algorithm predicts as probabilities\n",
    "y_predict_bart_prob = bart.predict(x_test_bart)"
   ]
  },
  {
   "cell_type": "code",
   "execution_count": null,
   "metadata": {},
   "outputs": [],
   "source": [
    "# here I use the make_label function to transform the probabilities into labels, using 0.5 as a cutoff\n",
    "\n",
    "y_predict_bart_label = make_label_v(y_predict_bart_prob)"
   ]
  },
  {
   "cell_type": "markdown",
   "metadata": {},
   "source": [
    "## Test Error"
   ]
  },
  {
   "cell_type": "code",
   "execution_count": null,
   "metadata": {},
   "outputs": [],
   "source": [
    "mis_rate_bart, disp = calculate_confusion_matrix(\n",
    "    y_test=y_test, \n",
    "    y_pred=y_predict_bart_label,\n",
    ")"
   ]
  },
  {
   "cell_type": "code",
   "execution_count": null,
   "metadata": {},
   "outputs": [],
   "source": [
    "disp.plot()\n",
    "plt.title(f\"Confusion Matrix: {model_name_title}\\nOral vc Non Oral, {DESCRIPTOR_TYPE}\")\n",
    "disp.figure_.savefig(f\"imgs/cm_{DESCRIPTOR_TYPE}_{model_name_path}\", dpi=300)\n",
    "plt.show()"
   ]
  },
  {
   "cell_type": "markdown",
   "metadata": {},
   "source": [
    "## ROC/AUC"
   ]
  },
  {
   "cell_type": "code",
   "execution_count": null,
   "metadata": {},
   "outputs": [],
   "source": [
    "auc_bart = plot_roc_auc_curve(\n",
    "    y_test=y_test,\n",
    "    y_pred=y_predict_bart_prob,\n",
    "    model_name=model_name_title,\n",
    "    title=f\"AUC - ROC: {model_name_title}\\nOral vc Non Oral, {DESCRIPTOR_TYPE}\",\n",
    "    save_path=f\"imgs/roc_auc_{DESCRIPTOR_TYPE}_{model_name_path}\"\n",
    ")"
   ]
  },
  {
   "cell_type": "markdown",
   "metadata": {},
   "source": [
    "## Feature Importance"
   ]
  },
  {
   "cell_type": "markdown",
   "metadata": {},
   "source": [
    "We can check how many times each variable appeared in the collection\n",
    "of trees. This gives a summary similar to the variable importance plot for\n",
    "boosting and random forests."
   ]
  },
  {
   "cell_type": "code",
   "execution_count": null,
   "metadata": {},
   "outputs": [],
   "source": [
    "# Print the feature importances\n",
    "fig, ax = plt.subplots(1, 1)\n",
    "\n",
    "feat_importances = pd.DataFrame(columns=[\"Importance\"])\n",
    "feat_importances[\"Importance\"] = pd.Series(bart.variable_inclusion_.mean(0),index=X.columns).sort_values(ascending=False)\n",
    "\n",
    "feat_importances.iloc[:30,:].plot(kind='bar', figsize=(8,6), ax=ax)\n",
    "ax.set_title(f\"Feature Importance: {model_name_title}\\nOral vc None Oral, {DESCRIPTOR_TYPE}\")\n",
    "\n",
    "fig.savefig(f\"imgs/feature_importance_{DESCRIPTOR_TYPE}_{model_name_path}\", dpi=300)\n"
   ]
  },
  {
   "cell_type": "code",
   "execution_count": null,
   "metadata": {},
   "outputs": [],
   "source": [
    "important_features_bart = feat_importances[feat_importances.Importance > 0].sort_values(by=\"Importance\")\n",
    "important_features_bart"
   ]
  },
  {
   "cell_type": "markdown",
   "metadata": {},
   "source": [
    "## Saving Results"
   ]
  },
  {
   "cell_type": "code",
   "execution_count": null,
   "metadata": {},
   "outputs": [],
   "source": [
    "final_results.loc[len(final_results.index)] = [\n",
    "    model_name_title,\n",
    "    gs_result_bart[\"best_score\"][0],\n",
    "    mis_rate_bart_train,\n",
    "    mis_rate_bart,\n",
    "    auc_bart_train,\n",
    "    auc_bart\n",
    "]\n",
    "final_results"
   ]
  },
  {
   "cell_type": "code",
   "execution_count": null,
   "metadata": {},
   "outputs": [],
   "source": [
    "important_features_bart.to_csv(f\"final_results/important_features_{model_name_path}_{DESCRIPTOR_TYPE}.csv\", index=False)"
   ]
  },
  {
   "cell_type": "markdown",
   "metadata": {},
   "source": [
    "# SVM"
   ]
  },
  {
   "cell_type": "markdown",
   "metadata": {},
   "source": [
    "## Model Constant Variables"
   ]
  },
  {
   "cell_type": "code",
   "execution_count": null,
   "metadata": {},
   "outputs": [],
   "source": [
    "model_name_title = \"SVM\"\n",
    "model_name_path = \"svm\""
   ]
  },
  {
   "cell_type": "markdown",
   "metadata": {},
   "source": [
    "## Hyperparameter Fine Tuning"
   ]
  },
  {
   "cell_type": "code",
   "execution_count": null,
   "metadata": {},
   "outputs": [],
   "source": [
    "scale = 1 / (x_train.shape[1] * x_train.var().mean())\n",
    "\n",
    "model_params = {\n",
    "    'SVM': {\n",
    "        'model': SVC(),\n",
    "        'params': {\n",
    "            'C': [0.1, 0.3, 0.5, 0.8, 1.0, 2, 5, 10],\n",
    "            'kernel': ['rbf', 'sigmoid'],\n",
    "            'gamma': ['auto', scale, 0.0001, 0.001, 0.01, 0.1, 0.5, 1, 10]\n",
    "        }\n",
    "    }\n",
    "}"
   ]
  },
  {
   "cell_type": "code",
   "execution_count": null,
   "metadata": {},
   "outputs": [],
   "source": [
    "gs_result_svm, gs_result_svm_full = best_params_grid(x_train, y_train, model_params)"
   ]
  },
  {
   "cell_type": "markdown",
   "metadata": {},
   "source": [
    "## Fitting Model"
   ]
  },
  {
   "cell_type": "code",
   "execution_count": null,
   "metadata": {},
   "outputs": [],
   "source": [
    "svm_params = gs_result_svm.iloc[0,2]\n",
    "svm_params"
   ]
  },
  {
   "cell_type": "code",
   "execution_count": null,
   "metadata": {},
   "outputs": [],
   "source": [
    "svm = SVC(**svm_params, probability=True).fit(x_train, y_train)"
   ]
  },
  {
   "cell_type": "markdown",
   "metadata": {},
   "source": [
    "## Get Training Error and AUC"
   ]
  },
  {
   "cell_type": "code",
   "execution_count": null,
   "metadata": {},
   "outputs": [],
   "source": [
    "mis_rate_svm_train, auc_svm_train = get_error_and_auc(\n",
    "    model=svm, \n",
    "    x=x_train,\n",
    "    y_true=y_train,\n",
    ")"
   ]
  },
  {
   "cell_type": "markdown",
   "metadata": {},
   "source": [
    "## Make Prediction"
   ]
  },
  {
   "cell_type": "code",
   "execution_count": null,
   "metadata": {},
   "outputs": [],
   "source": [
    "y_predict_svm_label = svm.predict(x_test)\n",
    "y_predict_svm_prob = svm.predict_proba(x_test)[:, 1]"
   ]
  },
  {
   "cell_type": "markdown",
   "metadata": {},
   "source": [
    "## Test Error"
   ]
  },
  {
   "cell_type": "code",
   "execution_count": null,
   "metadata": {},
   "outputs": [],
   "source": [
    "mis_rate_svm, disp = calculate_confusion_matrix(\n",
    "    y_test=y_test, \n",
    "    y_pred=y_predict_svm_label,\n",
    ")"
   ]
  },
  {
   "cell_type": "code",
   "execution_count": null,
   "metadata": {},
   "outputs": [],
   "source": [
    "disp.plot()\n",
    "plt.title(f\"Confusion Matrix: {model_name_title}\\nOral vc Non Oral, {DESCRIPTOR_TYPE}\")\n",
    "disp.figure_.savefig(f\"imgs/cm_{DESCRIPTOR_TYPE}_{model_name_path}\", dpi=300)\n",
    "plt.show()"
   ]
  },
  {
   "cell_type": "markdown",
   "metadata": {},
   "source": [
    "## ROC/AUC"
   ]
  },
  {
   "cell_type": "code",
   "execution_count": null,
   "metadata": {},
   "outputs": [],
   "source": [
    "auc_svm = plot_roc_auc_curve(\n",
    "    y_test=y_test,\n",
    "    y_pred=y_predict_svm_prob,\n",
    "    model_name=model_name_title,\n",
    "    title=f\"AUC - ROC: {model_name_title}\\nOral vc Non Oral, {DESCRIPTOR_TYPE}\",\n",
    "    save_path=f\"imgs/roc_auc_{DESCRIPTOR_TYPE}_{model_name_path}\"\n",
    ")"
   ]
  },
  {
   "cell_type": "markdown",
   "metadata": {},
   "source": [
    "## Saving Results"
   ]
  },
  {
   "cell_type": "code",
   "execution_count": null,
   "metadata": {},
   "outputs": [],
   "source": [
    "final_results.loc[len(final_results.index)] = [\n",
    "    model_name_title,\n",
    "    gs_result_svm[\"best_score\"][0],\n",
    "    mis_rate_svm_train,\n",
    "    mis_rate_svm,\n",
    "    auc_svm_train,\n",
    "    auc_svm\n",
    "]\n",
    "final_results"
   ]
  },
  {
   "cell_type": "markdown",
   "metadata": {},
   "source": [
    "# Saving Final Datasets"
   ]
  },
  {
   "cell_type": "code",
   "execution_count": null,
   "metadata": {},
   "outputs": [],
   "source": [
    "# saving final_results dataset\n",
    "final_results.to_csv(f\"final_results/models_results_{DESCRIPTOR_TYPE}.csv\", index=False)"
   ]
  },
  {
   "cell_type": "code",
   "execution_count": null,
   "metadata": {},
   "outputs": [],
   "source": [
    "session_info.show()"
   ]
  },
  {
   "cell_type": "code",
   "execution_count": null,
   "metadata": {},
   "outputs": [],
   "source": []
  },
  {
   "cell_type": "code",
   "execution_count": null,
   "metadata": {},
   "outputs": [],
   "source": []
  }
 ],
 "metadata": {
  "kernelspec": {
   "display_name": "teachopencadd",
   "language": "python",
   "name": "python3"
  },
  "language_info": {
   "codemirror_mode": {
    "name": "ipython",
    "version": 3
   },
   "file_extension": ".py",
   "mimetype": "text/x-python",
   "name": "python",
   "nbconvert_exporter": "python",
   "pygments_lexer": "ipython3",
   "version": "3.12.2"
  }
 },
 "nbformat": 4,
 "nbformat_minor": 2
}
