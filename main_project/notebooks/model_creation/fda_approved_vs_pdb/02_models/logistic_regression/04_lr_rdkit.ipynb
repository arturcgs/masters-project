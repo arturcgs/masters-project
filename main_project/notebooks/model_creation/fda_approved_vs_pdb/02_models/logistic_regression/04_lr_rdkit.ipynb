{
  "nbformat": 4,
  "nbformat_minor": 0,
  "metadata": {
    "colab": {
      "provenance": []
    },
    "kernelspec": {
      "name": "ir",
      "display_name": "R"
    },
    "language_info": {
      "name": "R"
    }
  },
  "cells": [
    {
      "cell_type": "markdown",
      "source": [
        "# Logistic Regression"
      ],
      "metadata": {
        "id": "LRvwU-Mw8SPl"
      }
    },
    {
      "cell_type": "markdown",
      "source": [
        "Here, I will run the logistics regression. The dataset has already been cleaned and separated into training and test datasets"
      ],
      "metadata": {
        "id": "CwMZ-FaJ8JhZ"
      }
    },
    {
      "cell_type": "markdown",
      "source": [
        "## Reading CSVs"
      ],
      "metadata": {
        "id": "q-XmgbpD8Nu-"
      }
    },
    {
      "cell_type": "code",
      "source": [
        "DESCRIPTOR_TYPE <- \"rdkit\""
      ],
      "metadata": {
        "id": "IaY4kb1YTsJf"
      },
      "execution_count": 1,
      "outputs": []
    },
    {
      "cell_type": "code",
      "source": [
        "train <- read.csv(paste0(\"/content/train_\", DESCRIPTOR_TYPE, \".csv\"))"
      ],
      "metadata": {
        "id": "GzyWX6tDqxJA"
      },
      "execution_count": 2,
      "outputs": []
    },
    {
      "cell_type": "code",
      "source": [
        "test <- read.csv(paste0(\"/content/test_\", DESCRIPTOR_TYPE, \".csv\"))"
      ],
      "metadata": {
        "id": "1zaACa_BADnz"
      },
      "execution_count": 3,
      "outputs": []
    },
    {
      "cell_type": "markdown",
      "source": [
        "### Calculating model"
      ],
      "metadata": {
        "id": "PLmfvZjtABN5"
      }
    },
    {
      "cell_type": "code",
      "source": [
        "model <- glm(fda_approved ~.,family=binomial(link='logit'),data=train)"
      ],
      "metadata": {
        "colab": {
          "base_uri": "https://localhost:8080/"
        },
        "id": "qRjZZOIwt_k5",
        "outputId": "fdb1fa15-9f86-4614-cb83-71ef97b4d0c7"
      },
      "execution_count": 4,
      "outputs": [
        {
          "output_type": "stream",
          "name": "stderr",
          "text": [
            "Warning message:\n",
            "“glm.fit: fitted probabilities numerically 0 or 1 occurred”\n"
          ]
        }
      ]
    },
    {
      "cell_type": "code",
      "source": [
        "summary(model)"
      ],
      "metadata": {
        "colab": {
          "base_uri": "https://localhost:8080/",
          "height": 1000
        },
        "id": "eGhTh6ukuEf9",
        "outputId": "f573ee7f-32ed-44ae-e123-305972502fde"
      },
      "execution_count": 5,
      "outputs": [
        {
          "output_type": "display_data",
          "data": {
            "text/plain": [
              "\n",
              "Call:\n",
              "glm(formula = fda_approved ~ ., family = binomial(link = \"logit\"), \n",
              "    data = train)\n",
              "\n",
              "Coefficients: (4 not defined because of singularities)\n",
              "                           Estimate Std. Error z value Pr(>|z|)    \n",
              "(Intercept)              -9.538e-03  5.872e+01   0.000 0.999870    \n",
              "X                        -8.947e-05  6.151e-05  -1.455 0.145795    \n",
              "const                            NA         NA      NA       NA    \n",
              "MaxEStateIndex            6.213e-02  1.093e-01   0.568 0.569746    \n",
              "MinEStateIndex            1.342e-01  1.419e-01   0.945 0.344482    \n",
              "MinAbsEStateIndex         9.583e-02  7.013e-02   1.367 0.171771    \n",
              "qed                       3.443e-01  1.025e-01   3.359 0.000782 ***\n",
              "MolWt                     7.456e+00  3.586e+00   2.079 0.037611 *  \n",
              "NumRadicalElectrons      -6.359e-01  2.151e-01  -2.956 0.003119 ** \n",
              "MaxPartialCharge         -3.744e-01  1.103e-01  -3.393 0.000691 ***\n",
              "MinPartialCharge         -2.209e-02  7.714e-02  -0.286 0.774606    \n",
              "FpDensityMorgan1          6.112e-02  9.707e-02   0.630 0.528916    \n",
              "BCUT2D_MWHI              -4.869e-01  1.784e-01  -2.729 0.006344 ** \n",
              "BCUT2D_MWLOW             -8.401e-02  5.844e-02  -1.438 0.150553    \n",
              "BCUT2D_CHGHI             -3.295e-01  1.827e-01  -1.804 0.071306 .  \n",
              "BCUT2D_CHGLO              3.163e-01  1.884e-01   1.679 0.093228 .  \n",
              "BCUT2D_LOGPHI             3.412e-01  1.572e-01   2.170 0.029983 *  \n",
              "BCUT2D_LOGPLOW           -3.480e-01  1.791e-01  -1.943 0.051961 .  \n",
              "BCUT2D_MRHI               1.628e-01  1.819e-01   0.895 0.370804    \n",
              "BCUT2D_MRLOW              4.233e-03  9.244e-02   0.046 0.963475    \n",
              "BalabanJ                  1.845e-02  1.376e-01   0.134 0.893283    \n",
              "Ipc                      -1.990e+01  1.753e+03  -0.011 0.990942    \n",
              "PEOE_VSA10               -1.227e+00  6.971e-01  -1.761 0.078311 .  \n",
              "PEOE_VSA11               -2.884e-01  2.950e-01  -0.977 0.328343    \n",
              "PEOE_VSA12               -1.936e+00  6.882e-01  -2.813 0.004904 ** \n",
              "PEOE_VSA13               -3.738e-01  1.990e-01  -1.878 0.060348 .  \n",
              "PEOE_VSA14               -4.130e-01  3.645e-01  -1.133 0.257163    \n",
              "PEOE_VSA2                 1.222e-02  3.120e-01   0.039 0.968760    \n",
              "PEOE_VSA3                -1.381e-01  1.787e-01  -0.773 0.439552    \n",
              "PEOE_VSA4                -5.187e-02  1.677e-01  -0.309 0.757104    \n",
              "PEOE_VSA5                 1.205e-01  1.775e-01   0.679 0.497095    \n",
              "PEOE_VSA6                -1.666e+00  8.893e-01  -1.873 0.061059 .  \n",
              "PEOE_VSA7                -1.891e+00  1.065e+00  -1.776 0.075698 .  \n",
              "PEOE_VSA8                -1.250e+00  6.354e-01  -1.968 0.049113 *  \n",
              "PEOE_VSA9                -9.452e-01  5.141e-01  -1.839 0.065960 .  \n",
              "SMR_VSA1                 -9.107e-01  1.066e+00  -0.855 0.392820    \n",
              "SMR_VSA10                 1.385e-01  1.068e+00   0.130 0.896766    \n",
              "SMR_VSA2                 -3.411e-01  1.445e-01  -2.361 0.018236 *  \n",
              "SMR_VSA3                 -1.735e+00  6.430e-01  -2.699 0.006963 ** \n",
              "SMR_VSA4                 -2.951e-01  5.519e-01  -0.535 0.592900    \n",
              "SMR_VSA5                  5.406e-01  1.959e+00   0.276 0.782634    \n",
              "SMR_VSA6                  5.718e-01  6.502e-01   0.879 0.379167    \n",
              "SMR_VSA7                  5.947e-01  1.221e+00   0.487 0.626250    \n",
              "SMR_VSA9                  1.861e-02  3.860e-01   0.048 0.961539    \n",
              "SlogP_VSA1               -1.259e+00  6.551e-01  -1.922 0.054631 .  \n",
              "SlogP_VSA10               1.627e+00  4.275e-01   3.805 0.000142 ***\n",
              "SlogP_VSA11               2.868e-01  2.700e-01   1.062 0.288128    \n",
              "SlogP_VSA12               3.579e-02  4.098e-01   0.087 0.930402    \n",
              "SlogP_VSA3               -2.424e-01  2.316e-01  -1.047 0.295288    \n",
              "SlogP_VSA4                5.668e-02  1.641e-01   0.345 0.729756    \n",
              "SlogP_VSA7               -4.963e-02  1.746e-01  -0.284 0.776256    \n",
              "SlogP_VSA8               -1.879e-01  2.487e-01  -0.756 0.449762    \n",
              "EState_VSA11              1.574e-01  1.021e-01   1.542 0.123156    \n",
              "EState_VSA2               1.356e-01  1.873e-01   0.724 0.469022    \n",
              "EState_VSA3               5.547e-02  1.670e-01   0.332 0.739802    \n",
              "EState_VSA4              -3.164e-02  2.209e-01  -0.143 0.886121    \n",
              "EState_VSA5               2.338e-02  2.134e-01   0.110 0.912749    \n",
              "EState_VSA6              -1.224e-01  2.422e-01  -0.505 0.613436    \n",
              "EState_VSA7              -4.271e-02  2.927e-01  -0.146 0.883967    \n",
              "EState_VSA8              -1.327e-02  3.019e-01  -0.044 0.964925    \n",
              "EState_VSA9               3.007e-01  1.973e-01   1.524 0.127532    \n",
              "VSA_EState1               1.526e-01  3.173e-01   0.481 0.630501    \n",
              "VSA_EState10              5.601e-01  3.675e-01   1.524 0.127439    \n",
              "VSA_EState3              -6.435e-01  4.745e-01  -1.356 0.175033    \n",
              "VSA_EState4              -5.804e-01  2.296e-01  -2.528 0.011487 *  \n",
              "VSA_EState5              -1.771e-01  2.492e-01  -0.711 0.477130    \n",
              "VSA_EState6               4.415e-01  5.086e-01   0.868 0.385392    \n",
              "VSA_EState7               5.922e-01  2.925e-01   2.025 0.042909 *  \n",
              "VSA_EState8               8.530e-01  2.418e-01   3.528 0.000418 ***\n",
              "VSA_EState9               9.450e-01  2.276e-01   4.151 3.30e-05 ***\n",
              "FractionCSP3              1.297e-01  1.455e-01   0.891 0.372769    \n",
              "NumAliphaticCarbocycles   3.242e-01  1.619e-01   2.002 0.045245 *  \n",
              "NumAliphaticHeterocycles -5.594e-02  2.143e-01  -0.261 0.794099    \n",
              "NumAliphaticRings                NA         NA      NA       NA    \n",
              "NumAromaticCarbocycles    2.357e-01  3.974e-01   0.593 0.553171    \n",
              "NumAromaticHeterocycles  -5.976e-01  3.483e-01  -1.716 0.086218 .  \n",
              "NumAromaticRings                 NA         NA      NA       NA    \n",
              "NumSaturatedHeterocycles  8.227e-02  1.842e-01   0.447 0.655173    \n",
              "RingCount                        NA         NA      NA       NA    \n",
              "MolLogP                  -1.258e+00  6.950e-01  -1.810 0.070370 .  \n",
              "fr_Al_COO                -3.683e-02  1.858e-01  -0.198 0.842853    \n",
              "fr_Al_OH                  5.352e-02  3.883e-01   0.138 0.890367    \n",
              "fr_ArN                    2.130e-01  8.210e-02   2.595 0.009462 ** \n",
              "fr_Ar_COO                -6.556e-02  8.011e-02  -0.818 0.413174    \n",
              "fr_Ar_N                   1.233e+00  4.211e-01   2.928 0.003416 ** \n",
              "fr_Ar_NH                 -1.729e-01  1.137e-01  -1.521 0.128284    \n",
              "fr_Ar_OH                 -9.425e-02  1.749e-01  -0.539 0.589942    \n",
              "fr_C_S                   -6.643e-02  6.502e-02  -1.022 0.306969    \n",
              "fr_HOCCN                  1.880e-02  5.001e-02   0.376 0.707016    \n",
              "fr_Imine                 -3.672e-01  1.772e-01  -2.072 0.038266 *  \n",
              "fr_NH0                   -4.142e-01  3.399e-01  -1.219 0.223012    \n",
              "fr_N_O                   -5.453e-02  6.018e-02  -0.906 0.364867    \n",
              "fr_Ndealkylation1         5.856e-02  7.256e-02   0.807 0.419618    \n",
              "fr_Ndealkylation2        -3.995e-02  1.016e-01  -0.393 0.694220    \n",
              "fr_SH                    -1.607e-01  8.599e-02  -1.869 0.061631 .  \n",
              "fr_aldehyde              -1.848e-01  8.510e-02  -2.172 0.029881 *  \n",
              "fr_alkyl_carbamate        6.137e-03  7.102e-02   0.086 0.931134    \n",
              "fr_alkyl_halide           8.795e-02  1.824e-01   0.482 0.629648    \n",
              "fr_allylic_oxid          -2.256e-02  9.750e-02  -0.231 0.817026    \n",
              "fr_amidine                4.648e-02  8.606e-02   0.540 0.589118    \n",
              "fr_aniline               -1.457e+00  3.125e-01  -4.664 3.11e-06 ***\n",
              "fr_aryl_methyl           -2.879e-02  6.783e-02  -0.424 0.671297    \n",
              "fr_azide                  5.326e-02  5.992e-02   0.889 0.374068    \n",
              "fr_azo                   -9.569e-02  6.410e-02  -1.493 0.135471    \n",
              "fr_barbitur               7.916e-03  7.473e-02   0.106 0.915640    \n",
              "fr_benzodiazepine         1.341e+00  3.200e+02   0.004 0.996656    \n",
              "fr_bicyclic               3.110e-01  1.051e-01   2.959 0.003082 ** \n",
              "fr_dihydropyridine        1.100e-01  7.893e-02   1.394 0.163272    \n",
              "fr_epoxide               -6.367e-03  5.167e-02  -0.123 0.901936    \n",
              "fr_ester                  3.904e-01  1.079e-01   3.617 0.000298 ***\n",
              "fr_ether                 -4.052e-01  2.720e-01  -1.490 0.136288    \n",
              "fr_furan                  1.007e-01  6.670e-02   1.510 0.130997    \n",
              "fr_guanido                4.524e-01  1.810e-01   2.500 0.012428 *  \n",
              "fr_halogen               -8.873e-01  3.906e-01  -2.271 0.023122 *  \n",
              "fr_hdrzine                4.182e-02  4.930e-02   0.848 0.396285    \n",
              "fr_hdrzone               -7.781e-03  6.240e-02  -0.125 0.900764    \n",
              "fr_imidazole              3.841e-02  7.734e-02   0.497 0.619468    \n",
              "fr_imide                  1.780e-01  7.207e-02   2.470 0.013514 *  \n",
              "fr_isothiocyan           -3.769e-01  3.325e+02  -0.001 0.999096    \n",
              "fr_ketone                 1.395e-03  1.477e-01   0.009 0.992465    \n",
              "fr_ketone_Topliss        -4.952e-02  1.119e-01  -0.442 0.658133    \n",
              "fr_lactam                 3.078e+00  2.986e+02   0.010 0.991775    \n",
              "fr_lactone                1.566e-02  6.705e-02   0.234 0.815333    \n",
              "fr_methoxy               -3.103e-01  9.462e-02  -3.279 0.001041 ** \n",
              "fr_morpholine            -9.260e-02  5.766e-02  -1.606 0.108281    \n",
              "fr_nitrile                2.850e-01  1.104e-01   2.583 0.009808 ** \n",
              "fr_nitro                  1.054e-01  1.252e-01   0.842 0.399627    \n",
              "fr_nitro_arom            -1.404e-01  1.223e-01  -1.148 0.251037    \n",
              "fr_nitro_arom_nonortho   -1.727e-01  8.878e-02  -1.945 0.051776 .  \n",
              "fr_nitroso               -4.856e-02  4.971e-02  -0.977 0.328617    \n",
              "fr_oxazole                3.925e-02  4.679e-02   0.839 0.401569    \n",
              "fr_oxime                 -2.524e-02  7.152e-02  -0.353 0.724191    \n",
              "fr_para_hydroxylation     1.200e-01  5.970e-02   2.010 0.044381 *  \n",
              "fr_phos_acid             -2.589e-02  9.748e-02  -0.266 0.790549    \n",
              "fr_piperdine              3.946e-02  6.654e-02   0.593 0.553127    \n",
              "fr_piperzine              5.492e-02  7.386e-02   0.744 0.457174    \n",
              "fr_priamide               1.242e-01  9.943e-02   1.249 0.211521    \n",
              "fr_pyridine               1.243e-01  8.602e-02   1.446 0.148301    \n",
              "fr_quatN                 -1.388e-01  1.159e-01  -1.197 0.231230    \n",
              "fr_sulfide               -4.193e-01  1.226e-01  -3.419 0.000628 ***\n",
              "fr_sulfonamd              4.000e-01  1.149e-01   3.481 0.000499 ***\n",
              "fr_sulfone                2.708e-02  6.752e-02   0.401 0.688342    \n",
              "fr_term_acetylene        -1.827e-02  7.030e-02  -0.260 0.794994    \n",
              "fr_tetrazole              1.858e-01  6.515e-02   2.853 0.004335 ** \n",
              "fr_thiazole              -3.739e-02  8.417e-02  -0.444 0.656829    \n",
              "fr_thiocyan              -3.295e-01  3.325e+02  -0.001 0.999209    \n",
              "fr_thiophene             -1.745e-01  1.024e-01  -1.704 0.088323 .  \n",
              "fr_unbrch_alkane          3.701e-02  9.364e-02   0.395 0.692664    \n",
              "fr_urea                  -1.096e-01  7.591e-02  -1.444 0.148612    \n",
              "AvgIpc                   -5.863e-01  1.227e-01  -4.780 1.76e-06 ***\n",
              "---\n",
              "Signif. codes:  0 ‘***’ 0.001 ‘**’ 0.01 ‘*’ 0.05 ‘.’ 0.1 ‘ ’ 1\n",
              "\n",
              "(Dispersion parameter for binomial family taken to be 1)\n",
              "\n",
              "    Null deviance: 3939.8  on 2841  degrees of freedom\n",
              "Residual deviance: 2547.3  on 2696  degrees of freedom\n",
              "AIC: 2839.3\n",
              "\n",
              "Number of Fisher Scoring iterations: 19\n"
            ]
          },
          "metadata": {}
        }
      ]
    },
    {
      "cell_type": "code",
      "source": [
        "# saving results into a dataframe\n",
        "results_df <- summary.glm(model)$coefficients\n",
        "write.csv(results_df, paste0(\"/content/lr_coefficients_\", DESCRIPTOR_TYPE, \".csv\"))"
      ],
      "metadata": {
        "id": "dFh3n9TZuNRI"
      },
      "execution_count": 6,
      "outputs": []
    },
    {
      "cell_type": "markdown",
      "source": [
        "### Calculating Predictions Probabilities"
      ],
      "metadata": {
        "id": "KiKx50v5CBrJ"
      }
    },
    {
      "cell_type": "code",
      "source": [
        "y_predict_proba_train <- predict(model, newdata=train, type=\"response\")\n",
        "y_predict_proba_test <- predict(model, newdata=test, type=\"response\")"
      ],
      "metadata": {
        "colab": {
          "base_uri": "https://localhost:8080/"
        },
        "id": "tNU2Ngu_BYbh",
        "outputId": "4af5ebae-fcb0-4bd4-e467-85661227a785"
      },
      "execution_count": 7,
      "outputs": [
        {
          "output_type": "stream",
          "name": "stderr",
          "text": [
            "Warning message in predict.lm(object, newdata, se.fit, scale = 1, type = if (type == :\n",
            "“prediction from rank-deficient fit; attr(*, \"non-estim\") has doubtful cases”\n"
          ]
        }
      ]
    },
    {
      "cell_type": "code",
      "source": [
        "write.csv(y_predict_proba_train, paste0(\"/content/y_predict_proba_train_\", DESCRIPTOR_TYPE, \".csv\"))\n",
        "write.csv(y_predict_proba_test, paste0(\"/content/y_predict_proba_test_\", DESCRIPTOR_TYPE, \".csv\"))"
      ],
      "metadata": {
        "id": "td7HZgXaCH3Z"
      },
      "execution_count": 8,
      "outputs": []
    }
  ]
}