{
  "cells": [
    {
      "cell_type": "markdown",
      "metadata": {
        "id": "LRvwU-Mw8SPl"
      },
      "source": [
        "# Logistic Regression"
      ]
    },
    {
      "cell_type": "markdown",
      "metadata": {
        "id": "CwMZ-FaJ8JhZ"
      },
      "source": [
        "Here, I will run the logistics regression. The dataset has already been cleaned and separated into training and test datasets"
      ]
    },
    {
      "cell_type": "markdown",
      "metadata": {
        "id": "q-XmgbpD8Nu-"
      },
      "source": [
        "## Reading CSVs"
      ]
    },
    {
      "cell_type": "code",
      "execution_count": 1,
      "metadata": {
        "id": "IaY4kb1YTsJf"
      },
      "outputs": [],
      "source": [
        "DESCRIPTOR_TYPE <- \"rdkit\""
      ]
    },
    {
      "cell_type": "code",
      "execution_count": 2,
      "metadata": {
        "id": "GzyWX6tDqxJA"
      },
      "outputs": [],
      "source": [
        "train <- read.csv(paste0(\"/content/train_\", DESCRIPTOR_TYPE, \".csv\"))"
      ]
    },
    {
      "cell_type": "code",
      "execution_count": 3,
      "metadata": {
        "id": "1zaACa_BADnz"
      },
      "outputs": [],
      "source": [
        "test <- read.csv(paste0(\"/content/test_\", DESCRIPTOR_TYPE, \".csv\"))"
      ]
    },
    {
      "cell_type": "code",
      "execution_count": 4,
      "metadata": {
        "colab": {
          "base_uri": "https://localhost:8080/",
          "height": 34
        },
        "id": "ScyHHnjtP4Uf",
        "outputId": "babe0a7d-6f4b-48f8-c43e-f830c2e1019f"
      },
      "outputs": [
        {
          "output_type": "display_data",
          "data": {
            "text/html": [
              "<style>\n",
              ".list-inline {list-style: none; margin:0; padding: 0}\n",
              ".list-inline>li {display: inline-block}\n",
              ".list-inline>li:not(:last-child)::after {content: \"\\00b7\"; padding: 0 .5ex}\n",
              "</style>\n",
              "<ol class=list-inline><li>2842</li><li>164</li></ol>\n"
            ],
            "text/markdown": "1. 2842\n2. 164\n\n\n",
            "text/latex": "\\begin{enumerate*}\n\\item 2842\n\\item 164\n\\end{enumerate*}\n",
            "text/plain": [
              "[1] 2842  164"
            ]
          },
          "metadata": {}
        }
      ],
      "source": [
        "dim(train)"
      ]
    },
    {
      "cell_type": "code",
      "execution_count": 5,
      "metadata": {
        "colab": {
          "base_uri": "https://localhost:8080/",
          "height": 34
        },
        "id": "R5XlQhgzP4XG",
        "outputId": "18a0e788-4d09-4f59-a50d-75ee83626950"
      },
      "outputs": [
        {
          "output_type": "display_data",
          "data": {
            "text/html": [
              "<style>\n",
              ".list-inline {list-style: none; margin:0; padding: 0}\n",
              ".list-inline>li {display: inline-block}\n",
              ".list-inline>li:not(:last-child)::after {content: \"\\00b7\"; padding: 0 .5ex}\n",
              "</style>\n",
              "<ol class=list-inline><li>948</li><li>164</li></ol>\n"
            ],
            "text/markdown": "1. 948\n2. 164\n\n\n",
            "text/latex": "\\begin{enumerate*}\n\\item 948\n\\item 164\n\\end{enumerate*}\n",
            "text/plain": [
              "[1] 948 164"
            ]
          },
          "metadata": {}
        }
      ],
      "source": [
        "dim(test)"
      ]
    },
    {
      "cell_type": "markdown",
      "metadata": {
        "id": "PLmfvZjtABN5"
      },
      "source": [
        "### Calculating model"
      ]
    },
    {
      "cell_type": "code",
      "execution_count": 6,
      "metadata": {
        "id": "qRjZZOIwt_k5",
        "colab": {
          "base_uri": "https://localhost:8080/"
        },
        "outputId": "16c01a96-ab39-4f03-806c-5e91942d6928"
      },
      "outputs": [
        {
          "output_type": "stream",
          "name": "stderr",
          "text": [
            "Warning message:\n",
            "“glm.fit: fitted probabilities numerically 0 or 1 occurred”\n"
          ]
        }
      ],
      "source": [
        "model <- glm(fda_approved ~.,family=binomial(link='logit'),data=train)"
      ]
    },
    {
      "cell_type": "code",
      "execution_count": 7,
      "metadata": {
        "id": "eGhTh6ukuEf9",
        "colab": {
          "base_uri": "https://localhost:8080/",
          "height": 1000
        },
        "outputId": "8ce25a24-e336-4e09-871b-60bfca4c441a"
      },
      "outputs": [
        {
          "output_type": "display_data",
          "data": {
            "text/plain": [
              "\n",
              "Call:\n",
              "glm(formula = fda_approved ~ ., family = binomial(link = \"logit\"), \n",
              "    data = train)\n",
              "\n",
              "Coefficients: (6 not defined because of singularities)\n",
              "                           Estimate Std. Error z value Pr(>|z|)    \n",
              "(Intercept)               1.287e+00  2.092e+01   0.062 0.950931    \n",
              "X                         1.289e-05  7.508e-05   0.172 0.863662    \n",
              "const                            NA         NA      NA       NA    \n",
              "MaxEStateIndex           -4.574e-02  1.259e-01  -0.363 0.716466    \n",
              "MinEStateIndex           -2.541e-01  1.949e-01  -1.304 0.192250    \n",
              "MinAbsEStateIndex        -1.993e-02  1.009e-01  -0.197 0.843454    \n",
              "qed                      -7.661e-01  1.266e-01  -6.049 1.45e-09 ***\n",
              "MolWt                    -3.050e+00  2.977e+00  -1.025 0.305591    \n",
              "NumRadicalElectrons       2.492e-01  1.223e+02   0.002 0.998375    \n",
              "MaxPartialCharge         -1.935e-01  1.416e-01  -1.366 0.171834    \n",
              "MinPartialCharge         -3.246e-02  9.873e-02  -0.329 0.742342    \n",
              "FpDensityMorgan1         -3.362e-01  1.200e-01  -2.802 0.005072 ** \n",
              "BCUT2D_MWHI              -3.730e-01  2.329e-01  -1.601 0.109275    \n",
              "BCUT2D_MWLOW             -3.008e-01  1.139e-01  -2.641 0.008267 ** \n",
              "BCUT2D_CHGHI             -7.672e-01  2.641e-01  -2.905 0.003672 ** \n",
              "BCUT2D_CHGLO              1.394e-01  2.519e-01   0.553 0.579985    \n",
              "BCUT2D_LOGPHI             6.627e-01  2.109e-01   3.142 0.001675 ** \n",
              "BCUT2D_LOGPLOW           -2.618e-01  2.121e-01  -1.234 0.217106    \n",
              "BCUT2D_MRHI               7.687e-03  2.247e-01   0.034 0.972708    \n",
              "BCUT2D_MRLOW              1.030e-01  1.211e-01   0.850 0.395417    \n",
              "BalabanJ                  9.965e-01  1.756e-01   5.674 1.39e-08 ***\n",
              "BertzCT                  -7.366e-01  1.121e+00  -0.657 0.511178    \n",
              "HallKierAlpha             2.015e+00  1.097e+00   1.837 0.066145 .  \n",
              "Ipc                      -1.325e+00  1.347e+02  -0.010 0.992150    \n",
              "Kappa3                   -7.893e-02  1.439e-01  -0.549 0.583276    \n",
              "PEOE_VSA1                 3.498e+00  1.422e+00   2.460 0.013888 *  \n",
              "PEOE_VSA10                1.093e+00  1.050e+00   1.042 0.297530    \n",
              "PEOE_VSA11                6.040e-01  7.275e-01   0.830 0.406411    \n",
              "PEOE_VSA12                1.748e-01  6.441e-01   0.271 0.786054    \n",
              "PEOE_VSA13                5.518e-01  5.023e-01   1.099 0.271910    \n",
              "PEOE_VSA14                9.958e-01  1.009e+00   0.987 0.323591    \n",
              "PEOE_VSA2                 1.915e+00  7.958e-01   2.406 0.016121 *  \n",
              "PEOE_VSA3                 1.871e+00  6.900e-01   2.712 0.006697 ** \n",
              "PEOE_VSA4                 8.029e-01  5.427e-01   1.480 0.138982    \n",
              "PEOE_VSA5                 1.113e+00  6.236e-01   1.785 0.074310 .  \n",
              "PEOE_VSA6                 2.342e+00  2.185e+00   1.072 0.283694    \n",
              "PEOE_VSA7                 2.482e+00  2.360e+00   1.052 0.292825    \n",
              "PEOE_VSA8                 1.375e+00  1.610e+00   0.854 0.393246    \n",
              "PEOE_VSA9                 1.162e+00  1.295e+00   0.898 0.369422    \n",
              "SMR_VSA1                  1.967e+00  1.334e+00   1.474 0.140363    \n",
              "SMR_VSA10                -5.544e-02  3.293e-01  -0.168 0.866322    \n",
              "SMR_VSA2                  3.786e-01  2.699e-01   1.403 0.160658    \n",
              "SMR_VSA3                  1.522e+00  6.943e-01   2.193 0.028331 *  \n",
              "SMR_VSA4                  1.624e-01  4.716e-01   0.344 0.730571    \n",
              "SMR_VSA5                  2.968e+00  1.641e+00   1.808 0.070542 .  \n",
              "SMR_VSA6                  1.788e+00  9.276e-01   1.928 0.053904 .  \n",
              "SMR_VSA7                  3.062e+00  1.440e+00   2.127 0.033454 *  \n",
              "SMR_VSA9                         NA         NA      NA       NA    \n",
              "SlogP_VSA1               -2.031e+00  6.380e-01  -3.183 0.001459 ** \n",
              "SlogP_VSA10               2.878e+00  5.985e-01   4.810 1.51e-06 ***\n",
              "SlogP_VSA11               1.765e+00  4.806e-01   3.672 0.000241 ***\n",
              "SlogP_VSA12               7.231e-01  7.268e-01   0.995 0.319743    \n",
              "SlogP_VSA2               -2.623e+00  1.250e+00  -2.099 0.035849 *  \n",
              "SlogP_VSA3               -7.964e-01  3.221e-01  -2.472 0.013419 *  \n",
              "SlogP_VSA4               -5.094e-01  2.717e-01  -1.875 0.060779 .  \n",
              "SlogP_VSA5               -6.606e-01  4.926e-01  -1.341 0.179875    \n",
              "SlogP_VSA7                4.114e-01  2.410e-01   1.708 0.087725 .  \n",
              "SlogP_VSA8                9.794e-01  4.278e-01   2.290 0.022043 *  \n",
              "TPSA                      1.762e+00  1.336e+00   1.319 0.187152    \n",
              "EState_VSA1               2.138e+00  1.020e+00   2.095 0.036148 *  \n",
              "EState_VSA10             -3.382e-02  4.583e-01  -0.074 0.941170    \n",
              "EState_VSA11              4.038e+00  1.183e+02   0.034 0.972768    \n",
              "EState_VSA2               8.067e-01  5.378e-01   1.500 0.133663    \n",
              "EState_VSA3               8.416e-01  5.926e-01   1.420 0.155584    \n",
              "EState_VSA4               1.226e+00  7.359e-01   1.666 0.095756 .  \n",
              "EState_VSA5               1.006e+00  5.597e-01   1.797 0.072287 .  \n",
              "EState_VSA6               9.582e-01  5.663e-01   1.692 0.090660 .  \n",
              "EState_VSA7               1.373e+00  7.219e-01   1.902 0.057155 .  \n",
              "EState_VSA8               1.407e+00  6.593e-01   2.134 0.032838 *  \n",
              "EState_VSA9                      NA         NA      NA       NA    \n",
              "VSA_EState1              -3.876e+00  1.866e+00  -2.078 0.037755 *  \n",
              "VSA_EState10              2.003e-02  7.623e-01   0.026 0.979036    \n",
              "VSA_EState2              -4.056e+00  1.731e+00  -2.343 0.019108 *  \n",
              "VSA_EState3              -1.828e+00  1.496e+00  -1.223 0.221505    \n",
              "VSA_EState4              -7.927e-01  4.683e-01  -1.693 0.090487 .  \n",
              "VSA_EState5               2.598e-02  3.066e-01   0.085 0.932484    \n",
              "VSA_EState6              -2.346e+00  1.118e+00  -2.098 0.035911 *  \n",
              "VSA_EState7              -9.617e-01  6.903e-01  -1.393 0.163572    \n",
              "VSA_EState8              -8.499e-01  5.640e-01  -1.507 0.131826    \n",
              "VSA_EState9               2.615e-01  3.963e-01   0.660 0.509271    \n",
              "FractionCSP3              1.360e-03  2.578e-01   0.005 0.995790    \n",
              "NHOHCount                 3.526e+00  2.135e+00   1.652 0.098608 .  \n",
              "NumAliphaticCarbocycles   3.189e-01  4.408e-01   0.724 0.469372    \n",
              "NumAliphaticHeterocycles  1.497e-01  3.807e-01   0.393 0.694115    \n",
              "NumAliphaticRings                NA         NA      NA       NA    \n",
              "NumAromaticCarbocycles    1.127e-01  5.979e-01   0.188 0.850487    \n",
              "NumAromaticHeterocycles  -2.102e-01  5.041e-01  -0.417 0.676708    \n",
              "NumAromaticRings                 NA         NA      NA       NA    \n",
              "NumRotatableBonds        -2.496e-02  2.591e-01  -0.096 0.923259    \n",
              "NumSaturatedHeterocycles  2.276e-01  2.976e-01   0.765 0.444374    \n",
              "NumSaturatedRings        -2.473e-01  3.798e-01  -0.651 0.515009    \n",
              "RingCount                        NA         NA      NA       NA    \n",
              "MolLogP                  -4.648e+00  1.157e+00  -4.019 5.84e-05 ***\n",
              "fr_Al_COO                -6.983e-01  5.007e-01  -1.395 0.163116    \n",
              "fr_Al_OH                 -4.262e+00  1.150e+00  -3.705 0.000211 ***\n",
              "fr_ArN                   -2.630e-01  1.433e-01  -1.835 0.066561 .  \n",
              "fr_Ar_COO                -4.562e-01  2.312e-01  -1.973 0.048447 *  \n",
              "fr_Ar_N                   1.751e+00  5.690e-01   3.077 0.002088 ** \n",
              "fr_Ar_NH                  1.411e-01  1.098e-01   1.286 0.198574    \n",
              "fr_Ar_OH                 -1.803e+00  4.882e-01  -3.694 0.000220 ***\n",
              "fr_C_O                    9.967e-01  1.060e+00   0.940 0.346991    \n",
              "fr_C_S                   -7.975e-02  9.837e-02  -0.811 0.417546    \n",
              "fr_HOCCN                  1.143e-01  6.278e-02   1.820 0.068719 .  \n",
              "fr_Imine                  4.029e-01  1.551e-01   2.597 0.009406 ** \n",
              "fr_NH0                   -4.818e+00  7.628e-01  -6.316 2.68e-10 ***\n",
              "fr_NH1                   -4.640e+00  1.168e+00  -3.974 7.07e-05 ***\n",
              "fr_NH2                   -1.793e+00  1.052e+00  -1.704 0.088340 .  \n",
              "fr_N_O                   -4.488e-02  7.228e-02  -0.621 0.534633    \n",
              "fr_Ndealkylation1         2.234e-01  8.028e-02   2.783 0.005382 ** \n",
              "fr_Ndealkylation2        -1.041e-01  9.383e-02  -1.109 0.267274    \n",
              "fr_SH                    -2.551e-01  7.504e-02  -3.400 0.000674 ***\n",
              "fr_aldehyde              -2.175e-01  8.450e-02  -2.574 0.010045 *  \n",
              "fr_alkyl_carbamate        2.231e-01  9.667e-02   2.307 0.021031 *  \n",
              "fr_alkyl_halide           4.864e-01  2.780e-01   1.749 0.080209 .  \n",
              "fr_allylic_oxid          -1.772e-01  1.609e-01  -1.101 0.270757    \n",
              "fr_amide                 -6.098e-01  7.726e-01  -0.789 0.429907    \n",
              "fr_amidine                3.574e-01  9.731e-02   3.672 0.000240 ***\n",
              "fr_aniline                1.678e-01  3.809e-01   0.440 0.659605    \n",
              "fr_aryl_methyl           -3.415e-01  1.065e-01  -3.206 0.001348 ** \n",
              "fr_azide                  4.765e-01  1.223e+02   0.004 0.996892    \n",
              "fr_azo                    1.871e-01  1.609e-01   1.162 0.245071    \n",
              "fr_barbitur              -3.404e-02  6.709e-02  -0.507 0.611916    \n",
              "fr_benzodiazepine         1.235e+00  1.132e+02   0.011 0.991298    \n",
              "fr_bicyclic               5.045e-01  1.650e-01   3.058 0.002225 ** \n",
              "fr_dihydropyridine        2.100e-01  7.525e-02   2.791 0.005249 ** \n",
              "fr_epoxide                7.213e-03  7.475e-02   0.096 0.923134    \n",
              "fr_ester                 -1.274e-01  3.590e-01  -0.355 0.722582    \n",
              "fr_ether                 -2.199e+00  4.743e-01  -4.637 3.53e-06 ***\n",
              "fr_furan                 -1.763e-01  9.770e-02  -1.804 0.071154 .  \n",
              "fr_guanido                2.906e-01  1.039e-01   2.798 0.005149 ** \n",
              "fr_halogen               -1.016e+00  7.839e-01  -1.296 0.195027    \n",
              "fr_hdrzine                1.304e-01  7.857e-02   1.660 0.096940 .  \n",
              "fr_hdrzone                4.779e-01  1.130e-01   4.230 2.34e-05 ***\n",
              "fr_imidazole              1.980e-01  8.266e-02   2.396 0.016573 *  \n",
              "fr_imide                  2.233e-01  9.019e-02   2.476 0.013290 *  \n",
              "fr_ketone                 4.809e-01  4.099e-01   1.173 0.240634    \n",
              "fr_ketone_Topliss        -5.307e-01  1.912e-01  -2.775 0.005523 ** \n",
              "fr_lactam                 4.922e-01  1.377e-01   3.574 0.000352 ***\n",
              "fr_lactone                2.540e-01  7.926e-02   3.205 0.001351 ** \n",
              "fr_methoxy               -2.249e-01  1.195e-01  -1.882 0.059899 .  \n",
              "fr_morpholine             1.658e-02  7.955e-02   0.208 0.834909    \n",
              "fr_nitrile                4.555e-01  2.091e-01   2.178 0.029377 *  \n",
              "fr_nitro                  5.704e-03  1.828e-01   0.031 0.975101    \n",
              "fr_nitro_arom_nonortho   -2.955e-01  1.074e-01  -2.750 0.005954 ** \n",
              "fr_nitroso                6.781e-01  1.075e+02   0.006 0.994965    \n",
              "fr_oxazole               -7.648e-02  7.565e-02  -1.011 0.312056    \n",
              "fr_oxime                 -6.811e-03  1.084e-01  -0.063 0.949883    \n",
              "fr_para_hydroxylation    -1.436e-01  7.026e-02  -2.044 0.040925 *  \n",
              "fr_phos_acid             -5.156e-01  2.440e-01  -2.113 0.034562 *  \n",
              "fr_piperdine              1.719e-01  9.886e-02   1.739 0.082084 .  \n",
              "fr_piperzine              1.943e-01  1.003e-01   1.937 0.052767 .  \n",
              "fr_priamide              -3.736e-03  9.779e-02  -0.038 0.969524    \n",
              "fr_pyridine               2.319e-01  1.006e-01   2.306 0.021114 *  \n",
              "fr_quatN                  2.642e+00  1.080e+02   0.024 0.980481    \n",
              "fr_sulfide               -1.017e+00  1.683e-01  -6.045 1.49e-09 ***\n",
              "fr_sulfonamd              2.828e-01  2.368e-01   1.194 0.232367    \n",
              "fr_sulfone               -1.120e-01  1.186e-01  -0.944 0.345101    \n",
              "fr_term_acetylene         4.713e-02  1.062e-01   0.444 0.657262    \n",
              "fr_tetrazole              7.981e-02  7.784e-02   1.025 0.305248    \n",
              "fr_thiazole              -3.785e-01  1.435e-01  -2.638 0.008341 ** \n",
              "fr_thiophene             -4.753e-01  1.510e-01  -3.149 0.001639 ** \n",
              "fr_unbrch_alkane          2.843e-03  1.341e-01   0.021 0.983091    \n",
              "fr_urea                  -1.612e-01  2.325e-01  -0.693 0.488087    \n",
              "AvgIpc                   -3.276e-02  1.290e-01  -0.254 0.799572    \n",
              "---\n",
              "Signif. codes:  0 ‘***’ 0.001 ‘**’ 0.01 ‘*’ 0.05 ‘.’ 0.1 ‘ ’ 1\n",
              "\n",
              "(Dispersion parameter for binomial family taken to be 1)\n",
              "\n",
              "    Null deviance: 3939.8  on 2841  degrees of freedom\n",
              "Residual deviance: 1849.8  on 2684  degrees of freedom\n",
              "AIC: 2165.8\n",
              "\n",
              "Number of Fisher Scoring iterations: 17\n"
            ]
          },
          "metadata": {}
        }
      ],
      "source": [
        "summary(model)"
      ]
    },
    {
      "cell_type": "code",
      "execution_count": 8,
      "metadata": {
        "id": "dFh3n9TZuNRI"
      },
      "outputs": [],
      "source": [
        "# saving results into a dataframe\n",
        "results_df <- summary.glm(model)$coefficients\n",
        "write.csv(results_df, paste0(\"/content/lr_coefficients_\", DESCRIPTOR_TYPE, \".csv\"))"
      ]
    },
    {
      "cell_type": "markdown",
      "metadata": {
        "id": "KiKx50v5CBrJ"
      },
      "source": [
        "### Calculating Predictions Probabilities"
      ]
    },
    {
      "cell_type": "code",
      "execution_count": 9,
      "metadata": {
        "id": "tNU2Ngu_BYbh",
        "colab": {
          "base_uri": "https://localhost:8080/"
        },
        "outputId": "d70d1c40-6956-484a-c572-7797da3c96a0"
      },
      "outputs": [
        {
          "output_type": "stream",
          "name": "stderr",
          "text": [
            "Warning message in predict.lm(object, newdata, se.fit, scale = 1, type = if (type == :\n",
            "“prediction from rank-deficient fit; attr(*, \"non-estim\") has doubtful cases”\n"
          ]
        }
      ],
      "source": [
        "y_predict_proba_train <- predict(model, newdata=train, type=\"response\")\n",
        "y_predict_proba_test <- predict(model, newdata=test, type=\"response\")"
      ]
    },
    {
      "cell_type": "code",
      "execution_count": 10,
      "metadata": {
        "id": "td7HZgXaCH3Z"
      },
      "outputs": [],
      "source": [
        "write.csv(y_predict_proba_train, paste0(\"/content/y_predict_proba_train_\", DESCRIPTOR_TYPE, \".csv\"))\n",
        "write.csv(y_predict_proba_test, paste0(\"/content/y_predict_proba_test_\", DESCRIPTOR_TYPE, \".csv\"))"
      ]
    },
    {
      "cell_type": "code",
      "execution_count": null,
      "metadata": {
        "id": "Jp-1AHbwOO6b"
      },
      "outputs": [],
      "source": []
    }
  ],
  "metadata": {
    "colab": {
      "provenance": []
    },
    "kernelspec": {
      "display_name": "R",
      "name": "ir"
    },
    "language_info": {
      "name": "R"
    }
  },
  "nbformat": 4,
  "nbformat_minor": 0
}