{
  "cells": [
    {
      "cell_type": "markdown",
      "metadata": {
        "id": "LRvwU-Mw8SPl"
      },
      "source": [
        "# Logistic Regression"
      ]
    },
    {
      "cell_type": "markdown",
      "metadata": {
        "id": "CwMZ-FaJ8JhZ"
      },
      "source": [
        "Here, I will run the logistics regression. The dataset has already been cleaned and separated into training and test datasets"
      ]
    },
    {
      "cell_type": "markdown",
      "metadata": {
        "id": "q-XmgbpD8Nu-"
      },
      "source": [
        "## Reading CSVs"
      ]
    },
    {
      "cell_type": "code",
      "execution_count": 1,
      "metadata": {
        "id": "IaY4kb1YTsJf"
      },
      "outputs": [],
      "source": [
        "DESCRIPTOR_TYPE <- \"rdkit\""
      ]
    },
    {
      "cell_type": "code",
      "execution_count": 2,
      "metadata": {
        "id": "GzyWX6tDqxJA"
      },
      "outputs": [],
      "source": [
        "train <- read.csv(paste0(\"/content/train_\", DESCRIPTOR_TYPE, \".csv\"))"
      ]
    },
    {
      "cell_type": "code",
      "execution_count": 3,
      "metadata": {
        "id": "1zaACa_BADnz"
      },
      "outputs": [],
      "source": [
        "test <- read.csv(paste0(\"/content/test_\", DESCRIPTOR_TYPE, \".csv\"))"
      ]
    },
    {
      "cell_type": "markdown",
      "metadata": {
        "id": "PLmfvZjtABN5"
      },
      "source": [
        "### Calculating model"
      ]
    },
    {
      "cell_type": "code",
      "execution_count": 4,
      "metadata": {
        "id": "qRjZZOIwt_k5"
      },
      "outputs": [],
      "source": [
        "model <- glm(fda_approved ~.,family=binomial(link='logit'),data=train)"
      ]
    },
    {
      "cell_type": "code",
      "execution_count": 5,
      "metadata": {
        "colab": {
          "base_uri": "https://localhost:8080/",
          "height": 1000
        },
        "id": "eGhTh6ukuEf9",
        "outputId": "a7aed3bf-0242-4192-f35b-0baa27debf99"
      },
      "outputs": [
        {
          "output_type": "display_data",
          "data": {
            "text/plain": [
              "\n",
              "Call:\n",
              "glm(formula = fda_approved ~ ., family = binomial(link = \"logit\"), \n",
              "    data = train)\n",
              "\n",
              "Coefficients: (7 not defined because of singularities)\n",
              "                           Estimate Std. Error z value Pr(>|z|)    \n",
              "(Intercept)              -9.761e-02  1.732e+00  -0.056 0.955046    \n",
              "X                         2.050e-05  5.947e-05   0.345 0.730352    \n",
              "const                            NA         NA      NA       NA    \n",
              "MaxEStateIndex           -1.478e-01  1.227e-01  -1.205 0.228348    \n",
              "MinEStateIndex           -1.341e-02  1.612e-01  -0.083 0.933713    \n",
              "MinAbsEStateIndex        -1.984e-02  9.860e-02  -0.201 0.840552    \n",
              "qed                       3.962e-01  8.709e-02   4.550 5.37e-06 ***\n",
              "MolWt                     4.448e-01  1.462e+00   0.304 0.760953    \n",
              "NumRadicalElectrons       1.778e-02  5.645e-02   0.315 0.752738    \n",
              "MaxPartialCharge         -2.046e-01  1.352e-01  -1.514 0.130028    \n",
              "MinPartialCharge         -4.484e-01  1.650e-01  -2.718 0.006566 ** \n",
              "MaxAbsPartialCharge      -6.491e-02  1.517e-01  -0.428 0.668795    \n",
              "FpDensityMorgan1          1.973e-01  8.805e-02   2.241 0.025058 *  \n",
              "BCUT2D_MWHI               1.223e-02  1.614e-01   0.076 0.939595    \n",
              "BCUT2D_MWLOW             -2.673e-01  1.723e-01  -1.551 0.120801    \n",
              "BCUT2D_CHGHI              5.653e-01  2.504e-01   2.257 0.023999 *  \n",
              "BCUT2D_CHGLO              7.210e-01  2.437e-01   2.959 0.003085 ** \n",
              "BCUT2D_LOGPHI             6.118e-01  2.034e-01   3.008 0.002627 ** \n",
              "BCUT2D_LOGPLOW           -9.386e-01  2.147e-01  -4.373 1.23e-05 ***\n",
              "BCUT2D_MRHI               1.616e-01  1.815e-01   0.891 0.373197    \n",
              "BCUT2D_MRLOW              1.386e-03  1.148e-01   0.012 0.990367    \n",
              "BalabanJ                 -7.019e-01  1.286e-01  -5.459 4.77e-08 ***\n",
              "HallKierAlpha             6.612e-01  8.355e-01   0.791 0.428767    \n",
              "Ipc                      -1.734e-01  7.906e-02  -2.194 0.028254 *  \n",
              "Kappa3                   -2.363e-01  2.874e-01  -0.822 0.411014    \n",
              "PEOE_VSA1                 1.119e-01  9.919e-01   0.113 0.910180    \n",
              "PEOE_VSA10               -1.328e+00  7.294e-01  -1.821 0.068603 .  \n",
              "PEOE_VSA11               -6.080e-01  4.177e-01  -1.455 0.145560    \n",
              "PEOE_VSA12               -5.048e-01  3.703e-01  -1.363 0.172738    \n",
              "PEOE_VSA13               -3.537e-01  2.710e-01  -1.305 0.191869    \n",
              "PEOE_VSA14               -6.380e-01  6.474e-01  -0.985 0.324411    \n",
              "PEOE_VSA2                 7.128e-03  4.856e-01   0.015 0.988288    \n",
              "PEOE_VSA3                -1.855e-01  4.074e-01  -0.455 0.648774    \n",
              "PEOE_VSA4                -4.265e-01  3.519e-01  -1.212 0.225611    \n",
              "PEOE_VSA5                -3.966e-01  3.562e-01  -1.113 0.265503    \n",
              "PEOE_VSA6                -2.171e+00  1.486e+00  -1.461 0.143916    \n",
              "PEOE_VSA7                -2.194e+00  1.589e+00  -1.381 0.167323    \n",
              "PEOE_VSA8                -1.320e+00  9.507e-01  -1.388 0.165051    \n",
              "PEOE_VSA9                -1.114e+00  8.078e-01  -1.379 0.167802    \n",
              "SMR_VSA1                 -3.681e-01  7.904e-01  -0.466 0.641378    \n",
              "SMR_VSA10                -6.266e-01  3.767e-01  -1.663 0.096251 .  \n",
              "SMR_VSA2                 -4.407e-02  1.925e-01  -0.229 0.818926    \n",
              "SMR_VSA3                  5.702e-01  5.583e-01   1.021 0.307110    \n",
              "SMR_VSA4                  4.327e-02  3.935e-01   0.110 0.912446    \n",
              "SMR_VSA5                  3.380e-01  1.470e+00   0.230 0.818179    \n",
              "SMR_VSA6                  2.527e-01  6.836e-01   0.370 0.711646    \n",
              "SMR_VSA7                  8.971e-01  1.122e+00   0.799 0.424115    \n",
              "SMR_VSA9                         NA         NA      NA       NA    \n",
              "SlogP_VSA1               -4.784e-01  5.202e-01  -0.920 0.357714    \n",
              "SlogP_VSA10               1.212e+00  4.697e-01   2.580 0.009884 ** \n",
              "SlogP_VSA11               5.360e-01  3.596e-01   1.491 0.136074    \n",
              "SlogP_VSA12               6.487e-01  5.339e-01   1.215 0.224364    \n",
              "SlogP_VSA2                1.995e-01  1.147e+00   0.174 0.861853    \n",
              "SlogP_VSA3                2.179e-01  2.722e-01   0.800 0.423432    \n",
              "SlogP_VSA4                2.761e-01  2.309e-01   1.196 0.231849    \n",
              "SlogP_VSA5                1.168e+00  4.755e-01   2.457 0.014023 *  \n",
              "SlogP_VSA7               -7.584e-02  1.608e-01  -0.472 0.637146    \n",
              "SlogP_VSA8                6.454e-01  2.711e-01   2.381 0.017281 *  \n",
              "TPSA                     -4.201e-01  1.293e+00  -0.325 0.745190    \n",
              "EState_VSA1               2.788e-01  8.488e-01   0.328 0.742547    \n",
              "EState_VSA10             -6.986e-01  2.754e-01  -2.536 0.011198 *  \n",
              "EState_VSA11             -5.495e-02  1.094e-01  -0.502 0.615373    \n",
              "EState_VSA2               2.212e-01  4.239e-01   0.522 0.601878    \n",
              "EState_VSA3               4.219e-01  4.157e-01   1.015 0.310106    \n",
              "EState_VSA4               3.732e-01  5.196e-01   0.718 0.472592    \n",
              "EState_VSA5               2.772e-01  5.108e-01   0.543 0.587439    \n",
              "EState_VSA6               2.611e-01  3.909e-01   0.668 0.504270    \n",
              "EState_VSA7               3.032e-01  4.693e-01   0.646 0.518158    \n",
              "EState_VSA8               3.529e-01  5.067e-01   0.696 0.486148    \n",
              "EState_VSA9                      NA         NA      NA       NA    \n",
              "VSA_EState1               3.293e+00  1.413e+00   2.331 0.019764 *  \n",
              "VSA_EState10              1.455e+00  5.088e-01   2.859 0.004250 ** \n",
              "VSA_EState2               2.224e+00  1.433e+00   1.552 0.120709    \n",
              "VSA_EState3               4.297e+00  1.478e+00   2.907 0.003648 ** \n",
              "VSA_EState4               7.949e-01  3.965e-01   2.005 0.044962 *  \n",
              "VSA_EState5               1.096e+00  2.870e-01   3.817 0.000135 ***\n",
              "VSA_EState6               2.491e+00  7.711e-01   3.230 0.001238 ** \n",
              "VSA_EState7               2.016e+00  6.054e-01   3.330 0.000869 ***\n",
              "VSA_EState8               9.113e-01  4.006e-01   2.275 0.022926 *  \n",
              "VSA_EState9               8.284e-01  2.656e-01   3.118 0.001818 ** \n",
              "FractionCSP3             -2.107e-01  1.473e-01  -1.430 0.152695    \n",
              "NHOHCount                 4.055e-01  7.127e-01   0.569 0.569388    \n",
              "NumAliphaticCarbocycles  -4.042e-01  1.930e-01  -2.094 0.036279 *  \n",
              "NumAliphaticHeterocycles -4.540e-01  2.539e-01  -1.788 0.073744 .  \n",
              "NumAliphaticRings                NA         NA      NA       NA    \n",
              "NumAromaticCarbocycles   -7.375e-01  4.154e-01  -1.775 0.075875 .  \n",
              "NumAromaticHeterocycles  -1.527e-01  3.134e-01  -0.487 0.626162    \n",
              "NumAromaticRings                 NA         NA      NA       NA    \n",
              "NumRotatableBonds         3.566e-01  2.026e-01   1.760 0.078448 .  \n",
              "NumSaturatedHeterocycles  3.399e-01  1.875e-01   1.813 0.069880 .  \n",
              "RingCount                        NA         NA      NA       NA    \n",
              "MolLogP                  -1.466e+00  8.876e-01  -1.652 0.098535 .  \n",
              "fr_Al_COO                -1.731e-01  1.961e-01  -0.883 0.377500    \n",
              "fr_Al_OH                 -1.573e+00  5.111e-01  -3.078 0.002085 ** \n",
              "fr_ArN                   -1.893e-01  1.185e-01  -1.598 0.110071    \n",
              "fr_Ar_COO                -1.365e-02  1.036e-01  -0.132 0.895139    \n",
              "fr_Ar_N                  -1.292e-01  3.534e-01  -0.366 0.714657    \n",
              "fr_Ar_NH                  2.848e-01  9.622e-02   2.960 0.003073 ** \n",
              "fr_Ar_OH                 -6.429e-01  2.285e-01  -2.813 0.004903 ** \n",
              "fr_COO                           NA         NA      NA       NA    \n",
              "fr_C_S                   -1.040e-02  7.121e-02  -0.146 0.883925    \n",
              "fr_HOCCN                 -3.128e-02  4.797e-02  -0.652 0.514344    \n",
              "fr_Imine                  7.850e-02  1.238e-01   0.634 0.526047    \n",
              "fr_NH0                   -4.563e-01  5.495e-01  -0.830 0.406277    \n",
              "fr_NH1                   -7.401e-01  5.114e-01  -1.447 0.147845    \n",
              "fr_NH2                   -2.297e-01  3.789e-01  -0.606 0.544483    \n",
              "fr_N_O                   -8.636e-02  5.391e-02  -1.602 0.109154    \n",
              "fr_Ndealkylation1         1.033e-01  6.502e-02   1.588 0.112291    \n",
              "fr_Ndealkylation2         7.946e-02  6.446e-02   1.233 0.217686    \n",
              "fr_SH                    -1.430e-02  7.280e-02  -0.196 0.844225    \n",
              "fr_aldehyde              -1.238e-01  1.091e-01  -1.135 0.256402    \n",
              "fr_alkyl_carbamate        4.769e-02  6.974e-02   0.684 0.494030    \n",
              "fr_alkyl_halide          -2.587e-01  2.298e-01  -1.126 0.260246    \n",
              "fr_allylic_oxid           3.569e-03  1.132e-01   0.032 0.974846    \n",
              "fr_amide                  2.350e-01  3.343e-01   0.703 0.482040    \n",
              "fr_amidine                2.688e-01  8.267e-02   3.251 0.001148 ** \n",
              "fr_aniline                1.213e-01  2.803e-01   0.433 0.665277    \n",
              "fr_aryl_methyl            3.779e-02  6.954e-02   0.543 0.586828    \n",
              "fr_azide                  2.932e-01  2.730e+01   0.011 0.991429    \n",
              "fr_azo                   -3.707e-02  1.061e-01  -0.349 0.726772    \n",
              "fr_barbitur               1.517e-02  6.156e-02   0.246 0.805335    \n",
              "fr_benzodiazepine         1.824e-01  6.411e-02   2.845 0.004441 ** \n",
              "fr_bicyclic               1.777e-01  1.059e-01   1.677 0.093457 .  \n",
              "fr_dihydropyridine        2.282e-01  7.249e-02   3.148 0.001643 ** \n",
              "fr_epoxide               -3.941e-02  7.579e-02  -0.520 0.603107    \n",
              "fr_ester                  2.939e-01  1.998e-01   1.471 0.141224    \n",
              "fr_ether                 -2.571e-01  3.231e-01  -0.796 0.426227    \n",
              "fr_furan                  1.493e-01  6.297e-02   2.370 0.017778 *  \n",
              "fr_guanido                1.990e-01  8.848e-02   2.249 0.024506 *  \n",
              "fr_halogen               -3.219e-01  5.628e-01  -0.572 0.567394    \n",
              "fr_hdrzine                2.380e-03  5.333e-02   0.045 0.964400    \n",
              "fr_hdrzone                2.309e-02  6.710e-02   0.344 0.730748    \n",
              "fr_imidazole              3.265e-01  7.499e-02   4.354 1.34e-05 ***\n",
              "fr_imide                  9.278e-02  7.624e-02   1.217 0.223613    \n",
              "fr_isocyan               -5.702e-01  3.102e+01  -0.018 0.985333    \n",
              "fr_isothiocyan           -2.454e-01  2.730e+01  -0.009 0.992827    \n",
              "fr_ketone                 5.227e-01  2.057e-01   2.541 0.011065 *  \n",
              "fr_ketone_Topliss        -7.184e-02  1.159e-01  -0.620 0.535299    \n",
              "fr_lactam                 8.026e-02  9.042e-02   0.888 0.374706    \n",
              "fr_lactone                3.159e-02  5.974e-02   0.529 0.596958    \n",
              "fr_methoxy               -5.514e-02  9.201e-02  -0.599 0.548973    \n",
              "fr_morpholine            -5.588e-02  5.394e-02  -1.036 0.300183    \n",
              "fr_nitrile               -4.940e-02  1.572e-01  -0.314 0.753314    \n",
              "fr_nitro                 -3.742e-01  1.345e-01  -2.783 0.005384 ** \n",
              "fr_nitro_arom_nonortho   -1.631e-01  8.984e-02  -1.815 0.069520 .  \n",
              "fr_nitroso                8.222e-02  5.352e-02   1.536 0.124450    \n",
              "fr_oxazole                6.013e-01  2.421e+01   0.025 0.980185    \n",
              "fr_oxime                  3.529e-02  7.877e-02   0.448 0.654150    \n",
              "fr_para_hydroxylation    -3.416e-02  5.864e-02  -0.582 0.560232    \n",
              "fr_phos_acid              1.361e-02  7.095e-02   0.192 0.847905    \n",
              "fr_piperdine             -1.566e-01  6.812e-02  -2.299 0.021485 *  \n",
              "fr_piperzine             -8.449e-02  7.109e-02  -1.188 0.234672    \n",
              "fr_priamide               9.004e-02  6.509e-02   1.383 0.166592    \n",
              "fr_pyridine              -4.257e-02  9.018e-02  -0.472 0.636869    \n",
              "fr_quatN                  1.053e-01  1.005e-01   1.048 0.294722    \n",
              "fr_sulfide               -4.204e-02  9.886e-02  -0.425 0.670683    \n",
              "fr_sulfonamd              2.279e-01  1.187e-01   1.920 0.054916 .  \n",
              "fr_sulfone                4.260e-02  6.332e-02   0.673 0.501102    \n",
              "fr_term_acetylene        -3.667e-03  8.343e-02  -0.044 0.964943    \n",
              "fr_tetrazole              4.429e-02  7.730e-02   0.573 0.566675    \n",
              "fr_thiazole               1.740e-01  8.971e-02   1.939 0.052478 .  \n",
              "fr_thiocyan              -3.979e-01  2.568e+01  -0.015 0.987637    \n",
              "fr_thiophene              9.011e-02  8.593e-02   1.049 0.294368    \n",
              "fr_unbrch_alkane         -9.765e-02  1.153e-01  -0.847 0.397046    \n",
              "fr_urea                  -8.904e-02  9.997e-02  -0.891 0.373101    \n",
              "AvgIpc                   -1.813e+00  1.654e-01 -10.962  < 2e-16 ***\n",
              "---\n",
              "Signif. codes:  0 ‘***’ 0.001 ‘**’ 0.01 ‘*’ 0.05 ‘.’ 0.1 ‘ ’ 1\n",
              "\n",
              "(Dispersion parameter for binomial family taken to be 1)\n",
              "\n",
              "    Null deviance: 3939.8  on 2841  degrees of freedom\n",
              "Residual deviance: 2737.3  on 2683  degrees of freedom\n",
              "AIC: 3055.3\n",
              "\n",
              "Number of Fisher Scoring iterations: 14\n"
            ]
          },
          "metadata": {}
        }
      ],
      "source": [
        "summary(model)"
      ]
    },
    {
      "cell_type": "code",
      "execution_count": 6,
      "metadata": {
        "id": "dFh3n9TZuNRI"
      },
      "outputs": [],
      "source": [
        "# saving results into a dataframe\n",
        "results_df <- summary.glm(model)$coefficients\n",
        "write.csv(results_df, paste0(\"/content/lr_coefficients_\", DESCRIPTOR_TYPE, \".csv\"))"
      ]
    },
    {
      "cell_type": "markdown",
      "metadata": {
        "id": "KiKx50v5CBrJ"
      },
      "source": [
        "### Calculating Predictions Probabilities"
      ]
    },
    {
      "cell_type": "code",
      "execution_count": 7,
      "metadata": {
        "colab": {
          "base_uri": "https://localhost:8080/"
        },
        "id": "tNU2Ngu_BYbh",
        "outputId": "fdd0be83-6d19-494f-ba9d-2110968ce672"
      },
      "outputs": [
        {
          "output_type": "stream",
          "name": "stderr",
          "text": [
            "Warning message in predict.lm(object, newdata, se.fit, scale = 1, type = if (type == :\n",
            "“prediction from rank-deficient fit; attr(*, \"non-estim\") has doubtful cases”\n"
          ]
        }
      ],
      "source": [
        "y_predict_proba_train <- predict(model, newdata=train, type=\"response\")\n",
        "y_predict_proba_test <- predict(model, newdata=test, type=\"response\")"
      ]
    },
    {
      "cell_type": "code",
      "execution_count": 8,
      "metadata": {
        "id": "td7HZgXaCH3Z"
      },
      "outputs": [],
      "source": [
        "write.csv(y_predict_proba_train, paste0(\"/content/y_predict_proba_train_\", DESCRIPTOR_TYPE, \".csv\"))\n",
        "write.csv(y_predict_proba_test, paste0(\"/content/y_predict_proba_test_\", DESCRIPTOR_TYPE, \".csv\"))"
      ]
    },
    {
      "cell_type": "code",
      "execution_count": null,
      "metadata": {
        "id": "TMBx73QpVTNw"
      },
      "outputs": [],
      "source": []
    }
  ],
  "metadata": {
    "colab": {
      "provenance": []
    },
    "kernelspec": {
      "display_name": "R",
      "name": "ir"
    },
    "language_info": {
      "name": "R"
    }
  },
  "nbformat": 4,
  "nbformat_minor": 0
}