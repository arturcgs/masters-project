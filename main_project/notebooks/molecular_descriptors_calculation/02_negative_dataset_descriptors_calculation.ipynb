{
 "cells": [
  {
   "cell_type": "code",
   "execution_count": 1,
   "id": "98b2e9db-1062-4397-9493-9e75f27d96d8",
   "metadata": {},
   "outputs": [],
   "source": [
    "import pandas as pd\n",
    "from rdkit import Chem\n",
    "from rdkit.Chem import AllChem, Descriptors, PandasTools\n",
    "from mordred import Calculator, descriptors\n",
    "from Mold2_pywrapper import Mold2\n",
    "from padelpy import from_smiles\n",
    "from tqdm import tqdm\n",
    "import warnings"
   ]
  },
  {
   "cell_type": "code",
   "execution_count": 2,
   "id": "9d0cc48d",
   "metadata": {},
   "outputs": [],
   "source": [
    "warnings.filterwarnings('ignore')"
   ]
  },
  {
   "cell_type": "markdown",
   "id": "d2916c27-79f4-44d0-b645-fd54224232c9",
   "metadata": {},
   "source": [
    "# Defining Functions"
   ]
  },
  {
   "cell_type": "code",
   "execution_count": 3,
   "id": "3f3b2d71-78f0-47dd-b1bb-ca8690f9e7b8",
   "metadata": {},
   "outputs": [],
   "source": [
    "def save_df(df, name):\n",
    "    df.to_csv(f\"../../data/negative_datasets/negative_dataset_with_descriptors/{name}.csv\", index=False)"
   ]
  },
  {
   "cell_type": "markdown",
   "id": "990198b8-89f5-43e1-8277-8d3b0db96f26",
   "metadata": {},
   "source": [
    "# Importing notebooks"
   ]
  },
  {
   "cell_type": "code",
   "execution_count": 4,
   "id": "b36f7cf2-c681-452f-bf8a-87c5234f8a75",
   "metadata": {},
   "outputs": [],
   "source": [
    "pdb = pd.read_csv(\"../../data/negative_datasets/cleaned_datasets/pdb_cleaned.csv\")\n",
    "tox = pd.read_csv(\"../../data/negative_datasets/cleaned_datasets/tox21_cleaned.csv\")\n",
    "zinc = pd.read_csv(\"../../data/negative_datasets/cleaned_datasets/zinc15_cleaned.csv\")"
   ]
  },
  {
   "cell_type": "code",
   "execution_count": 5,
   "id": "1db375a0-7ab8-49b2-b098-8ad1c8edc02e",
   "metadata": {},
   "outputs": [
    {
     "data": {
      "text/html": [
       "<div>\n",
       "<style scoped>\n",
       "    .dataframe tbody tr th:only-of-type {\n",
       "        vertical-align: middle;\n",
       "    }\n",
       "\n",
       "    .dataframe tbody tr th {\n",
       "        vertical-align: top;\n",
       "    }\n",
       "\n",
       "    .dataframe thead th {\n",
       "        text-align: right;\n",
       "    }\n",
       "</style>\n",
       "<table border=\"1\" class=\"dataframe\">\n",
       "  <thead>\n",
       "    <tr style=\"text-align: right;\">\n",
       "      <th></th>\n",
       "      <th>clean_smiles</th>\n",
       "    </tr>\n",
       "  </thead>\n",
       "  <tbody>\n",
       "    <tr>\n",
       "      <th>0</th>\n",
       "      <td>CC1(C)O[C@H]2[C@@H]3OS(=O)(=O)O[C@@H]3CO[C@@]2...</td>\n",
       "    </tr>\n",
       "    <tr>\n",
       "      <th>1</th>\n",
       "      <td>CNC(=O)c1cccc(C)c1Nc1nc(N2CCN(c3ccccc3Cl)CC2)n...</td>\n",
       "    </tr>\n",
       "    <tr>\n",
       "      <th>2</th>\n",
       "      <td>CCNC(=O)Nc1cc2c(-c3ccnc(C)c3)ccc(C)c2cn1</td>\n",
       "    </tr>\n",
       "    <tr>\n",
       "      <th>3</th>\n",
       "      <td>Clc1ccccc1Nc1ccnc(Nc2ccc(-c3nnn[nH]3)cc2)n1</td>\n",
       "    </tr>\n",
       "    <tr>\n",
       "      <th>4</th>\n",
       "      <td>CC1=C(CCC(=O)O)c2cc3[nH]c(cc4nc(cc5[nH]c(cc1n2...</td>\n",
       "    </tr>\n",
       "  </tbody>\n",
       "</table>\n",
       "</div>"
      ],
      "text/plain": [
       "                                        clean_smiles\n",
       "0  CC1(C)O[C@H]2[C@@H]3OS(=O)(=O)O[C@@H]3CO[C@@]2...\n",
       "1  CNC(=O)c1cccc(C)c1Nc1nc(N2CCN(c3ccccc3Cl)CC2)n...\n",
       "2           CCNC(=O)Nc1cc2c(-c3ccnc(C)c3)ccc(C)c2cn1\n",
       "3        Clc1ccccc1Nc1ccnc(Nc2ccc(-c3nnn[nH]3)cc2)n1\n",
       "4  CC1=C(CCC(=O)O)c2cc3[nH]c(cc4nc(cc5[nH]c(cc1n2..."
      ]
     },
     "execution_count": 5,
     "metadata": {},
     "output_type": "execute_result"
    }
   ],
   "source": [
    "pdb.head()"
   ]
  },
  {
   "cell_type": "code",
   "execution_count": 6,
   "id": "b8cbd0b7-b4b2-40c0-86e5-d665d281d7ed",
   "metadata": {},
   "outputs": [
    {
     "data": {
      "text/html": [
       "<div>\n",
       "<style scoped>\n",
       "    .dataframe tbody tr th:only-of-type {\n",
       "        vertical-align: middle;\n",
       "    }\n",
       "\n",
       "    .dataframe tbody tr th {\n",
       "        vertical-align: top;\n",
       "    }\n",
       "\n",
       "    .dataframe thead th {\n",
       "        text-align: right;\n",
       "    }\n",
       "</style>\n",
       "<table border=\"1\" class=\"dataframe\">\n",
       "  <thead>\n",
       "    <tr style=\"text-align: right;\">\n",
       "      <th></th>\n",
       "      <th>NR-AR</th>\n",
       "      <th>NR-AR-LBD</th>\n",
       "      <th>NR-AhR</th>\n",
       "      <th>NR-Aromatase</th>\n",
       "      <th>NR-ER</th>\n",
       "      <th>NR-ER-LBD</th>\n",
       "      <th>NR-PPAR-gamma</th>\n",
       "      <th>SR-ARE</th>\n",
       "      <th>SR-ATAD5</th>\n",
       "      <th>SR-HSE</th>\n",
       "      <th>SR-MMP</th>\n",
       "      <th>SR-p53</th>\n",
       "      <th>mol_id</th>\n",
       "      <th>smiles</th>\n",
       "      <th>stripped_salt_smiles</th>\n",
       "      <th>neutralized_smiles</th>\n",
       "      <th>inchi</th>\n",
       "      <th>duplicated</th>\n",
       "    </tr>\n",
       "  </thead>\n",
       "  <tbody>\n",
       "    <tr>\n",
       "      <th>0</th>\n",
       "      <td>0.0</td>\n",
       "      <td>0.0</td>\n",
       "      <td>1.0</td>\n",
       "      <td>NaN</td>\n",
       "      <td>NaN</td>\n",
       "      <td>0.0</td>\n",
       "      <td>0.0</td>\n",
       "      <td>1.0</td>\n",
       "      <td>0.0</td>\n",
       "      <td>0.0</td>\n",
       "      <td>0.0</td>\n",
       "      <td>0.0</td>\n",
       "      <td>TOX3021</td>\n",
       "      <td>CCOc1ccc2nc(S(N)(=O)=O)sc2c1</td>\n",
       "      <td>CCOc1ccc2nc(S(N)(=O)=O)sc2c1</td>\n",
       "      <td>CCOc1ccc2nc(S(N)(=O)=O)sc2c1</td>\n",
       "      <td>InChI=1S/C9H10N2O3S2/c1-2-14-6-3-4-7-8(5-6)15-...</td>\n",
       "      <td>False</td>\n",
       "    </tr>\n",
       "    <tr>\n",
       "      <th>1</th>\n",
       "      <td>0.0</td>\n",
       "      <td>0.0</td>\n",
       "      <td>0.0</td>\n",
       "      <td>0.0</td>\n",
       "      <td>0.0</td>\n",
       "      <td>0.0</td>\n",
       "      <td>0.0</td>\n",
       "      <td>NaN</td>\n",
       "      <td>0.0</td>\n",
       "      <td>NaN</td>\n",
       "      <td>0.0</td>\n",
       "      <td>0.0</td>\n",
       "      <td>TOX3020</td>\n",
       "      <td>CCN1C(=O)NC(c2ccccc2)C1=O</td>\n",
       "      <td>CCN1C(=O)NC(c2ccccc2)C1=O</td>\n",
       "      <td>CCN1C(=O)NC(c2ccccc2)C1=O</td>\n",
       "      <td>InChI=1S/C11H12N2O2/c1-2-13-10(14)9(12-11(13)1...</td>\n",
       "      <td>False</td>\n",
       "    </tr>\n",
       "    <tr>\n",
       "      <th>2</th>\n",
       "      <td>NaN</td>\n",
       "      <td>NaN</td>\n",
       "      <td>NaN</td>\n",
       "      <td>NaN</td>\n",
       "      <td>NaN</td>\n",
       "      <td>NaN</td>\n",
       "      <td>NaN</td>\n",
       "      <td>0.0</td>\n",
       "      <td>NaN</td>\n",
       "      <td>0.0</td>\n",
       "      <td>NaN</td>\n",
       "      <td>NaN</td>\n",
       "      <td>TOX3024</td>\n",
       "      <td>CC[C@]1(O)CC[C@H]2[C@@H]3CCC4=CCCC[C@@H]4[C@H]...</td>\n",
       "      <td>CC[C@]1(O)CC[C@H]2[C@@H]3CCC4=CCCC[C@@H]4[C@H]...</td>\n",
       "      <td>CC[C@]1(O)CC[C@H]2[C@@H]3CCC4=CCCC[C@@H]4[C@H]...</td>\n",
       "      <td>InChI=1S/C20H32O/c1-3-20(21)13-11-18-17-9-8-14...</td>\n",
       "      <td>False</td>\n",
       "    </tr>\n",
       "    <tr>\n",
       "      <th>3</th>\n",
       "      <td>0.0</td>\n",
       "      <td>0.0</td>\n",
       "      <td>0.0</td>\n",
       "      <td>0.0</td>\n",
       "      <td>0.0</td>\n",
       "      <td>0.0</td>\n",
       "      <td>0.0</td>\n",
       "      <td>NaN</td>\n",
       "      <td>0.0</td>\n",
       "      <td>NaN</td>\n",
       "      <td>0.0</td>\n",
       "      <td>0.0</td>\n",
       "      <td>TOX3027</td>\n",
       "      <td>CCCN(CC)C(CC)C(=O)Nc1c(C)cccc1C</td>\n",
       "      <td>CCCN(CC)C(CC)C(=O)Nc1c(C)cccc1C</td>\n",
       "      <td>CCCN(CC)C(CC)C(=O)Nc1c(C)cccc1C</td>\n",
       "      <td>InChI=1S/C17H28N2O/c1-6-12-19(8-3)15(7-2)17(20...</td>\n",
       "      <td>False</td>\n",
       "    </tr>\n",
       "    <tr>\n",
       "      <th>4</th>\n",
       "      <td>0.0</td>\n",
       "      <td>0.0</td>\n",
       "      <td>0.0</td>\n",
       "      <td>0.0</td>\n",
       "      <td>0.0</td>\n",
       "      <td>0.0</td>\n",
       "      <td>0.0</td>\n",
       "      <td>0.0</td>\n",
       "      <td>0.0</td>\n",
       "      <td>0.0</td>\n",
       "      <td>0.0</td>\n",
       "      <td>0.0</td>\n",
       "      <td>TOX20800</td>\n",
       "      <td>CC(O)(P(=O)(O)O)P(=O)(O)O</td>\n",
       "      <td>CC(O)(P(=O)(O)O)P(=O)(O)O</td>\n",
       "      <td>CC(O)(P(=O)(O)O)P(=O)(O)O</td>\n",
       "      <td>InChI=1S/C2H8O7P2/c1-2(3,10(4,5)6)11(7,8)9/h3H...</td>\n",
       "      <td>True</td>\n",
       "    </tr>\n",
       "  </tbody>\n",
       "</table>\n",
       "</div>"
      ],
      "text/plain": [
       "   NR-AR  NR-AR-LBD  NR-AhR  NR-Aromatase  NR-ER  NR-ER-LBD  NR-PPAR-gamma  \\\n",
       "0    0.0        0.0     1.0           NaN    NaN        0.0            0.0   \n",
       "1    0.0        0.0     0.0           0.0    0.0        0.0            0.0   \n",
       "2    NaN        NaN     NaN           NaN    NaN        NaN            NaN   \n",
       "3    0.0        0.0     0.0           0.0    0.0        0.0            0.0   \n",
       "4    0.0        0.0     0.0           0.0    0.0        0.0            0.0   \n",
       "\n",
       "   SR-ARE  SR-ATAD5  SR-HSE  SR-MMP  SR-p53    mol_id  \\\n",
       "0     1.0       0.0     0.0     0.0     0.0   TOX3021   \n",
       "1     NaN       0.0     NaN     0.0     0.0   TOX3020   \n",
       "2     0.0       NaN     0.0     NaN     NaN   TOX3024   \n",
       "3     NaN       0.0     NaN     0.0     0.0   TOX3027   \n",
       "4     0.0       0.0     0.0     0.0     0.0  TOX20800   \n",
       "\n",
       "                                              smiles  \\\n",
       "0                       CCOc1ccc2nc(S(N)(=O)=O)sc2c1   \n",
       "1                          CCN1C(=O)NC(c2ccccc2)C1=O   \n",
       "2  CC[C@]1(O)CC[C@H]2[C@@H]3CCC4=CCCC[C@@H]4[C@H]...   \n",
       "3                    CCCN(CC)C(CC)C(=O)Nc1c(C)cccc1C   \n",
       "4                          CC(O)(P(=O)(O)O)P(=O)(O)O   \n",
       "\n",
       "                                stripped_salt_smiles  \\\n",
       "0                       CCOc1ccc2nc(S(N)(=O)=O)sc2c1   \n",
       "1                          CCN1C(=O)NC(c2ccccc2)C1=O   \n",
       "2  CC[C@]1(O)CC[C@H]2[C@@H]3CCC4=CCCC[C@@H]4[C@H]...   \n",
       "3                    CCCN(CC)C(CC)C(=O)Nc1c(C)cccc1C   \n",
       "4                          CC(O)(P(=O)(O)O)P(=O)(O)O   \n",
       "\n",
       "                                  neutralized_smiles  \\\n",
       "0                       CCOc1ccc2nc(S(N)(=O)=O)sc2c1   \n",
       "1                          CCN1C(=O)NC(c2ccccc2)C1=O   \n",
       "2  CC[C@]1(O)CC[C@H]2[C@@H]3CCC4=CCCC[C@@H]4[C@H]...   \n",
       "3                    CCCN(CC)C(CC)C(=O)Nc1c(C)cccc1C   \n",
       "4                          CC(O)(P(=O)(O)O)P(=O)(O)O   \n",
       "\n",
       "                                               inchi  duplicated  \n",
       "0  InChI=1S/C9H10N2O3S2/c1-2-14-6-3-4-7-8(5-6)15-...       False  \n",
       "1  InChI=1S/C11H12N2O2/c1-2-13-10(14)9(12-11(13)1...       False  \n",
       "2  InChI=1S/C20H32O/c1-3-20(21)13-11-18-17-9-8-14...       False  \n",
       "3  InChI=1S/C17H28N2O/c1-6-12-19(8-3)15(7-2)17(20...       False  \n",
       "4  InChI=1S/C2H8O7P2/c1-2(3,10(4,5)6)11(7,8)9/h3H...        True  "
      ]
     },
     "execution_count": 6,
     "metadata": {},
     "output_type": "execute_result"
    }
   ],
   "source": [
    "tox.head()"
   ]
  },
  {
   "cell_type": "code",
   "execution_count": 7,
   "id": "a1136ccf-167a-4cc4-abcb-e476fff638ca",
   "metadata": {},
   "outputs": [
    {
     "data": {
      "text/html": [
       "<div>\n",
       "<style scoped>\n",
       "    .dataframe tbody tr th:only-of-type {\n",
       "        vertical-align: middle;\n",
       "    }\n",
       "\n",
       "    .dataframe tbody tr th {\n",
       "        vertical-align: top;\n",
       "    }\n",
       "\n",
       "    .dataframe thead th {\n",
       "        text-align: right;\n",
       "    }\n",
       "</style>\n",
       "<table border=\"1\" class=\"dataframe\">\n",
       "  <thead>\n",
       "    <tr style=\"text-align: right;\">\n",
       "      <th></th>\n",
       "      <th>clean_smiles</th>\n",
       "    </tr>\n",
       "  </thead>\n",
       "  <tbody>\n",
       "    <tr>\n",
       "      <th>0</th>\n",
       "      <td>Cc1c(C(=O)Nc2ccccc2C(N)=O)nnn1-c1ccc2ncccc2c1</td>\n",
       "    </tr>\n",
       "    <tr>\n",
       "      <th>1</th>\n",
       "      <td>C[C@H]1CCCC[C@H]1NC(=O)NC(=O)CN1CCc2ccc([N+](=...</td>\n",
       "    </tr>\n",
       "    <tr>\n",
       "      <th>2</th>\n",
       "      <td>Brc1ccccc1-c1nc2c3ccccc3ncn2n1</td>\n",
       "    </tr>\n",
       "    <tr>\n",
       "      <th>3</th>\n",
       "      <td>CC[C@H](C)NC(=O)Nc1ccnn1C1CCCC1</td>\n",
       "    </tr>\n",
       "    <tr>\n",
       "      <th>4</th>\n",
       "      <td>CCn1c(SCc2cc(C(=O)OC)c(C)o2)nnc1-c1ccccc1OC</td>\n",
       "    </tr>\n",
       "  </tbody>\n",
       "</table>\n",
       "</div>"
      ],
      "text/plain": [
       "                                        clean_smiles\n",
       "0      Cc1c(C(=O)Nc2ccccc2C(N)=O)nnn1-c1ccc2ncccc2c1\n",
       "1  C[C@H]1CCCC[C@H]1NC(=O)NC(=O)CN1CCc2ccc([N+](=...\n",
       "2                     Brc1ccccc1-c1nc2c3ccccc3ncn2n1\n",
       "3                    CC[C@H](C)NC(=O)Nc1ccnn1C1CCCC1\n",
       "4        CCn1c(SCc2cc(C(=O)OC)c(C)o2)nnc1-c1ccccc1OC"
      ]
     },
     "execution_count": 7,
     "metadata": {},
     "output_type": "execute_result"
    }
   ],
   "source": [
    "zinc.head()"
   ]
  },
  {
   "cell_type": "markdown",
   "id": "1bad10e7-bc49-457e-a263-37dac5633703",
   "metadata": {},
   "source": [
    "# Adding Mol Column"
   ]
  },
  {
   "cell_type": "code",
   "execution_count": 8,
   "id": "ed02bd14",
   "metadata": {},
   "outputs": [],
   "source": [
    "PandasTools.AddMoleculeColumnToFrame(pdb, smilesCol='clean_smiles', molCol='ROMol')\n",
    "PandasTools.AddMoleculeColumnToFrame(tox, smilesCol='neutralized_smiles', molCol='ROMol')\n",
    "PandasTools.AddMoleculeColumnToFrame(zinc, smilesCol='clean_smiles', molCol='ROMol')"
   ]
  },
  {
   "cell_type": "markdown",
   "id": "ec5e623b",
   "metadata": {},
   "source": [
    "# Calculate Parameters"
   ]
  },
  {
   "cell_type": "markdown",
   "id": "7d04882d",
   "metadata": {},
   "source": [
    "## Define Function"
   ]
  },
  {
   "cell_type": "code",
   "execution_count": 9,
   "id": "e148a431",
   "metadata": {},
   "outputs": [],
   "source": [
    "def calculate_molecular_descriptors(df: pd.DataFrame, smiles_col: str, dataset_name: str):\n",
    "    # save fucntion\n",
    "    def save_df(df, name):\n",
    "        df.to_csv(f\"../../data/negative_datasets/negative_dataset_with_descriptors/{name}.csv\", index=False)\n",
    "\n",
    "    # adding mol column\n",
    "    PandasTools.AddMoleculeColumnToFrame(df, smilesCol=smiles_col, molCol='ROMol')\n",
    "\n",
    "    ##### RDKIT #####\n",
    "\n",
    "    ##### RDKIT FINGERPRINTS #####\n",
    "\n",
    "    print(\"Starting RDKit Fingerprints\")\n",
    "\n",
    "    # Function to generate RDKit fingerprints\n",
    "    def generate_fingerprint_rdkit(smiles):\n",
    "        mol = Chem.MolFromSmiles(smiles)\n",
    "        fingerprint = Chem.RDKFingerprint(mol)\n",
    "        return fingerprint\n",
    "\n",
    "    # Function to generate the fingerprints and add each one to a new column\n",
    "    df_rdkit_fingerprint = df.copy()\n",
    "    fingerprints = df_rdkit_fingerprint[smiles_col].apply(generate_fingerprint_rdkit)\n",
    "    num_bits = fingerprints.iloc[0].GetNumBits()\n",
    "\n",
    "    for i in range(num_bits):\n",
    "        col_name = f'Bit_{i}'\n",
    "        df_rdkit_fingerprint[col_name] = fingerprints.apply(lambda x: x.GetBit(i))\n",
    "    \n",
    "    # save df\n",
    "    save_df(df_rdkit_fingerprint, name=f\"{dataset_name}_fingerprint_rdkit\")\n",
    "\n",
    "    print(\"Finished RDKit Fingerprints\")\n",
    "    \n",
    "    ##### MORGAN FINGERPRINT #####\n",
    "\n",
    "    print(\"Starting Morgan Fingerprints\")\n",
    "\n",
    "    # function to calculate morgan fingerprints\n",
    "    def generate_fingerprint_morgan(smiles):\n",
    "        mol = Chem.MolFromSmiles(smiles)\n",
    "        fingerprint = AllChem.GetMorganFingerprintAsBitVect(mol, 2)  # Change radius as per your requirement\n",
    "        return fingerprint\n",
    "    \n",
    "    df_morgan_fingerprint = df.copy()\n",
    "    \n",
    "    # calculate fingerprints and add each to a column\n",
    "    # Generate fingerprints and create new columns for each bit\n",
    "    fingerprints = df_morgan_fingerprint[smiles_col].apply(generate_fingerprint_morgan)\n",
    "    num_bits = fingerprints.iloc[0].GetNumBits()\n",
    "\n",
    "    for i in range(num_bits):\n",
    "        col_name = f'Bit_{i}'\n",
    "        df_morgan_fingerprint[col_name] = fingerprints.apply(lambda x: x.GetBit(i))\n",
    "    \n",
    "    # save df\n",
    "    save_df(df_morgan_fingerprint, name=f\"{dataset_name}_fingerprint_morgan\")\n",
    "\n",
    "    print(\"Finished Morgan Fingerprints\")\n",
    "\n",
    "    ##### RDKIT DESCRIPTORS #####\n",
    "\n",
    "    print(\"Starting RDKit Descriptors\")\n",
    "\n",
    "    # function to calculate descriptors\n",
    "    def calculate_descriptors(smiles):\n",
    "        mol = Chem.MolFromSmiles(smiles)\n",
    "\n",
    "        descriptors = {}\n",
    "        for descriptor_name, descriptor_function in Descriptors.descList:\n",
    "            try:\n",
    "                descriptors[descriptor_name] = descriptor_function(mol)\n",
    "            except:\n",
    "                descriptors[descriptor_name] = None\n",
    "\n",
    "        return pd.Series(descriptors)\n",
    "\n",
    "    # calculating the descriptors\n",
    "    df_rdkit_descriptors = df.copy()\n",
    "    rdkit_descriptors = df_rdkit_descriptors[smiles_col].apply(calculate_descriptors)\n",
    "    df_rdkit_descriptors = pd.concat([df_rdkit_descriptors, rdkit_descriptors], axis=1)\n",
    "\n",
    "    # save dataset\n",
    "    save_df(df_rdkit_descriptors, name=f\"{dataset_name}_rdkit\")\n",
    "\n",
    "    print(\"Finished RDKit Descriptors\")\n",
    "\n",
    "    ##### MORDRED #####\n",
    "\n",
    "    print(\"Starting Mordred\")\n",
    "\n",
    "    df_mordred = df.copy()\n",
    "\n",
    "    # initializing object for mordred descriptors calculation, for only 2d descriptors, and both 2d and 3d descriptors\n",
    "    calc_2d = Calculator(descriptors, ignore_3D=True)\n",
    "    calc_2d_3d = Calculator(descriptors, ignore_3D=False)\n",
    "\n",
    "    # calculating descriptors\n",
    "    mordred_descriptors_2d = calc_2d.pandas(df_mordred[\"ROMol\"])\n",
    "    mordred_descriptors_2d_3d = calc_2d_3d.pandas(df_mordred[\"ROMol\"])\n",
    "\n",
    "    # concating to original dataset\n",
    "    df_mordred_2d = pd.concat([df_mordred, mordred_descriptors_2d], axis=1)\n",
    "    df_mordred_2d_3d = pd.concat([df_mordred, mordred_descriptors_2d_3d], axis=1)\n",
    "\n",
    "    # saving datasets\n",
    "    save_df(df_mordred_2d, name=f\"{dataset_name}_mordred_2d\")\n",
    "    save_df(df_mordred_2d_3d, name=f\"{dataset_name}_mordred_2d_and_3d\")\n",
    "\n",
    "    print(\"Finished Mordred\")\n",
    "\n",
    "    ##### MOLD 2 #####\n",
    "\n",
    "    print(\"Starting Mold 2\")\n",
    "\n",
    "    df_mold2 = df.copy()\n",
    "\n",
    "    # initializing object\n",
    "    mold2 = Mold2()\n",
    "\n",
    "    # calculating descriptors\n",
    "    mold2_descriptors = mold2.calculate(df_mold2[\"ROMol\"])\n",
    "\n",
    "    # concat\n",
    "    df_mold2 = pd.concat([df_mold2, mold2_descriptors], axis=1)\n",
    "\n",
    "    # save df\n",
    "    save_df(df_mold2, name=f\"{dataset_name}_mold2\")\n",
    "\n",
    "    print(\"Finished Mold 2\")\n",
    "\n",
    "    ##### PADEL #####\n",
    "\n",
    "    print(\"Starting Padel\")\n",
    "\n",
    "    df_padel = df.copy()\n",
    "\n",
    "    # smiles list\n",
    "    smiles = df_padel[smiles_col].tolist()\n",
    "\n",
    "    # calculating the descriptors and saving to a list\n",
    "    # molecules with descriptors that can't be calculated are saved in the list error\n",
    "    correct_descriptors = []\n",
    "    error = []\n",
    "    for smi in tqdm(smiles):\n",
    "        try:\n",
    "            desc = from_smiles(smi)\n",
    "            desc[smiles_col] = smi\n",
    "            correct_descriptors.append(desc)\n",
    "        except:\n",
    "            error.append(smi)\n",
    "\n",
    "    # adding molecules to dataframe\n",
    "    descriptors_df = pd.DataFrame.from_records(correct_descriptors)\n",
    "    df_padel = pd.merge(df_padel, descriptors_df, on=smiles_col, how=\"outer\")\n",
    "\n",
    "    # save df\n",
    "    save_df(df_padel, name=f\"{dataset_name}_padel\")\n",
    "\n",
    "    print(\"Finished Padel\")\n",
    "    "
   ]
  },
  {
   "cell_type": "markdown",
   "id": "3de9c721",
   "metadata": {},
   "source": [
    "## Run Calculation"
   ]
  },
  {
   "cell_type": "code",
   "execution_count": 46,
   "id": "e0fce966",
   "metadata": {},
   "outputs": [
    {
     "name": "stdout",
     "output_type": "stream",
     "text": [
      "Starting RDKit Fingerprints\n",
      "Finished RDKit Fingerprints\n",
      "Starting Morgan Fingerprints\n",
      "Finished Morgan Fingerprints\n",
      "Starting RDKit Descriptors\n",
      "Finished RDKit Descriptors\n",
      "Starting Mordred\n"
     ]
    },
    {
     "name": "stderr",
     "output_type": "stream",
     "text": [
      "  2%|▏         | 247/12246 [00:38<19:17, 10.36it/s] "
     ]
    },
    {
     "name": "stdout",
     "output_type": "stream",
     "text": [
      "[18:17:45] Explicit valence for atom # 29 C greater than permitted\n"
     ]
    },
    {
     "name": "stderr",
     "output_type": "stream",
     "text": [
      "  5%|▍         | 563/12246 [01:23<43:43,  4.45it/s]  "
     ]
    },
    {
     "name": "stdout",
     "output_type": "stream",
     "text": [
      "[18:18:28] Explicit valence for atom # 20 C greater than permitted\n"
     ]
    },
    {
     "name": "stderr",
     "output_type": "stream",
     "text": [
      " 10%|▉         | 1207/12246 [03:09<23:29,  7.83it/s]  "
     ]
    },
    {
     "name": "stdout",
     "output_type": "stream",
     "text": [
      "[18:20:17] Explicit valence for atom # 30 C greater than permitted\n"
     ]
    },
    {
     "name": "stderr",
     "output_type": "stream",
     "text": [
      " 11%|█         | 1295/12246 [03:26<50:21,  3.62it/s]  "
     ]
    },
    {
     "name": "stdout",
     "output_type": "stream",
     "text": [
      "[18:20:31] Explicit valence for atom # 24 C greater than permitted\n"
     ]
    },
    {
     "name": "stderr",
     "output_type": "stream",
     "text": [
      " 12%|█▏        | 1463/12246 [03:55<18:47,  9.56it/s]  "
     ]
    },
    {
     "name": "stdout",
     "output_type": "stream",
     "text": [
      "[18:21:03] Explicit valence for atom # 3 C greater than permitted\n"
     ]
    },
    {
     "name": "stderr",
     "output_type": "stream",
     "text": [
      " 14%|█▍        | 1712/12246 [04:42<25:26,  6.90it/s]  "
     ]
    },
    {
     "name": "stdout",
     "output_type": "stream",
     "text": [
      "[18:21:48] Explicit valence for atom # 4 C greater than permitted\n"
     ]
    },
    {
     "name": "stderr",
     "output_type": "stream",
     "text": [
      " 18%|█▊        | 2212/12246 [06:14<27:39,  6.05it/s]  "
     ]
    },
    {
     "name": "stdout",
     "output_type": "stream",
     "text": [
      "[18:23:22] Explicit valence for atom # 1 C greater than permitted\n"
     ]
    },
    {
     "name": "stderr",
     "output_type": "stream",
     "text": [
      " 19%|█▉        | 2300/12246 [06:33<35:28,  4.67it/s]  "
     ]
    },
    {
     "name": "stdout",
     "output_type": "stream",
     "text": [
      "[18:23:41] Explicit valence for atom # 3 C greater than permitted\n"
     ]
    },
    {
     "name": "stderr",
     "output_type": "stream",
     "text": [
      " 19%|█▉        | 2377/12246 [06:51<34:51,  4.72it/s]  "
     ]
    },
    {
     "name": "stdout",
     "output_type": "stream",
     "text": [
      "[18:23:57] Explicit valence for atom # 1 C greater than permitted\n"
     ]
    },
    {
     "name": "stderr",
     "output_type": "stream",
     "text": [
      " 24%|██▍       | 2986/12246 [08:40<14:06, 10.94it/s]  "
     ]
    },
    {
     "name": "stdout",
     "output_type": "stream",
     "text": [
      "[18:25:48] Explicit valence for atom # 2 C greater than permitted\n"
     ]
    },
    {
     "name": "stderr",
     "output_type": "stream",
     "text": [
      " 26%|██▋       | 3229/12246 [09:25<32:37,  4.61it/s]  "
     ]
    },
    {
     "name": "stdout",
     "output_type": "stream",
     "text": [
      "[18:26:31] Explicit valence for atom # 4 C greater than permitted\n"
     ]
    },
    {
     "name": "stderr",
     "output_type": "stream",
     "text": [
      " 26%|██▋       | 3231/12246 [09:25<29:11,  5.15it/s]"
     ]
    },
    {
     "name": "stdout",
     "output_type": "stream",
     "text": [
      "[18:26:31] Explicit valence for atom # 3 C greater than permitted\n"
     ]
    },
    {
     "name": "stderr",
     "output_type": "stream",
     "text": [
      " 27%|██▋       | 3339/12246 [09:45<47:53,  3.10it/s]"
     ]
    },
    {
     "name": "stdout",
     "output_type": "stream",
     "text": [
      "[18:26:51] Explicit valence for atom # 1 C greater than permitted\n"
     ]
    },
    {
     "name": "stderr",
     "output_type": "stream",
     "text": [
      " 32%|███▏      | 3867/12246 [11:11<20:56,  6.67it/s]"
     ]
    },
    {
     "name": "stdout",
     "output_type": "stream",
     "text": [
      "[18:28:18] Explicit valence for atom # 1 C greater than permitted\n"
     ]
    },
    {
     "name": "stderr",
     "output_type": "stream",
     "text": [
      " 35%|███▍      | 4235/12246 [12:25<49:48,  2.68it/s]  "
     ]
    },
    {
     "name": "stdout",
     "output_type": "stream",
     "text": [
      "[18:29:31] Explicit valence for atom # 13 C greater than permitted\n"
     ]
    },
    {
     "name": "stderr",
     "output_type": "stream",
     "text": [
      " 38%|███▊      | 4708/12246 [13:51<28:01,  4.48it/s]"
     ]
    },
    {
     "name": "stdout",
     "output_type": "stream",
     "text": [
      "[18:30:57] Explicit valence for atom # 1 C greater than permitted\n"
     ]
    },
    {
     "name": "stderr",
     "output_type": "stream",
     "text": [
      " 39%|███▉      | 4762/12246 [13:59<11:19, 11.02it/s]"
     ]
    },
    {
     "name": "stdout",
     "output_type": "stream",
     "text": [
      "[18:31:07] Explicit valence for atom # 26 C greater than permitted\n"
     ]
    },
    {
     "name": "stderr",
     "output_type": "stream",
     "text": [
      " 42%|████▏     | 5104/12246 [14:57<27:24,  4.34it/s]"
     ]
    },
    {
     "name": "stdout",
     "output_type": "stream",
     "text": [
      "[18:32:04] Explicit valence for atom # 28 C greater than permitted\n"
     ]
    },
    {
     "name": "stderr",
     "output_type": "stream",
     "text": [
      " 49%|████▉     | 6031/12246 [17:37<12:24,  8.35it/s]  "
     ]
    },
    {
     "name": "stdout",
     "output_type": "stream",
     "text": [
      "[18:34:44] Explicit valence for atom # 1 C greater than permitted\n"
     ]
    },
    {
     "name": "stderr",
     "output_type": "stream",
     "text": [
      " 57%|█████▋    | 6974/12246 [20:34<07:49, 11.24it/s]"
     ]
    },
    {
     "name": "stdout",
     "output_type": "stream",
     "text": [
      "[18:37:41] Explicit valence for atom # 8 C greater than permitted\n"
     ]
    },
    {
     "name": "stderr",
     "output_type": "stream",
     "text": [
      " 60%|█████▉    | 7319/12246 [21:39<20:03,  4.09it/s]"
     ]
    },
    {
     "name": "stdout",
     "output_type": "stream",
     "text": [
      "[18:38:45] Explicit valence for atom # 23 C greater than permitted\n"
     ]
    },
    {
     "name": "stderr",
     "output_type": "stream",
     "text": [
      " 60%|██████    | 7403/12246 [21:52<20:18,  3.97it/s]"
     ]
    },
    {
     "name": "stdout",
     "output_type": "stream",
     "text": [
      "[18:39:00] Explicit valence for atom # 11 C greater than permitted\n"
     ]
    },
    {
     "name": "stderr",
     "output_type": "stream",
     "text": [
      " 61%|██████    | 7438/12246 [21:58<16:47,  4.77it/s]"
     ]
    },
    {
     "name": "stdout",
     "output_type": "stream",
     "text": [
      "[18:39:05] Explicit valence for atom # 11 C greater than permitted\n"
     ]
    },
    {
     "name": "stderr",
     "output_type": "stream",
     "text": [
      " 62%|██████▏   | 7598/12246 [22:27<14:17,  5.42it/s]"
     ]
    },
    {
     "name": "stdout",
     "output_type": "stream",
     "text": [
      "[18:39:34] Explicit valence for atom # 17 C greater than permitted\n"
     ]
    },
    {
     "name": "stderr",
     "output_type": "stream",
     "text": [
      " 65%|██████▌   | 8008/12246 [23:44<18:25,  3.83it/s]"
     ]
    },
    {
     "name": "stdout",
     "output_type": "stream",
     "text": [
      "[18:40:47] Explicit valence for atom # 3 C greater than permitted\n"
     ]
    },
    {
     "name": "stderr",
     "output_type": "stream",
     "text": [
      " 67%|██████▋   | 8252/12246 [24:22<23:23,  2.85it/s]"
     ]
    },
    {
     "name": "stdout",
     "output_type": "stream",
     "text": [
      "[18:41:30] Explicit valence for atom # 3 C greater than permitted\n"
     ]
    },
    {
     "name": "stderr",
     "output_type": "stream",
     "text": [
      " 68%|██████▊   | 8299/12246 [24:27<06:05, 10.81it/s]"
     ]
    },
    {
     "name": "stdout",
     "output_type": "stream",
     "text": [
      "[18:41:36] Explicit valence for atom # 1 C greater than permitted\n"
     ]
    },
    {
     "name": "stderr",
     "output_type": "stream",
     "text": [
      " 69%|██████▉   | 8420/12246 [24:48<10:40,  5.97it/s]"
     ]
    },
    {
     "name": "stdout",
     "output_type": "stream",
     "text": [
      "[18:41:56] Explicit valence for atom # 1 C greater than permitted\n"
     ]
    },
    {
     "name": "stderr",
     "output_type": "stream",
     "text": [
      " 70%|██████▉   | 8530/12246 [25:09<10:16,  6.03it/s]"
     ]
    },
    {
     "name": "stdout",
     "output_type": "stream",
     "text": [
      "[18:42:13] Explicit valence for atom # 16 C greater than permitted\n"
     ]
    },
    {
     "name": "stderr",
     "output_type": "stream",
     "text": [
      " 74%|███████▍  | 9120/12246 [26:57<10:42,  4.86it/s]"
     ]
    },
    {
     "name": "stdout",
     "output_type": "stream",
     "text": [
      "[18:44:00] Explicit valence for atom # 22 C greater than permitted\n"
     ]
    },
    {
     "name": "stderr",
     "output_type": "stream",
     "text": [
      " 82%|████████▏ | 9982/12246 [29:47<08:37,  4.37it/s]"
     ]
    },
    {
     "name": "stdout",
     "output_type": "stream",
     "text": [
      "[18:46:52] Explicit valence for atom # 3 C greater than permitted\n",
      "[18:46:52] Explicit valence for atom # 1 C greater than permitted\n"
     ]
    },
    {
     "name": "stderr",
     "output_type": "stream",
     "text": [
      " 84%|████████▎ | 10254/12246 [30:30<03:29,  9.50it/s]"
     ]
    },
    {
     "name": "stdout",
     "output_type": "stream",
     "text": [
      "[18:47:38] Explicit valence for atom # 5 C greater than permitted\n"
     ]
    },
    {
     "name": "stderr",
     "output_type": "stream",
     "text": [
      " 85%|████████▌ | 10412/12246 [30:55<06:40,  4.58it/s]"
     ]
    },
    {
     "name": "stdout",
     "output_type": "stream",
     "text": [
      "[18:48:01] Explicit valence for atom # 1 C greater than permitted\n"
     ]
    },
    {
     "name": "stderr",
     "output_type": "stream",
     "text": [
      " 85%|████████▌ | 10458/12246 [31:04<04:38,  6.42it/s]"
     ]
    },
    {
     "name": "stdout",
     "output_type": "stream",
     "text": [
      "[18:48:12] Explicit valence for atom # 1 C greater than permitted\n"
     ]
    },
    {
     "name": "stderr",
     "output_type": "stream",
     "text": [
      " 86%|████████▌ | 10475/12246 [31:07<05:07,  5.75it/s]"
     ]
    },
    {
     "name": "stdout",
     "output_type": "stream",
     "text": [
      "[18:48:15] Explicit valence for atom # 7 C greater than permitted\n"
     ]
    },
    {
     "name": "stderr",
     "output_type": "stream",
     "text": [
      " 86%|████████▌ | 10514/12246 [31:18<09:14,  3.12it/s]"
     ]
    },
    {
     "name": "stdout",
     "output_type": "stream",
     "text": [
      "[18:48:22] Explicit valence for atom # 7 C greater than permitted\n"
     ]
    },
    {
     "name": "stderr",
     "output_type": "stream",
     "text": [
      " 87%|████████▋ | 10715/12246 [31:52<03:45,  6.80it/s]"
     ]
    },
    {
     "name": "stdout",
     "output_type": "stream",
     "text": [
      "[18:48:59] Explicit valence for atom # 3 C greater than permitted\n"
     ]
    },
    {
     "name": "stderr",
     "output_type": "stream",
     "text": [
      " 88%|████████▊ | 10766/12246 [32:01<02:54,  8.50it/s]"
     ]
    },
    {
     "name": "stdout",
     "output_type": "stream",
     "text": [
      "[18:49:09] Explicit valence for atom # 15 C greater than permitted\n"
     ]
    },
    {
     "name": "stderr",
     "output_type": "stream",
     "text": [
      " 88%|████████▊ | 10783/12246 [32:08<11:16,  2.16it/s]"
     ]
    },
    {
     "name": "stdout",
     "output_type": "stream",
     "text": [
      "[18:49:12] Explicit valence for atom # 25 C greater than permitted\n"
     ]
    },
    {
     "name": "stderr",
     "output_type": "stream",
     "text": [
      " 89%|████████▉ | 10949/12246 [32:36<04:01,  5.38it/s]"
     ]
    },
    {
     "name": "stdout",
     "output_type": "stream",
     "text": [
      "[18:49:42] Explicit valence for atom # 1 C greater than permitted\n"
     ]
    },
    {
     "name": "stderr",
     "output_type": "stream",
     "text": [
      " 94%|█████████▎| 11474/12246 [34:07<01:38,  7.82it/s]"
     ]
    },
    {
     "name": "stdout",
     "output_type": "stream",
     "text": [
      "[18:51:14] Explicit valence for atom # 20 C greater than permitted\n"
     ]
    },
    {
     "name": "stderr",
     "output_type": "stream",
     "text": [
      " 94%|█████████▎| 11480/12246 [34:09<02:36,  4.89it/s]"
     ]
    },
    {
     "name": "stdout",
     "output_type": "stream",
     "text": [
      "[18:51:16] Explicit valence for atom # 1 C greater than permitted\n"
     ]
    },
    {
     "name": "stderr",
     "output_type": "stream",
     "text": [
      " 94%|█████████▍| 11549/12246 [34:26<01:58,  5.88it/s]"
     ]
    },
    {
     "name": "stdout",
     "output_type": "stream",
     "text": [
      "[18:51:33] Explicit valence for atom # 26 C greater than permitted\n"
     ]
    },
    {
     "name": "stderr",
     "output_type": "stream",
     "text": [
      "100%|██████████| 12246/12246 [36:17<00:00,  5.62it/s]\n",
      "  2%|▏         | 248/12246 [00:41<18:10, 11.01it/s]  "
     ]
    },
    {
     "name": "stdout",
     "output_type": "stream",
     "text": [
      "[18:54:16] Explicit valence for atom # 29 C greater than permitted\n"
     ]
    },
    {
     "name": "stderr",
     "output_type": "stream",
     "text": [
      "  5%|▍         | 563/12246 [01:32<50:54,  3.82it/s]  "
     ]
    },
    {
     "name": "stdout",
     "output_type": "stream",
     "text": [
      "[18:55:07] Explicit valence for atom # 20 C greater than permitted\n"
     ]
    },
    {
     "name": "stderr",
     "output_type": "stream",
     "text": [
      " 10%|▉         | 1207/12246 [03:25<17:48, 10.33it/s]  "
     ]
    },
    {
     "name": "stdout",
     "output_type": "stream",
     "text": [
      "[18:57:00] Explicit valence for atom # 30 C greater than permitted\n"
     ]
    },
    {
     "name": "stderr",
     "output_type": "stream",
     "text": [
      " 11%|█         | 1303/12246 [03:43<32:50,  5.55it/s]  "
     ]
    },
    {
     "name": "stdout",
     "output_type": "stream",
     "text": [
      "[18:57:15] Explicit valence for atom # 24 C greater than permitted\n"
     ]
    },
    {
     "name": "stderr",
     "output_type": "stream",
     "text": [
      " 12%|█▏        | 1462/12246 [04:15<20:52,  8.61it/s]  "
     ]
    },
    {
     "name": "stdout",
     "output_type": "stream",
     "text": [
      "[18:57:51] Explicit valence for atom # 3 C greater than permitted\n"
     ]
    },
    {
     "name": "stderr",
     "output_type": "stream",
     "text": [
      " 14%|█▍        | 1712/12246 [07:08<1:56:09,  1.51it/s] "
     ]
    },
    {
     "name": "stdout",
     "output_type": "stream",
     "text": [
      "[18:59:34] Explicit valence for atom # 4 C greater than permitted\n"
     ]
    },
    {
     "name": "stderr",
     "output_type": "stream",
     "text": [
      " 18%|█▊        | 2213/12246 [10:23<22:04,  7.57it/s]   "
     ]
    },
    {
     "name": "stdout",
     "output_type": "stream",
     "text": [
      "[19:03:57] Explicit valence for atom # 1 C greater than permitted\n"
     ]
    },
    {
     "name": "stderr",
     "output_type": "stream",
     "text": [
      " 19%|█▉        | 2301/12246 [10:41<17:00,  9.74it/s]  "
     ]
    },
    {
     "name": "stdout",
     "output_type": "stream",
     "text": [
      "[19:04:16] Explicit valence for atom # 3 C greater than permitted\n"
     ]
    },
    {
     "name": "stderr",
     "output_type": "stream",
     "text": [
      " 19%|█▉        | 2377/12246 [10:56<36:05,  4.56it/s]  "
     ]
    },
    {
     "name": "stdout",
     "output_type": "stream",
     "text": [
      "[19:04:30] Explicit valence for atom # 1 C greater than permitted\n"
     ]
    },
    {
     "name": "stderr",
     "output_type": "stream",
     "text": [
      " 24%|██▍       | 2985/12246 [12:50<16:53,  9.14it/s]  "
     ]
    },
    {
     "name": "stdout",
     "output_type": "stream",
     "text": [
      "[19:06:26] Explicit valence for atom # 2 C greater than permitted\n"
     ]
    },
    {
     "name": "stderr",
     "output_type": "stream",
     "text": [
      " 26%|██▋       | 3229/12246 [13:36<27:44,  5.42it/s]  "
     ]
    },
    {
     "name": "stdout",
     "output_type": "stream",
     "text": [
      "[19:07:10] Explicit valence for atom # 4 C greater than permitted\n"
     ]
    },
    {
     "name": "stderr",
     "output_type": "stream",
     "text": [
      " 26%|██▋       | 3232/12246 [13:39<46:56,  3.20it/s]"
     ]
    },
    {
     "name": "stdout",
     "output_type": "stream",
     "text": [
      "[19:07:11] Explicit valence for atom # 3 C greater than permitted\n"
     ]
    },
    {
     "name": "stderr",
     "output_type": "stream",
     "text": [
      " 27%|██▋       | 3346/12246 [13:59<22:59,  6.45it/s]"
     ]
    },
    {
     "name": "stdout",
     "output_type": "stream",
     "text": [
      "[19:07:32] Explicit valence for atom # 1 C greater than permitted\n"
     ]
    },
    {
     "name": "stderr",
     "output_type": "stream",
     "text": [
      " 32%|███▏      | 3868/12246 [15:24<18:14,  7.66it/s]  "
     ]
    },
    {
     "name": "stdout",
     "output_type": "stream",
     "text": [
      "[19:08:58] Explicit valence for atom # 1 C greater than permitted\n"
     ]
    },
    {
     "name": "stderr",
     "output_type": "stream",
     "text": [
      " 35%|███▍      | 4237/12246 [16:36<29:41,  4.50it/s]  "
     ]
    },
    {
     "name": "stdout",
     "output_type": "stream",
     "text": [
      "[19:10:10] Explicit valence for atom # 13 C greater than permitted\n"
     ]
    },
    {
     "name": "stderr",
     "output_type": "stream",
     "text": [
      " 38%|███▊      | 4712/12246 [18:02<19:34,  6.42it/s]  "
     ]
    },
    {
     "name": "stdout",
     "output_type": "stream",
     "text": [
      "[19:11:36] Explicit valence for atom # 1 C greater than permitted\n"
     ]
    },
    {
     "name": "stderr",
     "output_type": "stream",
     "text": [
      " 39%|███▉      | 4763/12246 [18:10<14:11,  8.79it/s]"
     ]
    },
    {
     "name": "stdout",
     "output_type": "stream",
     "text": [
      "[19:11:45] Explicit valence for atom # 26 C greater than permitted\n"
     ]
    },
    {
     "name": "stderr",
     "output_type": "stream",
     "text": [
      " 42%|████▏     | 5105/12246 [19:08<20:29,  5.81it/s]"
     ]
    },
    {
     "name": "stdout",
     "output_type": "stream",
     "text": [
      "[19:12:43] Explicit valence for atom # 28 C greater than permitted\n"
     ]
    },
    {
     "name": "stderr",
     "output_type": "stream",
     "text": [
      " 49%|████▉     | 6031/12246 [25:31<05:34, 18.57it/s]  "
     ]
    },
    {
     "name": "stdout",
     "output_type": "stream",
     "text": [
      "[19:19:06] Explicit valence for atom # 1 C greater than permitted\n"
     ]
    },
    {
     "name": "stderr",
     "output_type": "stream",
     "text": [
      " 57%|█████▋    | 6966/12246 [30:45<09:25,  9.34it/s]   "
     ]
    },
    {
     "name": "stdout",
     "output_type": "stream",
     "text": [
      "[19:24:20] Explicit valence for atom # 8 C greater than permitted\n"
     ]
    },
    {
     "name": "stderr",
     "output_type": "stream",
     "text": [
      " 60%|█████▉    | 7327/12246 [31:55<12:07,  6.76it/s]  "
     ]
    },
    {
     "name": "stdout",
     "output_type": "stream",
     "text": [
      "[19:25:27] Explicit valence for atom # 23 C greater than permitted\n"
     ]
    },
    {
     "name": "stderr",
     "output_type": "stream",
     "text": [
      " 60%|██████    | 7403/12246 [32:07<08:45,  9.22it/s]"
     ]
    },
    {
     "name": "stdout",
     "output_type": "stream",
     "text": [
      "[19:25:42] Explicit valence for atom # 11 C greater than permitted\n"
     ]
    },
    {
     "name": "stderr",
     "output_type": "stream",
     "text": [
      " 61%|██████    | 7438/12246 [32:13<11:39,  6.88it/s]"
     ]
    },
    {
     "name": "stdout",
     "output_type": "stream",
     "text": [
      "[19:25:47] Explicit valence for atom # 11 C greater than permitted\n"
     ]
    },
    {
     "name": "stderr",
     "output_type": "stream",
     "text": [
      " 62%|██████▏   | 7598/12246 [32:45<12:22,  6.26it/s]"
     ]
    },
    {
     "name": "stdout",
     "output_type": "stream",
     "text": [
      "[19:26:20] Explicit valence for atom # 17 C greater than permitted\n"
     ]
    },
    {
     "name": "stderr",
     "output_type": "stream",
     "text": [
      " 65%|██████▌   | 8005/12246 [34:05<19:22,  3.65it/s]"
     ]
    },
    {
     "name": "stdout",
     "output_type": "stream",
     "text": [
      "[19:27:37] Explicit valence for atom # 3 C greater than permitted\n"
     ]
    },
    {
     "name": "stderr",
     "output_type": "stream",
     "text": [
      " 67%|██████▋   | 8254/12246 [34:46<06:14, 10.66it/s]"
     ]
    },
    {
     "name": "stdout",
     "output_type": "stream",
     "text": [
      "[19:28:21] Explicit valence for atom # 3 C greater than permitted\n"
     ]
    },
    {
     "name": "stderr",
     "output_type": "stream",
     "text": [
      " 68%|██████▊   | 8299/12246 [34:52<05:26, 12.10it/s]"
     ]
    },
    {
     "name": "stdout",
     "output_type": "stream",
     "text": [
      "[19:28:28] Explicit valence for atom # 1 C greater than permitted\n"
     ]
    },
    {
     "name": "stderr",
     "output_type": "stream",
     "text": [
      " 69%|██████▉   | 8420/12246 [35:14<09:43,  6.56it/s]"
     ]
    },
    {
     "name": "stdout",
     "output_type": "stream",
     "text": [
      "[19:28:49] Explicit valence for atom # 1 C greater than permitted\n"
     ]
    },
    {
     "name": "stderr",
     "output_type": "stream",
     "text": [
      " 70%|██████▉   | 8527/12246 [35:38<22:17,  2.78it/s]"
     ]
    },
    {
     "name": "stdout",
     "output_type": "stream",
     "text": [
      "[19:29:08] Explicit valence for atom # 16 C greater than permitted\n"
     ]
    },
    {
     "name": "stderr",
     "output_type": "stream",
     "text": [
      " 74%|███████▍  | 9117/12246 [37:32<15:48,  3.30it/s]"
     ]
    },
    {
     "name": "stdout",
     "output_type": "stream",
     "text": [
      "[19:31:01] Explicit valence for atom # 22 C greater than permitted\n"
     ]
    },
    {
     "name": "stderr",
     "output_type": "stream",
     "text": [
      " 82%|████████▏ | 9987/12246 [41:36<19:11,  1.96it/s]  "
     ]
    },
    {
     "name": "stdout",
     "output_type": "stream",
     "text": [
      "[19:34:09] Explicit valence for atom # 3 C greater than permitted\n",
      "[19:34:09] Explicit valence for atom # 1 C greater than permitted\n"
     ]
    },
    {
     "name": "stderr",
     "output_type": "stream",
     "text": [
      " 84%|████████▎ | 10254/12246 [51:46<02:52, 11.54it/s]   "
     ]
    },
    {
     "name": "stdout",
     "output_type": "stream",
     "text": [
      "[19:45:22] Explicit valence for atom # 5 C greater than permitted\n"
     ]
    },
    {
     "name": "stderr",
     "output_type": "stream",
     "text": [
      " 85%|████████▌ | 10416/12246 [54:51<33:05,  1.08s/it]  "
     ]
    },
    {
     "name": "stdout",
     "output_type": "stream",
     "text": [
      "[19:45:52] Explicit valence for atom # 1 C greater than permitted\n"
     ]
    },
    {
     "name": "stderr",
     "output_type": "stream",
     "text": [
      " 85%|████████▌ | 10460/12246 [54:59<03:07,  9.52it/s]"
     ]
    },
    {
     "name": "stdout",
     "output_type": "stream",
     "text": [
      "[19:48:35] Explicit valence for atom # 1 C greater than permitted\n"
     ]
    },
    {
     "name": "stderr",
     "output_type": "stream",
     "text": [
      " 86%|████████▌ | 10481/12246 [55:04<02:53, 10.15it/s]"
     ]
    },
    {
     "name": "stdout",
     "output_type": "stream",
     "text": [
      "[19:48:37] Explicit valence for atom # 7 C greater than permitted\n"
     ]
    },
    {
     "name": "stderr",
     "output_type": "stream",
     "text": [
      " 86%|████████▌ | 10523/12246 [55:14<05:22,  5.34it/s]"
     ]
    },
    {
     "name": "stdout",
     "output_type": "stream",
     "text": [
      "[19:48:44] Explicit valence for atom # 7 C greater than permitted\n"
     ]
    },
    {
     "name": "stderr",
     "output_type": "stream",
     "text": [
      " 87%|████████▋ | 10714/12246 [55:48<02:48,  9.10it/s]"
     ]
    },
    {
     "name": "stdout",
     "output_type": "stream",
     "text": [
      "[19:49:24] Explicit valence for atom # 3 C greater than permitted\n"
     ]
    },
    {
     "name": "stderr",
     "output_type": "stream",
     "text": [
      " 88%|████████▊ | 10770/12246 [55:57<01:41, 14.56it/s]"
     ]
    },
    {
     "name": "stdout",
     "output_type": "stream",
     "text": [
      "[19:49:33] Explicit valence for atom # 15 C greater than permitted\n"
     ]
    },
    {
     "name": "stderr",
     "output_type": "stream",
     "text": [
      " 88%|████████▊ | 10787/12246 [56:04<05:20,  4.55it/s]"
     ]
    },
    {
     "name": "stdout",
     "output_type": "stream",
     "text": [
      "[19:49:36] Explicit valence for atom # 25 C greater than permitted\n"
     ]
    },
    {
     "name": "stderr",
     "output_type": "stream",
     "text": [
      " 89%|████████▉ | 10953/12246 [56:33<01:32, 14.04it/s]"
     ]
    },
    {
     "name": "stdout",
     "output_type": "stream",
     "text": [
      "[19:50:08] Explicit valence for atom # 1 C greater than permitted\n"
     ]
    },
    {
     "name": "stderr",
     "output_type": "stream",
     "text": [
      " 94%|█████████▎| 11476/12246 [58:10<01:17,  9.88it/s]"
     ]
    },
    {
     "name": "stdout",
     "output_type": "stream",
     "text": [
      "[19:51:44] Explicit valence for atom # 20 C greater than permitted\n"
     ]
    },
    {
     "name": "stderr",
     "output_type": "stream",
     "text": [
      " 94%|█████████▍| 11485/12246 [58:14<02:48,  4.52it/s]"
     ]
    },
    {
     "name": "stdout",
     "output_type": "stream",
     "text": [
      "[19:51:47] Explicit valence for atom # 1 C greater than permitted\n"
     ]
    },
    {
     "name": "stderr",
     "output_type": "stream",
     "text": [
      " 94%|█████████▍| 11559/12246 [58:31<00:52, 13.06it/s]"
     ]
    },
    {
     "name": "stdout",
     "output_type": "stream",
     "text": [
      "[19:52:06] Explicit valence for atom # 26 C greater than permitted\n"
     ]
    },
    {
     "name": "stderr",
     "output_type": "stream",
     "text": [
      "100%|██████████| 12246/12246 [1:00:28<00:00,  3.37it/s]\n"
     ]
    },
    {
     "name": "stdout",
     "output_type": "stream",
     "text": [
      "Finished Mordred\n",
      "Starting Mold 2\n",
      "Mold2 calculates a large and diverse set of molecular descriptors encoding two-\n",
      "dimensional chemical structure information. Comparative analysis of Mold2 descriptors\n",
      "with those calculated from commercial software on several published datasets\n",
      "demonstrated that Mold2 descriptors convey sufficient structural information. In addition,\n",
      "better models were generated using Mold2 descriptors than the compared commercial\n",
      "software packages. This publicly available software is developed by the Center for\n",
      "Bioinformatics, which is led by Dr. Weida Tong, at the National Center for Toxicological\n",
      "Research (NCTR).\n",
      "    \n",
      "Mold2 is a product designed and produced by the National Center for Toxicological\n",
      "Research (NCTR).  FDA and NCTR retain ownership of this product.\n",
      "\n",
      "Please address any questions or suggestions to Dr. Huixiao Hong, National Center for Toxicological\n",
      "Research, at 870-543-7296 or Huixiao.Hong@fda.hhs.gov.\n",
      "\n",
      "###################################\n",
      "\n",
      "Should you publish results based on the Mold² descriptors, please cite:\n",
      "\n",
      "Mold², Molecular Descriptors from 2D Structures for Chemoinformatics and Toxicoinformatics\n",
      "Huixiao Hong, Qian Xie, Weigong Ge, Feng Qian, Hong Fang, Leming Shi, Zhenqiang Su, Roger Perkins, and Weida Tong\n",
      "Journal of Chemical Information and Modeling 2008 48 (7), 1337-1344\n",
      "DOI: 10.1021/ci800038f\n",
      "\n",
      "###################################\n",
      "\n",
      "\n",
      "Finished Mold 2\n",
      "Starting Padel\n"
     ]
    },
    {
     "name": "stderr",
     "output_type": "stream",
     "text": [
      "100%|██████████| 12246/12246 [38:17:37<00:00, 11.26s/it]   \n"
     ]
    },
    {
     "name": "stdout",
     "output_type": "stream",
     "text": [
      "Finished Padel\n"
     ]
    }
   ],
   "source": [
    "calculate_molecular_descriptors(\n",
    "    df=pdb,\n",
    "    smiles_col=\"clean_smiles\",\n",
    "    dataset_name=\"pdb\"\n",
    ")"
   ]
  },
  {
   "cell_type": "code",
   "execution_count": 10,
   "id": "20acfabc",
   "metadata": {},
   "outputs": [
    {
     "name": "stdout",
     "output_type": "stream",
     "text": [
      "Starting RDKit Fingerprints\n",
      "Finished RDKit Fingerprints\n",
      "Starting Morgan Fingerprints\n",
      "Finished Morgan Fingerprints\n",
      "Starting RDKit Descriptors\n",
      "Finished RDKit Descriptors\n",
      "Starting Mordred\n"
     ]
    },
    {
     "name": "stderr",
     "output_type": "stream",
     "text": [
      "100%|██████████| 7506/7506 [06:48<00:00, 18.37it/s]\n",
      "100%|██████████| 7506/7506 [08:33<00:00, 14.62it/s]  \n"
     ]
    },
    {
     "name": "stdout",
     "output_type": "stream",
     "text": [
      "Finished Mordred\n",
      "Starting Mold 2\n",
      "Mold2 calculates a large and diverse set of molecular descriptors encoding two-\n",
      "dimensional chemical structure information. Comparative analysis of Mold2 descriptors\n",
      "with those calculated from commercial software on several published datasets\n",
      "demonstrated that Mold2 descriptors convey sufficient structural information. In addition,\n",
      "better models were generated using Mold2 descriptors than the compared commercial\n",
      "software packages. This publicly available software is developed by the Center for\n",
      "Bioinformatics, which is led by Dr. Weida Tong, at the National Center for Toxicological\n",
      "Research (NCTR).\n",
      "    \n",
      "Mold2 is a product designed and produced by the National Center for Toxicological\n",
      "Research (NCTR).  FDA and NCTR retain ownership of this product.\n",
      "\n",
      "Please address any questions or suggestions to Dr. Huixiao Hong, National Center for Toxicological\n",
      "Research, at 870-543-7296 or Huixiao.Hong@fda.hhs.gov.\n",
      "\n",
      "###################################\n",
      "\n",
      "Should you publish results based on the Mold² descriptors, please cite:\n",
      "\n",
      "Mold², Molecular Descriptors from 2D Structures for Chemoinformatics and Toxicoinformatics\n",
      "Huixiao Hong, Qian Xie, Weigong Ge, Feng Qian, Hong Fang, Leming Shi, Zhenqiang Su, Roger Perkins, and Weida Tong\n",
      "Journal of Chemical Information and Modeling 2008 48 (7), 1337-1344\n",
      "DOI: 10.1021/ci800038f\n",
      "\n",
      "###################################\n",
      "\n",
      "\n",
      "Finished Mold 2\n",
      "Starting Padel\n"
     ]
    },
    {
     "name": "stderr",
     "output_type": "stream",
     "text": [
      "100%|██████████| 7506/7506 [13:54:10<00:00,  6.67s/it]   \n"
     ]
    },
    {
     "name": "stdout",
     "output_type": "stream",
     "text": [
      "Finished Padel\n"
     ]
    }
   ],
   "source": [
    "calculate_molecular_descriptors(\n",
    "    df=tox,\n",
    "    smiles_col=\"neutralized_smiles\",\n",
    "    dataset_name=\"tox\"\n",
    ")"
   ]
  },
  {
   "cell_type": "code",
   "execution_count": 11,
   "id": "e3a5b8bb",
   "metadata": {},
   "outputs": [
    {
     "name": "stdout",
     "output_type": "stream",
     "text": [
      "Starting RDKit Fingerprints\n",
      "Finished RDKit Fingerprints\n",
      "Starting Morgan Fingerprints\n",
      "Finished Morgan Fingerprints\n",
      "Starting RDKit Descriptors\n",
      "Finished RDKit Descriptors\n",
      "Starting Mordred\n"
     ]
    },
    {
     "name": "stderr",
     "output_type": "stream",
     "text": [
      "100%|██████████| 9971/9971 [08:28<00:00, 19.61it/s]\n",
      "100%|██████████| 9971/9971 [13:40<00:00, 12.15it/s]   \n"
     ]
    },
    {
     "name": "stdout",
     "output_type": "stream",
     "text": [
      "Finished Mordred\n",
      "Starting Mold 2\n",
      "Mold2 calculates a large and diverse set of molecular descriptors encoding two-\n",
      "dimensional chemical structure information. Comparative analysis of Mold2 descriptors\n",
      "with those calculated from commercial software on several published datasets\n",
      "demonstrated that Mold2 descriptors convey sufficient structural information. In addition,\n",
      "better models were generated using Mold2 descriptors than the compared commercial\n",
      "software packages. This publicly available software is developed by the Center for\n",
      "Bioinformatics, which is led by Dr. Weida Tong, at the National Center for Toxicological\n",
      "Research (NCTR).\n",
      "    \n",
      "Mold2 is a product designed and produced by the National Center for Toxicological\n",
      "Research (NCTR).  FDA and NCTR retain ownership of this product.\n",
      "\n",
      "Please address any questions or suggestions to Dr. Huixiao Hong, National Center for Toxicological\n",
      "Research, at 870-543-7296 or Huixiao.Hong@fda.hhs.gov.\n",
      "\n",
      "###################################\n",
      "\n",
      "Should you publish results based on the Mold² descriptors, please cite:\n",
      "\n",
      "Mold², Molecular Descriptors from 2D Structures for Chemoinformatics and Toxicoinformatics\n",
      "Huixiao Hong, Qian Xie, Weigong Ge, Feng Qian, Hong Fang, Leming Shi, Zhenqiang Su, Roger Perkins, and Weida Tong\n",
      "Journal of Chemical Information and Modeling 2008 48 (7), 1337-1344\n",
      "DOI: 10.1021/ci800038f\n",
      "\n",
      "###################################\n",
      "\n",
      "\n",
      "Finished Mold 2\n",
      "Starting Padel\n"
     ]
    },
    {
     "name": "stderr",
     "output_type": "stream",
     "text": [
      "100%|██████████| 9971/9971 [15:40:24<00:00,  5.66s/it]   \n"
     ]
    },
    {
     "name": "stdout",
     "output_type": "stream",
     "text": [
      "Finished Padel\n"
     ]
    }
   ],
   "source": [
    "calculate_molecular_descriptors(\n",
    "    df=zinc,\n",
    "    smiles_col=\"clean_smiles\",\n",
    "    dataset_name=\"zinc\"\n",
    ")"
   ]
  }
 ],
 "metadata": {
  "kernelspec": {
   "display_name": "Python 3 (ipykernel)",
   "language": "python",
   "name": "python3"
  },
  "language_info": {
   "codemirror_mode": {
    "name": "ipython",
    "version": 3
   },
   "file_extension": ".py",
   "mimetype": "text/x-python",
   "name": "python",
   "nbconvert_exporter": "python",
   "pygments_lexer": "ipython3",
   "version": "3.8.15"
  }
 },
 "nbformat": 4,
 "nbformat_minor": 5
}
