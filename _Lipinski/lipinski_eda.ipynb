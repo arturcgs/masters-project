{
 "cells": [
  {
   "cell_type": "markdown",
   "id": "dd9ed505",
   "metadata": {},
   "source": [
    "# Exploratory Data Analysis - Lipinksi's rule for the FDA New Chemical Entities (2004-2021)"
   ]
  },
  {
   "cell_type": "markdown",
   "id": "966cb404",
   "metadata": {},
   "source": [
    "After manually curated the dataset (merged from FDA database and DrugBank database) we are going the explore the Lipinski's rules of the ~400 New Chemical Entitities approved by the <b>FDA</b>. About 30 SMILES were manually gathered since none of the two strategies worked (SMILES from name structures or automatically merged with the DrugBank database).\n",
    "\n",
    "First we need to import the libraries used in this analysis"
   ]
  },
  {
   "cell_type": "code",
   "execution_count": 1,
   "id": "cb99f36f",
   "metadata": {},
   "outputs": [],
   "source": [
    "from rdkit import Chem\n",
    "from rdkit.Chem import Draw\n",
    "from rdkit.Chem.Draw import IPythonConsole\n",
    "import numpy as np\n",
    "import pandas as pd\n",
    "import seaborn as sns\n",
    "import matplotlib.pyplot as plt"
   ]
  },
  {
   "cell_type": "markdown",
   "id": "9c2683c1",
   "metadata": {},
   "source": [
    "## 1) Loading the and treating the dataset"
   ]
  },
  {
   "cell_type": "markdown",
   "id": "93c77085",
   "metadata": {},
   "source": [
    "Now, we load the database in the CSV format. The curated database was done by GHMS and ACGS."
   ]
  },
  {
   "cell_type": "code",
   "execution_count": 2,
   "id": "e93d3cbd",
   "metadata": {},
   "outputs": [],
   "source": [
    "drugs = pd.read_csv(\"database_fda_db_with_smiles.csv\")"
   ]
  },
  {
   "cell_type": "markdown",
   "id": "139ac44c",
   "metadata": {},
   "source": [
    "Initially we came to a consensus and left the structures with more than 5000 Daltons out of the analysis, since it is probably a peptide."
   ]
  },
  {
   "cell_type": "code",
   "execution_count": 3,
   "id": "44f15283",
   "metadata": {
    "collapsed": true
   },
   "outputs": [
    {
     "data": {
      "text/html": [
       "<div>\n",
       "<style scoped>\n",
       "    .dataframe tbody tr th:only-of-type {\n",
       "        vertical-align: middle;\n",
       "    }\n",
       "\n",
       "    .dataframe tbody tr th {\n",
       "        vertical-align: top;\n",
       "    }\n",
       "\n",
       "    .dataframe thead th {\n",
       "        text-align: right;\n",
       "    }\n",
       "</style>\n",
       "<table border=\"1\" class=\"dataframe\">\n",
       "  <thead>\n",
       "    <tr style=\"text-align: right;\">\n",
       "      <th></th>\n",
       "      <th>active_ingredient_moiety</th>\n",
       "      <th>nda_bla</th>\n",
       "      <th>approval_year</th>\n",
       "      <th>active</th>\n",
       "      <th>drugbank_id</th>\n",
       "      <th>drug_groups</th>\n",
       "      <th>smiles</th>\n",
       "      <th>ROMol</th>\n",
       "      <th>mw</th>\n",
       "      <th>n_hba</th>\n",
       "      <th>n_hbd</th>\n",
       "      <th>logp</th>\n",
       "    </tr>\n",
       "  </thead>\n",
       "  <tbody>\n",
       "    <tr>\n",
       "      <th>0</th>\n",
       "      <td>tiotropium bromide</td>\n",
       "      <td>NDA</td>\n",
       "      <td>2004.0</td>\n",
       "      <td>tiotropium</td>\n",
       "      <td>DB01409</td>\n",
       "      <td>approved</td>\n",
       "      <td>[H][C@]12O[C@@]1([H])[C@]1([H])C[C@@]([H])(C[C...</td>\n",
       "      <td>&lt;img data-content=\"rdkit/molecule\" src=\"data:i...</td>\n",
       "      <td>392.098477</td>\n",
       "      <td>6</td>\n",
       "      <td>1</td>\n",
       "      <td>2.34570</td>\n",
       "    </tr>\n",
       "    <tr>\n",
       "      <th>1</th>\n",
       "      <td>pemetrexed disodium</td>\n",
       "      <td>NDA</td>\n",
       "      <td>2004.0</td>\n",
       "      <td>pemetrexed</td>\n",
       "      <td>DB00642</td>\n",
       "      <td>approved; investigational</td>\n",
       "      <td>NC1=NC(=O)C2=C(NC=C2CCC2=CC=C(C=C2)C(=O)N[C@@H...</td>\n",
       "      <td>&lt;img data-content=\"rdkit/molecule\" src=\"data:i...</td>\n",
       "      <td>427.149183</td>\n",
       "      <td>6</td>\n",
       "      <td>6</td>\n",
       "      <td>0.66640</td>\n",
       "    </tr>\n",
       "    <tr>\n",
       "      <th>2</th>\n",
       "      <td>cinacalcet hydrochloride</td>\n",
       "      <td>NDA</td>\n",
       "      <td>2004.0</td>\n",
       "      <td>cinacalcet</td>\n",
       "      <td>DB01012</td>\n",
       "      <td>approved</td>\n",
       "      <td>C[C@@H](NCCCC1=CC(=CC=C1)C(F)(F)F)C1=CC=CC2=CC...</td>\n",
       "      <td>&lt;img data-content=\"rdkit/molecule\" src=\"data:i...</td>\n",
       "      <td>357.170434</td>\n",
       "      <td>1</td>\n",
       "      <td>1</td>\n",
       "      <td>6.14200</td>\n",
       "    </tr>\n",
       "    <tr>\n",
       "      <th>3</th>\n",
       "      <td>telithromycin</td>\n",
       "      <td>NDA</td>\n",
       "      <td>2004.0</td>\n",
       "      <td>telithromycin</td>\n",
       "      <td>DB00976</td>\n",
       "      <td>approved</td>\n",
       "      <td>[H][C@@]12[C@@H](C)C(=O)[C@H](C)C[C@@](C)(OC)[...</td>\n",
       "      <td>&lt;img data-content=\"rdkit/molecule\" src=\"data:i...</td>\n",
       "      <td>811.473143</td>\n",
       "      <td>14</td>\n",
       "      <td>1</td>\n",
       "      <td>4.92920</td>\n",
       "    </tr>\n",
       "    <tr>\n",
       "      <th>4</th>\n",
       "      <td>apomorphine hydrochloride</td>\n",
       "      <td>NDA</td>\n",
       "      <td>2004.0</td>\n",
       "      <td>apomorphine</td>\n",
       "      <td>DB00714</td>\n",
       "      <td>approved; investigational</td>\n",
       "      <td>[H][C@]12CC3=C(C(O)=C(O)C=C3)C3=CC=CC(CCN1C)=C23</td>\n",
       "      <td>&lt;img data-content=\"rdkit/molecule\" src=\"data:i...</td>\n",
       "      <td>267.125929</td>\n",
       "      <td>3</td>\n",
       "      <td>2</td>\n",
       "      <td>2.84990</td>\n",
       "    </tr>\n",
       "    <tr>\n",
       "      <th>...</th>\n",
       "      <td>...</td>\n",
       "      <td>...</td>\n",
       "      <td>...</td>\n",
       "      <td>...</td>\n",
       "      <td>...</td>\n",
       "      <td>...</td>\n",
       "      <td>...</td>\n",
       "      <td>...</td>\n",
       "      <td>...</td>\n",
       "      <td>...</td>\n",
       "      <td>...</td>\n",
       "      <td>...</td>\n",
       "    </tr>\n",
       "    <tr>\n",
       "      <th>399</th>\n",
       "      <td>tafamidis meglumine</td>\n",
       "      <td>NDA</td>\n",
       "      <td>2019.0</td>\n",
       "      <td>tafamidis meglumine</td>\n",
       "      <td>NaN</td>\n",
       "      <td>NaN</td>\n",
       "      <td>CNC[C@@H]([C@H]([C@@H]([C@@H](CO)O)O)O)O.C1=CC...</td>\n",
       "      <td>&lt;img data-content=\"rdkit/molecule\" src=\"data:i...</td>\n",
       "      <td>502.090971</td>\n",
       "      <td>9</td>\n",
       "      <td>7</td>\n",
       "      <td>1.14150</td>\n",
       "    </tr>\n",
       "    <tr>\n",
       "      <th>400</th>\n",
       "      <td>givosiran</td>\n",
       "      <td>NDA</td>\n",
       "      <td>2019.0</td>\n",
       "      <td>givosiran</td>\n",
       "      <td>NaN</td>\n",
       "      <td>NaN</td>\n",
       "      <td>C[C@@H]1C[C@H](CN1C(=O)CCCCCCCCCCC(=O)NC(COCCC...</td>\n",
       "      <td>&lt;img data-content=\"rdkit/molecule\" src=\"data:i...</td>\n",
       "      <td>1709.968932</td>\n",
       "      <td>30</td>\n",
       "      <td>20</td>\n",
       "      <td>-4.79650</td>\n",
       "    </tr>\n",
       "    <tr>\n",
       "      <th>401</th>\n",
       "      <td>dasiglucagon</td>\n",
       "      <td>NDA</td>\n",
       "      <td>2021.0</td>\n",
       "      <td>dasiglucagon</td>\n",
       "      <td>NaN</td>\n",
       "      <td>NaN</td>\n",
       "      <td>C[C@H]([C@@H](C(=O)N[C@@H](CC1=CC=CC=C1)C(=O)N...</td>\n",
       "      <td>&lt;img data-content=\"rdkit/molecule\" src=\"data:i...</td>\n",
       "      <td>3379.599700</td>\n",
       "      <td>49</td>\n",
       "      <td>52</td>\n",
       "      <td>-14.68393</td>\n",
       "    </tr>\n",
       "    <tr>\n",
       "      <th>402</th>\n",
       "      <td>vosoritide</td>\n",
       "      <td>NDA</td>\n",
       "      <td>2021.0</td>\n",
       "      <td>vosoritide</td>\n",
       "      <td>NaN</td>\n",
       "      <td>NaN</td>\n",
       "      <td>CC[C@H](C)[C@H]1C(=O)NCC(=O)N[C@H](C(=O)N[C@H]...</td>\n",
       "      <td>&lt;img data-content=\"rdkit/molecule\" src=\"data:i...</td>\n",
       "      <td>4100.098262</td>\n",
       "      <td>61</td>\n",
       "      <td>61</td>\n",
       "      <td>-20.98876</td>\n",
       "    </tr>\n",
       "    <tr>\n",
       "      <th>403</th>\n",
       "      <td>inclisiran</td>\n",
       "      <td>NDA</td>\n",
       "      <td>2021.0</td>\n",
       "      <td>inclisiran</td>\n",
       "      <td>NaN</td>\n",
       "      <td>NaN</td>\n",
       "      <td>CC(=O)N[C@@H]1[C@H]([C@H]([C@H](O[C@H]1OCCCCC(...</td>\n",
       "      <td>&lt;img data-content=\"rdkit/molecule\" src=\"data:i...</td>\n",
       "      <td>1805.930177</td>\n",
       "      <td>32</td>\n",
       "      <td>22</td>\n",
       "      <td>-5.70710</td>\n",
       "    </tr>\n",
       "  </tbody>\n",
       "</table>\n",
       "<p>404 rows × 12 columns</p>\n",
       "</div>"
      ],
      "text/plain": [
       "      active_ingredient_moiety nda_bla  approval_year               active  \\\n",
       "0           tiotropium bromide     NDA         2004.0           tiotropium   \n",
       "1          pemetrexed disodium     NDA         2004.0           pemetrexed   \n",
       "2     cinacalcet hydrochloride     NDA         2004.0           cinacalcet   \n",
       "3                telithromycin     NDA         2004.0        telithromycin   \n",
       "4    apomorphine hydrochloride     NDA         2004.0          apomorphine   \n",
       "..                         ...     ...            ...                  ...   \n",
       "399        tafamidis meglumine     NDA         2019.0  tafamidis meglumine   \n",
       "400                  givosiran     NDA         2019.0            givosiran   \n",
       "401               dasiglucagon     NDA         2021.0         dasiglucagon   \n",
       "402                 vosoritide     NDA         2021.0           vosoritide   \n",
       "403                 inclisiran     NDA         2021.0           inclisiran   \n",
       "\n",
       "    drugbank_id                drug_groups  \\\n",
       "0       DB01409                   approved   \n",
       "1       DB00642  approved; investigational   \n",
       "2       DB01012                   approved   \n",
       "3       DB00976                   approved   \n",
       "4       DB00714  approved; investigational   \n",
       "..          ...                        ...   \n",
       "399         NaN                        NaN   \n",
       "400         NaN                        NaN   \n",
       "401         NaN                        NaN   \n",
       "402         NaN                        NaN   \n",
       "403         NaN                        NaN   \n",
       "\n",
       "                                                smiles  \\\n",
       "0    [H][C@]12O[C@@]1([H])[C@]1([H])C[C@@]([H])(C[C...   \n",
       "1    NC1=NC(=O)C2=C(NC=C2CCC2=CC=C(C=C2)C(=O)N[C@@H...   \n",
       "2    C[C@@H](NCCCC1=CC(=CC=C1)C(F)(F)F)C1=CC=CC2=CC...   \n",
       "3    [H][C@@]12[C@@H](C)C(=O)[C@H](C)C[C@@](C)(OC)[...   \n",
       "4     [H][C@]12CC3=C(C(O)=C(O)C=C3)C3=CC=CC(CCN1C)=C23   \n",
       "..                                                 ...   \n",
       "399  CNC[C@@H]([C@H]([C@@H]([C@@H](CO)O)O)O)O.C1=CC...   \n",
       "400  C[C@@H]1C[C@H](CN1C(=O)CCCCCCCCCCC(=O)NC(COCCC...   \n",
       "401  C[C@H]([C@@H](C(=O)N[C@@H](CC1=CC=CC=C1)C(=O)N...   \n",
       "402  CC[C@H](C)[C@H]1C(=O)NCC(=O)N[C@H](C(=O)N[C@H]...   \n",
       "403  CC(=O)N[C@@H]1[C@H]([C@H]([C@H](O[C@H]1OCCCCC(...   \n",
       "\n",
       "                                                 ROMol           mw  n_hba  \\\n",
       "0    <img data-content=\"rdkit/molecule\" src=\"data:i...   392.098477      6   \n",
       "1    <img data-content=\"rdkit/molecule\" src=\"data:i...   427.149183      6   \n",
       "2    <img data-content=\"rdkit/molecule\" src=\"data:i...   357.170434      1   \n",
       "3    <img data-content=\"rdkit/molecule\" src=\"data:i...   811.473143     14   \n",
       "4    <img data-content=\"rdkit/molecule\" src=\"data:i...   267.125929      3   \n",
       "..                                                 ...          ...    ...   \n",
       "399  <img data-content=\"rdkit/molecule\" src=\"data:i...   502.090971      9   \n",
       "400  <img data-content=\"rdkit/molecule\" src=\"data:i...  1709.968932     30   \n",
       "401  <img data-content=\"rdkit/molecule\" src=\"data:i...  3379.599700     49   \n",
       "402  <img data-content=\"rdkit/molecule\" src=\"data:i...  4100.098262     61   \n",
       "403  <img data-content=\"rdkit/molecule\" src=\"data:i...  1805.930177     32   \n",
       "\n",
       "     n_hbd      logp  \n",
       "0        1   2.34570  \n",
       "1        6   0.66640  \n",
       "2        1   6.14200  \n",
       "3        1   4.92920  \n",
       "4        2   2.84990  \n",
       "..     ...       ...  \n",
       "399      7   1.14150  \n",
       "400     20  -4.79650  \n",
       "401     52 -14.68393  \n",
       "402     61 -20.98876  \n",
       "403     22  -5.70710  \n",
       "\n",
       "[404 rows x 12 columns]"
      ]
     },
     "execution_count": 3,
     "metadata": {},
     "output_type": "execute_result"
    }
   ],
   "source": [
    "# Filtering the structures with more than 5000 Da\n",
    "drugs = drugs.loc[~(drugs[\"mw\"] > 5000)].reset_index(drop = True)\n",
    "\n",
    "# Checking the dataframe\n",
    "drugs"
   ]
  },
  {
   "cell_type": "markdown",
   "id": "30d2e953",
   "metadata": {},
   "source": [
    "## 2) Basic data visualization"
   ]
  },
  {
   "cell_type": "markdown",
   "id": "3f746fb1",
   "metadata": {},
   "source": [
    "Since the plots are probably going to be published, this is a very good strategy: to set the context with the seaborn function `set_context()`, which automatically does the job of increasing the datapoints and fonts to yield a better visualization "
   ]
  },
  {
   "cell_type": "code",
   "execution_count": 4,
   "id": "eedbc9c0",
   "metadata": {},
   "outputs": [],
   "source": [
    "sns.set_context(\"talk\")"
   ]
  },
  {
   "cell_type": "markdown",
   "id": "e1f22491",
   "metadata": {},
   "source": [
    "The following chunks of code are related to the basic plots of distribution of the lipinski's rule:\n",
    "\n",
    "- A molecular mass less than 500 daltons\n",
    "- No more than 5 hydrogen bond donors (the total number of nitrogen–hydrogen and oxygen–hydrogen bonds)\n",
    "- No more than 10 hydrogen bond acceptors (all nitrogen or oxygen atoms)\n",
    "- An octanol-water partition coefficient(log P) that does not exceed 5"
   ]
  },
  {
   "cell_type": "markdown",
   "id": "df30abb5",
   "metadata": {},
   "source": [
    "### 2.1) Molecular Weight distribution"
   ]
  },
  {
   "cell_type": "code",
   "execution_count": 5,
   "id": "441cec68",
   "metadata": {
    "collapsed": true
   },
   "outputs": [
    {
     "data": {
      "image/png": "[encoded data removed]",
      "text/plain": [
       "<Figure size 720x432 with 1 Axes>"
      ]
     },
     "metadata": {
      "needs_background": "light"
     },
     "output_type": "display_data"
    }
   ],
   "source": [
    "fig, ax = plt.subplots(figsize = (10,6))\n",
    "\n",
    "mw_dist = sns.histplot(data = drugs, x = \"mw\", color = \"#264653\", binwidth = 100).set(title = \"FDA approved drugs (2001-2004)\", xlabel = \"MW (Da)\",\n",
    "                                                            ylabel = \"\")\n",
    "ax.axvline(500,color = \"#e76f51\", linestyle = \"--\")\n",
    "fig.suptitle(\"Molecular weight distribution\", fontsize = 22)\n",
    "\n",
    "#saving plot\n",
    "fig.savefig(\"imgs/mw_dist.png\", dpi=300)"
   ]
  },
  {
   "cell_type": "markdown",
   "id": "26c3c615",
   "metadata": {},
   "source": [
    "### 2.2) Number of Hydrogen Bond Donors distribution"
   ]
  },
  {
   "cell_type": "code",
   "execution_count": 6,
   "id": "6f462d97",
   "metadata": {
    "collapsed": true
   },
   "outputs": [
    {
     "data": {
      "image/png": "[encoded data removed]",
      "text/plain": [
       "<Figure size 720x432 with 1 Axes>"
      ]
     },
     "metadata": {
      "needs_background": "light"
     },
     "output_type": "display_data"
    }
   ],
   "source": [
    "fig, ax = plt.subplots(figsize = (10,6))\n",
    "\n",
    "hbd_dist = sns.histplot(data = drugs, x = \"n_hbd\", color = \"#264653\", binwidth = 1.25).set(title = \"FDA approved drugs (2001-2004)\", xlabel = \"# HBD\",\n",
    "                                                            ylabel = \"\")\n",
    "ax.axvline(5,color = \"#e76f51\", linestyle = \"--\")\n",
    "fig.suptitle(\"Number of Hydrogen Bond Donors\", fontsize = 22)\n",
    "\n",
    "#saving plot\n",
    "fig.savefig(\"imgs/hbd_dist.png\", dpi=300)"
   ]
  },
  {
   "cell_type": "markdown",
   "id": "d7b661f8",
   "metadata": {},
   "source": [
    "### 2.3) Number of Hydrogen Bond Acceptors"
   ]
  },
  {
   "cell_type": "code",
   "execution_count": 7,
   "id": "233411bc",
   "metadata": {
    "collapsed": true
   },
   "outputs": [
    {
     "data": {
      "image/png": "[encoded data removed]",
      "text/plain": [
       "<Figure size 720x432 with 1 Axes>"
      ]
     },
     "metadata": {
      "needs_background": "light"
     },
     "output_type": "display_data"
    }
   ],
   "source": [
    "fig, ax = plt.subplots(figsize = (10,6))\n",
    "\n",
    "hba_dist = sns.histplot(data = drugs, x = \"n_hba\", color = \"#264653\", binwidth = 1.25).set(title = \"FDA approved drugs (2001-2004)\", \n",
    "                                                                                xlabel = \"# HBA\", ylabel = \"\")\n",
    "ax.axvline(10,color = \"#e76f51\", linestyle = \"--\")\n",
    "fig.suptitle(\"Number of Hydrogen Bond Acceptors\", fontsize = 22)\n",
    "\n",
    "#saving plot\n",
    "fig.savefig(\"imgs/hba_dist.png\", dpi=300)"
   ]
  },
  {
   "cell_type": "markdown",
   "id": "dc7e4600",
   "metadata": {},
   "source": [
    "### 2.4) Calculated LogP Distribution"
   ]
  },
  {
   "cell_type": "code",
   "execution_count": 8,
   "id": "ecfc2634",
   "metadata": {
    "collapsed": true
   },
   "outputs": [
    {
     "data": {
      "image/png": "[encoded data removed]",
      "text/plain": [
       "<Figure size 720x432 with 1 Axes>"
      ]
     },
     "metadata": {
      "needs_background": "light"
     },
     "output_type": "display_data"
    }
   ],
   "source": [
    "fig, ax = plt.subplots(figsize = (10,6))\n",
    "\n",
    "logp_dist = sns.histplot(data = drugs, x = \"logp\", color = \"#264653\", binwidth = 1.25).set(title = \"FDA approved drugs (2001-2004)\", \n",
    "                                                                                xlabel = \"cLogP\", ylabel = \"\")\n",
    "ax.axvline(5,color = \"#e76f51\", linestyle = \"--\")\n",
    "fig.suptitle(\"LogP Distribution\", fontsize = 22)\n",
    "\n",
    "#saving plot\n",
    "fig.savefig(\"imgs/logp_dist.png\", dpi=300)"
   ]
  },
  {
   "cell_type": "markdown",
   "id": "1c29246f",
   "metadata": {},
   "source": [
    "### 2.5) Distribution of the number of followed rules"
   ]
  },
  {
   "cell_type": "markdown",
   "id": "2c97cd29",
   "metadata": {},
   "source": [
    "We take a first look of the percentage of FDA approved drugs that followed all the Lipinski's rule of five:"
   ]
  },
  {
   "cell_type": "code",
   "execution_count": 9,
   "id": "520fd827",
   "metadata": {},
   "outputs": [
    {
     "name": "stdout",
     "output_type": "stream",
     "text": [
      "Percentage of FDA approved drugs that followed all of Lipinki's rule of five: 54.46%\n"
     ]
    }
   ],
   "source": [
    "# We create a boolean for obeying all the lipinski rules\n",
    "lipinski = (drugs.mw <= 500) & (drugs.n_hbd <= 5) & (drugs.n_hba <= 10) & (drugs.logp <= 5)\n",
    "\n",
    "# Printing the percentage\n",
    "print(f\"Percentage of FDA approved drugs that followed all of Lipinki's rule of five: \"\n",
    "      f\"{drugs[lipinski].shape[0] / drugs.shape[0] * 100:.2f}%\")"
   ]
  },
  {
   "cell_type": "markdown",
   "id": "e33777a4",
   "metadata": {},
   "source": [
    "Creating a column for each rule, in order to take a more deep look into each of 4 rules."
   ]
  },
  {
   "cell_type": "code",
   "execution_count": 10,
   "id": "f8278b90",
   "metadata": {},
   "outputs": [],
   "source": [
    "# Creating a column for each rule of the lipinski's rule of five\n",
    "drugs[\"lipinski_mw\"] = drugs.mw <= 500\n",
    "drugs[\"lipinski_hbd\"] = drugs.n_hbd <= 5\n",
    "drugs[\"lipinski_hba\"] = drugs.n_hba <= 10\n",
    "drugs[\"lipinski_logp\"] = drugs.logp <= 5\n",
    "\n",
    "# How many rules were followed by each structure?\n",
    "drugs[\"n_follow_rules\"] = drugs.iloc[:,-4:].sum(axis = 1)"
   ]
  },
  {
   "cell_type": "markdown",
   "id": "63614c50",
   "metadata": {},
   "source": [
    "Then, we make a plot containing this information:\n",
    "### 2.5.1) Countplot of the number of rules followed by the structures in the period"
   ]
  },
  {
   "cell_type": "code",
   "execution_count": 18,
   "id": "4ac9828e",
   "metadata": {
    "collapsed": true
   },
   "outputs": [
    {
     "data": {
      "image/png": "[encoded data removed]",
      "text/plain": [
       "<Figure size 648x504 with 1 Axes>"
      ]
     },
     "metadata": {
      "needs_background": "light"
     },
     "output_type": "display_data"
    }
   ],
   "source": [
    "# Setting the plot sizes\n",
    "fig, ax = plt.subplots(figsize = (9,7))\n",
    "\n",
    "# The plot\n",
    "hba_dist = sns.countplot(data = drugs, x = \"n_follow_rules\", color = \"#264653\").set(title = \"FDA approved drugs (2001-2004)\", \n",
    "                                                                                xlabel = \"Number of rules followed\", ylabel = \"\",\n",
    "                                                                                   ylim = (0,250))\n",
    "# Title superior to the title plot\n",
    "fig.suptitle(\"Distribution of rules followed by the structures\", fontsize = 22)\n",
    "\n",
    "\n",
    "# This part of the code is relative to the size of the respective bar of the countplot\n",
    "for p in ax.patches:\n",
    "    x=p.get_bbox().get_points()[:,0]\n",
    "    y=p.get_bbox().get_points()[1,1]\n",
    "    ax.annotate('{}'.format(int(y)), (x.mean(), y), \n",
    "            ha='center', va='bottom', fontsize = 18) # set the alignment of the text\n",
    "#saving plot\n",
    "fig.savefig(\"imgs/n_follow_rules_countplot.png\", dpi=300)"
   ]
  },
  {
   "cell_type": "code",
   "execution_count": 12,
   "id": "4c7b2473",
   "metadata": {},
   "outputs": [],
   "source": [
    "IPythonConsole.drawOptions.useBWAtomPalette()\n",
    "none_lipinski = list(drugs[drugs.n_follow_rules == 0][\"smiles\"])\n",
    "\n",
    "ms = [Chem.MolFromSmiles(x) for x in none_lipinski]\n",
    "\n",
    "img = Draw.MolsToGridImage(ms, subImgSize = (1550,1550), molsPerRow = 1, returnPNG=False)\n",
    "img.save(\"imgs/none_lipinski_molecules.png\")"
   ]
  },
  {
   "cell_type": "code",
   "execution_count": 13,
   "id": "b8996c92",
   "metadata": {},
   "outputs": [
    {
     "data": {
      "text/html": [
       "<div>\n",
       "<style scoped>\n",
       "    .dataframe tbody tr th:only-of-type {\n",
       "        vertical-align: middle;\n",
       "    }\n",
       "\n",
       "    .dataframe tbody tr th {\n",
       "        vertical-align: top;\n",
       "    }\n",
       "\n",
       "    .dataframe thead th {\n",
       "        text-align: right;\n",
       "    }\n",
       "</style>\n",
       "<table border=\"1\" class=\"dataframe\">\n",
       "  <thead>\n",
       "    <tr style=\"text-align: right;\">\n",
       "      <th></th>\n",
       "      <th>active_ingredient_moiety</th>\n",
       "      <th>nda_bla</th>\n",
       "      <th>approval_year</th>\n",
       "      <th>active</th>\n",
       "      <th>drugbank_id</th>\n",
       "      <th>drug_groups</th>\n",
       "      <th>smiles</th>\n",
       "      <th>ROMol</th>\n",
       "      <th>mw</th>\n",
       "      <th>n_hba</th>\n",
       "      <th>n_hbd</th>\n",
       "      <th>logp</th>\n",
       "      <th>lipinski_mw</th>\n",
       "      <th>lipinski_hbd</th>\n",
       "      <th>lipinski_hba</th>\n",
       "      <th>lipinski_logp</th>\n",
       "      <th>n_follow_rules</th>\n",
       "    </tr>\n",
       "  </thead>\n",
       "  <tbody>\n",
       "    <tr>\n",
       "      <th>119</th>\n",
       "      <td>fidaxomicin</td>\n",
       "      <td>NDA</td>\n",
       "      <td>2011.0</td>\n",
       "      <td>fidaxomicin</td>\n",
       "      <td>DB08874</td>\n",
       "      <td>approved</td>\n",
       "      <td>[H][C@@]1(O[C@@H]2[C@@H](CC)\\C=C(C)\\[C@@H](O)C...</td>\n",
       "      <td>&lt;img data-content=\"rdkit/molecule\" src=\"data:i...</td>\n",
       "      <td>1056.425221</td>\n",
       "      <td>18</td>\n",
       "      <td>7</td>\n",
       "      <td>6.2344</td>\n",
       "      <td>False</td>\n",
       "      <td>False</td>\n",
       "      <td>False</td>\n",
       "      <td>False</td>\n",
       "      <td>0</td>\n",
       "    </tr>\n",
       "    <tr>\n",
       "      <th>305</th>\n",
       "      <td>tenapanor</td>\n",
       "      <td>NDA</td>\n",
       "      <td>2019.0</td>\n",
       "      <td>tenapanor</td>\n",
       "      <td>DB11761</td>\n",
       "      <td>approved; investigational</td>\n",
       "      <td>CN1C[C@@H](C2=CC(=CC=C2)S(=O)(=O)NCCOCCOCCNC(=...</td>\n",
       "      <td>&lt;img data-content=\"rdkit/molecule\" src=\"data:i...</td>\n",
       "      <td>1142.309743</td>\n",
       "      <td>12</td>\n",
       "      <td>6</td>\n",
       "      <td>6.1566</td>\n",
       "      <td>False</td>\n",
       "      <td>False</td>\n",
       "      <td>False</td>\n",
       "      <td>False</td>\n",
       "      <td>0</td>\n",
       "    </tr>\n",
       "    <tr>\n",
       "      <th>374</th>\n",
       "      <td>pafolacianine</td>\n",
       "      <td>NDA</td>\n",
       "      <td>2021.0</td>\n",
       "      <td>pafolacianine</td>\n",
       "      <td>DB15413</td>\n",
       "      <td>approved; investigational</td>\n",
       "      <td>CC1(C)\\C(=C/C=C2\\CCCC(\\C=C\\C3=[N+](CCCCS(O)(=O...</td>\n",
       "      <td>&lt;img data-content=\"rdkit/molecule\" src=\"data:i...</td>\n",
       "      <td>1325.353776</td>\n",
       "      <td>19</td>\n",
       "      <td>8</td>\n",
       "      <td>6.8774</td>\n",
       "      <td>False</td>\n",
       "      <td>False</td>\n",
       "      <td>False</td>\n",
       "      <td>False</td>\n",
       "      <td>0</td>\n",
       "    </tr>\n",
       "    <tr>\n",
       "      <th>389</th>\n",
       "      <td>lucinactant</td>\n",
       "      <td>NDA</td>\n",
       "      <td>2012.0</td>\n",
       "      <td>lucinactant</td>\n",
       "      <td>NaN</td>\n",
       "      <td>NaN</td>\n",
       "      <td>CC(C)CC(C(=O)NC(CC(C)C)C(=O)NC(CC(C)C)C(=O)NC(...</td>\n",
       "      <td>&lt;img data-content=\"rdkit/molecule\" src=\"data:i...</td>\n",
       "      <td>2527.851533</td>\n",
       "      <td>28</td>\n",
       "      <td>28</td>\n",
       "      <td>6.5678</td>\n",
       "      <td>False</td>\n",
       "      <td>False</td>\n",
       "      <td>False</td>\n",
       "      <td>False</td>\n",
       "      <td>0</td>\n",
       "    </tr>\n",
       "  </tbody>\n",
       "</table>\n",
       "</div>"
      ],
      "text/plain": [
       "    active_ingredient_moiety nda_bla  approval_year         active  \\\n",
       "119              fidaxomicin     NDA         2011.0    fidaxomicin   \n",
       "305                tenapanor     NDA         2019.0      tenapanor   \n",
       "374            pafolacianine     NDA         2021.0  pafolacianine   \n",
       "389              lucinactant     NDA         2012.0    lucinactant   \n",
       "\n",
       "    drugbank_id                drug_groups  \\\n",
       "119     DB08874                   approved   \n",
       "305     DB11761  approved; investigational   \n",
       "374     DB15413  approved; investigational   \n",
       "389         NaN                        NaN   \n",
       "\n",
       "                                                smiles  \\\n",
       "119  [H][C@@]1(O[C@@H]2[C@@H](CC)\\C=C(C)\\[C@@H](O)C...   \n",
       "305  CN1C[C@@H](C2=CC(=CC=C2)S(=O)(=O)NCCOCCOCCNC(=...   \n",
       "374  CC1(C)\\C(=C/C=C2\\CCCC(\\C=C\\C3=[N+](CCCCS(O)(=O...   \n",
       "389  CC(C)CC(C(=O)NC(CC(C)C)C(=O)NC(CC(C)C)C(=O)NC(...   \n",
       "\n",
       "                                                 ROMol           mw  n_hba  \\\n",
       "119  <img data-content=\"rdkit/molecule\" src=\"data:i...  1056.425221     18   \n",
       "305  <img data-content=\"rdkit/molecule\" src=\"data:i...  1142.309743     12   \n",
       "374  <img data-content=\"rdkit/molecule\" src=\"data:i...  1325.353776     19   \n",
       "389  <img data-content=\"rdkit/molecule\" src=\"data:i...  2527.851533     28   \n",
       "\n",
       "     n_hbd    logp  lipinski_mw  lipinski_hbd  lipinski_hba  lipinski_logp  \\\n",
       "119      7  6.2344        False         False         False          False   \n",
       "305      6  6.1566        False         False         False          False   \n",
       "374      8  6.8774        False         False         False          False   \n",
       "389     28  6.5678        False         False         False          False   \n",
       "\n",
       "     n_follow_rules  \n",
       "119               0  \n",
       "305               0  \n",
       "374               0  \n",
       "389               0  "
      ]
     },
     "execution_count": 13,
     "metadata": {},
     "output_type": "execute_result"
    }
   ],
   "source": [
    "drugs[drugs.n_follow_rules == 0]"
   ]
  },
  {
   "cell_type": "code",
   "execution_count": null,
   "id": "936b29a0",
   "metadata": {},
   "outputs": [],
   "source": [
    " def neutralize_atoms(mol):\n",
    "    pattern = Chem.MolFromSmarts(\"[+1!h0!$([*]~[-1,-2,-3,-4]),-1!$([*]~[+1,+2,+3,+4])]\")\n",
    "    at_matches = mol.GetSubstructMatches(pattern)\n",
    "    at_matches_list = [y[0] for y in at_matches]\n",
    "    if len(at_matches_list) > 0:\n",
    "        for at_idx in at_matches_list:\n",
    "            atom = mol.GetAtomWithIdx(at_idx)\n",
    "            chg = atom.GetFormalCharge()\n",
    "            hcount = atom.GetTotalNumHs()\n",
    "            atom.SetFormalCharge(0)\n",
    "            atom.SetNumExplicitHs(hcount - chg)\n",
    "            atom.UpdatePropertyCache()\n",
    "    return mol\n",
    "\n",
    "neutralize_atoms(premetexed.res)"
   ]
  },
  {
   "cell_type": "code",
   "execution_count": 39,
   "id": "d12d5cd7",
   "metadata": {},
   "outputs": [
    {
     "name": "stdout",
     "output_type": "stream",
     "text": [
      "33 numero de atomos antes\n",
      "31 numero de atomos depois\n"
     ]
    },
    {
     "data": {
      "image/png": "[encoded data removed]",
      "text/plain": [
       "<rdkit.Chem.rdchem.Mol at 0x29263a3d300>"
      ]
     },
     "execution_count": 39,
     "metadata": {},
     "output_type": "execute_result"
    }
   ],
   "source": [
    "from rdkit import rdBase\n",
    "from rdkit import Chem\n",
    "from rdkit.Chem.SaltRemover import SaltRemover\n",
    "from rdkit.Chem.SaltRemover import InputFormat\n",
    "from rdkit.Chem import AllChem\n",
    "\n",
    "\n",
    "remover = SaltRemover(defnData=\"[Cl,Br,Na]\")\n",
    "\n",
    "premetexed = Chem.MolFromSmiles(\"C1=CC(=CC=C1CCC2=CNC3=C2C(=O)NC(=N3)N)C(=O)N[C@@H](CCC(=O)[O-])C(=O)[O-].[Na+].[Na+]\")\n",
    "print(f'{premetexed.GetNumAtoms()} numero de atomos antes')\n",
    "\n",
    "premetexed.res = remover.StripMol(premetexed)\n",
    "print(f'{premetexed.res.GetNumAtoms()} numero de atomos depois')\n",
    "\n",
    "premetexed.res\n"
   ]
  }
 ],
 "metadata": {
  "kernelspec": {
   "display_name": "Python 3 (ipykernel)",
   "language": "python",
   "name": "python3"
  },
  "language_info": {
   "codemirror_mode": {
    "name": "ipython",
    "version": 3
   },
   "file_extension": ".py",
   "mimetype": "text/x-python",
   "name": "python",
   "nbconvert_exporter": "python",
   "pygments_lexer": "ipython3",
   "version": "3.10.4"
  }
 },
 "nbformat": 4,
 "nbformat_minor": 5
}
