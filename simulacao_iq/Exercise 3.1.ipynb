{
 "cells": [
  {
   "cell_type": "markdown",
   "id": "c05ec378",
   "metadata": {},
   "source": [
    "## Exercise 3.1"
   ]
  },
  {
   "cell_type": "code",
   "execution_count": 1,
   "id": "3d675058",
   "metadata": {},
   "outputs": [],
   "source": [
    "from Definitions import *"
   ]
  },
  {
   "attachments": {
    "image.png": {
     "image/png": "[encoded data removed]"
    }
   },
   "cell_type": "markdown",
   "id": "6e6805bf",
   "metadata": {},
   "source": [
    "A property of a molecule closely related to its moments of inertia is its radius of gyration, **Rgyr** , which is defined as where **Rc** is the centre of the molecule calculated with the same weights as\n",
    "those used for the calculation of **Rgyr** . Write a function that calculates this quantity and use it to analyse the molecules examined in Example 4.\n",
    "\n",
    "![image.png](attachment:image.png)"
   ]
  },
  {
   "cell_type": "markdown",
   "id": "15274619",
   "metadata": {},
   "source": [
    "First we need to calculate the **Rc**, which is the center of mass if we use the massess of our atoms. So, writing a funciton to calculat the **Rc** we need to first store the masses from the atoms in our molecule. "
   ]
  },
  {
   "cell_type": "code",
   "execution_count": 2,
   "id": "d0b4d408",
   "metadata": {},
   "outputs": [],
   "source": [
    "from math import sqrt\n",
    "\n",
    "def rgyr(molecule):\n",
    "        # Calculate the masses in the system\n",
    "    weights_mol = Array.FromIterable([atom.mass for atom in molecule.atoms])\n",
    "    \n",
    "    # Rc = vector of coordinates for the center of the molecule\n",
    "    Rcenter = molecule.coordinates3.Center(weights = weights_mol)\n",
    "\n",
    "    # Calculate the Rgyr:\n",
    "    numerator = 0\n",
    "    denominator = sum(weights_mol)\n",
    "    \n",
    "    #Euclidean distance of (Ri - Rc)**2\n",
    "    for atom in range(molecule.coordinates3.rows):\n",
    "        distance_x = (molecule.coordinates3[atom][0] - Rcenter[0])**2\n",
    "        distance_y = (molecule.coordinates3[atom][1] - Rcenter[1])**2\n",
    "        distance_z = (molecule.coordinates3[atom][2] - Rcenter[2])**2\n",
    "\n",
    "        euclidean_distance = (sqrt(distance_x + distance_y + distance_z))**2\n",
    "        \n",
    "        #weighted sum and store it\n",
    "        numerator += weights_mol[atom]*euclidean_distance\n",
    "\n",
    "    return sqrt(numerator/denominator)"
   ]
  },
  {
   "cell_type": "code",
   "execution_count": 3,
   "id": "03130c2c",
   "metadata": {
    "scrolled": true
   },
   "outputs": [
    {
     "name": "stdout",
     "output_type": "stream",
     "text": [
      "\n",
      "System imported from \"~/simulacao_iq/pDynamo3-main/examples/book/data/xyz/bala_alpha.xyz\" in XYZ format.\n",
      "bala_alpha.xyz: 2.450\n",
      "\n",
      "System imported from \"~/simulacao_iq/pDynamo3-main/examples/book/data/xyz/bala_c5.xyz\" in XYZ format.\n",
      "bala_c5.xyz: 2.495\n",
      "\n",
      "System imported from \"~/simulacao_iq/pDynamo3-main/examples/book/data/xyz/bala_c7ax.xyz\" in XYZ format.\n",
      "bala_c7ax.xyz: 2.261\n",
      "\n",
      "System imported from \"~/simulacao_iq/pDynamo3-main/examples/book/data/xyz/bala_c7eq.xyz\" in XYZ format.\n",
      "bala_c7eq.xyz: 2.301\n"
     ]
    }
   ],
   "source": [
    "# Import the molecule\n",
    "# Define the list of structures\n",
    "xyzFiles = [\"bala_alpha.xyz\", \"bala_c5.xyz\", \"bala_c7ax.xyz\", \"bala_c7eq.xyz\"]\n",
    "\n",
    "for xyzFile in xyzFiles:\n",
    "    molecule = ImportSystem(os.path.join(xyzPath, xyzFile))\n",
    "    print(f\"{xyzFile}: {rgyr(molecule):.3f}\")"
   ]
  }
 ],
 "metadata": {
  "kernelspec": {
   "display_name": "Python 3 (ipykernel)",
   "language": "python",
   "name": "python3"
  },
  "language_info": {
   "codemirror_mode": {
    "name": "ipython",
    "version": 3
   },
   "file_extension": ".py",
   "mimetype": "text/x-python",
   "name": "python",
   "nbconvert_exporter": "python",
   "pygments_lexer": "ipython3",
   "version": "3.10.6"
  }
 },
 "nbformat": 4,
 "nbformat_minor": 5
}
